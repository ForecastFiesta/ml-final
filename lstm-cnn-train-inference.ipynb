{
 "cells": [
  {
   "cell_type": "markdown",
   "id": "038e695f",
   "metadata": {
    "papermill": {
     "duration": 0.009676,
     "end_time": "2023-12-25T15:18:18.149803",
     "exception": false,
     "start_time": "2023-12-25T15:18:18.140127",
     "status": "completed"
    },
    "tags": []
   },
   "source": [
    "# LSTM for stock prediction"
   ]
  },
  {
   "cell_type": "markdown",
   "id": "8844a8bb",
   "metadata": {
    "papermill": {
     "duration": 0.008723,
     "end_time": "2023-12-25T15:18:18.167482",
     "exception": false,
     "start_time": "2023-12-25T15:18:18.158759",
     "status": "completed"
    },
    "tags": []
   },
   "source": [
    "## Import Library"
   ]
  },
  {
   "cell_type": "code",
   "execution_count": null,
   "id": "735f1609-bf25-49ec-b265-3ee42f36c78e",
   "metadata": {},
   "outputs": [],
   "source": [
    "!sudo pip install torch==2.0.0 pandas numpy tqdm matplotlib"
   ]
  },
  {
   "cell_type": "code",
   "execution_count": 126,
   "id": "76ae4ab6",
   "metadata": {
    "_cell_guid": "b1076dfc-b9ad-4769-8c92-a6c4dae69d19",
    "_uuid": "8f2839f25d086af736a60e9eeb907d3b93b6e0e5",
    "papermill": {
     "duration": 5.359818,
     "end_time": "2023-12-25T15:18:23.536121",
     "exception": false,
     "start_time": "2023-12-25T15:18:18.176303",
     "status": "completed"
    },
    "tags": []
   },
   "outputs": [],
   "source": [
    "import matplotlib.pyplot as plt\n",
    "import numpy as np\n",
    "import pandas as pd\n",
    "\n",
    "import torch\n",
    "import torch.nn as nn\n",
    "import torch.optim as optim\n",
    "from torch.utils.data import Dataset, DataLoader, TensorDataset\n",
    "from tqdm import tqdm\n",
    "\n",
    "from typing import Any, Dict, List, Tuple\n",
    "\n",
    "import os\n",
    "import csv"
   ]
  },
  {
   "cell_type": "code",
   "execution_count": 127,
   "id": "2edbf493-ade6-4831-9a1a-bd590d4afc3a",
   "metadata": {},
   "outputs": [
    {
     "data": {
      "text/plain": [
       "device(type='cuda', index=0)"
      ]
     },
     "execution_count": 127,
     "metadata": {},
     "output_type": "execute_result"
    }
   ],
   "source": [
    "device = torch.device(\"cuda:0\" if torch.cuda.is_available() else \"cpu\")\n",
    "device"
   ]
  },
  {
   "cell_type": "markdown",
   "id": "475b38d2-d447-4210-ab61-6221c9afc999",
   "metadata": {},
   "source": [
    "## Constants Definition"
   ]
  },
  {
   "cell_type": "code",
   "execution_count": 128,
   "id": "ec82f829-fb3e-4504-83ab-667aff1502ee",
   "metadata": {},
   "outputs": [],
   "source": [
    "EXTENDED_FEATURES = [\n",
    "]\n",
    "NORMALIZED_FEATURE = [\n",
    "    'imbalance_size',\n",
    "    'matched_size',\n",
    "    'bid_size',\n",
    "    'ask_size'\n",
    "]\n",
    "FILL_ONE_FEATURES = [\n",
    "    \"reference_price\", \n",
    "    \"far_price\",\n",
    "    \"near_price\",\n",
    "    \"bid_price\",\n",
    "    \"ask_price\",\n",
    "    \"wap\"\n",
    "]\n",
    "FILL_MEAN_FEATURES = [\n",
    "    \"imbalance_size\", \n",
    "    \"matched_size\"\n",
    "]\n",
    "MODEL_INPUT_FEATURES = [\n",
    "    'imbalance_size', \n",
    "    'imbalance_buy_sell_flag',\n",
    "    'reference_price',\n",
    "    'matched_size',\n",
    "    'far_price',\n",
    "    'near_price',\n",
    "    'bid_price',\n",
    "    'bid_size',\n",
    "    'ask_price',\n",
    "    'ask_size',\n",
    "    'wap',\n",
    "    'target'\n",
    "]"
   ]
  },
  {
   "cell_type": "markdown",
   "id": "0457a3b8-1bc4-4549-8e87-2c1d222d520f",
   "metadata": {},
   "source": [
    "## Hyper Parameters"
   ]
  },
  {
   "cell_type": "code",
   "execution_count": 153,
   "id": "2ddc5da8-8221-4872-8455-ed1b58f90072",
   "metadata": {},
   "outputs": [],
   "source": [
    "BATCH_SIZE: int = 256\n",
    "EPOCHS: int = 300\n",
    "LEARNING_RATE: float = 0.000005"
   ]
  },
  {
   "cell_type": "markdown",
   "id": "bba54e3b",
   "metadata": {
    "papermill": {
     "duration": 0.010149,
     "end_time": "2023-12-25T15:18:23.555675",
     "exception": false,
     "start_time": "2023-12-25T15:18:23.545526",
     "status": "completed"
    },
    "tags": []
   },
   "source": [
    "## Import Dataset"
   ]
  },
  {
   "cell_type": "code",
   "execution_count": 130,
   "id": "b6e99ff2",
   "metadata": {
    "papermill": {
     "duration": 18.68127,
     "end_time": "2023-12-25T15:18:42.280392",
     "exception": false,
     "start_time": "2023-12-25T15:18:23.599122",
     "status": "completed"
    },
    "tags": []
   },
   "outputs": [
    {
     "data": {
      "text/html": [
       "<div>\n",
       "<style scoped>\n",
       "    .dataframe tbody tr th:only-of-type {\n",
       "        vertical-align: middle;\n",
       "    }\n",
       "\n",
       "    .dataframe tbody tr th {\n",
       "        vertical-align: top;\n",
       "    }\n",
       "\n",
       "    .dataframe thead th {\n",
       "        text-align: right;\n",
       "    }\n",
       "</style>\n",
       "<table border=\"1\" class=\"dataframe\">\n",
       "  <thead>\n",
       "    <tr style=\"text-align: right;\">\n",
       "      <th></th>\n",
       "      <th>stock_id</th>\n",
       "      <th>date_id</th>\n",
       "      <th>seconds_in_bucket</th>\n",
       "      <th>imbalance_size</th>\n",
       "      <th>imbalance_buy_sell_flag</th>\n",
       "      <th>reference_price</th>\n",
       "      <th>matched_size</th>\n",
       "      <th>far_price</th>\n",
       "      <th>near_price</th>\n",
       "      <th>bid_price</th>\n",
       "      <th>bid_size</th>\n",
       "      <th>ask_price</th>\n",
       "      <th>ask_size</th>\n",
       "      <th>wap</th>\n",
       "      <th>target</th>\n",
       "      <th>time_id</th>\n",
       "      <th>row_id</th>\n",
       "    </tr>\n",
       "  </thead>\n",
       "  <tbody>\n",
       "    <tr>\n",
       "      <th>0</th>\n",
       "      <td>0</td>\n",
       "      <td>0</td>\n",
       "      <td>0</td>\n",
       "      <td>3180602.69</td>\n",
       "      <td>1</td>\n",
       "      <td>0.999812</td>\n",
       "      <td>13380276.64</td>\n",
       "      <td>NaN</td>\n",
       "      <td>NaN</td>\n",
       "      <td>0.999812</td>\n",
       "      <td>60651.50</td>\n",
       "      <td>1.000026</td>\n",
       "      <td>8493.03</td>\n",
       "      <td>1.000000</td>\n",
       "      <td>-3.029704</td>\n",
       "      <td>0</td>\n",
       "      <td>0_0_0</td>\n",
       "    </tr>\n",
       "    <tr>\n",
       "      <th>1</th>\n",
       "      <td>1</td>\n",
       "      <td>0</td>\n",
       "      <td>0</td>\n",
       "      <td>166603.91</td>\n",
       "      <td>-1</td>\n",
       "      <td>0.999896</td>\n",
       "      <td>1642214.25</td>\n",
       "      <td>NaN</td>\n",
       "      <td>NaN</td>\n",
       "      <td>0.999896</td>\n",
       "      <td>3233.04</td>\n",
       "      <td>1.000660</td>\n",
       "      <td>20605.09</td>\n",
       "      <td>1.000000</td>\n",
       "      <td>-5.519986</td>\n",
       "      <td>0</td>\n",
       "      <td>0_0_1</td>\n",
       "    </tr>\n",
       "    <tr>\n",
       "      <th>2</th>\n",
       "      <td>2</td>\n",
       "      <td>0</td>\n",
       "      <td>0</td>\n",
       "      <td>302879.87</td>\n",
       "      <td>-1</td>\n",
       "      <td>0.999561</td>\n",
       "      <td>1819368.03</td>\n",
       "      <td>NaN</td>\n",
       "      <td>NaN</td>\n",
       "      <td>0.999403</td>\n",
       "      <td>37956.00</td>\n",
       "      <td>1.000298</td>\n",
       "      <td>18995.00</td>\n",
       "      <td>1.000000</td>\n",
       "      <td>-8.389950</td>\n",
       "      <td>0</td>\n",
       "      <td>0_0_2</td>\n",
       "    </tr>\n",
       "    <tr>\n",
       "      <th>3</th>\n",
       "      <td>3</td>\n",
       "      <td>0</td>\n",
       "      <td>0</td>\n",
       "      <td>11917682.27</td>\n",
       "      <td>-1</td>\n",
       "      <td>1.000171</td>\n",
       "      <td>18389745.62</td>\n",
       "      <td>NaN</td>\n",
       "      <td>NaN</td>\n",
       "      <td>0.999999</td>\n",
       "      <td>2324.90</td>\n",
       "      <td>1.000214</td>\n",
       "      <td>479032.40</td>\n",
       "      <td>1.000000</td>\n",
       "      <td>-4.010200</td>\n",
       "      <td>0</td>\n",
       "      <td>0_0_3</td>\n",
       "    </tr>\n",
       "    <tr>\n",
       "      <th>4</th>\n",
       "      <td>4</td>\n",
       "      <td>0</td>\n",
       "      <td>0</td>\n",
       "      <td>447549.96</td>\n",
       "      <td>-1</td>\n",
       "      <td>0.999532</td>\n",
       "      <td>17860614.95</td>\n",
       "      <td>NaN</td>\n",
       "      <td>NaN</td>\n",
       "      <td>0.999394</td>\n",
       "      <td>16485.54</td>\n",
       "      <td>1.000016</td>\n",
       "      <td>434.10</td>\n",
       "      <td>1.000000</td>\n",
       "      <td>-7.349849</td>\n",
       "      <td>0</td>\n",
       "      <td>0_0_4</td>\n",
       "    </tr>\n",
       "    <tr>\n",
       "      <th>...</th>\n",
       "      <td>...</td>\n",
       "      <td>...</td>\n",
       "      <td>...</td>\n",
       "      <td>...</td>\n",
       "      <td>...</td>\n",
       "      <td>...</td>\n",
       "      <td>...</td>\n",
       "      <td>...</td>\n",
       "      <td>...</td>\n",
       "      <td>...</td>\n",
       "      <td>...</td>\n",
       "      <td>...</td>\n",
       "      <td>...</td>\n",
       "      <td>...</td>\n",
       "      <td>...</td>\n",
       "      <td>...</td>\n",
       "      <td>...</td>\n",
       "    </tr>\n",
       "    <tr>\n",
       "      <th>5237975</th>\n",
       "      <td>195</td>\n",
       "      <td>480</td>\n",
       "      <td>540</td>\n",
       "      <td>2440722.89</td>\n",
       "      <td>-1</td>\n",
       "      <td>1.000317</td>\n",
       "      <td>28280361.74</td>\n",
       "      <td>0.999734</td>\n",
       "      <td>0.999734</td>\n",
       "      <td>1.000317</td>\n",
       "      <td>32257.04</td>\n",
       "      <td>1.000434</td>\n",
       "      <td>319862.40</td>\n",
       "      <td>1.000328</td>\n",
       "      <td>2.310276</td>\n",
       "      <td>26454</td>\n",
       "      <td>480_540_195</td>\n",
       "    </tr>\n",
       "    <tr>\n",
       "      <th>5237976</th>\n",
       "      <td>196</td>\n",
       "      <td>480</td>\n",
       "      <td>540</td>\n",
       "      <td>349510.47</td>\n",
       "      <td>-1</td>\n",
       "      <td>1.000643</td>\n",
       "      <td>9187699.11</td>\n",
       "      <td>1.000129</td>\n",
       "      <td>1.000386</td>\n",
       "      <td>1.000643</td>\n",
       "      <td>205108.40</td>\n",
       "      <td>1.000900</td>\n",
       "      <td>93393.07</td>\n",
       "      <td>1.000819</td>\n",
       "      <td>-8.220077</td>\n",
       "      <td>26454</td>\n",
       "      <td>480_540_196</td>\n",
       "    </tr>\n",
       "    <tr>\n",
       "      <th>5237977</th>\n",
       "      <td>197</td>\n",
       "      <td>480</td>\n",
       "      <td>540</td>\n",
       "      <td>0.00</td>\n",
       "      <td>0</td>\n",
       "      <td>0.995789</td>\n",
       "      <td>12725436.10</td>\n",
       "      <td>0.995789</td>\n",
       "      <td>0.995789</td>\n",
       "      <td>0.995789</td>\n",
       "      <td>16790.66</td>\n",
       "      <td>0.995883</td>\n",
       "      <td>180038.32</td>\n",
       "      <td>0.995797</td>\n",
       "      <td>1.169443</td>\n",
       "      <td>26454</td>\n",
       "      <td>480_540_197</td>\n",
       "    </tr>\n",
       "    <tr>\n",
       "      <th>5237978</th>\n",
       "      <td>198</td>\n",
       "      <td>480</td>\n",
       "      <td>540</td>\n",
       "      <td>1000898.84</td>\n",
       "      <td>1</td>\n",
       "      <td>0.999210</td>\n",
       "      <td>94773271.05</td>\n",
       "      <td>0.999210</td>\n",
       "      <td>0.999210</td>\n",
       "      <td>0.998970</td>\n",
       "      <td>125631.72</td>\n",
       "      <td>0.999210</td>\n",
       "      <td>669893.00</td>\n",
       "      <td>0.999008</td>\n",
       "      <td>-1.540184</td>\n",
       "      <td>26454</td>\n",
       "      <td>480_540_198</td>\n",
       "    </tr>\n",
       "    <tr>\n",
       "      <th>5237979</th>\n",
       "      <td>199</td>\n",
       "      <td>480</td>\n",
       "      <td>540</td>\n",
       "      <td>1884285.71</td>\n",
       "      <td>-1</td>\n",
       "      <td>1.002129</td>\n",
       "      <td>24073677.32</td>\n",
       "      <td>1.000859</td>\n",
       "      <td>1.001494</td>\n",
       "      <td>1.002129</td>\n",
       "      <td>250081.44</td>\n",
       "      <td>1.002447</td>\n",
       "      <td>300167.56</td>\n",
       "      <td>1.002274</td>\n",
       "      <td>-6.530285</td>\n",
       "      <td>26454</td>\n",
       "      <td>480_540_199</td>\n",
       "    </tr>\n",
       "  </tbody>\n",
       "</table>\n",
       "<p>5237980 rows × 17 columns</p>\n",
       "</div>"
      ],
      "text/plain": [
       "         stock_id  date_id  seconds_in_bucket  imbalance_size  \\\n",
       "0               0        0                  0      3180602.69   \n",
       "1               1        0                  0       166603.91   \n",
       "2               2        0                  0       302879.87   \n",
       "3               3        0                  0     11917682.27   \n",
       "4               4        0                  0       447549.96   \n",
       "...           ...      ...                ...             ...   \n",
       "5237975       195      480                540      2440722.89   \n",
       "5237976       196      480                540       349510.47   \n",
       "5237977       197      480                540            0.00   \n",
       "5237978       198      480                540      1000898.84   \n",
       "5237979       199      480                540      1884285.71   \n",
       "\n",
       "         imbalance_buy_sell_flag  reference_price  matched_size  far_price  \\\n",
       "0                              1         0.999812   13380276.64        NaN   \n",
       "1                             -1         0.999896    1642214.25        NaN   \n",
       "2                             -1         0.999561    1819368.03        NaN   \n",
       "3                             -1         1.000171   18389745.62        NaN   \n",
       "4                             -1         0.999532   17860614.95        NaN   \n",
       "...                          ...              ...           ...        ...   \n",
       "5237975                       -1         1.000317   28280361.74   0.999734   \n",
       "5237976                       -1         1.000643    9187699.11   1.000129   \n",
       "5237977                        0         0.995789   12725436.10   0.995789   \n",
       "5237978                        1         0.999210   94773271.05   0.999210   \n",
       "5237979                       -1         1.002129   24073677.32   1.000859   \n",
       "\n",
       "         near_price  bid_price   bid_size  ask_price   ask_size       wap  \\\n",
       "0               NaN   0.999812   60651.50   1.000026    8493.03  1.000000   \n",
       "1               NaN   0.999896    3233.04   1.000660   20605.09  1.000000   \n",
       "2               NaN   0.999403   37956.00   1.000298   18995.00  1.000000   \n",
       "3               NaN   0.999999    2324.90   1.000214  479032.40  1.000000   \n",
       "4               NaN   0.999394   16485.54   1.000016     434.10  1.000000   \n",
       "...             ...        ...        ...        ...        ...       ...   \n",
       "5237975    0.999734   1.000317   32257.04   1.000434  319862.40  1.000328   \n",
       "5237976    1.000386   1.000643  205108.40   1.000900   93393.07  1.000819   \n",
       "5237977    0.995789   0.995789   16790.66   0.995883  180038.32  0.995797   \n",
       "5237978    0.999210   0.998970  125631.72   0.999210  669893.00  0.999008   \n",
       "5237979    1.001494   1.002129  250081.44   1.002447  300167.56  1.002274   \n",
       "\n",
       "           target  time_id       row_id  \n",
       "0       -3.029704        0        0_0_0  \n",
       "1       -5.519986        0        0_0_1  \n",
       "2       -8.389950        0        0_0_2  \n",
       "3       -4.010200        0        0_0_3  \n",
       "4       -7.349849        0        0_0_4  \n",
       "...           ...      ...          ...  \n",
       "5237975  2.310276    26454  480_540_195  \n",
       "5237976 -8.220077    26454  480_540_196  \n",
       "5237977  1.169443    26454  480_540_197  \n",
       "5237978 -1.540184    26454  480_540_198  \n",
       "5237979 -6.530285    26454  480_540_199  \n",
       "\n",
       "[5237980 rows x 17 columns]"
      ]
     },
     "execution_count": 130,
     "metadata": {},
     "output_type": "execute_result"
    }
   ],
   "source": [
    "kaggle_dir = './kaggle'\n",
    "df = pd.read_csv(os.path.join(kaggle_dir, 'train.csv'))\n",
    "df"
   ]
  },
  {
   "cell_type": "code",
   "execution_count": 5,
   "id": "f694b58f",
   "metadata": {
    "papermill": {
     "duration": 0.036399,
     "end_time": "2023-12-25T15:18:42.327346",
     "exception": false,
     "start_time": "2023-12-25T15:18:42.290947",
     "status": "completed"
    },
    "tags": []
   },
   "outputs": [
    {
     "name": "stdout",
     "output_type": "stream",
     "text": [
      "<class 'pandas.core.frame.DataFrame'>\n",
      "RangeIndex: 5237980 entries, 0 to 5237979\n",
      "Data columns (total 17 columns):\n",
      " #   Column                   Dtype  \n",
      "---  ------                   -----  \n",
      " 0   stock_id                 int64  \n",
      " 1   date_id                  int64  \n",
      " 2   seconds_in_bucket        int64  \n",
      " 3   imbalance_size           float64\n",
      " 4   imbalance_buy_sell_flag  int64  \n",
      " 5   reference_price          float64\n",
      " 6   matched_size             float64\n",
      " 7   far_price                float64\n",
      " 8   near_price               float64\n",
      " 9   bid_price                float64\n",
      " 10  bid_size                 float64\n",
      " 11  ask_price                float64\n",
      " 12  ask_size                 float64\n",
      " 13  wap                      float64\n",
      " 14  target                   float64\n",
      " 15  time_id                  int64  \n",
      " 16  row_id                   object \n",
      "dtypes: float64(11), int64(5), object(1)\n",
      "memory usage: 679.4+ MB\n"
     ]
    }
   ],
   "source": [
    "df.info()"
   ]
  },
  {
   "cell_type": "code",
   "execution_count": 6,
   "id": "bd2dfad6",
   "metadata": {
    "papermill": {
     "duration": 0.578321,
     "end_time": "2023-12-25T15:18:42.919211",
     "exception": false,
     "start_time": "2023-12-25T15:18:42.340890",
     "status": "completed"
    },
    "tags": []
   },
   "outputs": [
    {
     "data": {
      "text/plain": [
       "stock_id                         0\n",
       "date_id                          0\n",
       "seconds_in_bucket                0\n",
       "imbalance_size                 220\n",
       "imbalance_buy_sell_flag          0\n",
       "reference_price                220\n",
       "matched_size                   220\n",
       "far_price                  2894342\n",
       "near_price                 2857180\n",
       "bid_price                      220\n",
       "bid_size                         0\n",
       "ask_price                      220\n",
       "ask_size                         0\n",
       "wap                            220\n",
       "target                          88\n",
       "time_id                          0\n",
       "row_id                           0\n",
       "dtype: int64"
      ]
     },
     "execution_count": 6,
     "metadata": {},
     "output_type": "execute_result"
    }
   ],
   "source": [
    "df.isnull().sum()"
   ]
  },
  {
   "cell_type": "code",
   "execution_count": 7,
   "id": "0db4e14b",
   "metadata": {
    "papermill": {
     "duration": 10.259183,
     "end_time": "2023-12-25T15:18:53.188599",
     "exception": false,
     "start_time": "2023-12-25T15:18:42.929416",
     "status": "completed"
    },
    "tags": []
   },
   "outputs": [
    {
     "data": {
      "text/html": [
       "<div>\n",
       "<style scoped>\n",
       "    .dataframe tbody tr th:only-of-type {\n",
       "        vertical-align: middle;\n",
       "    }\n",
       "\n",
       "    .dataframe tbody tr th {\n",
       "        vertical-align: top;\n",
       "    }\n",
       "\n",
       "    .dataframe thead th {\n",
       "        text-align: right;\n",
       "    }\n",
       "</style>\n",
       "<table border=\"1\" class=\"dataframe\">\n",
       "  <thead>\n",
       "    <tr style=\"text-align: right;\">\n",
       "      <th></th>\n",
       "      <th>unique</th>\n",
       "      <th>cardinality</th>\n",
       "      <th>with_null</th>\n",
       "      <th>null_pct</th>\n",
       "      <th>1st_row</th>\n",
       "      <th>random_row</th>\n",
       "      <th>last_row</th>\n",
       "      <th>dtype</th>\n",
       "    </tr>\n",
       "  </thead>\n",
       "  <tbody>\n",
       "    <tr>\n",
       "      <th>stock_id</th>\n",
       "      <td>False</td>\n",
       "      <td>200</td>\n",
       "      <td>False</td>\n",
       "      <td>0.00</td>\n",
       "      <td>0</td>\n",
       "      <td>181</td>\n",
       "      <td>199</td>\n",
       "      <td>int64</td>\n",
       "    </tr>\n",
       "    <tr>\n",
       "      <th>date_id</th>\n",
       "      <td>False</td>\n",
       "      <td>481</td>\n",
       "      <td>False</td>\n",
       "      <td>0.00</td>\n",
       "      <td>0</td>\n",
       "      <td>27</td>\n",
       "      <td>480</td>\n",
       "      <td>int64</td>\n",
       "    </tr>\n",
       "    <tr>\n",
       "      <th>seconds_in_bucket</th>\n",
       "      <td>False</td>\n",
       "      <td>55</td>\n",
       "      <td>False</td>\n",
       "      <td>0.00</td>\n",
       "      <td>0</td>\n",
       "      <td>410</td>\n",
       "      <td>540</td>\n",
       "      <td>int64</td>\n",
       "    </tr>\n",
       "    <tr>\n",
       "      <th>imbalance_size</th>\n",
       "      <td>False</td>\n",
       "      <td>2971863</td>\n",
       "      <td>True</td>\n",
       "      <td>0.00</td>\n",
       "      <td>3180602.69</td>\n",
       "      <td>2400918.36</td>\n",
       "      <td>1884285.71</td>\n",
       "      <td>float64</td>\n",
       "    </tr>\n",
       "    <tr>\n",
       "      <th>imbalance_buy_sell_flag</th>\n",
       "      <td>False</td>\n",
       "      <td>3</td>\n",
       "      <td>False</td>\n",
       "      <td>0.00</td>\n",
       "      <td>1</td>\n",
       "      <td>-1</td>\n",
       "      <td>-1</td>\n",
       "      <td>int64</td>\n",
       "    </tr>\n",
       "    <tr>\n",
       "      <th>reference_price</th>\n",
       "      <td>False</td>\n",
       "      <td>28741</td>\n",
       "      <td>True</td>\n",
       "      <td>0.00</td>\n",
       "      <td>0.999812</td>\n",
       "      <td>0.997309</td>\n",
       "      <td>1.002129</td>\n",
       "      <td>float64</td>\n",
       "    </tr>\n",
       "    <tr>\n",
       "      <th>matched_size</th>\n",
       "      <td>False</td>\n",
       "      <td>2948862</td>\n",
       "      <td>True</td>\n",
       "      <td>0.00</td>\n",
       "      <td>13380276.64</td>\n",
       "      <td>9135345.31</td>\n",
       "      <td>24073677.32</td>\n",
       "      <td>float64</td>\n",
       "    </tr>\n",
       "    <tr>\n",
       "      <th>far_price</th>\n",
       "      <td>False</td>\n",
       "      <td>95739</td>\n",
       "      <td>True</td>\n",
       "      <td>55.26</td>\n",
       "      <td>NaN</td>\n",
       "      <td>0.898997</td>\n",
       "      <td>1.000859</td>\n",
       "      <td>float64</td>\n",
       "    </tr>\n",
       "    <tr>\n",
       "      <th>near_price</th>\n",
       "      <td>False</td>\n",
       "      <td>84625</td>\n",
       "      <td>True</td>\n",
       "      <td>54.55</td>\n",
       "      <td>NaN</td>\n",
       "      <td>0.979654</td>\n",
       "      <td>1.001494</td>\n",
       "      <td>float64</td>\n",
       "    </tr>\n",
       "    <tr>\n",
       "      <th>bid_price</th>\n",
       "      <td>False</td>\n",
       "      <td>28313</td>\n",
       "      <td>True</td>\n",
       "      <td>0.00</td>\n",
       "      <td>0.999812</td>\n",
       "      <td>0.997309</td>\n",
       "      <td>1.002129</td>\n",
       "      <td>float64</td>\n",
       "    </tr>\n",
       "    <tr>\n",
       "      <th>bid_size</th>\n",
       "      <td>False</td>\n",
       "      <td>2591773</td>\n",
       "      <td>False</td>\n",
       "      <td>0.00</td>\n",
       "      <td>60651.5</td>\n",
       "      <td>345.72</td>\n",
       "      <td>250081.44</td>\n",
       "      <td>float64</td>\n",
       "    </tr>\n",
       "    <tr>\n",
       "      <th>ask_price</th>\n",
       "      <td>False</td>\n",
       "      <td>28266</td>\n",
       "      <td>True</td>\n",
       "      <td>0.00</td>\n",
       "      <td>1.000026</td>\n",
       "      <td>0.997655</td>\n",
       "      <td>1.002447</td>\n",
       "      <td>float64</td>\n",
       "    </tr>\n",
       "    <tr>\n",
       "      <th>ask_size</th>\n",
       "      <td>False</td>\n",
       "      <td>2623254</td>\n",
       "      <td>False</td>\n",
       "      <td>0.00</td>\n",
       "      <td>8493.03</td>\n",
       "      <td>10375.2</td>\n",
       "      <td>300167.56</td>\n",
       "      <td>float64</td>\n",
       "    </tr>\n",
       "    <tr>\n",
       "      <th>wap</th>\n",
       "      <td>False</td>\n",
       "      <td>31506</td>\n",
       "      <td>True</td>\n",
       "      <td>0.00</td>\n",
       "      <td>1.0</td>\n",
       "      <td>0.99732</td>\n",
       "      <td>1.002274</td>\n",
       "      <td>float64</td>\n",
       "    </tr>\n",
       "    <tr>\n",
       "      <th>target</th>\n",
       "      <td>False</td>\n",
       "      <td>15934</td>\n",
       "      <td>True</td>\n",
       "      <td>0.00</td>\n",
       "      <td>-3.029704</td>\n",
       "      <td>4.889965</td>\n",
       "      <td>-6.530285</td>\n",
       "      <td>float64</td>\n",
       "    </tr>\n",
       "    <tr>\n",
       "      <th>time_id</th>\n",
       "      <td>False</td>\n",
       "      <td>26455</td>\n",
       "      <td>False</td>\n",
       "      <td>0.00</td>\n",
       "      <td>0</td>\n",
       "      <td>1526</td>\n",
       "      <td>26454</td>\n",
       "      <td>int64</td>\n",
       "    </tr>\n",
       "    <tr>\n",
       "      <th>row_id</th>\n",
       "      <td>True</td>\n",
       "      <td>5237980</td>\n",
       "      <td>False</td>\n",
       "      <td>0.00</td>\n",
       "      <td>0_0_0</td>\n",
       "      <td>27_410_181</td>\n",
       "      <td>480_540_199</td>\n",
       "      <td>object</td>\n",
       "    </tr>\n",
       "  </tbody>\n",
       "</table>\n",
       "</div>"
      ],
      "text/plain": [
       "                         unique  cardinality  with_null  null_pct  \\\n",
       "stock_id                  False          200      False      0.00   \n",
       "date_id                   False          481      False      0.00   \n",
       "seconds_in_bucket         False           55      False      0.00   \n",
       "imbalance_size            False      2971863       True      0.00   \n",
       "imbalance_buy_sell_flag   False            3      False      0.00   \n",
       "reference_price           False        28741       True      0.00   \n",
       "matched_size              False      2948862       True      0.00   \n",
       "far_price                 False        95739       True     55.26   \n",
       "near_price                False        84625       True     54.55   \n",
       "bid_price                 False        28313       True      0.00   \n",
       "bid_size                  False      2591773      False      0.00   \n",
       "ask_price                 False        28266       True      0.00   \n",
       "ask_size                  False      2623254      False      0.00   \n",
       "wap                       False        31506       True      0.00   \n",
       "target                    False        15934       True      0.00   \n",
       "time_id                   False        26455      False      0.00   \n",
       "row_id                     True      5237980      False      0.00   \n",
       "\n",
       "                             1st_row  random_row     last_row    dtype  \n",
       "stock_id                           0         181          199    int64  \n",
       "date_id                            0          27          480    int64  \n",
       "seconds_in_bucket                  0         410          540    int64  \n",
       "imbalance_size            3180602.69  2400918.36   1884285.71  float64  \n",
       "imbalance_buy_sell_flag            1          -1           -1    int64  \n",
       "reference_price             0.999812    0.997309     1.002129  float64  \n",
       "matched_size             13380276.64  9135345.31  24073677.32  float64  \n",
       "far_price                        NaN    0.898997     1.000859  float64  \n",
       "near_price                       NaN    0.979654     1.001494  float64  \n",
       "bid_price                   0.999812    0.997309     1.002129  float64  \n",
       "bid_size                     60651.5      345.72    250081.44  float64  \n",
       "ask_price                   1.000026    0.997655     1.002447  float64  \n",
       "ask_size                     8493.03     10375.2    300167.56  float64  \n",
       "wap                              1.0     0.99732     1.002274  float64  \n",
       "target                     -3.029704    4.889965    -6.530285  float64  \n",
       "time_id                            0        1526        26454    int64  \n",
       "row_id                         0_0_0  27_410_181  480_540_199   object  "
      ]
     },
     "execution_count": 7,
     "metadata": {},
     "output_type": "execute_result"
    }
   ],
   "source": [
    "def inspect_columns(df):\n",
    "\n",
    "    result = pd.DataFrame({\n",
    "        'unique': df.nunique() == len(df),\n",
    "        'cardinality': df.nunique(),\n",
    "        'with_null': df.isna().any(),\n",
    "        'null_pct': round((df.isnull().sum() / len(df)) * 100, 2),\n",
    "        '1st_row': df.iloc[0],\n",
    "        'random_row': df.iloc[np.random.randint(low=0, high=len(df))],\n",
    "        'last_row': df.iloc[-1],\n",
    "        'dtype': df.dtypes\n",
    "    })\n",
    "    return result\n",
    "\n",
    "inspect_columns(df)"
   ]
  },
  {
   "cell_type": "markdown",
   "id": "a48ff4ba-a541-40c9-a146-16075b276e6f",
   "metadata": {},
   "source": [
    "## Data Splitting"
   ]
  },
  {
   "cell_type": "code",
   "execution_count": 131,
   "id": "c71fa615-9b51-4be9-becb-8e81d3e79d98",
   "metadata": {},
   "outputs": [
    {
     "name": "stdout",
     "output_type": "stream",
     "text": [
      "The shape of train_df = (4346980, 17)\n",
      "The shape of valid_df = (858000, 17)\n",
      "The shape of test_df = (34000, 17)\n"
     ]
    }
   ],
   "source": [
    "train_df: pd.DataFrame = df.loc[(0 <= df['date_id']) & (df['date_id'] <= 399)]\n",
    "valid_df: pd.DataFrame = df.loc[(400 <= df['date_id']) & (df['date_id'] <= 477)]\n",
    "test_df: pd.DataFrame = df.loc[((477 == df['date_id']) & (500 <= df['seconds_in_bucket'])) | ((478 <= df['date_id']) & (df['date_id'] <= 480))]\n",
    "\n",
    "print(f'The shape of train_df = {train_df.shape}')\n",
    "print(f'The shape of valid_df = {valid_df.shape}')\n",
    "print(f'The shape of test_df = {test_df.shape}')"
   ]
  },
  {
   "cell_type": "markdown",
   "id": "a2f9ac3a-d0af-4614-ad13-d6456dd86878",
   "metadata": {},
   "source": [
    "## Data Preprocessing After Splitting"
   ]
  },
  {
   "cell_type": "markdown",
   "id": "6045094f-4882-413b-ab6e-319750f4cd7c",
   "metadata": {},
   "source": [
    "### Training Set"
   ]
  },
  {
   "cell_type": "code",
   "execution_count": 132,
   "id": "b6fcd041-20bb-4c1d-8aeb-5f9212816529",
   "metadata": {},
   "outputs": [],
   "source": [
    "def GenPreprocessInfo(raw_df: pd.DataFrame) -> Dict[int, Dict[str, Dict[str, float]]]:\n",
    "    '''\n",
    "    Return value example:\n",
    "    {\n",
    "        'STOCK_ID': {\n",
    "            'COLUMN': {\n",
    "                'min': 0.0,\n",
    "                'max': 1.0,\n",
    "                'mean': 0.5\n",
    "            }\n",
    "        }\n",
    "    }\n",
    "    '''\n",
    "    data: pd.DataFrame = raw_df.copy()\n",
    "    statistic_result: Dict[int, Dict[str, Dict[str, float]]] = {}\n",
    "    \n",
    "    for stock in data['stock_id'].unique().tolist():\n",
    "        stock_df: pd.DataFrame = data.loc[data['stock_id'] == stock]\n",
    "        stock_info: Dict[str, Dict[str, float]] = {}\n",
    "        \n",
    "        for feat in stock_df.columns:\n",
    "            if pd.api.types.is_string_dtype(stock_df[feat]):\n",
    "                continue\n",
    "            stock_feat_info: Dict[str, float] = {}\n",
    "            stock_feat_info['min'] = stock_df[feat].min(skipna=True)\n",
    "            stock_feat_info['max'] = stock_df[feat].max(skipna=True)\n",
    "            stock_feat_info['mean'] = stock_df[feat].mean(skipna=True)\n",
    "            stock_info[feat] = stock_feat_info\n",
    "        \n",
    "        statistic_result[stock] = stock_info\n",
    "    \n",
    "    return statistic_result\n",
    "\n",
    "preprocess_info = GenPreprocessInfo(raw_df=train_df)"
   ]
  },
  {
   "cell_type": "code",
   "execution_count": 10,
   "id": "fd10edc0-fcf7-499b-b513-1c052e401d68",
   "metadata": {
    "tags": []
   },
   "outputs": [
    {
     "name": "stdout",
     "output_type": "stream",
     "text": [
      "Data has nan: \n",
      "stock_id                   False\n",
      "date_id                    False\n",
      "seconds_in_bucket          False\n",
      "imbalance_size             False\n",
      "imbalance_buy_sell_flag    False\n",
      "reference_price            False\n",
      "matched_size               False\n",
      "far_price                  False\n",
      "near_price                 False\n",
      "bid_price                  False\n",
      "bid_size                   False\n",
      "ask_price                  False\n",
      "ask_size                   False\n",
      "wap                        False\n",
      "target                     False\n",
      "time_id                    False\n",
      "row_id                     False\n",
      "dtype: bool\n",
      "         stock_id  date_id  seconds_in_bucket  imbalance_size  \\\n",
      "0               0        0                  0        0.023833   \n",
      "1               1        0                  0        0.014830   \n",
      "2               2        0                  0        0.015351   \n",
      "3               3        0                  0        0.037858   \n",
      "4               4        0                  0        0.005779   \n",
      "...           ...      ...                ...             ...   \n",
      "4346975       195      399                540        0.002781   \n",
      "4346976       196      399                540        0.021758   \n",
      "4346977       197      399                540        0.011443   \n",
      "4346978       198      399                540        0.000000   \n",
      "4346979       199      399                540        0.003262   \n",
      "\n",
      "         imbalance_buy_sell_flag  reference_price  matched_size  far_price  \\\n",
      "0                              1         0.999812      0.041612   1.000000   \n",
      "1                             -1         0.999896      0.028287   1.000000   \n",
      "2                             -1         0.999561      0.003258   1.000000   \n",
      "3                             -1         1.000171      0.014849   1.000000   \n",
      "4                             -1         0.999532      0.051819   1.000000   \n",
      "...                          ...              ...           ...        ...   \n",
      "4346975                        1         0.998808      0.096884   0.999258   \n",
      "4346976                       -1         1.000274      0.149871   0.999756   \n",
      "4346977                        1         1.000543      0.029236   1.002325   \n",
      "4346978                        0         1.003443      0.081872   1.003443   \n",
      "4346979                        1         0.997327      0.021922   1.000154   \n",
      "\n",
      "         near_price  bid_price  bid_size  ask_price  ask_size       wap  \\\n",
      "0          1.000000   0.999812  0.010269   1.000026  0.008365  1.000000   \n",
      "1          1.000000   0.999896  0.006184   1.000660  0.027442  1.000000   \n",
      "2          1.000000   0.999403  0.077508   1.000298  0.010908  1.000000   \n",
      "3          1.000000   0.999999  0.001119   1.000214  0.374974  1.000000   \n",
      "4          1.000000   0.999394  0.010196   1.000016  0.000344  1.000000   \n",
      "...             ...        ...       ...        ...       ...       ...   \n",
      "4346975    0.998808   0.998695  0.086108   0.998808  0.192638  0.998756   \n",
      "4346976    0.999756   1.000274  0.147018   1.000533  0.157138  1.000343   \n",
      "4346977    1.001830   1.000444  0.049986   1.000543  0.049032  1.000509   \n",
      "4346978    1.003443   1.003166  0.652195   1.003443  0.373526  1.003316   \n",
      "4346979    0.998269   0.997013  0.109486   0.997327  0.105845  0.997254   \n",
      "\n",
      "           target  time_id       row_id  \n",
      "0       -3.029704        0        0_0_0  \n",
      "1       -5.519986        0        0_0_1  \n",
      "2       -8.389950        0        0_0_2  \n",
      "3       -4.010200        0        0_0_3  \n",
      "4       -7.349849        0        0_0_4  \n",
      "...           ...      ...          ...  \n",
      "4346975 -1.779795    21999  399_540_195  \n",
      "4346976 -7.029772    21999  399_540_196  \n",
      "4346977  5.110502    21999  399_540_197  \n",
      "4346978  2.870560    21999  399_540_198  \n",
      "4346979 -0.439882    21999  399_540_199  \n",
      "\n",
      "[4346893 rows x 17 columns]\n"
     ]
    }
   ],
   "source": [
    "def PreprocessTrainSet(\n",
    "    raw_df: pd.DataFrame, statistic_result: Dict[int, Dict[str, Dict[str, float]]]\n",
    ") -> pd.DataFrame:\n",
    "    \n",
    "    data: pd.DataFrame = raw_df.copy()\n",
    "    \n",
    "    # fill out NaN with mean value\n",
    "    for stock in data['stock_id'].unique().tolist():\n",
    "        for feat in FILL_MEAN_FEATURES:\n",
    "            data.loc[\n",
    "                (data['stock_id'] == stock) & (data[feat].isnull()), \n",
    "                feat\n",
    "            ] = statistic_result[stock][feat]['mean']\n",
    "\n",
    "    # fill out NaN with 1\n",
    "    for feat in FILL_ONE_FEATURES:\n",
    "        data[feat] = data[feat].fillna(1.0)\n",
    "\n",
    "    # normalize features\n",
    "    for feat in MODEL_INPUT_FEATURES:\n",
    "        if feat not in NORMALIZED_FEATURE:\n",
    "            continue\n",
    "        data['min'] = np.nan\n",
    "        data['max'] = np.nan\n",
    "        \n",
    "        for stock in data['stock_id'].unique().tolist():\n",
    "            data.loc[data['stock_id'] == stock, ['min', 'max']] = [\n",
    "                statistic_result[stock][feat]['min'],\n",
    "                statistic_result[stock][feat]['max']\n",
    "            ]\n",
    "        \n",
    "        data[feat] = (data[feat] - data['min']) / (data['max'] - data['min'])\n",
    "        data = data.drop('min', axis=1)\n",
    "        data = data.drop('max', axis=1)\n",
    "        \n",
    "    data.dropna(inplace=True)\n",
    "    \n",
    "    print(f'Data has nan: \\n{data.isnull().any()}')\n",
    "    \n",
    "    return data\n",
    "\n",
    "\n",
    "train_pp_df = PreprocessTrainSet(raw_df=train_df, statistic_result=preprocess_info)\n",
    "\n",
    "print(train_pp_df)"
   ]
  },
  {
   "cell_type": "markdown",
   "id": "c32d644e-77b6-4538-9350-d8324fbf66a5",
   "metadata": {},
   "source": [
    "### Validation Set and Test Set"
   ]
  },
  {
   "cell_type": "code",
   "execution_count": 41,
   "id": "f3fe10b3-9446-4c78-aa05-c2880f7fde2d",
   "metadata": {},
   "outputs": [],
   "source": [
    "def PreprocessValidationTestSet(\n",
    "    raw_df: pd.DataFrame, statistic_result: Dict[int, Dict[str, Dict[str, float]]]\n",
    ") -> pd.DataFrame:\n",
    "\n",
    "    data: pd.DataFrame = raw_df.copy()\n",
    "    \n",
    "    # fill out NaN with mean value\n",
    "    for stock in data['stock_id'].unique().tolist():\n",
    "        for feat in FILL_MEAN_FEATURES:\n",
    "            data.loc[\n",
    "                (data['stock_id'] == stock) & (data[feat].isnull()), \n",
    "                feat\n",
    "            ] = statistic_result[stock][feat]['mean']\n",
    "\n",
    "    # fill out NaN with 1\n",
    "    for feat in FILL_ONE_FEATURES:\n",
    "        data[feat] = data[feat].fillna(1.0)\n",
    "\n",
    "    # normalize features\n",
    "    for feat in MODEL_INPUT_FEATURES:\n",
    "        if feat not in NORMALIZED_FEATURE:\n",
    "            continue\n",
    "        data['min'] = np.nan\n",
    "        data['max'] = np.nan\n",
    "        \n",
    "        for stock in data['stock_id'].unique().tolist():\n",
    "            data.loc[data['stock_id'] == stock, ['min', 'max']] = [\n",
    "                statistic_result[stock][feat]['min'],\n",
    "                statistic_result[stock][feat]['max']\n",
    "            ]\n",
    "        \n",
    "        data[feat] = (data[feat] - data['min']) / (data['max'] - data['min'])\n",
    "        data = data.drop('min', axis=1)\n",
    "        data = data.drop('max', axis=1)\n",
    "        \n",
    "    data.dropna(inplace=True)\n",
    "    \n",
    "    print(f'Data has nan: \\n{data.isnull().any()}')\n",
    "    \n",
    "    return data"
   ]
  },
  {
   "cell_type": "code",
   "execution_count": 12,
   "id": "67ac87c8-9ef3-425b-8824-0f9c6da9b230",
   "metadata": {},
   "outputs": [
    {
     "name": "stdout",
     "output_type": "stream",
     "text": [
      "Data has nan: \n",
      "stock_id                   False\n",
      "date_id                    False\n",
      "seconds_in_bucket          False\n",
      "imbalance_size             False\n",
      "imbalance_buy_sell_flag    False\n",
      "reference_price            False\n",
      "matched_size               False\n",
      "far_price                  False\n",
      "near_price                 False\n",
      "bid_price                  False\n",
      "bid_size                   False\n",
      "ask_price                  False\n",
      "ask_size                   False\n",
      "wap                        False\n",
      "target                     False\n",
      "time_id                    False\n",
      "row_id                     False\n",
      "dtype: bool\n"
     ]
    },
    {
     "data": {
      "text/html": [
       "<div>\n",
       "<style scoped>\n",
       "    .dataframe tbody tr th:only-of-type {\n",
       "        vertical-align: middle;\n",
       "    }\n",
       "\n",
       "    .dataframe tbody tr th {\n",
       "        vertical-align: top;\n",
       "    }\n",
       "\n",
       "    .dataframe thead th {\n",
       "        text-align: right;\n",
       "    }\n",
       "</style>\n",
       "<table border=\"1\" class=\"dataframe\">\n",
       "  <thead>\n",
       "    <tr style=\"text-align: right;\">\n",
       "      <th></th>\n",
       "      <th>stock_id</th>\n",
       "      <th>date_id</th>\n",
       "      <th>seconds_in_bucket</th>\n",
       "      <th>imbalance_size</th>\n",
       "      <th>imbalance_buy_sell_flag</th>\n",
       "      <th>reference_price</th>\n",
       "      <th>matched_size</th>\n",
       "      <th>far_price</th>\n",
       "      <th>near_price</th>\n",
       "      <th>bid_price</th>\n",
       "      <th>bid_size</th>\n",
       "      <th>ask_price</th>\n",
       "      <th>ask_size</th>\n",
       "      <th>wap</th>\n",
       "      <th>target</th>\n",
       "      <th>time_id</th>\n",
       "      <th>row_id</th>\n",
       "    </tr>\n",
       "  </thead>\n",
       "  <tbody>\n",
       "    <tr>\n",
       "      <th>4346980</th>\n",
       "      <td>0</td>\n",
       "      <td>400</td>\n",
       "      <td>0</td>\n",
       "      <td>0.104640</td>\n",
       "      <td>1</td>\n",
       "      <td>0.999454</td>\n",
       "      <td>0.026447</td>\n",
       "      <td>1.000000</td>\n",
       "      <td>1.000000</td>\n",
       "      <td>0.999648</td>\n",
       "      <td>0.001736</td>\n",
       "      <td>1.000521</td>\n",
       "      <td>0.015102</td>\n",
       "      <td>1.000000</td>\n",
       "      <td>0.050068</td>\n",
       "      <td>22000</td>\n",
       "      <td>400_0_0</td>\n",
       "    </tr>\n",
       "    <tr>\n",
       "      <th>4346981</th>\n",
       "      <td>1</td>\n",
       "      <td>400</td>\n",
       "      <td>0</td>\n",
       "      <td>0.178324</td>\n",
       "      <td>1</td>\n",
       "      <td>0.998651</td>\n",
       "      <td>0.025849</td>\n",
       "      <td>1.000000</td>\n",
       "      <td>1.000000</td>\n",
       "      <td>0.998065</td>\n",
       "      <td>0.049754</td>\n",
       "      <td>1.002580</td>\n",
       "      <td>0.045598</td>\n",
       "      <td>1.000000</td>\n",
       "      <td>-10.010004</td>\n",
       "      <td>22000</td>\n",
       "      <td>400_0_1</td>\n",
       "    </tr>\n",
       "    <tr>\n",
       "      <th>4346982</th>\n",
       "      <td>2</td>\n",
       "      <td>400</td>\n",
       "      <td>0</td>\n",
       "      <td>0.097252</td>\n",
       "      <td>-1</td>\n",
       "      <td>1.000470</td>\n",
       "      <td>0.011749</td>\n",
       "      <td>1.000000</td>\n",
       "      <td>1.000000</td>\n",
       "      <td>0.999974</td>\n",
       "      <td>0.007547</td>\n",
       "      <td>1.001236</td>\n",
       "      <td>0.103731</td>\n",
       "      <td>1.000000</td>\n",
       "      <td>7.070303</td>\n",
       "      <td>22000</td>\n",
       "      <td>400_0_2</td>\n",
       "    </tr>\n",
       "    <tr>\n",
       "      <th>4346983</th>\n",
       "      <td>3</td>\n",
       "      <td>400</td>\n",
       "      <td>0</td>\n",
       "      <td>0.020171</td>\n",
       "      <td>1</td>\n",
       "      <td>1.000143</td>\n",
       "      <td>0.032162</td>\n",
       "      <td>1.000000</td>\n",
       "      <td>1.000000</td>\n",
       "      <td>0.999964</td>\n",
       "      <td>0.004982</td>\n",
       "      <td>1.000731</td>\n",
       "      <td>0.153409</td>\n",
       "      <td>1.000000</td>\n",
       "      <td>3.780127</td>\n",
       "      <td>22000</td>\n",
       "      <td>400_0_3</td>\n",
       "    </tr>\n",
       "    <tr>\n",
       "      <th>4346984</th>\n",
       "      <td>4</td>\n",
       "      <td>400</td>\n",
       "      <td>0</td>\n",
       "      <td>0.071687</td>\n",
       "      <td>1</td>\n",
       "      <td>0.999428</td>\n",
       "      <td>0.008230</td>\n",
       "      <td>1.000000</td>\n",
       "      <td>1.000000</td>\n",
       "      <td>0.999255</td>\n",
       "      <td>0.016142</td>\n",
       "      <td>1.000119</td>\n",
       "      <td>0.004565</td>\n",
       "      <td>1.000000</td>\n",
       "      <td>1.590252</td>\n",
       "      <td>22000</td>\n",
       "      <td>400_0_4</td>\n",
       "    </tr>\n",
       "    <tr>\n",
       "      <th>...</th>\n",
       "      <td>...</td>\n",
       "      <td>...</td>\n",
       "      <td>...</td>\n",
       "      <td>...</td>\n",
       "      <td>...</td>\n",
       "      <td>...</td>\n",
       "      <td>...</td>\n",
       "      <td>...</td>\n",
       "      <td>...</td>\n",
       "      <td>...</td>\n",
       "      <td>...</td>\n",
       "      <td>...</td>\n",
       "      <td>...</td>\n",
       "      <td>...</td>\n",
       "      <td>...</td>\n",
       "      <td>...</td>\n",
       "      <td>...</td>\n",
       "    </tr>\n",
       "    <tr>\n",
       "      <th>5204975</th>\n",
       "      <td>195</td>\n",
       "      <td>477</td>\n",
       "      <td>540</td>\n",
       "      <td>0.040944</td>\n",
       "      <td>-1</td>\n",
       "      <td>1.002359</td>\n",
       "      <td>0.120353</td>\n",
       "      <td>1.001253</td>\n",
       "      <td>1.001253</td>\n",
       "      <td>1.002359</td>\n",
       "      <td>0.153837</td>\n",
       "      <td>1.002482</td>\n",
       "      <td>0.318110</td>\n",
       "      <td>1.002429</td>\n",
       "      <td>-3.190041</td>\n",
       "      <td>26289</td>\n",
       "      <td>477_540_195</td>\n",
       "    </tr>\n",
       "    <tr>\n",
       "      <th>5204976</th>\n",
       "      <td>196</td>\n",
       "      <td>477</td>\n",
       "      <td>540</td>\n",
       "      <td>0.045124</td>\n",
       "      <td>-1</td>\n",
       "      <td>0.998663</td>\n",
       "      <td>0.148910</td>\n",
       "      <td>0.996644</td>\n",
       "      <td>0.997401</td>\n",
       "      <td>0.998663</td>\n",
       "      <td>0.078859</td>\n",
       "      <td>0.999168</td>\n",
       "      <td>0.079631</td>\n",
       "      <td>0.998803</td>\n",
       "      <td>-6.200075</td>\n",
       "      <td>26289</td>\n",
       "      <td>477_540_196</td>\n",
       "    </tr>\n",
       "    <tr>\n",
       "      <th>5204977</th>\n",
       "      <td>197</td>\n",
       "      <td>477</td>\n",
       "      <td>540</td>\n",
       "      <td>0.004787</td>\n",
       "      <td>1</td>\n",
       "      <td>0.997623</td>\n",
       "      <td>0.024257</td>\n",
       "      <td>0.998388</td>\n",
       "      <td>0.998388</td>\n",
       "      <td>0.997240</td>\n",
       "      <td>0.013190</td>\n",
       "      <td>0.997623</td>\n",
       "      <td>0.033533</td>\n",
       "      <td>0.997405</td>\n",
       "      <td>0.000000</td>\n",
       "      <td>26289</td>\n",
       "      <td>477_540_197</td>\n",
       "    </tr>\n",
       "    <tr>\n",
       "      <th>5204978</th>\n",
       "      <td>198</td>\n",
       "      <td>477</td>\n",
       "      <td>540</td>\n",
       "      <td>0.027363</td>\n",
       "      <td>-1</td>\n",
       "      <td>0.999832</td>\n",
       "      <td>0.054122</td>\n",
       "      <td>0.998511</td>\n",
       "      <td>0.998751</td>\n",
       "      <td>0.999712</td>\n",
       "      <td>0.249313</td>\n",
       "      <td>0.999952</td>\n",
       "      <td>0.303272</td>\n",
       "      <td>0.999797</td>\n",
       "      <td>1.300573</td>\n",
       "      <td>26289</td>\n",
       "      <td>477_540_198</td>\n",
       "    </tr>\n",
       "    <tr>\n",
       "      <th>5204979</th>\n",
       "      <td>199</td>\n",
       "      <td>477</td>\n",
       "      <td>540</td>\n",
       "      <td>0.001769</td>\n",
       "      <td>-1</td>\n",
       "      <td>0.996704</td>\n",
       "      <td>0.028876</td>\n",
       "      <td>0.996063</td>\n",
       "      <td>0.996063</td>\n",
       "      <td>0.996704</td>\n",
       "      <td>0.045153</td>\n",
       "      <td>0.997025</td>\n",
       "      <td>0.119507</td>\n",
       "      <td>0.996880</td>\n",
       "      <td>1.239777</td>\n",
       "      <td>26289</td>\n",
       "      <td>477_540_199</td>\n",
       "    </tr>\n",
       "  </tbody>\n",
       "</table>\n",
       "<p>857999 rows × 17 columns</p>\n",
       "</div>"
      ],
      "text/plain": [
       "         stock_id  date_id  seconds_in_bucket  imbalance_size  \\\n",
       "4346980         0      400                  0        0.104640   \n",
       "4346981         1      400                  0        0.178324   \n",
       "4346982         2      400                  0        0.097252   \n",
       "4346983         3      400                  0        0.020171   \n",
       "4346984         4      400                  0        0.071687   \n",
       "...           ...      ...                ...             ...   \n",
       "5204975       195      477                540        0.040944   \n",
       "5204976       196      477                540        0.045124   \n",
       "5204977       197      477                540        0.004787   \n",
       "5204978       198      477                540        0.027363   \n",
       "5204979       199      477                540        0.001769   \n",
       "\n",
       "         imbalance_buy_sell_flag  reference_price  matched_size  far_price  \\\n",
       "4346980                        1         0.999454      0.026447   1.000000   \n",
       "4346981                        1         0.998651      0.025849   1.000000   \n",
       "4346982                       -1         1.000470      0.011749   1.000000   \n",
       "4346983                        1         1.000143      0.032162   1.000000   \n",
       "4346984                        1         0.999428      0.008230   1.000000   \n",
       "...                          ...              ...           ...        ...   \n",
       "5204975                       -1         1.002359      0.120353   1.001253   \n",
       "5204976                       -1         0.998663      0.148910   0.996644   \n",
       "5204977                        1         0.997623      0.024257   0.998388   \n",
       "5204978                       -1         0.999832      0.054122   0.998511   \n",
       "5204979                       -1         0.996704      0.028876   0.996063   \n",
       "\n",
       "         near_price  bid_price  bid_size  ask_price  ask_size       wap  \\\n",
       "4346980    1.000000   0.999648  0.001736   1.000521  0.015102  1.000000   \n",
       "4346981    1.000000   0.998065  0.049754   1.002580  0.045598  1.000000   \n",
       "4346982    1.000000   0.999974  0.007547   1.001236  0.103731  1.000000   \n",
       "4346983    1.000000   0.999964  0.004982   1.000731  0.153409  1.000000   \n",
       "4346984    1.000000   0.999255  0.016142   1.000119  0.004565  1.000000   \n",
       "...             ...        ...       ...        ...       ...       ...   \n",
       "5204975    1.001253   1.002359  0.153837   1.002482  0.318110  1.002429   \n",
       "5204976    0.997401   0.998663  0.078859   0.999168  0.079631  0.998803   \n",
       "5204977    0.998388   0.997240  0.013190   0.997623  0.033533  0.997405   \n",
       "5204978    0.998751   0.999712  0.249313   0.999952  0.303272  0.999797   \n",
       "5204979    0.996063   0.996704  0.045153   0.997025  0.119507  0.996880   \n",
       "\n",
       "            target  time_id       row_id  \n",
       "4346980   0.050068    22000      400_0_0  \n",
       "4346981 -10.010004    22000      400_0_1  \n",
       "4346982   7.070303    22000      400_0_2  \n",
       "4346983   3.780127    22000      400_0_3  \n",
       "4346984   1.590252    22000      400_0_4  \n",
       "...            ...      ...          ...  \n",
       "5204975  -3.190041    26289  477_540_195  \n",
       "5204976  -6.200075    26289  477_540_196  \n",
       "5204977   0.000000    26289  477_540_197  \n",
       "5204978   1.300573    26289  477_540_198  \n",
       "5204979   1.239777    26289  477_540_199  \n",
       "\n",
       "[857999 rows x 17 columns]"
      ]
     },
     "execution_count": 12,
     "metadata": {},
     "output_type": "execute_result"
    }
   ],
   "source": [
    "valid_pp_df = PreprocessValidationTestSet(raw_df=valid_df, statistic_result=preprocess_info)\n",
    "valid_pp_df"
   ]
  },
  {
   "cell_type": "code",
   "execution_count": 133,
   "id": "f7fedf3b-e18f-447b-994e-31e8f3e5bcaa",
   "metadata": {},
   "outputs": [
    {
     "name": "stdout",
     "output_type": "stream",
     "text": [
      "Data has nan: \n",
      "stock_id                   False\n",
      "date_id                    False\n",
      "seconds_in_bucket          False\n",
      "imbalance_size             False\n",
      "imbalance_buy_sell_flag    False\n",
      "reference_price            False\n",
      "matched_size               False\n",
      "far_price                  False\n",
      "near_price                 False\n",
      "bid_price                  False\n",
      "bid_size                   False\n",
      "ask_price                  False\n",
      "ask_size                   False\n",
      "wap                        False\n",
      "target                     False\n",
      "time_id                    False\n",
      "row_id                     False\n",
      "dtype: bool\n"
     ]
    },
    {
     "data": {
      "text/html": [
       "<div>\n",
       "<style scoped>\n",
       "    .dataframe tbody tr th:only-of-type {\n",
       "        vertical-align: middle;\n",
       "    }\n",
       "\n",
       "    .dataframe tbody tr th {\n",
       "        vertical-align: top;\n",
       "    }\n",
       "\n",
       "    .dataframe thead th {\n",
       "        text-align: right;\n",
       "    }\n",
       "</style>\n",
       "<table border=\"1\" class=\"dataframe\">\n",
       "  <thead>\n",
       "    <tr style=\"text-align: right;\">\n",
       "      <th></th>\n",
       "      <th>stock_id</th>\n",
       "      <th>date_id</th>\n",
       "      <th>seconds_in_bucket</th>\n",
       "      <th>imbalance_size</th>\n",
       "      <th>imbalance_buy_sell_flag</th>\n",
       "      <th>reference_price</th>\n",
       "      <th>matched_size</th>\n",
       "      <th>far_price</th>\n",
       "      <th>near_price</th>\n",
       "      <th>bid_price</th>\n",
       "      <th>bid_size</th>\n",
       "      <th>ask_price</th>\n",
       "      <th>ask_size</th>\n",
       "      <th>wap</th>\n",
       "      <th>target</th>\n",
       "      <th>time_id</th>\n",
       "      <th>row_id</th>\n",
       "    </tr>\n",
       "  </thead>\n",
       "  <tbody>\n",
       "    <tr>\n",
       "      <th>5203980</th>\n",
       "      <td>0</td>\n",
       "      <td>477</td>\n",
       "      <td>500</td>\n",
       "      <td>0.010121</td>\n",
       "      <td>-1</td>\n",
       "      <td>0.998733</td>\n",
       "      <td>0.149994</td>\n",
       "      <td>0.998383</td>\n",
       "      <td>0.998383</td>\n",
       "      <td>0.998733</td>\n",
       "      <td>0.009558</td>\n",
       "      <td>0.998908</td>\n",
       "      <td>0.062429</td>\n",
       "      <td>0.998816</td>\n",
       "      <td>-1.959801</td>\n",
       "      <td>26285</td>\n",
       "      <td>477_500_0</td>\n",
       "    </tr>\n",
       "    <tr>\n",
       "      <th>5203981</th>\n",
       "      <td>1</td>\n",
       "      <td>477</td>\n",
       "      <td>500</td>\n",
       "      <td>0.019167</td>\n",
       "      <td>-1</td>\n",
       "      <td>0.996861</td>\n",
       "      <td>0.230179</td>\n",
       "      <td>0.996761</td>\n",
       "      <td>0.996811</td>\n",
       "      <td>0.996861</td>\n",
       "      <td>0.022933</td>\n",
       "      <td>0.997110</td>\n",
       "      <td>0.003114</td>\n",
       "      <td>0.997068</td>\n",
       "      <td>-3.240108</td>\n",
       "      <td>26285</td>\n",
       "      <td>477_500_1</td>\n",
       "    </tr>\n",
       "    <tr>\n",
       "      <th>5203982</th>\n",
       "      <td>2</td>\n",
       "      <td>477</td>\n",
       "      <td>500</td>\n",
       "      <td>0.008084</td>\n",
       "      <td>1</td>\n",
       "      <td>1.000412</td>\n",
       "      <td>0.025736</td>\n",
       "      <td>1.000618</td>\n",
       "      <td>1.000618</td>\n",
       "      <td>1.000206</td>\n",
       "      <td>0.007384</td>\n",
       "      <td>1.000412</td>\n",
       "      <td>0.002194</td>\n",
       "      <td>1.000306</td>\n",
       "      <td>2.800226</td>\n",
       "      <td>26285</td>\n",
       "      <td>477_500_2</td>\n",
       "    </tr>\n",
       "    <tr>\n",
       "      <th>5203983</th>\n",
       "      <td>3</td>\n",
       "      <td>477</td>\n",
       "      <td>500</td>\n",
       "      <td>0.023070</td>\n",
       "      <td>-1</td>\n",
       "      <td>0.999988</td>\n",
       "      <td>0.065996</td>\n",
       "      <td>0.998009</td>\n",
       "      <td>0.998603</td>\n",
       "      <td>0.999988</td>\n",
       "      <td>0.006517</td>\n",
       "      <td>1.000087</td>\n",
       "      <td>0.032960</td>\n",
       "      <td>1.000011</td>\n",
       "      <td>-5.049705</td>\n",
       "      <td>26285</td>\n",
       "      <td>477_500_3</td>\n",
       "    </tr>\n",
       "    <tr>\n",
       "      <th>5203984</th>\n",
       "      <td>4</td>\n",
       "      <td>477</td>\n",
       "      <td>500</td>\n",
       "      <td>0.000000</td>\n",
       "      <td>0</td>\n",
       "      <td>1.001033</td>\n",
       "      <td>0.075482</td>\n",
       "      <td>1.001033</td>\n",
       "      <td>1.001033</td>\n",
       "      <td>1.001033</td>\n",
       "      <td>0.093155</td>\n",
       "      <td>1.001089</td>\n",
       "      <td>0.006674</td>\n",
       "      <td>1.001087</td>\n",
       "      <td>-1.299977</td>\n",
       "      <td>26285</td>\n",
       "      <td>477_500_4</td>\n",
       "    </tr>\n",
       "    <tr>\n",
       "      <th>...</th>\n",
       "      <td>...</td>\n",
       "      <td>...</td>\n",
       "      <td>...</td>\n",
       "      <td>...</td>\n",
       "      <td>...</td>\n",
       "      <td>...</td>\n",
       "      <td>...</td>\n",
       "      <td>...</td>\n",
       "      <td>...</td>\n",
       "      <td>...</td>\n",
       "      <td>...</td>\n",
       "      <td>...</td>\n",
       "      <td>...</td>\n",
       "      <td>...</td>\n",
       "      <td>...</td>\n",
       "      <td>...</td>\n",
       "      <td>...</td>\n",
       "    </tr>\n",
       "    <tr>\n",
       "      <th>5237975</th>\n",
       "      <td>195</td>\n",
       "      <td>480</td>\n",
       "      <td>540</td>\n",
       "      <td>0.035571</td>\n",
       "      <td>-1</td>\n",
       "      <td>1.000317</td>\n",
       "      <td>0.092998</td>\n",
       "      <td>0.999734</td>\n",
       "      <td>0.999734</td>\n",
       "      <td>1.000317</td>\n",
       "      <td>0.011651</td>\n",
       "      <td>1.000434</td>\n",
       "      <td>0.311774</td>\n",
       "      <td>1.000328</td>\n",
       "      <td>2.310276</td>\n",
       "      <td>26454</td>\n",
       "      <td>480_540_195</td>\n",
       "    </tr>\n",
       "    <tr>\n",
       "      <th>5237976</th>\n",
       "      <td>196</td>\n",
       "      <td>480</td>\n",
       "      <td>540</td>\n",
       "      <td>0.012758</td>\n",
       "      <td>-1</td>\n",
       "      <td>1.000643</td>\n",
       "      <td>0.155865</td>\n",
       "      <td>1.000129</td>\n",
       "      <td>1.000386</td>\n",
       "      <td>1.000643</td>\n",
       "      <td>0.446159</td>\n",
       "      <td>1.000900</td>\n",
       "      <td>0.078257</td>\n",
       "      <td>1.000819</td>\n",
       "      <td>-8.220077</td>\n",
       "      <td>26454</td>\n",
       "      <td>480_540_196</td>\n",
       "    </tr>\n",
       "    <tr>\n",
       "      <th>5237977</th>\n",
       "      <td>197</td>\n",
       "      <td>480</td>\n",
       "      <td>540</td>\n",
       "      <td>0.000000</td>\n",
       "      <td>0</td>\n",
       "      <td>0.995789</td>\n",
       "      <td>0.030443</td>\n",
       "      <td>0.995789</td>\n",
       "      <td>0.995789</td>\n",
       "      <td>0.995789</td>\n",
       "      <td>0.010616</td>\n",
       "      <td>0.995883</td>\n",
       "      <td>0.219793</td>\n",
       "      <td>0.995797</td>\n",
       "      <td>1.169443</td>\n",
       "      <td>26454</td>\n",
       "      <td>480_540_197</td>\n",
       "    </tr>\n",
       "    <tr>\n",
       "      <th>5237978</th>\n",
       "      <td>198</td>\n",
       "      <td>480</td>\n",
       "      <td>540</td>\n",
       "      <td>0.004784</td>\n",
       "      <td>1</td>\n",
       "      <td>0.999210</td>\n",
       "      <td>0.090585</td>\n",
       "      <td>0.999210</td>\n",
       "      <td>0.999210</td>\n",
       "      <td>0.998970</td>\n",
       "      <td>0.058164</td>\n",
       "      <td>0.999210</td>\n",
       "      <td>0.209937</td>\n",
       "      <td>0.999008</td>\n",
       "      <td>-1.540184</td>\n",
       "      <td>26454</td>\n",
       "      <td>480_540_198</td>\n",
       "    </tr>\n",
       "    <tr>\n",
       "      <th>5237979</th>\n",
       "      <td>199</td>\n",
       "      <td>480</td>\n",
       "      <td>540</td>\n",
       "      <td>0.006047</td>\n",
       "      <td>-1</td>\n",
       "      <td>1.002129</td>\n",
       "      <td>0.030855</td>\n",
       "      <td>1.000859</td>\n",
       "      <td>1.001494</td>\n",
       "      <td>1.002129</td>\n",
       "      <td>0.054782</td>\n",
       "      <td>1.002447</td>\n",
       "      <td>0.212474</td>\n",
       "      <td>1.002274</td>\n",
       "      <td>-6.530285</td>\n",
       "      <td>26454</td>\n",
       "      <td>480_540_199</td>\n",
       "    </tr>\n",
       "  </tbody>\n",
       "</table>\n",
       "<p>34000 rows × 17 columns</p>\n",
       "</div>"
      ],
      "text/plain": [
       "         stock_id  date_id  seconds_in_bucket  imbalance_size  \\\n",
       "5203980         0      477                500        0.010121   \n",
       "5203981         1      477                500        0.019167   \n",
       "5203982         2      477                500        0.008084   \n",
       "5203983         3      477                500        0.023070   \n",
       "5203984         4      477                500        0.000000   \n",
       "...           ...      ...                ...             ...   \n",
       "5237975       195      480                540        0.035571   \n",
       "5237976       196      480                540        0.012758   \n",
       "5237977       197      480                540        0.000000   \n",
       "5237978       198      480                540        0.004784   \n",
       "5237979       199      480                540        0.006047   \n",
       "\n",
       "         imbalance_buy_sell_flag  reference_price  matched_size  far_price  \\\n",
       "5203980                       -1         0.998733      0.149994   0.998383   \n",
       "5203981                       -1         0.996861      0.230179   0.996761   \n",
       "5203982                        1         1.000412      0.025736   1.000618   \n",
       "5203983                       -1         0.999988      0.065996   0.998009   \n",
       "5203984                        0         1.001033      0.075482   1.001033   \n",
       "...                          ...              ...           ...        ...   \n",
       "5237975                       -1         1.000317      0.092998   0.999734   \n",
       "5237976                       -1         1.000643      0.155865   1.000129   \n",
       "5237977                        0         0.995789      0.030443   0.995789   \n",
       "5237978                        1         0.999210      0.090585   0.999210   \n",
       "5237979                       -1         1.002129      0.030855   1.000859   \n",
       "\n",
       "         near_price  bid_price  bid_size  ask_price  ask_size       wap  \\\n",
       "5203980    0.998383   0.998733  0.009558   0.998908  0.062429  0.998816   \n",
       "5203981    0.996811   0.996861  0.022933   0.997110  0.003114  0.997068   \n",
       "5203982    1.000618   1.000206  0.007384   1.000412  0.002194  1.000306   \n",
       "5203983    0.998603   0.999988  0.006517   1.000087  0.032960  1.000011   \n",
       "5203984    1.001033   1.001033  0.093155   1.001089  0.006674  1.001087   \n",
       "...             ...        ...       ...        ...       ...       ...   \n",
       "5237975    0.999734   1.000317  0.011651   1.000434  0.311774  1.000328   \n",
       "5237976    1.000386   1.000643  0.446159   1.000900  0.078257  1.000819   \n",
       "5237977    0.995789   0.995789  0.010616   0.995883  0.219793  0.995797   \n",
       "5237978    0.999210   0.998970  0.058164   0.999210  0.209937  0.999008   \n",
       "5237979    1.001494   1.002129  0.054782   1.002447  0.212474  1.002274   \n",
       "\n",
       "           target  time_id       row_id  \n",
       "5203980 -1.959801    26285    477_500_0  \n",
       "5203981 -3.240108    26285    477_500_1  \n",
       "5203982  2.800226    26285    477_500_2  \n",
       "5203983 -5.049705    26285    477_500_3  \n",
       "5203984 -1.299977    26285    477_500_4  \n",
       "...           ...      ...          ...  \n",
       "5237975  2.310276    26454  480_540_195  \n",
       "5237976 -8.220077    26454  480_540_196  \n",
       "5237977  1.169443    26454  480_540_197  \n",
       "5237978 -1.540184    26454  480_540_198  \n",
       "5237979 -6.530285    26454  480_540_199  \n",
       "\n",
       "[34000 rows x 17 columns]"
      ]
     },
     "execution_count": 133,
     "metadata": {},
     "output_type": "execute_result"
    }
   ],
   "source": [
    "test_pp_df = PreprocessValidationTestSet(raw_df=test_df, statistic_result=preprocess_info)\n",
    "test_pp_df"
   ]
  },
  {
   "cell_type": "markdown",
   "id": "d3638b1b-b9f8-40e1-a609-e15fbcdb37b5",
   "metadata": {},
   "source": [
    "## Create DataLoaders for Training And Validation"
   ]
  },
  {
   "cell_type": "code",
   "execution_count": 142,
   "id": "98e49a47-2eae-48eb-bb75-e7454651823b",
   "metadata": {},
   "outputs": [],
   "source": [
    "def GenTimeSeriesData(raw_df: pd.DataFrame) -> Tuple[np.ndarray, np.float32]:\n",
    "    '''\n",
    "    raw_df: The rows of time t-n ~ t for predicting the target of t.\n",
    "    The generated features contains the data of time t-n ~ t-1.\n",
    "    '''\n",
    "    df = raw_df.copy()\n",
    "    df = df.sort_values(by=['date_id', 'seconds_in_bucket'], ascending=True)\n",
    "    \n",
    "    df = df[MODEL_INPUT_FEATURES]\n",
    "    df_numpy: np.ndarray = df.to_numpy()\n",
    "    df_numpy[-1, MODEL_INPUT_FEATURES.index('target')] = 0\n",
    "    \n",
    "    x: np.ndarray = df_numpy\n",
    "    y: np.float32 = df['target'].tolist()[-1]\n",
    "    \n",
    "    return x, y\n",
    "\n",
    "def GenTimeSeriesDataset(\n",
    "    train_raw_df: pd.DataFrame, valid_raw_df: pd.DataFrame, window_size: int\n",
    ") -> Tuple[\n",
    "    np.ndarray, np.ndarray, np.ndarray, np.ndarray\n",
    "]:\n",
    "    '''\n",
    "    Generate train_x, train_y, valid_x, valid_y\n",
    "    '''\n",
    "    train_x: List[np.ndarray] = []\n",
    "    train_y: List[np.float32] = []\n",
    "    valid_x: List[np.ndarray] = []\n",
    "    valid_y: List[np.float32] = []\n",
    "    \n",
    "    data: pd.DataFrame = pd.concat([train_raw_df, valid_raw_df], ignore_index=True)\n",
    "    data = data.sort_values(by=['stock_id', 'date_id', 'seconds_in_bucket'], ascending=True)\n",
    "    train_date: List[int] = train_raw_df['date_id'].unique().tolist()\n",
    "    valid_date: List[int] = valid_raw_df['date_id'].unique().tolist()\n",
    "    \n",
    "    with tqdm(total=data.shape[0]) as pbar:\n",
    "        pbar.set_description('Preparing time series dataset')\n",
    "        for stock in data['stock_id'].unique().tolist():\n",
    "            stock_df: pd.DataFrame = data.loc[data['stock_id'] == stock].reset_index(drop=True)\n",
    "            stock_df.reset_index(drop=True, inplace=True)\n",
    "            \n",
    "            for date in range(0, 478):\n",
    "                for second in range(0, 540+1, 10):\n",
    "                    index_list: List[int] = stock_df.index[\n",
    "                        (stock_df['stock_id'] == stock) & \n",
    "                        (stock_df['date_id'] == date) & \n",
    "                        (stock_df['seconds_in_bucket'] == second)\n",
    "                    ].tolist()\n",
    "                    \n",
    "                    if len(index_list) == 0:\n",
    "                        continue\n",
    "                    pbar.update(1)\n",
    "                    if index_list[0] < window_size:\n",
    "                        continue\n",
    "                    \n",
    "                    x: np.ndarray\n",
    "                    y: np.float32\n",
    "                    start_idx, end_idx = index_list[0] - (window_size - 1), index_list[0] + 1\n",
    "                    x, y = GenTimeSeriesData(raw_df=stock_df.iloc[start_idx:end_idx])\n",
    "                    \n",
    "                    if date in train_date:\n",
    "                        train_x.append(x)\n",
    "                        train_y.append(y)\n",
    "                    elif date in valid_date:\n",
    "                        valid_x.append(x)\n",
    "                        valid_y.append(y)\n",
    "    \n",
    "    return np.array(train_x), np.array(train_y), np.array(valid_x), np.array(valid_y)"
   ]
  },
  {
   "cell_type": "code",
   "execution_count": 17,
   "id": "8dcfb5e9-941b-4cc8-8358-db2700a63ced",
   "metadata": {},
   "outputs": [
    {
     "name": "stderr",
     "output_type": "stream",
     "text": [
      "Preparing time series dataset: 100%|██████████| 5204892/5204892 [2:25:34<00:00, 595.93it/s]  \n"
     ]
    }
   ],
   "source": [
    "train_set_x: np.ndarray\n",
    "train_set_y: np.ndarray\n",
    "valid_set_x: np.ndarray\n",
    "valid_set_y: np.ndarray\n",
    "\n",
    "train_set_x, train_set_y, valid_set_x, valid_set_y = GenTimeSeriesDataset(\n",
    "    train_raw_df=train_pp_df, valid_raw_df=valid_pp_df, window_size=5\n",
    ")"
   ]
  },
  {
   "cell_type": "code",
   "execution_count": 28,
   "id": "5f13a116",
   "metadata": {},
   "outputs": [],
   "source": [
    "train_set_x = train_set_x.astype(np.float32)\n",
    "train_set_y = train_set_y.astype(np.float32)\n",
    "valid_set_x = valid_set_x.astype(np.float32)\n",
    "valid_set_y = valid_set_y.astype(np.float32)"
   ]
  },
  {
   "cell_type": "code",
   "execution_count": 47,
   "id": "1e613a7b",
   "metadata": {},
   "outputs": [],
   "source": [
    "train_set_y = train_set_y[:, np.newaxis]\n",
    "valid_set_y = valid_set_y[:, np.newaxis]"
   ]
  },
  {
   "cell_type": "code",
   "execution_count": 143,
   "id": "40a46e54-f247-453e-ae6a-c342a597142b",
   "metadata": {},
   "outputs": [
    {
     "name": "stdout",
     "output_type": "stream",
     "text": [
      "(4345893, 5, 12)\n",
      "(4345893, 1)\n",
      "(857999, 5, 12)\n",
      "(857999, 1)\n"
     ]
    }
   ],
   "source": [
    "print(train_set_x.shape)\n",
    "print(train_set_y.shape)\n",
    "print(valid_set_x.shape)\n",
    "print(valid_set_y.shape)"
   ]
  },
  {
   "cell_type": "code",
   "execution_count": 30,
   "id": "a9893c79",
   "metadata": {},
   "outputs": [],
   "source": [
    "with open('./numpy_bin/train_set_2_x.npy', 'wb') as f:\n",
    "    np.save(f, train_set_x)\n",
    "with open('./numpy_bin/train_set_2_y.npy', 'wb') as f:\n",
    "    np.save(f, train_set_y)\n",
    "with open('./numpy_bin/valid_set_2_x.npy', 'wb') as f:\n",
    "    np.save(f, valid_set_x)\n",
    "with open('./numpy_bin/valid_set_2_y.npy', 'wb') as f:\n",
    "    np.save(f, valid_set_y)"
   ]
  },
  {
   "cell_type": "code",
   "execution_count": 148,
   "id": "7355a393-999c-464b-b327-c6d73d249d5f",
   "metadata": {},
   "outputs": [],
   "source": [
    "train_set_x = np.load('./numpy_bin/train_set_2_x.npy').astype(np.float32)\n",
    "train_set_y = np.load('./numpy_bin/train_set_2_y.npy').astype(np.float32)\n",
    "valid_set_x = np.load('./numpy_bin/valid_set_2_x.npy').astype(np.float32)\n",
    "valid_set_y = np.load('./numpy_bin/valid_set_2_y.npy').astype(np.float32)\n",
    "\n",
    "if train_set_y.ndim == 1:\n",
    "    train_set_y = train_set_y[:, np.newaxis]\n",
    "if valid_set_y.ndim == 1:\n",
    "    valid_set_y = valid_set_y[:, np.newaxis]"
   ]
  },
  {
   "cell_type": "code",
   "execution_count": 149,
   "id": "4f1abd72-a8cb-46e9-a74e-ea57996ab6e9",
   "metadata": {},
   "outputs": [
    {
     "name": "stdout",
     "output_type": "stream",
     "text": [
      "(4345893, 5, 12)\n",
      "(4345893, 1)\n",
      "(857999, 5, 12)\n",
      "(857999, 1)\n"
     ]
    }
   ],
   "source": [
    "print(train_set_x.shape)\n",
    "print(train_set_y.shape)\n",
    "print(valid_set_x.shape)\n",
    "print(valid_set_y.shape)"
   ]
  },
  {
   "cell_type": "code",
   "execution_count": 150,
   "id": "63eb8dbe-cdde-4e46-badd-358a3aa9b7ef",
   "metadata": {},
   "outputs": [],
   "source": [
    "train_set_x_torch, train_set_y_torch, valid_set_x_torch, valid_set_y_torch = (\n",
    "    torch.tensor(train_set_x).clone().detach(),\n",
    "    torch.tensor(train_set_y).clone().detach(),\n",
    "    torch.tensor(valid_set_x).clone().detach(),\n",
    "    torch.tensor(valid_set_y).clone().detach()\n",
    ")\n",
    "\n",
    "train_loader = DataLoader(TensorDataset(train_set_x_torch, train_set_y_torch), shuffle=True, batch_size=BATCH_SIZE)\n",
    "valid_loader = DataLoader(TensorDataset(valid_set_x_torch, valid_set_y_torch), shuffle=True, batch_size=BATCH_SIZE)"
   ]
  },
  {
   "cell_type": "markdown",
   "id": "d86aa0f0-33f7-49d2-937b-76b4a11dc25b",
   "metadata": {},
   "source": [
    "## Model Definition"
   ]
  },
  {
   "cell_type": "code",
   "execution_count": 137,
   "id": "e1b980b4-e13a-45b8-9c61-dd65e2c9c3ee",
   "metadata": {},
   "outputs": [],
   "source": [
    "class LSTM_Model(nn.Module):\n",
    "    def __init__(self, input_size):\n",
    "        super().__init__()\n",
    "        self.lstm = nn.LSTM(\n",
    "            input_size=input_size, \n",
    "            hidden_size=64, \n",
    "            num_layers=2, \n",
    "            batch_first=True\n",
    "        )\n",
    "        self.cnn = nn.Sequential(\n",
    "            nn.Conv1d(in_channels=64, out_channels=64, kernel_size=3, stride=1, padding=1),\n",
    "            nn.ReLU(),\n",
    "            nn.MaxPool1d(kernel_size=2, stride=2),\n",
    "            nn.Conv1d(in_channels=64, out_channels=128, kernel_size=3, stride=1, padding=1),\n",
    "            nn.ReLU(),\n",
    "            nn.MaxPool1d(kernel_size=2, stride=2),\n",
    "            #flatten\n",
    "            nn.Flatten(),\n",
    "            nn.LazyLinear(out_features=256),\n",
    "            nn.ReLU(),\n",
    "            nn.Linear(in_features=256, out_features=1)\n",
    "        )\n",
    "        \n",
    "    def forward(self, x):\n",
    "        out, _ = self.lstm(x)\n",
    "        out = out.permute(0, 2, 1)\n",
    "        out = self.cnn(out)\n",
    "        return out"
   ]
  },
  {
   "cell_type": "markdown",
   "id": "ea0d67b4-3c71-4d15-b3f4-b9d26b280823",
   "metadata": {},
   "source": [
    "## Training"
   ]
  },
  {
   "cell_type": "code",
   "execution_count": 138,
   "id": "fcdcce33-2f75-4d67-9ab3-a266c8ec4484",
   "metadata": {},
   "outputs": [],
   "source": [
    "def train(\n",
    "    model, train_loader: DataLoader, valid_loader: DataLoader, optimizer, loss_fn, epoch_cnt: int\n",
    ") -> Tuple[List[float], List[float]]:\n",
    "    train_loss_list: List[float] = []\n",
    "    valid_loss_list: List[float] = []\n",
    "    \n",
    "    print(f'The batch size of train_loader = {train_loader.batch_size}')\n",
    "    print(f'The batch size of valid_loader = {valid_loader.batch_size}')\n",
    "\n",
    "    min_loss: float = 10.0\n",
    "    \n",
    "    for epoch in range(epoch_cnt):\n",
    "        train_batch_loss_list: List[float] = []\n",
    "        valid_batch_loss_list: List[float] = []\n",
    "        \n",
    "        model.train()\n",
    "        pbar = tqdm(train_loader)\n",
    "        pbar.set_description(f\"Training Epoch {epoch}\")\n",
    "        for batch_x, batch_y in pbar:\n",
    "            batch_x = batch_x.to(device)\n",
    "            batch_y = batch_y.to(device)\n",
    "            \n",
    "            optimizer.zero_grad()\n",
    "            pred_y = model(batch_x)\n",
    "            loss = loss_fn(pred_y, batch_y)\n",
    "            train_batch_loss_list.append(loss.cpu().detach().numpy())\n",
    "            \n",
    "            loss.backward()\n",
    "            optimizer.step()\n",
    "\n",
    "            if len(train_batch_loss_list) % 1000 == 999:\n",
    "                train_loss_list.append(float(np.mean(train_batch_loss_list[-100:])))\n",
    "        \n",
    "        model.eval()\n",
    "        better_model: bool = False\n",
    "        with torch.no_grad():\n",
    "            pbar = tqdm(valid_loader)\n",
    "            pbar.set_description(f\"Validating Epoch {epoch}\")\n",
    "            for batch_x, batch_y in pbar:\n",
    "                batch_x = batch_x.to(device)\n",
    "                batch_y = batch_y.to(device)\n",
    "                \n",
    "                pred_y = model(batch_x)\n",
    "                loss = loss_fn(pred_y, batch_y)\n",
    "                valid_batch_loss_list.append(loss.cpu().detach().numpy())\n",
    "\n",
    "                if len(valid_batch_loss_list) % 1000 == 999:\n",
    "                    if len(valid_loss_list) == 0 or float(np.mean(valid_batch_loss_list[-1000:])) < min_loss:\n",
    "                        better_model = True\n",
    "                        min_loss = float(np.mean(valid_batch_loss_list[-1000:]))\n",
    "                    valid_loss_list.append(float(np.mean(valid_batch_loss_list[-1000:])))\n",
    "\n",
    "        if better_model:\n",
    "            torch.save(model, f\"./models/lstm-cnn-bs[{BATCH_SIZE}]-lr[{LEARNING_RATE}].pt\")\n",
    "        \n",
    "        print(\"Epoch %d: train_loss %.4f, val_loss %.4f\" % (epoch, np.mean(train_batch_loss_list), np.mean(valid_batch_loss_list)))\n",
    "        \n",
    "    return train_loss_list, valid_loss_list"
   ]
  },
  {
   "cell_type": "code",
   "execution_count": 151,
   "id": "61753e46-7e47-4309-8148-0160227cbd0f",
   "metadata": {},
   "outputs": [
    {
     "name": "stderr",
     "output_type": "stream",
     "text": [
      "/opt/conda/lib/python3.10/site-packages/torch/nn/modules/lazy.py:180: UserWarning: Lazy modules are a new feature under heavy development so changes to the API or functionality can happen at any moment.\n",
      "  warnings.warn('Lazy modules are a new feature under heavy development '\n"
     ]
    },
    {
     "data": {
      "text/plain": [
       "LSTM_Model(\n",
       "  (lstm): LSTM(12, 64, num_layers=2, batch_first=True)\n",
       "  (cnn): Sequential(\n",
       "    (0): Conv1d(64, 64, kernel_size=(3,), stride=(1,), padding=(1,))\n",
       "    (1): ReLU()\n",
       "    (2): MaxPool1d(kernel_size=2, stride=2, padding=0, dilation=1, ceil_mode=False)\n",
       "    (3): Conv1d(64, 128, kernel_size=(3,), stride=(1,), padding=(1,))\n",
       "    (4): ReLU()\n",
       "    (5): MaxPool1d(kernel_size=2, stride=2, padding=0, dilation=1, ceil_mode=False)\n",
       "    (6): Flatten(start_dim=1, end_dim=-1)\n",
       "    (7): LazyLinear(in_features=0, out_features=256, bias=True)\n",
       "    (8): ReLU()\n",
       "    (9): Linear(in_features=256, out_features=1, bias=True)\n",
       "  )\n",
       ")"
      ]
     },
     "execution_count": 151,
     "metadata": {},
     "output_type": "execute_result"
    }
   ],
   "source": [
    "model = LSTM_Model(input_size=len(MODEL_INPUT_FEATURES))\n",
    "model.to(device)"
   ]
  },
  {
   "cell_type": "code",
   "execution_count": 154,
   "id": "001d47ff-1046-4f90-ac54-b041b808edd0",
   "metadata": {},
   "outputs": [],
   "source": [
    "optimizer = optim.Adam(model.parameters(), lr=LEARNING_RATE)\n",
    "loss_fn = nn.L1Loss()"
   ]
  },
  {
   "cell_type": "code",
   "execution_count": 155,
   "id": "bf9af786",
   "metadata": {
    "scrolled": true,
    "tags": []
   },
   "outputs": [
    {
     "name": "stdout",
     "output_type": "stream",
     "text": [
      "The batch size of train_loader = 256\n",
      "The batch size of valid_loader = 256\n"
     ]
    },
    {
     "name": "stderr",
     "output_type": "stream",
     "text": [
      "Training Epoch 0: 100%|██████████| 16977/16977 [00:54<00:00, 309.40it/s]\n",
      "Validating Epoch 0: 100%|██████████| 3352/3352 [00:06<00:00, 530.16it/s]\n"
     ]
    },
    {
     "name": "stdout",
     "output_type": "stream",
     "text": [
      "Epoch 0: train_loss 4.6840, val_loss 3.7262\n"
     ]
    },
    {
     "name": "stderr",
     "output_type": "stream",
     "text": [
      "Training Epoch 1: 100%|██████████| 16977/16977 [00:55<00:00, 308.63it/s]\n",
      "Validating Epoch 1: 100%|██████████| 3352/3352 [00:06<00:00, 542.98it/s]\n"
     ]
    },
    {
     "name": "stdout",
     "output_type": "stream",
     "text": [
      "Epoch 1: train_loss 4.2036, val_loss 3.6829\n"
     ]
    },
    {
     "name": "stderr",
     "output_type": "stream",
     "text": [
      "Training Epoch 2: 100%|██████████| 16977/16977 [00:55<00:00, 307.62it/s]\n",
      "Validating Epoch 2: 100%|██████████| 3352/3352 [00:06<00:00, 547.65it/s]\n"
     ]
    },
    {
     "name": "stdout",
     "output_type": "stream",
     "text": [
      "Epoch 2: train_loss 4.1774, val_loss 3.6673\n"
     ]
    },
    {
     "name": "stderr",
     "output_type": "stream",
     "text": [
      "Training Epoch 3: 100%|██████████| 16977/16977 [00:55<00:00, 305.40it/s]\n",
      "Validating Epoch 3: 100%|██████████| 3352/3352 [00:06<00:00, 539.06it/s]\n"
     ]
    },
    {
     "name": "stdout",
     "output_type": "stream",
     "text": [
      "Epoch 3: train_loss 4.1668, val_loss 3.6579\n"
     ]
    },
    {
     "name": "stderr",
     "output_type": "stream",
     "text": [
      "Training Epoch 4: 100%|██████████| 16977/16977 [00:54<00:00, 308.86it/s]\n",
      "Validating Epoch 4: 100%|██████████| 3352/3352 [00:06<00:00, 546.99it/s]\n"
     ]
    },
    {
     "name": "stdout",
     "output_type": "stream",
     "text": [
      "Epoch 4: train_loss 4.1606, val_loss 3.6538\n"
     ]
    },
    {
     "name": "stderr",
     "output_type": "stream",
     "text": [
      "Training Epoch 5: 100%|██████████| 16977/16977 [00:56<00:00, 302.60it/s]\n",
      "Validating Epoch 5: 100%|██████████| 3352/3352 [00:06<00:00, 535.82it/s]\n"
     ]
    },
    {
     "name": "stdout",
     "output_type": "stream",
     "text": [
      "Epoch 5: train_loss 4.1560, val_loss 3.6494\n"
     ]
    },
    {
     "name": "stderr",
     "output_type": "stream",
     "text": [
      "Training Epoch 6: 100%|██████████| 16977/16977 [00:55<00:00, 307.23it/s]\n",
      "Validating Epoch 6: 100%|██████████| 3352/3352 [00:06<00:00, 533.18it/s]\n"
     ]
    },
    {
     "name": "stdout",
     "output_type": "stream",
     "text": [
      "Epoch 6: train_loss 4.1519, val_loss 3.6437\n"
     ]
    },
    {
     "name": "stderr",
     "output_type": "stream",
     "text": [
      "Training Epoch 7: 100%|██████████| 16977/16977 [00:56<00:00, 299.56it/s]\n",
      "Validating Epoch 7: 100%|██████████| 3352/3352 [00:06<00:00, 533.20it/s]\n"
     ]
    },
    {
     "name": "stdout",
     "output_type": "stream",
     "text": [
      "Epoch 7: train_loss 4.1480, val_loss 3.6416\n"
     ]
    },
    {
     "name": "stderr",
     "output_type": "stream",
     "text": [
      "Training Epoch 8: 100%|██████████| 16977/16977 [00:55<00:00, 305.16it/s]\n",
      "Validating Epoch 8: 100%|██████████| 3352/3352 [00:06<00:00, 537.89it/s]\n"
     ]
    },
    {
     "name": "stdout",
     "output_type": "stream",
     "text": [
      "Epoch 8: train_loss 4.1442, val_loss 3.6397\n"
     ]
    },
    {
     "name": "stderr",
     "output_type": "stream",
     "text": [
      "Training Epoch 9: 100%|██████████| 16977/16977 [00:55<00:00, 306.51it/s]\n",
      "Validating Epoch 9: 100%|██████████| 3352/3352 [00:06<00:00, 549.09it/s]\n"
     ]
    },
    {
     "name": "stdout",
     "output_type": "stream",
     "text": [
      "Epoch 9: train_loss 4.1405, val_loss 3.6354\n"
     ]
    },
    {
     "name": "stderr",
     "output_type": "stream",
     "text": [
      "Training Epoch 10: 100%|██████████| 16977/16977 [00:55<00:00, 306.02it/s]\n",
      "Validating Epoch 10: 100%|██████████| 3352/3352 [00:06<00:00, 533.74it/s]\n"
     ]
    },
    {
     "name": "stdout",
     "output_type": "stream",
     "text": [
      "Epoch 10: train_loss 4.1366, val_loss 3.6324\n"
     ]
    },
    {
     "name": "stderr",
     "output_type": "stream",
     "text": [
      "Training Epoch 11: 100%|██████████| 16977/16977 [00:54<00:00, 308.88it/s]\n",
      "Validating Epoch 11: 100%|██████████| 3352/3352 [00:05<00:00, 560.81it/s]\n"
     ]
    },
    {
     "name": "stdout",
     "output_type": "stream",
     "text": [
      "Epoch 11: train_loss 4.1327, val_loss 3.6277\n"
     ]
    },
    {
     "name": "stderr",
     "output_type": "stream",
     "text": [
      "Training Epoch 12: 100%|██████████| 16977/16977 [00:55<00:00, 307.72it/s]\n",
      "Validating Epoch 12: 100%|██████████| 3352/3352 [00:05<00:00, 564.45it/s]\n"
     ]
    },
    {
     "name": "stdout",
     "output_type": "stream",
     "text": [
      "Epoch 12: train_loss 4.1291, val_loss 3.6267\n"
     ]
    },
    {
     "name": "stderr",
     "output_type": "stream",
     "text": [
      "Training Epoch 13: 100%|██████████| 16977/16977 [00:55<00:00, 307.93it/s]\n",
      "Validating Epoch 13: 100%|██████████| 3352/3352 [00:06<00:00, 547.03it/s]\n"
     ]
    },
    {
     "name": "stdout",
     "output_type": "stream",
     "text": [
      "Epoch 13: train_loss 4.1257, val_loss 3.6214\n"
     ]
    },
    {
     "name": "stderr",
     "output_type": "stream",
     "text": [
      "Training Epoch 14: 100%|██████████| 16977/16977 [00:54<00:00, 310.14it/s]\n",
      "Validating Epoch 14: 100%|██████████| 3352/3352 [00:06<00:00, 537.00it/s]\n"
     ]
    },
    {
     "name": "stdout",
     "output_type": "stream",
     "text": [
      "Epoch 14: train_loss 4.1229, val_loss 3.6211\n"
     ]
    },
    {
     "name": "stderr",
     "output_type": "stream",
     "text": [
      "Training Epoch 15: 100%|██████████| 16977/16977 [00:54<00:00, 310.24it/s]\n",
      "Validating Epoch 15: 100%|██████████| 3352/3352 [00:05<00:00, 559.93it/s]\n"
     ]
    },
    {
     "name": "stdout",
     "output_type": "stream",
     "text": [
      "Epoch 15: train_loss 4.1203, val_loss 3.6174\n"
     ]
    },
    {
     "name": "stderr",
     "output_type": "stream",
     "text": [
      "Training Epoch 16: 100%|██████████| 16977/16977 [00:55<00:00, 307.15it/s]\n",
      "Validating Epoch 16: 100%|██████████| 3352/3352 [00:06<00:00, 555.72it/s]\n"
     ]
    },
    {
     "name": "stdout",
     "output_type": "stream",
     "text": [
      "Epoch 16: train_loss 4.1183, val_loss 3.6149\n"
     ]
    },
    {
     "name": "stderr",
     "output_type": "stream",
     "text": [
      "Training Epoch 17: 100%|██████████| 16977/16977 [00:55<00:00, 308.12it/s]\n",
      "Validating Epoch 17: 100%|██████████| 3352/3352 [00:06<00:00, 557.12it/s]\n"
     ]
    },
    {
     "name": "stdout",
     "output_type": "stream",
     "text": [
      "Epoch 17: train_loss 4.1167, val_loss 3.6146\n"
     ]
    },
    {
     "name": "stderr",
     "output_type": "stream",
     "text": [
      "Training Epoch 18: 100%|██████████| 16977/16977 [00:55<00:00, 305.53it/s]\n",
      "Validating Epoch 18: 100%|██████████| 3352/3352 [00:06<00:00, 558.58it/s]\n"
     ]
    },
    {
     "name": "stdout",
     "output_type": "stream",
     "text": [
      "Epoch 18: train_loss 4.1152, val_loss 3.6126\n"
     ]
    },
    {
     "name": "stderr",
     "output_type": "stream",
     "text": [
      "Training Epoch 19: 100%|██████████| 16977/16977 [00:56<00:00, 297.98it/s]\n",
      "Validating Epoch 19: 100%|██████████| 3352/3352 [00:05<00:00, 561.70it/s]\n"
     ]
    },
    {
     "name": "stdout",
     "output_type": "stream",
     "text": [
      "Epoch 19: train_loss 4.1140, val_loss 3.6161\n"
     ]
    },
    {
     "name": "stderr",
     "output_type": "stream",
     "text": [
      "Training Epoch 20: 100%|██████████| 16977/16977 [00:56<00:00, 298.98it/s]\n",
      "Validating Epoch 20: 100%|██████████| 3352/3352 [00:06<00:00, 550.65it/s]\n"
     ]
    },
    {
     "name": "stdout",
     "output_type": "stream",
     "text": [
      "Epoch 20: train_loss 4.1128, val_loss 3.6144\n"
     ]
    },
    {
     "name": "stderr",
     "output_type": "stream",
     "text": [
      "Training Epoch 21: 100%|██████████| 16977/16977 [00:56<00:00, 302.07it/s]\n",
      "Validating Epoch 21: 100%|██████████| 3352/3352 [00:05<00:00, 563.74it/s]\n"
     ]
    },
    {
     "name": "stdout",
     "output_type": "stream",
     "text": [
      "Epoch 21: train_loss 4.1120, val_loss 3.6118\n"
     ]
    },
    {
     "name": "stderr",
     "output_type": "stream",
     "text": [
      "Training Epoch 22: 100%|██████████| 16977/16977 [00:55<00:00, 304.49it/s]\n",
      "Validating Epoch 22: 100%|██████████| 3352/3352 [00:05<00:00, 570.16it/s]\n"
     ]
    },
    {
     "name": "stdout",
     "output_type": "stream",
     "text": [
      "Epoch 22: train_loss 4.1111, val_loss 3.6100\n"
     ]
    },
    {
     "name": "stderr",
     "output_type": "stream",
     "text": [
      "Training Epoch 23: 100%|██████████| 16977/16977 [00:55<00:00, 304.70it/s]\n",
      "Validating Epoch 23: 100%|██████████| 3352/3352 [00:05<00:00, 578.46it/s]\n"
     ]
    },
    {
     "name": "stdout",
     "output_type": "stream",
     "text": [
      "Epoch 23: train_loss 4.1102, val_loss 3.6096\n"
     ]
    },
    {
     "name": "stderr",
     "output_type": "stream",
     "text": [
      "Training Epoch 24: 100%|██████████| 16977/16977 [00:55<00:00, 305.54it/s]\n",
      "Validating Epoch 24: 100%|██████████| 3352/3352 [00:05<00:00, 560.99it/s]\n"
     ]
    },
    {
     "name": "stdout",
     "output_type": "stream",
     "text": [
      "Epoch 24: train_loss 4.1096, val_loss 3.6174\n"
     ]
    },
    {
     "name": "stderr",
     "output_type": "stream",
     "text": [
      "Training Epoch 25: 100%|██████████| 16977/16977 [00:55<00:00, 304.63it/s]\n",
      "Validating Epoch 25: 100%|██████████| 3352/3352 [00:06<00:00, 543.98it/s]\n"
     ]
    },
    {
     "name": "stdout",
     "output_type": "stream",
     "text": [
      "Epoch 25: train_loss 4.1090, val_loss 3.6083\n"
     ]
    },
    {
     "name": "stderr",
     "output_type": "stream",
     "text": [
      "Training Epoch 26: 100%|██████████| 16977/16977 [00:57<00:00, 295.44it/s]\n",
      "Validating Epoch 26: 100%|██████████| 3352/3352 [00:06<00:00, 556.23it/s]\n"
     ]
    },
    {
     "name": "stdout",
     "output_type": "stream",
     "text": [
      "Epoch 26: train_loss 4.1082, val_loss 3.6052\n"
     ]
    },
    {
     "name": "stderr",
     "output_type": "stream",
     "text": [
      "Training Epoch 27: 100%|██████████| 16977/16977 [00:55<00:00, 308.48it/s]\n",
      "Validating Epoch 27: 100%|██████████| 3352/3352 [00:06<00:00, 535.70it/s]\n"
     ]
    },
    {
     "name": "stdout",
     "output_type": "stream",
     "text": [
      "Epoch 27: train_loss 4.1076, val_loss 3.6102\n"
     ]
    },
    {
     "name": "stderr",
     "output_type": "stream",
     "text": [
      "Training Epoch 28: 100%|██████████| 16977/16977 [00:55<00:00, 305.73it/s]\n",
      "Validating Epoch 28: 100%|██████████| 3352/3352 [00:06<00:00, 533.90it/s]\n"
     ]
    },
    {
     "name": "stdout",
     "output_type": "stream",
     "text": [
      "Epoch 28: train_loss 4.1069, val_loss 3.6046\n"
     ]
    },
    {
     "name": "stderr",
     "output_type": "stream",
     "text": [
      "Training Epoch 29: 100%|██████████| 16977/16977 [00:55<00:00, 304.36it/s]\n",
      "Validating Epoch 29: 100%|██████████| 3352/3352 [00:06<00:00, 542.28it/s]\n"
     ]
    },
    {
     "name": "stdout",
     "output_type": "stream",
     "text": [
      "Epoch 29: train_loss 4.1064, val_loss 3.6056\n"
     ]
    },
    {
     "name": "stderr",
     "output_type": "stream",
     "text": [
      "Training Epoch 30: 100%|██████████| 16977/16977 [00:57<00:00, 296.49it/s]\n",
      "Validating Epoch 30: 100%|██████████| 3352/3352 [00:06<00:00, 543.21it/s]\n"
     ]
    },
    {
     "name": "stdout",
     "output_type": "stream",
     "text": [
      "Epoch 30: train_loss 4.1058, val_loss 3.6036\n"
     ]
    },
    {
     "name": "stderr",
     "output_type": "stream",
     "text": [
      "Training Epoch 31: 100%|██████████| 16977/16977 [00:56<00:00, 301.85it/s]\n",
      "Validating Epoch 31: 100%|██████████| 3352/3352 [00:06<00:00, 547.35it/s]\n"
     ]
    },
    {
     "name": "stdout",
     "output_type": "stream",
     "text": [
      "Epoch 31: train_loss 4.1052, val_loss 3.6063\n"
     ]
    },
    {
     "name": "stderr",
     "output_type": "stream",
     "text": [
      "Training Epoch 32: 100%|██████████| 16977/16977 [00:55<00:00, 304.63it/s]\n",
      "Validating Epoch 32: 100%|██████████| 3352/3352 [00:06<00:00, 546.39it/s]\n"
     ]
    },
    {
     "name": "stdout",
     "output_type": "stream",
     "text": [
      "Epoch 32: train_loss 4.1045, val_loss 3.6019\n"
     ]
    },
    {
     "name": "stderr",
     "output_type": "stream",
     "text": [
      "Training Epoch 33: 100%|██████████| 16977/16977 [00:57<00:00, 296.98it/s]\n",
      "Validating Epoch 33: 100%|██████████| 3352/3352 [00:06<00:00, 544.35it/s]\n"
     ]
    },
    {
     "name": "stdout",
     "output_type": "stream",
     "text": [
      "Epoch 33: train_loss 4.1039, val_loss 3.6071\n"
     ]
    },
    {
     "name": "stderr",
     "output_type": "stream",
     "text": [
      "Training Epoch 34: 100%|██████████| 16977/16977 [00:56<00:00, 301.23it/s]\n",
      "Validating Epoch 34: 100%|██████████| 3352/3352 [00:06<00:00, 522.67it/s]\n"
     ]
    },
    {
     "name": "stdout",
     "output_type": "stream",
     "text": [
      "Epoch 34: train_loss 4.1033, val_loss 3.6046\n"
     ]
    },
    {
     "name": "stderr",
     "output_type": "stream",
     "text": [
      "Training Epoch 35: 100%|██████████| 16977/16977 [00:55<00:00, 303.92it/s]\n",
      "Validating Epoch 35: 100%|██████████| 3352/3352 [00:06<00:00, 535.90it/s]\n"
     ]
    },
    {
     "name": "stdout",
     "output_type": "stream",
     "text": [
      "Epoch 35: train_loss 4.1028, val_loss 3.6005\n"
     ]
    },
    {
     "name": "stderr",
     "output_type": "stream",
     "text": [
      "Training Epoch 36: 100%|██████████| 16977/16977 [00:55<00:00, 306.57it/s]\n",
      "Validating Epoch 36: 100%|██████████| 3352/3352 [00:06<00:00, 532.30it/s]\n"
     ]
    },
    {
     "name": "stdout",
     "output_type": "stream",
     "text": [
      "Epoch 36: train_loss 4.1022, val_loss 3.6037\n"
     ]
    },
    {
     "name": "stderr",
     "output_type": "stream",
     "text": [
      "Training Epoch 37: 100%|██████████| 16977/16977 [00:54<00:00, 309.04it/s]\n",
      "Validating Epoch 37: 100%|██████████| 3352/3352 [00:06<00:00, 546.25it/s]\n"
     ]
    },
    {
     "name": "stdout",
     "output_type": "stream",
     "text": [
      "Epoch 37: train_loss 4.1016, val_loss 3.6020\n"
     ]
    },
    {
     "name": "stderr",
     "output_type": "stream",
     "text": [
      "Training Epoch 38: 100%|██████████| 16977/16977 [00:55<00:00, 303.46it/s]\n",
      "Validating Epoch 38: 100%|██████████| 3352/3352 [00:06<00:00, 546.99it/s]\n"
     ]
    },
    {
     "name": "stdout",
     "output_type": "stream",
     "text": [
      "Epoch 38: train_loss 4.1010, val_loss 3.6018\n"
     ]
    },
    {
     "name": "stderr",
     "output_type": "stream",
     "text": [
      "Training Epoch 39: 100%|██████████| 16977/16977 [00:56<00:00, 302.55it/s]\n",
      "Validating Epoch 39: 100%|██████████| 3352/3352 [00:06<00:00, 547.57it/s]\n"
     ]
    },
    {
     "name": "stdout",
     "output_type": "stream",
     "text": [
      "Epoch 39: train_loss 4.1002, val_loss 3.6033\n"
     ]
    },
    {
     "name": "stderr",
     "output_type": "stream",
     "text": [
      "Training Epoch 40: 100%|██████████| 16977/16977 [00:55<00:00, 304.15it/s]\n",
      "Validating Epoch 40: 100%|██████████| 3352/3352 [00:06<00:00, 549.84it/s]\n"
     ]
    },
    {
     "name": "stdout",
     "output_type": "stream",
     "text": [
      "Epoch 40: train_loss 4.0997, val_loss 3.6146\n"
     ]
    },
    {
     "name": "stderr",
     "output_type": "stream",
     "text": [
      "Training Epoch 41: 100%|██████████| 16977/16977 [00:55<00:00, 307.43it/s]\n",
      "Validating Epoch 41: 100%|██████████| 3352/3352 [00:05<00:00, 559.10it/s]\n"
     ]
    },
    {
     "name": "stdout",
     "output_type": "stream",
     "text": [
      "Epoch 41: train_loss 4.0990, val_loss 3.6002\n"
     ]
    },
    {
     "name": "stderr",
     "output_type": "stream",
     "text": [
      "Training Epoch 42: 100%|██████████| 16977/16977 [00:54<00:00, 310.85it/s]\n",
      "Validating Epoch 42: 100%|██████████| 3352/3352 [00:06<00:00, 557.87it/s]\n"
     ]
    },
    {
     "name": "stdout",
     "output_type": "stream",
     "text": [
      "Epoch 42: train_loss 4.0984, val_loss 3.5951\n"
     ]
    },
    {
     "name": "stderr",
     "output_type": "stream",
     "text": [
      "Training Epoch 43: 100%|██████████| 16977/16977 [00:55<00:00, 307.97it/s]\n",
      "Validating Epoch 43: 100%|██████████| 3352/3352 [00:05<00:00, 563.09it/s]\n"
     ]
    },
    {
     "name": "stdout",
     "output_type": "stream",
     "text": [
      "Epoch 43: train_loss 4.0977, val_loss 3.6007\n"
     ]
    },
    {
     "name": "stderr",
     "output_type": "stream",
     "text": [
      "Training Epoch 44: 100%|██████████| 16977/16977 [00:55<00:00, 305.03it/s]\n",
      "Validating Epoch 44: 100%|██████████| 3352/3352 [00:06<00:00, 550.06it/s]\n"
     ]
    },
    {
     "name": "stdout",
     "output_type": "stream",
     "text": [
      "Epoch 44: train_loss 4.0971, val_loss 3.5944\n"
     ]
    },
    {
     "name": "stderr",
     "output_type": "stream",
     "text": [
      "Training Epoch 45: 100%|██████████| 16977/16977 [00:55<00:00, 306.30it/s]\n",
      "Validating Epoch 45: 100%|██████████| 3352/3352 [00:05<00:00, 569.73it/s]\n"
     ]
    },
    {
     "name": "stdout",
     "output_type": "stream",
     "text": [
      "Epoch 45: train_loss 4.0963, val_loss 3.5955\n"
     ]
    },
    {
     "name": "stderr",
     "output_type": "stream",
     "text": [
      "Training Epoch 46: 100%|██████████| 16977/16977 [00:55<00:00, 305.12it/s]\n",
      "Validating Epoch 46: 100%|██████████| 3352/3352 [00:05<00:00, 564.36it/s]\n"
     ]
    },
    {
     "name": "stdout",
     "output_type": "stream",
     "text": [
      "Epoch 46: train_loss 4.0956, val_loss 3.5945\n"
     ]
    },
    {
     "name": "stderr",
     "output_type": "stream",
     "text": [
      "Training Epoch 47: 100%|██████████| 16977/16977 [00:55<00:00, 303.58it/s]\n",
      "Validating Epoch 47: 100%|██████████| 3352/3352 [00:05<00:00, 564.05it/s]\n"
     ]
    },
    {
     "name": "stdout",
     "output_type": "stream",
     "text": [
      "Epoch 47: train_loss 4.0949, val_loss 3.5931\n"
     ]
    },
    {
     "name": "stderr",
     "output_type": "stream",
     "text": [
      "Training Epoch 48: 100%|██████████| 16977/16977 [00:55<00:00, 304.67it/s]\n",
      "Validating Epoch 48: 100%|██████████| 3352/3352 [00:05<00:00, 567.76it/s]\n"
     ]
    },
    {
     "name": "stdout",
     "output_type": "stream",
     "text": [
      "Epoch 48: train_loss 4.0942, val_loss 3.5913\n"
     ]
    },
    {
     "name": "stderr",
     "output_type": "stream",
     "text": [
      "Training Epoch 49: 100%|██████████| 16977/16977 [00:56<00:00, 302.14it/s]\n",
      "Validating Epoch 49: 100%|██████████| 3352/3352 [00:05<00:00, 569.65it/s]\n"
     ]
    },
    {
     "name": "stdout",
     "output_type": "stream",
     "text": [
      "Epoch 49: train_loss 4.0935, val_loss 3.5950\n"
     ]
    },
    {
     "name": "stderr",
     "output_type": "stream",
     "text": [
      "Training Epoch 50: 100%|██████████| 16977/16977 [00:56<00:00, 298.81it/s]\n",
      "Validating Epoch 50: 100%|██████████| 3352/3352 [00:05<00:00, 559.89it/s]\n"
     ]
    },
    {
     "name": "stdout",
     "output_type": "stream",
     "text": [
      "Epoch 50: train_loss 4.0926, val_loss 3.5931\n"
     ]
    },
    {
     "name": "stderr",
     "output_type": "stream",
     "text": [
      "Training Epoch 51: 100%|██████████| 16977/16977 [00:56<00:00, 301.57it/s]\n",
      "Validating Epoch 51: 100%|██████████| 3352/3352 [00:06<00:00, 539.65it/s]\n"
     ]
    },
    {
     "name": "stdout",
     "output_type": "stream",
     "text": [
      "Epoch 51: train_loss 4.0919, val_loss 3.5919\n"
     ]
    },
    {
     "name": "stderr",
     "output_type": "stream",
     "text": [
      "Training Epoch 52: 100%|██████████| 16977/16977 [00:57<00:00, 296.56it/s]\n",
      "Validating Epoch 52: 100%|██████████| 3352/3352 [00:05<00:00, 575.42it/s]\n"
     ]
    },
    {
     "name": "stdout",
     "output_type": "stream",
     "text": [
      "Epoch 52: train_loss 4.0910, val_loss 3.5955\n"
     ]
    },
    {
     "name": "stderr",
     "output_type": "stream",
     "text": [
      "Training Epoch 53: 100%|██████████| 16977/16977 [00:57<00:00, 295.40it/s]\n",
      "Validating Epoch 53: 100%|██████████| 3352/3352 [00:05<00:00, 566.41it/s]\n"
     ]
    },
    {
     "name": "stdout",
     "output_type": "stream",
     "text": [
      "Epoch 53: train_loss 4.0901, val_loss 3.5889\n"
     ]
    },
    {
     "name": "stderr",
     "output_type": "stream",
     "text": [
      "Training Epoch 54: 100%|██████████| 16977/16977 [00:56<00:00, 302.75it/s]\n",
      "Validating Epoch 54: 100%|██████████| 3352/3352 [00:05<00:00, 562.91it/s]\n"
     ]
    },
    {
     "name": "stdout",
     "output_type": "stream",
     "text": [
      "Epoch 54: train_loss 4.0893, val_loss 3.5882\n"
     ]
    },
    {
     "name": "stderr",
     "output_type": "stream",
     "text": [
      "Training Epoch 55: 100%|██████████| 16977/16977 [00:55<00:00, 308.52it/s]\n",
      "Validating Epoch 55: 100%|██████████| 3352/3352 [00:05<00:00, 561.81it/s]\n"
     ]
    },
    {
     "name": "stdout",
     "output_type": "stream",
     "text": [
      "Epoch 55: train_loss 4.0882, val_loss 3.5869\n"
     ]
    },
    {
     "name": "stderr",
     "output_type": "stream",
     "text": [
      "Training Epoch 56: 100%|██████████| 16977/16977 [00:56<00:00, 303.13it/s]\n",
      "Validating Epoch 56: 100%|██████████| 3352/3352 [00:05<00:00, 562.28it/s]\n"
     ]
    },
    {
     "name": "stdout",
     "output_type": "stream",
     "text": [
      "Epoch 56: train_loss 4.0874, val_loss 3.5865\n"
     ]
    },
    {
     "name": "stderr",
     "output_type": "stream",
     "text": [
      "Training Epoch 57: 100%|██████████| 16977/16977 [00:55<00:00, 305.00it/s]\n",
      "Validating Epoch 57: 100%|██████████| 3352/3352 [00:05<00:00, 559.66it/s]\n"
     ]
    },
    {
     "name": "stdout",
     "output_type": "stream",
     "text": [
      "Epoch 57: train_loss 4.0864, val_loss 3.5837\n"
     ]
    },
    {
     "name": "stderr",
     "output_type": "stream",
     "text": [
      "Training Epoch 58: 100%|██████████| 16977/16977 [00:55<00:00, 303.59it/s]\n",
      "Validating Epoch 58: 100%|██████████| 3352/3352 [00:06<00:00, 552.34it/s]\n"
     ]
    },
    {
     "name": "stdout",
     "output_type": "stream",
     "text": [
      "Epoch 58: train_loss 4.0853, val_loss 3.5834\n"
     ]
    },
    {
     "name": "stderr",
     "output_type": "stream",
     "text": [
      "Training Epoch 59: 100%|██████████| 16977/16977 [00:56<00:00, 302.59it/s]\n",
      "Validating Epoch 59: 100%|██████████| 3352/3352 [00:05<00:00, 559.75it/s]\n"
     ]
    },
    {
     "name": "stdout",
     "output_type": "stream",
     "text": [
      "Epoch 59: train_loss 4.0844, val_loss 3.5819\n"
     ]
    },
    {
     "name": "stderr",
     "output_type": "stream",
     "text": [
      "Training Epoch 60: 100%|██████████| 16977/16977 [00:55<00:00, 307.94it/s]\n",
      "Validating Epoch 60: 100%|██████████| 3352/3352 [00:06<00:00, 534.47it/s]\n"
     ]
    },
    {
     "name": "stdout",
     "output_type": "stream",
     "text": [
      "Epoch 60: train_loss 4.0833, val_loss 3.5846\n"
     ]
    },
    {
     "name": "stderr",
     "output_type": "stream",
     "text": [
      "Training Epoch 61: 100%|██████████| 16977/16977 [00:55<00:00, 304.44it/s]\n",
      "Validating Epoch 61: 100%|██████████| 3352/3352 [00:06<00:00, 539.14it/s]\n"
     ]
    },
    {
     "name": "stdout",
     "output_type": "stream",
     "text": [
      "Epoch 61: train_loss 4.0823, val_loss 3.5832\n"
     ]
    },
    {
     "name": "stderr",
     "output_type": "stream",
     "text": [
      "Training Epoch 62: 100%|██████████| 16977/16977 [00:57<00:00, 294.70it/s]\n",
      "Validating Epoch 62: 100%|██████████| 3352/3352 [00:06<00:00, 542.91it/s]\n"
     ]
    },
    {
     "name": "stdout",
     "output_type": "stream",
     "text": [
      "Epoch 62: train_loss 4.0812, val_loss 3.5898\n"
     ]
    },
    {
     "name": "stderr",
     "output_type": "stream",
     "text": [
      "Training Epoch 63: 100%|██████████| 16977/16977 [00:57<00:00, 295.40it/s]\n",
      "Validating Epoch 63: 100%|██████████| 3352/3352 [00:06<00:00, 545.65it/s]\n"
     ]
    },
    {
     "name": "stdout",
     "output_type": "stream",
     "text": [
      "Epoch 63: train_loss 4.0801, val_loss 3.5802\n"
     ]
    },
    {
     "name": "stderr",
     "output_type": "stream",
     "text": [
      "Training Epoch 64: 100%|██████████| 16977/16977 [00:56<00:00, 301.67it/s]\n",
      "Validating Epoch 64: 100%|██████████| 3352/3352 [00:06<00:00, 552.74it/s]\n"
     ]
    },
    {
     "name": "stdout",
     "output_type": "stream",
     "text": [
      "Epoch 64: train_loss 4.0790, val_loss 3.5757\n"
     ]
    },
    {
     "name": "stderr",
     "output_type": "stream",
     "text": [
      "Training Epoch 65: 100%|██████████| 16977/16977 [00:57<00:00, 294.60it/s]\n",
      "Validating Epoch 65: 100%|██████████| 3352/3352 [00:06<00:00, 553.03it/s]\n"
     ]
    },
    {
     "name": "stdout",
     "output_type": "stream",
     "text": [
      "Epoch 65: train_loss 4.0776, val_loss 3.5745\n"
     ]
    },
    {
     "name": "stderr",
     "output_type": "stream",
     "text": [
      "Training Epoch 66: 100%|██████████| 16977/16977 [00:57<00:00, 293.37it/s]\n",
      "Validating Epoch 66: 100%|██████████| 3352/3352 [00:06<00:00, 558.51it/s]\n"
     ]
    },
    {
     "name": "stdout",
     "output_type": "stream",
     "text": [
      "Epoch 66: train_loss 4.0766, val_loss 3.5801\n"
     ]
    },
    {
     "name": "stderr",
     "output_type": "stream",
     "text": [
      "Training Epoch 67: 100%|██████████| 16977/16977 [00:55<00:00, 303.42it/s]\n",
      "Validating Epoch 67: 100%|██████████| 3352/3352 [00:06<00:00, 536.31it/s]\n"
     ]
    },
    {
     "name": "stdout",
     "output_type": "stream",
     "text": [
      "Epoch 67: train_loss 4.0754, val_loss 3.5803\n"
     ]
    },
    {
     "name": "stderr",
     "output_type": "stream",
     "text": [
      "Training Epoch 68: 100%|██████████| 16977/16977 [00:55<00:00, 307.70it/s]\n",
      "Validating Epoch 68: 100%|██████████| 3352/3352 [00:06<00:00, 517.74it/s]\n"
     ]
    },
    {
     "name": "stdout",
     "output_type": "stream",
     "text": [
      "Epoch 68: train_loss 4.0742, val_loss 3.5755\n"
     ]
    },
    {
     "name": "stderr",
     "output_type": "stream",
     "text": [
      "Training Epoch 69: 100%|██████████| 16977/16977 [00:54<00:00, 309.56it/s]\n",
      "Validating Epoch 69: 100%|██████████| 3352/3352 [00:06<00:00, 529.11it/s]\n"
     ]
    },
    {
     "name": "stdout",
     "output_type": "stream",
     "text": [
      "Epoch 69: train_loss 4.0731, val_loss 3.5748\n"
     ]
    },
    {
     "name": "stderr",
     "output_type": "stream",
     "text": [
      "Training Epoch 70: 100%|██████████| 16977/16977 [00:55<00:00, 306.00it/s]\n",
      "Validating Epoch 70: 100%|██████████| 3352/3352 [00:06<00:00, 552.29it/s]\n"
     ]
    },
    {
     "name": "stdout",
     "output_type": "stream",
     "text": [
      "Epoch 70: train_loss 4.0718, val_loss 3.5757\n"
     ]
    },
    {
     "name": "stderr",
     "output_type": "stream",
     "text": [
      "Training Epoch 71: 100%|██████████| 16977/16977 [00:55<00:00, 305.52it/s]\n",
      "Validating Epoch 71: 100%|██████████| 3352/3352 [00:06<00:00, 555.77it/s]\n"
     ]
    },
    {
     "name": "stdout",
     "output_type": "stream",
     "text": [
      "Epoch 71: train_loss 4.0707, val_loss 3.5798\n"
     ]
    },
    {
     "name": "stderr",
     "output_type": "stream",
     "text": [
      "Training Epoch 72: 100%|██████████| 16977/16977 [00:55<00:00, 308.60it/s]\n",
      "Validating Epoch 72: 100%|██████████| 3352/3352 [00:05<00:00, 567.05it/s]\n"
     ]
    },
    {
     "name": "stdout",
     "output_type": "stream",
     "text": [
      "Epoch 72: train_loss 4.0696, val_loss 3.5688\n"
     ]
    },
    {
     "name": "stderr",
     "output_type": "stream",
     "text": [
      "Training Epoch 73: 100%|██████████| 16977/16977 [00:55<00:00, 303.88it/s]\n",
      "Validating Epoch 73: 100%|██████████| 3352/3352 [00:05<00:00, 564.41it/s]\n"
     ]
    },
    {
     "name": "stdout",
     "output_type": "stream",
     "text": [
      "Epoch 73: train_loss 4.0684, val_loss 3.5749\n"
     ]
    },
    {
     "name": "stderr",
     "output_type": "stream",
     "text": [
      "Training Epoch 74: 100%|██████████| 16977/16977 [00:55<00:00, 306.08it/s]\n",
      "Validating Epoch 74: 100%|██████████| 3352/3352 [00:06<00:00, 552.67it/s]\n"
     ]
    },
    {
     "name": "stdout",
     "output_type": "stream",
     "text": [
      "Epoch 74: train_loss 4.0673, val_loss 3.5714\n"
     ]
    },
    {
     "name": "stderr",
     "output_type": "stream",
     "text": [
      "Training Epoch 75: 100%|██████████| 16977/16977 [00:55<00:00, 305.26it/s]\n",
      "Validating Epoch 75: 100%|██████████| 3352/3352 [00:06<00:00, 554.71it/s]\n"
     ]
    },
    {
     "name": "stdout",
     "output_type": "stream",
     "text": [
      "Epoch 75: train_loss 4.0661, val_loss 3.5684\n"
     ]
    },
    {
     "name": "stderr",
     "output_type": "stream",
     "text": [
      "Training Epoch 76: 100%|██████████| 16977/16977 [00:55<00:00, 303.52it/s]\n",
      "Validating Epoch 76: 100%|██████████| 3352/3352 [00:06<00:00, 542.65it/s]\n"
     ]
    },
    {
     "name": "stdout",
     "output_type": "stream",
     "text": [
      "Epoch 76: train_loss 4.0650, val_loss 3.5738\n"
     ]
    },
    {
     "name": "stderr",
     "output_type": "stream",
     "text": [
      "Training Epoch 77: 100%|██████████| 16977/16977 [00:55<00:00, 307.68it/s]\n",
      "Validating Epoch 77: 100%|██████████| 3352/3352 [00:06<00:00, 544.94it/s]\n"
     ]
    },
    {
     "name": "stdout",
     "output_type": "stream",
     "text": [
      "Epoch 77: train_loss 4.0641, val_loss 3.5657\n"
     ]
    },
    {
     "name": "stderr",
     "output_type": "stream",
     "text": [
      "Training Epoch 78: 100%|██████████| 16977/16977 [00:56<00:00, 301.92it/s]\n",
      "Validating Epoch 78: 100%|██████████| 3352/3352 [00:06<00:00, 529.94it/s]\n"
     ]
    },
    {
     "name": "stdout",
     "output_type": "stream",
     "text": [
      "Epoch 78: train_loss 4.0631, val_loss 3.5678\n"
     ]
    },
    {
     "name": "stderr",
     "output_type": "stream",
     "text": [
      "Training Epoch 79: 100%|██████████| 16977/16977 [00:55<00:00, 306.74it/s]\n",
      "Validating Epoch 79: 100%|██████████| 3352/3352 [00:06<00:00, 545.29it/s]\n"
     ]
    },
    {
     "name": "stdout",
     "output_type": "stream",
     "text": [
      "Epoch 79: train_loss 4.0622, val_loss 3.5702\n"
     ]
    },
    {
     "name": "stderr",
     "output_type": "stream",
     "text": [
      "Training Epoch 80: 100%|██████████| 16977/16977 [00:55<00:00, 306.17it/s]\n",
      "Validating Epoch 80: 100%|██████████| 3352/3352 [00:06<00:00, 546.03it/s]\n"
     ]
    },
    {
     "name": "stdout",
     "output_type": "stream",
     "text": [
      "Epoch 80: train_loss 4.0613, val_loss 3.5661\n"
     ]
    },
    {
     "name": "stderr",
     "output_type": "stream",
     "text": [
      "Training Epoch 81: 100%|██████████| 16977/16977 [00:55<00:00, 307.13it/s]\n",
      "Validating Epoch 81: 100%|██████████| 3352/3352 [00:05<00:00, 564.00it/s]\n"
     ]
    },
    {
     "name": "stdout",
     "output_type": "stream",
     "text": [
      "Epoch 81: train_loss 4.0605, val_loss 3.5670\n"
     ]
    },
    {
     "name": "stderr",
     "output_type": "stream",
     "text": [
      "Training Epoch 82: 100%|██████████| 16977/16977 [00:55<00:00, 307.36it/s]\n",
      "Validating Epoch 82: 100%|██████████| 3352/3352 [00:05<00:00, 573.22it/s]\n"
     ]
    },
    {
     "name": "stdout",
     "output_type": "stream",
     "text": [
      "Epoch 82: train_loss 4.0596, val_loss 3.5709\n"
     ]
    },
    {
     "name": "stderr",
     "output_type": "stream",
     "text": [
      "Training Epoch 83: 100%|██████████| 16977/16977 [00:55<00:00, 307.24it/s]\n",
      "Validating Epoch 83: 100%|██████████| 3352/3352 [00:05<00:00, 570.99it/s]\n"
     ]
    },
    {
     "name": "stdout",
     "output_type": "stream",
     "text": [
      "Epoch 83: train_loss 4.0587, val_loss 3.5720\n"
     ]
    },
    {
     "name": "stderr",
     "output_type": "stream",
     "text": [
      "Training Epoch 84: 100%|██████████| 16977/16977 [00:56<00:00, 301.00it/s]\n",
      "Validating Epoch 84: 100%|██████████| 3352/3352 [00:05<00:00, 561.18it/s]\n"
     ]
    },
    {
     "name": "stdout",
     "output_type": "stream",
     "text": [
      "Epoch 84: train_loss 4.0580, val_loss 3.5653\n"
     ]
    },
    {
     "name": "stderr",
     "output_type": "stream",
     "text": [
      "Training Epoch 85: 100%|██████████| 16977/16977 [00:55<00:00, 303.95it/s]\n",
      "Validating Epoch 85: 100%|██████████| 3352/3352 [00:06<00:00, 546.24it/s]\n"
     ]
    },
    {
     "name": "stdout",
     "output_type": "stream",
     "text": [
      "Epoch 85: train_loss 4.0572, val_loss 3.5633\n"
     ]
    },
    {
     "name": "stderr",
     "output_type": "stream",
     "text": [
      "Training Epoch 86: 100%|██████████| 16977/16977 [00:57<00:00, 296.55it/s]\n",
      "Validating Epoch 86: 100%|██████████| 3352/3352 [00:06<00:00, 542.98it/s]\n"
     ]
    },
    {
     "name": "stdout",
     "output_type": "stream",
     "text": [
      "Epoch 86: train_loss 4.0563, val_loss 3.5617\n"
     ]
    },
    {
     "name": "stderr",
     "output_type": "stream",
     "text": [
      "Training Epoch 87: 100%|██████████| 16977/16977 [00:56<00:00, 302.12it/s]\n",
      "Validating Epoch 87: 100%|██████████| 3352/3352 [00:05<00:00, 562.97it/s]\n"
     ]
    },
    {
     "name": "stdout",
     "output_type": "stream",
     "text": [
      "Epoch 87: train_loss 4.0558, val_loss 3.5644\n"
     ]
    },
    {
     "name": "stderr",
     "output_type": "stream",
     "text": [
      "Training Epoch 88: 100%|██████████| 16977/16977 [00:55<00:00, 306.95it/s]\n",
      "Validating Epoch 88: 100%|██████████| 3352/3352 [00:06<00:00, 543.77it/s]\n"
     ]
    },
    {
     "name": "stdout",
     "output_type": "stream",
     "text": [
      "Epoch 88: train_loss 4.0550, val_loss 3.5615\n"
     ]
    },
    {
     "name": "stderr",
     "output_type": "stream",
     "text": [
      "Training Epoch 89: 100%|██████████| 16977/16977 [00:55<00:00, 308.17it/s]\n",
      "Validating Epoch 89: 100%|██████████| 3352/3352 [00:06<00:00, 541.46it/s]\n"
     ]
    },
    {
     "name": "stdout",
     "output_type": "stream",
     "text": [
      "Epoch 89: train_loss 4.0544, val_loss 3.5623\n"
     ]
    },
    {
     "name": "stderr",
     "output_type": "stream",
     "text": [
      "Training Epoch 90: 100%|██████████| 16977/16977 [00:56<00:00, 302.02it/s]\n",
      "Validating Epoch 90: 100%|██████████| 3352/3352 [00:06<00:00, 541.60it/s]\n"
     ]
    },
    {
     "name": "stdout",
     "output_type": "stream",
     "text": [
      "Epoch 90: train_loss 4.0536, val_loss 3.5651\n"
     ]
    },
    {
     "name": "stderr",
     "output_type": "stream",
     "text": [
      "Training Epoch 91: 100%|██████████| 16977/16977 [00:55<00:00, 304.79it/s]\n",
      "Validating Epoch 91: 100%|██████████| 3352/3352 [00:06<00:00, 543.96it/s]\n"
     ]
    },
    {
     "name": "stdout",
     "output_type": "stream",
     "text": [
      "Epoch 91: train_loss 4.0530, val_loss 3.5598\n"
     ]
    },
    {
     "name": "stderr",
     "output_type": "stream",
     "text": [
      "Training Epoch 92: 100%|██████████| 16977/16977 [00:55<00:00, 306.32it/s]\n",
      "Validating Epoch 92: 100%|██████████| 3352/3352 [00:06<00:00, 529.72it/s]\n"
     ]
    },
    {
     "name": "stdout",
     "output_type": "stream",
     "text": [
      "Epoch 92: train_loss 4.0525, val_loss 3.5641\n"
     ]
    },
    {
     "name": "stderr",
     "output_type": "stream",
     "text": [
      "Training Epoch 93: 100%|██████████| 16977/16977 [00:55<00:00, 305.66it/s]\n",
      "Validating Epoch 93: 100%|██████████| 3352/3352 [00:06<00:00, 552.32it/s]\n"
     ]
    },
    {
     "name": "stdout",
     "output_type": "stream",
     "text": [
      "Epoch 93: train_loss 4.0518, val_loss 3.5614\n"
     ]
    },
    {
     "name": "stderr",
     "output_type": "stream",
     "text": [
      "Training Epoch 94: 100%|██████████| 16977/16977 [00:55<00:00, 304.99it/s]\n",
      "Validating Epoch 94: 100%|██████████| 3352/3352 [00:05<00:00, 563.68it/s]\n"
     ]
    },
    {
     "name": "stdout",
     "output_type": "stream",
     "text": [
      "Epoch 94: train_loss 4.0514, val_loss 3.5620\n"
     ]
    },
    {
     "name": "stderr",
     "output_type": "stream",
     "text": [
      "Training Epoch 95: 100%|██████████| 16977/16977 [00:55<00:00, 303.84it/s]\n",
      "Validating Epoch 95: 100%|██████████| 3352/3352 [00:05<00:00, 569.90it/s]\n"
     ]
    },
    {
     "name": "stdout",
     "output_type": "stream",
     "text": [
      "Epoch 95: train_loss 4.0508, val_loss 3.5691\n"
     ]
    },
    {
     "name": "stderr",
     "output_type": "stream",
     "text": [
      "Training Epoch 96: 100%|██████████| 16977/16977 [00:55<00:00, 304.10it/s]\n",
      "Validating Epoch 96: 100%|██████████| 3352/3352 [00:05<00:00, 565.20it/s]\n"
     ]
    },
    {
     "name": "stdout",
     "output_type": "stream",
     "text": [
      "Epoch 96: train_loss 4.0501, val_loss 3.5565\n"
     ]
    },
    {
     "name": "stderr",
     "output_type": "stream",
     "text": [
      "Training Epoch 97: 100%|██████████| 16977/16977 [00:56<00:00, 302.04it/s]\n",
      "Validating Epoch 97: 100%|██████████| 3352/3352 [00:05<00:00, 572.09it/s]\n"
     ]
    },
    {
     "name": "stdout",
     "output_type": "stream",
     "text": [
      "Epoch 97: train_loss 4.0496, val_loss 3.5641\n"
     ]
    },
    {
     "name": "stderr",
     "output_type": "stream",
     "text": [
      "Training Epoch 98: 100%|██████████| 16977/16977 [00:55<00:00, 303.74it/s]\n",
      "Validating Epoch 98: 100%|██████████| 3352/3352 [00:06<00:00, 548.60it/s]\n"
     ]
    },
    {
     "name": "stdout",
     "output_type": "stream",
     "text": [
      "Epoch 98: train_loss 4.0491, val_loss 3.5605\n"
     ]
    },
    {
     "name": "stderr",
     "output_type": "stream",
     "text": [
      "Training Epoch 99: 100%|██████████| 16977/16977 [00:56<00:00, 300.09it/s]\n",
      "Validating Epoch 99: 100%|██████████| 3352/3352 [00:06<00:00, 538.81it/s]\n"
     ]
    },
    {
     "name": "stdout",
     "output_type": "stream",
     "text": [
      "Epoch 99: train_loss 4.0487, val_loss 3.5581\n"
     ]
    },
    {
     "name": "stderr",
     "output_type": "stream",
     "text": [
      "Training Epoch 100: 100%|██████████| 16977/16977 [00:55<00:00, 305.48it/s]\n",
      "Validating Epoch 100: 100%|██████████| 3352/3352 [00:06<00:00, 536.84it/s]\n"
     ]
    },
    {
     "name": "stdout",
     "output_type": "stream",
     "text": [
      "Epoch 100: train_loss 4.0480, val_loss 3.5748\n"
     ]
    },
    {
     "name": "stderr",
     "output_type": "stream",
     "text": [
      "Training Epoch 101: 100%|██████████| 16977/16977 [00:56<00:00, 299.10it/s]\n",
      "Validating Epoch 101: 100%|██████████| 3352/3352 [00:06<00:00, 543.27it/s]\n"
     ]
    },
    {
     "name": "stdout",
     "output_type": "stream",
     "text": [
      "Epoch 101: train_loss 4.0476, val_loss 3.5578\n"
     ]
    },
    {
     "name": "stderr",
     "output_type": "stream",
     "text": [
      "Training Epoch 102: 100%|██████████| 16977/16977 [00:57<00:00, 295.74it/s]\n",
      "Validating Epoch 102: 100%|██████████| 3352/3352 [00:06<00:00, 548.50it/s]\n"
     ]
    },
    {
     "name": "stdout",
     "output_type": "stream",
     "text": [
      "Epoch 102: train_loss 4.0473, val_loss 3.5583\n"
     ]
    },
    {
     "name": "stderr",
     "output_type": "stream",
     "text": [
      "Training Epoch 103: 100%|██████████| 16977/16977 [00:55<00:00, 304.50it/s]\n",
      "Validating Epoch 103: 100%|██████████| 3352/3352 [00:05<00:00, 558.94it/s]\n"
     ]
    },
    {
     "name": "stdout",
     "output_type": "stream",
     "text": [
      "Epoch 103: train_loss 4.0467, val_loss 3.5578\n"
     ]
    },
    {
     "name": "stderr",
     "output_type": "stream",
     "text": [
      "Training Epoch 104: 100%|██████████| 16977/16977 [00:55<00:00, 305.42it/s]\n",
      "Validating Epoch 104: 100%|██████████| 3352/3352 [00:05<00:00, 558.74it/s]\n"
     ]
    },
    {
     "name": "stdout",
     "output_type": "stream",
     "text": [
      "Epoch 104: train_loss 4.0461, val_loss 3.5568\n"
     ]
    },
    {
     "name": "stderr",
     "output_type": "stream",
     "text": [
      "Training Epoch 105: 100%|██████████| 16977/16977 [00:56<00:00, 301.03it/s]\n",
      "Validating Epoch 105: 100%|██████████| 3352/3352 [00:05<00:00, 560.35it/s]\n"
     ]
    },
    {
     "name": "stdout",
     "output_type": "stream",
     "text": [
      "Epoch 105: train_loss 4.0456, val_loss 3.5548\n"
     ]
    },
    {
     "name": "stderr",
     "output_type": "stream",
     "text": [
      "Training Epoch 106: 100%|██████████| 16977/16977 [00:55<00:00, 305.42it/s]\n",
      "Validating Epoch 106: 100%|██████████| 3352/3352 [00:06<00:00, 541.89it/s]\n"
     ]
    },
    {
     "name": "stdout",
     "output_type": "stream",
     "text": [
      "Epoch 106: train_loss 4.0454, val_loss 3.5550\n"
     ]
    },
    {
     "name": "stderr",
     "output_type": "stream",
     "text": [
      "Training Epoch 107: 100%|██████████| 16977/16977 [00:59<00:00, 287.53it/s]\n",
      "Validating Epoch 107: 100%|██████████| 3352/3352 [00:06<00:00, 552.51it/s]\n"
     ]
    },
    {
     "name": "stdout",
     "output_type": "stream",
     "text": [
      "Epoch 107: train_loss 4.0449, val_loss 3.5580\n"
     ]
    },
    {
     "name": "stderr",
     "output_type": "stream",
     "text": [
      "Training Epoch 108: 100%|██████████| 16977/16977 [00:57<00:00, 295.57it/s]\n",
      "Validating Epoch 108: 100%|██████████| 3352/3352 [00:05<00:00, 574.15it/s]\n"
     ]
    },
    {
     "name": "stdout",
     "output_type": "stream",
     "text": [
      "Epoch 108: train_loss 4.0445, val_loss 3.5599\n"
     ]
    },
    {
     "name": "stderr",
     "output_type": "stream",
     "text": [
      "Training Epoch 109: 100%|██████████| 16977/16977 [00:58<00:00, 290.68it/s]\n",
      "Validating Epoch 109: 100%|██████████| 3352/3352 [00:06<00:00, 532.98it/s]\n"
     ]
    },
    {
     "name": "stdout",
     "output_type": "stream",
     "text": [
      "Epoch 109: train_loss 4.0441, val_loss 3.5624\n"
     ]
    },
    {
     "name": "stderr",
     "output_type": "stream",
     "text": [
      "Training Epoch 110: 100%|██████████| 16977/16977 [00:59<00:00, 286.88it/s]\n",
      "Validating Epoch 110: 100%|██████████| 3352/3352 [00:06<00:00, 545.46it/s]\n"
     ]
    },
    {
     "name": "stdout",
     "output_type": "stream",
     "text": [
      "Epoch 110: train_loss 4.0435, val_loss 3.5583\n"
     ]
    },
    {
     "name": "stderr",
     "output_type": "stream",
     "text": [
      "Training Epoch 111: 100%|██████████| 16977/16977 [00:57<00:00, 293.83it/s]\n",
      "Validating Epoch 111: 100%|██████████| 3352/3352 [00:06<00:00, 539.99it/s]\n"
     ]
    },
    {
     "name": "stdout",
     "output_type": "stream",
     "text": [
      "Epoch 111: train_loss 4.0431, val_loss 3.5552\n"
     ]
    },
    {
     "name": "stderr",
     "output_type": "stream",
     "text": [
      "Training Epoch 112: 100%|██████████| 16977/16977 [00:58<00:00, 291.37it/s]\n",
      "Validating Epoch 112: 100%|██████████| 3352/3352 [00:06<00:00, 550.98it/s]\n"
     ]
    },
    {
     "name": "stdout",
     "output_type": "stream",
     "text": [
      "Epoch 112: train_loss 4.0427, val_loss 3.5626\n"
     ]
    },
    {
     "name": "stderr",
     "output_type": "stream",
     "text": [
      "Training Epoch 113: 100%|██████████| 16977/16977 [00:58<00:00, 288.38it/s]\n",
      "Validating Epoch 113: 100%|██████████| 3352/3352 [00:06<00:00, 535.70it/s]\n"
     ]
    },
    {
     "name": "stdout",
     "output_type": "stream",
     "text": [
      "Epoch 113: train_loss 4.0425, val_loss 3.5580\n"
     ]
    },
    {
     "name": "stderr",
     "output_type": "stream",
     "text": [
      "Training Epoch 114: 100%|██████████| 16977/16977 [00:58<00:00, 292.22it/s]\n",
      "Validating Epoch 114: 100%|██████████| 3352/3352 [00:06<00:00, 536.20it/s]\n"
     ]
    },
    {
     "name": "stdout",
     "output_type": "stream",
     "text": [
      "Epoch 114: train_loss 4.0420, val_loss 3.5544\n"
     ]
    },
    {
     "name": "stderr",
     "output_type": "stream",
     "text": [
      "Training Epoch 115: 100%|██████████| 16977/16977 [00:58<00:00, 291.66it/s]\n",
      "Validating Epoch 115: 100%|██████████| 3352/3352 [00:06<00:00, 544.01it/s]\n"
     ]
    },
    {
     "name": "stdout",
     "output_type": "stream",
     "text": [
      "Epoch 115: train_loss 4.0414, val_loss 3.5600\n"
     ]
    },
    {
     "name": "stderr",
     "output_type": "stream",
     "text": [
      "Training Epoch 116: 100%|██████████| 16977/16977 [00:57<00:00, 293.39it/s]\n",
      "Validating Epoch 116: 100%|██████████| 3352/3352 [00:06<00:00, 537.33it/s]\n"
     ]
    },
    {
     "name": "stdout",
     "output_type": "stream",
     "text": [
      "Epoch 116: train_loss 4.0410, val_loss 3.5548\n"
     ]
    },
    {
     "name": "stderr",
     "output_type": "stream",
     "text": [
      "Training Epoch 117: 100%|██████████| 16977/16977 [00:55<00:00, 305.61it/s]\n",
      "Validating Epoch 117: 100%|██████████| 3352/3352 [00:06<00:00, 550.59it/s]\n"
     ]
    },
    {
     "name": "stdout",
     "output_type": "stream",
     "text": [
      "Epoch 117: train_loss 4.0407, val_loss 3.5519\n"
     ]
    },
    {
     "name": "stderr",
     "output_type": "stream",
     "text": [
      "Training Epoch 118: 100%|██████████| 16977/16977 [00:55<00:00, 303.66it/s]\n",
      "Validating Epoch 118: 100%|██████████| 3352/3352 [00:05<00:00, 567.61it/s]\n"
     ]
    },
    {
     "name": "stdout",
     "output_type": "stream",
     "text": [
      "Epoch 118: train_loss 4.0401, val_loss 3.5547\n"
     ]
    },
    {
     "name": "stderr",
     "output_type": "stream",
     "text": [
      "Training Epoch 119: 100%|██████████| 16977/16977 [00:56<00:00, 301.20it/s]\n",
      "Validating Epoch 119: 100%|██████████| 3352/3352 [00:05<00:00, 570.36it/s]\n"
     ]
    },
    {
     "name": "stdout",
     "output_type": "stream",
     "text": [
      "Epoch 119: train_loss 4.0399, val_loss 3.5598\n"
     ]
    },
    {
     "name": "stderr",
     "output_type": "stream",
     "text": [
      "Training Epoch 120: 100%|██████████| 16977/16977 [00:55<00:00, 303.34it/s]\n",
      "Validating Epoch 120: 100%|██████████| 3352/3352 [00:05<00:00, 573.74it/s]\n"
     ]
    },
    {
     "name": "stdout",
     "output_type": "stream",
     "text": [
      "Epoch 120: train_loss 4.0394, val_loss 3.5594\n"
     ]
    },
    {
     "name": "stderr",
     "output_type": "stream",
     "text": [
      "Training Epoch 121: 100%|██████████| 16977/16977 [00:57<00:00, 293.66it/s]\n",
      "Validating Epoch 121: 100%|██████████| 3352/3352 [00:05<00:00, 581.15it/s]\n"
     ]
    },
    {
     "name": "stdout",
     "output_type": "stream",
     "text": [
      "Epoch 121: train_loss 4.0391, val_loss 3.5579\n"
     ]
    },
    {
     "name": "stderr",
     "output_type": "stream",
     "text": [
      "Training Epoch 122: 100%|██████████| 16977/16977 [00:56<00:00, 301.27it/s]\n",
      "Validating Epoch 122: 100%|██████████| 3352/3352 [00:05<00:00, 564.97it/s]\n"
     ]
    },
    {
     "name": "stdout",
     "output_type": "stream",
     "text": [
      "Epoch 122: train_loss 4.0386, val_loss 3.5546\n"
     ]
    },
    {
     "name": "stderr",
     "output_type": "stream",
     "text": [
      "Training Epoch 123: 100%|██████████| 16977/16977 [00:56<00:00, 299.55it/s]\n",
      "Validating Epoch 123: 100%|██████████| 3352/3352 [00:05<00:00, 570.26it/s]\n"
     ]
    },
    {
     "name": "stdout",
     "output_type": "stream",
     "text": [
      "Epoch 123: train_loss 4.0383, val_loss 3.5623\n"
     ]
    },
    {
     "name": "stderr",
     "output_type": "stream",
     "text": [
      "Training Epoch 124: 100%|██████████| 16977/16977 [00:55<00:00, 304.07it/s]\n",
      "Validating Epoch 124: 100%|██████████| 3352/3352 [00:05<00:00, 569.02it/s]\n"
     ]
    },
    {
     "name": "stdout",
     "output_type": "stream",
     "text": [
      "Epoch 124: train_loss 4.0379, val_loss 3.5498\n"
     ]
    },
    {
     "name": "stderr",
     "output_type": "stream",
     "text": [
      "Training Epoch 125: 100%|██████████| 16977/16977 [00:56<00:00, 298.89it/s]\n",
      "Validating Epoch 125: 100%|██████████| 3352/3352 [00:05<00:00, 559.24it/s]\n"
     ]
    },
    {
     "name": "stdout",
     "output_type": "stream",
     "text": [
      "Epoch 125: train_loss 4.0375, val_loss 3.5661\n"
     ]
    },
    {
     "name": "stderr",
     "output_type": "stream",
     "text": [
      "Training Epoch 126: 100%|██████████| 16977/16977 [00:56<00:00, 302.81it/s]\n",
      "Validating Epoch 126: 100%|██████████| 3352/3352 [00:05<00:00, 577.60it/s]\n"
     ]
    },
    {
     "name": "stdout",
     "output_type": "stream",
     "text": [
      "Epoch 126: train_loss 4.0373, val_loss 3.5519\n"
     ]
    },
    {
     "name": "stderr",
     "output_type": "stream",
     "text": [
      "Training Epoch 127: 100%|██████████| 16977/16977 [00:55<00:00, 305.64it/s]\n",
      "Validating Epoch 127: 100%|██████████| 3352/3352 [00:05<00:00, 569.58it/s]\n"
     ]
    },
    {
     "name": "stdout",
     "output_type": "stream",
     "text": [
      "Epoch 127: train_loss 4.0366, val_loss 3.5548\n"
     ]
    },
    {
     "name": "stderr",
     "output_type": "stream",
     "text": [
      "Training Epoch 128: 100%|██████████| 16977/16977 [00:55<00:00, 303.50it/s]\n",
      "Validating Epoch 128: 100%|██████████| 3352/3352 [00:05<00:00, 575.65it/s]\n"
     ]
    },
    {
     "name": "stdout",
     "output_type": "stream",
     "text": [
      "Epoch 128: train_loss 4.0366, val_loss 3.5521\n"
     ]
    },
    {
     "name": "stderr",
     "output_type": "stream",
     "text": [
      "Training Epoch 129: 100%|██████████| 16977/16977 [00:56<00:00, 302.59it/s]\n",
      "Validating Epoch 129: 100%|██████████| 3352/3352 [00:06<00:00, 550.64it/s]\n"
     ]
    },
    {
     "name": "stdout",
     "output_type": "stream",
     "text": [
      "Epoch 129: train_loss 4.0362, val_loss 3.5512\n"
     ]
    },
    {
     "name": "stderr",
     "output_type": "stream",
     "text": [
      "Training Epoch 130: 100%|██████████| 16977/16977 [00:55<00:00, 307.18it/s]\n",
      "Validating Epoch 130: 100%|██████████| 3352/3352 [00:06<00:00, 543.98it/s]\n"
     ]
    },
    {
     "name": "stdout",
     "output_type": "stream",
     "text": [
      "Epoch 130: train_loss 4.0357, val_loss 3.5542\n"
     ]
    },
    {
     "name": "stderr",
     "output_type": "stream",
     "text": [
      "Training Epoch 131: 100%|██████████| 16977/16977 [00:55<00:00, 308.47it/s]\n",
      "Validating Epoch 131: 100%|██████████| 3352/3352 [00:06<00:00, 544.13it/s]\n"
     ]
    },
    {
     "name": "stdout",
     "output_type": "stream",
     "text": [
      "Epoch 131: train_loss 4.0353, val_loss 3.5537\n"
     ]
    },
    {
     "name": "stderr",
     "output_type": "stream",
     "text": [
      "Training Epoch 132: 100%|██████████| 16977/16977 [00:56<00:00, 299.84it/s]\n",
      "Validating Epoch 132: 100%|██████████| 3352/3352 [00:06<00:00, 537.33it/s]\n"
     ]
    },
    {
     "name": "stdout",
     "output_type": "stream",
     "text": [
      "Epoch 132: train_loss 4.0350, val_loss 3.5462\n"
     ]
    },
    {
     "name": "stderr",
     "output_type": "stream",
     "text": [
      "Training Epoch 133: 100%|██████████| 16977/16977 [00:56<00:00, 298.34it/s]\n",
      "Validating Epoch 133: 100%|██████████| 3352/3352 [00:05<00:00, 564.17it/s]\n"
     ]
    },
    {
     "name": "stdout",
     "output_type": "stream",
     "text": [
      "Epoch 133: train_loss 4.0346, val_loss 3.5555\n"
     ]
    },
    {
     "name": "stderr",
     "output_type": "stream",
     "text": [
      "Training Epoch 134: 100%|██████████| 16977/16977 [00:55<00:00, 305.59it/s]\n",
      "Validating Epoch 134: 100%|██████████| 3352/3352 [00:05<00:00, 566.68it/s]\n"
     ]
    },
    {
     "name": "stdout",
     "output_type": "stream",
     "text": [
      "Epoch 134: train_loss 4.0343, val_loss 3.5531\n"
     ]
    },
    {
     "name": "stderr",
     "output_type": "stream",
     "text": [
      "Training Epoch 135: 100%|██████████| 16977/16977 [00:57<00:00, 294.68it/s]\n",
      "Validating Epoch 135: 100%|██████████| 3352/3352 [00:05<00:00, 559.01it/s]\n"
     ]
    },
    {
     "name": "stdout",
     "output_type": "stream",
     "text": [
      "Epoch 135: train_loss 4.0340, val_loss 3.5496\n"
     ]
    },
    {
     "name": "stderr",
     "output_type": "stream",
     "text": [
      "Training Epoch 136: 100%|██████████| 16977/16977 [00:55<00:00, 303.33it/s]\n",
      "Validating Epoch 136: 100%|██████████| 3352/3352 [00:05<00:00, 560.30it/s]\n"
     ]
    },
    {
     "name": "stdout",
     "output_type": "stream",
     "text": [
      "Epoch 136: train_loss 4.0337, val_loss 3.5470\n"
     ]
    },
    {
     "name": "stderr",
     "output_type": "stream",
     "text": [
      "Training Epoch 137: 100%|██████████| 16977/16977 [00:56<00:00, 301.88it/s]\n",
      "Validating Epoch 137: 100%|██████████| 3352/3352 [00:05<00:00, 559.96it/s]\n"
     ]
    },
    {
     "name": "stdout",
     "output_type": "stream",
     "text": [
      "Epoch 137: train_loss 4.0331, val_loss 3.5615\n"
     ]
    },
    {
     "name": "stderr",
     "output_type": "stream",
     "text": [
      "Training Epoch 138: 100%|██████████| 16977/16977 [00:56<00:00, 300.04it/s]\n",
      "Validating Epoch 138: 100%|██████████| 3352/3352 [00:06<00:00, 548.35it/s]\n"
     ]
    },
    {
     "name": "stdout",
     "output_type": "stream",
     "text": [
      "Epoch 138: train_loss 4.0328, val_loss 3.5525\n"
     ]
    },
    {
     "name": "stderr",
     "output_type": "stream",
     "text": [
      "Training Epoch 139: 100%|██████████| 16977/16977 [00:57<00:00, 297.62it/s]\n",
      "Validating Epoch 139: 100%|██████████| 3352/3352 [00:05<00:00, 572.04it/s]\n"
     ]
    },
    {
     "name": "stdout",
     "output_type": "stream",
     "text": [
      "Epoch 139: train_loss 4.0324, val_loss 3.5498\n"
     ]
    },
    {
     "name": "stderr",
     "output_type": "stream",
     "text": [
      "Training Epoch 140: 100%|██████████| 16977/16977 [00:56<00:00, 302.37it/s]\n",
      "Validating Epoch 140: 100%|██████████| 3352/3352 [00:06<00:00, 552.08it/s]\n"
     ]
    },
    {
     "name": "stdout",
     "output_type": "stream",
     "text": [
      "Epoch 140: train_loss 4.0321, val_loss 3.5447\n"
     ]
    },
    {
     "name": "stderr",
     "output_type": "stream",
     "text": [
      "Training Epoch 142: 100%|██████████| 16977/16977 [00:57<00:00, 292.94it/s]\n",
      "Validating Epoch 142: 100%|██████████| 3352/3352 [00:05<00:00, 565.34it/s]\n"
     ]
    },
    {
     "name": "stdout",
     "output_type": "stream",
     "text": [
      "Epoch 142: train_loss 4.0315, val_loss 3.5544\n"
     ]
    },
    {
     "name": "stderr",
     "output_type": "stream",
     "text": [
      "Training Epoch 143: 100%|██████████| 16977/16977 [00:56<00:00, 301.67it/s]\n",
      "Validating Epoch 143: 100%|██████████| 3352/3352 [00:05<00:00, 572.79it/s]\n"
     ]
    },
    {
     "name": "stdout",
     "output_type": "stream",
     "text": [
      "Epoch 143: train_loss 4.0312, val_loss 3.5471\n"
     ]
    },
    {
     "name": "stderr",
     "output_type": "stream",
     "text": [
      "Training Epoch 144: 100%|██████████| 16977/16977 [00:56<00:00, 301.80it/s]\n",
      "Validating Epoch 144: 100%|██████████| 3352/3352 [00:05<00:00, 573.74it/s]\n"
     ]
    },
    {
     "name": "stdout",
     "output_type": "stream",
     "text": [
      "Epoch 144: train_loss 4.0308, val_loss 3.5453\n"
     ]
    },
    {
     "name": "stderr",
     "output_type": "stream",
     "text": [
      "Training Epoch 146: 100%|██████████| 16977/16977 [00:59<00:00, 285.27it/s]\n",
      "Validating Epoch 146: 100%|██████████| 3352/3352 [00:05<00:00, 563.05it/s]\n"
     ]
    },
    {
     "name": "stdout",
     "output_type": "stream",
     "text": [
      "Epoch 146: train_loss 4.0300, val_loss 3.5489\n"
     ]
    },
    {
     "name": "stderr",
     "output_type": "stream",
     "text": [
      "Training Epoch 147: 100%|██████████| 16977/16977 [00:55<00:00, 305.93it/s]\n",
      "Validating Epoch 147: 100%|██████████| 3352/3352 [00:06<00:00, 543.84it/s]\n"
     ]
    },
    {
     "name": "stdout",
     "output_type": "stream",
     "text": [
      "Epoch 147: train_loss 4.0295, val_loss 3.5443\n"
     ]
    },
    {
     "name": "stderr",
     "output_type": "stream",
     "text": [
      "Training Epoch 148: 100%|██████████| 16977/16977 [00:55<00:00, 305.90it/s]\n",
      "Validating Epoch 148: 100%|██████████| 3352/3352 [00:06<00:00, 550.04it/s]\n"
     ]
    },
    {
     "name": "stdout",
     "output_type": "stream",
     "text": [
      "Epoch 148: train_loss 4.0291, val_loss 3.5576\n"
     ]
    },
    {
     "name": "stderr",
     "output_type": "stream",
     "text": [
      "Training Epoch 149: 100%|██████████| 16977/16977 [00:56<00:00, 301.03it/s]\n",
      "Validating Epoch 149: 100%|██████████| 3352/3352 [00:06<00:00, 533.36it/s]\n"
     ]
    },
    {
     "name": "stdout",
     "output_type": "stream",
     "text": [
      "Epoch 149: train_loss 4.0289, val_loss 3.5495\n"
     ]
    },
    {
     "name": "stderr",
     "output_type": "stream",
     "text": [
      "Training Epoch 150: 100%|██████████| 16977/16977 [00:54<00:00, 310.82it/s]\n",
      "Validating Epoch 150: 100%|██████████| 3352/3352 [00:06<00:00, 548.34it/s]\n"
     ]
    },
    {
     "name": "stdout",
     "output_type": "stream",
     "text": [
      "Epoch 150: train_loss 4.0286, val_loss 3.5428\n"
     ]
    },
    {
     "name": "stderr",
     "output_type": "stream",
     "text": [
      "Training Epoch 151: 100%|██████████| 16977/16977 [00:56<00:00, 302.80it/s]\n",
      "Validating Epoch 151: 100%|██████████| 3352/3352 [00:05<00:00, 570.49it/s]\n"
     ]
    },
    {
     "name": "stdout",
     "output_type": "stream",
     "text": [
      "Epoch 151: train_loss 4.0284, val_loss 3.5585\n"
     ]
    },
    {
     "name": "stderr",
     "output_type": "stream",
     "text": [
      "Training Epoch 152: 100%|██████████| 16977/16977 [00:55<00:00, 308.00it/s]\n",
      "Validating Epoch 152: 100%|██████████| 3352/3352 [00:05<00:00, 573.11it/s]\n"
     ]
    },
    {
     "name": "stdout",
     "output_type": "stream",
     "text": [
      "Epoch 152: train_loss 4.0280, val_loss 3.5462\n"
     ]
    },
    {
     "name": "stderr",
     "output_type": "stream",
     "text": [
      "Training Epoch 153: 100%|██████████| 16977/16977 [00:54<00:00, 311.95it/s]\n",
      "Validating Epoch 153: 100%|██████████| 3352/3352 [00:05<00:00, 577.01it/s]\n"
     ]
    },
    {
     "name": "stdout",
     "output_type": "stream",
     "text": [
      "Epoch 153: train_loss 4.0277, val_loss 3.5435\n"
     ]
    },
    {
     "name": "stderr",
     "output_type": "stream",
     "text": [
      "Training Epoch 154: 100%|██████████| 16977/16977 [00:55<00:00, 306.42it/s]\n",
      "Validating Epoch 154: 100%|██████████| 3352/3352 [00:06<00:00, 554.38it/s]\n"
     ]
    },
    {
     "name": "stdout",
     "output_type": "stream",
     "text": [
      "Epoch 154: train_loss 4.0274, val_loss 3.5461\n"
     ]
    },
    {
     "name": "stderr",
     "output_type": "stream",
     "text": [
      "Training Epoch 155: 100%|██████████| 16977/16977 [00:55<00:00, 304.69it/s]\n",
      "Validating Epoch 155: 100%|██████████| 3352/3352 [00:06<00:00, 527.60it/s]\n"
     ]
    },
    {
     "name": "stdout",
     "output_type": "stream",
     "text": [
      "Epoch 155: train_loss 4.0269, val_loss 3.5432\n"
     ]
    },
    {
     "name": "stderr",
     "output_type": "stream",
     "text": [
      "Training Epoch 156: 100%|██████████| 16977/16977 [00:56<00:00, 298.30it/s]\n",
      "Validating Epoch 156: 100%|██████████| 3352/3352 [00:06<00:00, 546.05it/s]\n"
     ]
    },
    {
     "name": "stdout",
     "output_type": "stream",
     "text": [
      "Epoch 156: train_loss 4.0267, val_loss 3.5425\n"
     ]
    },
    {
     "name": "stderr",
     "output_type": "stream",
     "text": [
      "Training Epoch 157: 100%|██████████| 16977/16977 [00:57<00:00, 293.81it/s]\n",
      "Validating Epoch 157: 100%|██████████| 3352/3352 [00:06<00:00, 555.21it/s]\n"
     ]
    },
    {
     "name": "stdout",
     "output_type": "stream",
     "text": [
      "Epoch 157: train_loss 4.0263, val_loss 3.5421\n"
     ]
    },
    {
     "name": "stderr",
     "output_type": "stream",
     "text": [
      "Training Epoch 158: 100%|██████████| 16977/16977 [00:56<00:00, 298.88it/s]\n",
      "Validating Epoch 158: 100%|██████████| 3352/3352 [00:06<00:00, 539.73it/s]\n"
     ]
    },
    {
     "name": "stdout",
     "output_type": "stream",
     "text": [
      "Epoch 158: train_loss 4.0259, val_loss 3.5495\n"
     ]
    },
    {
     "name": "stderr",
     "output_type": "stream",
     "text": [
      "Training Epoch 159: 100%|██████████| 16977/16977 [00:58<00:00, 290.65it/s]\n",
      "Validating Epoch 159: 100%|██████████| 3352/3352 [00:06<00:00, 549.42it/s]\n"
     ]
    },
    {
     "name": "stdout",
     "output_type": "stream",
     "text": [
      "Epoch 159: train_loss 4.0256, val_loss 3.5470\n"
     ]
    },
    {
     "name": "stderr",
     "output_type": "stream",
     "text": [
      "Training Epoch 160: 100%|██████████| 16977/16977 [00:55<00:00, 307.91it/s]\n",
      "Validating Epoch 160: 100%|██████████| 3352/3352 [00:06<00:00, 551.84it/s]\n"
     ]
    },
    {
     "name": "stdout",
     "output_type": "stream",
     "text": [
      "Epoch 160: train_loss 4.0252, val_loss 3.5486\n"
     ]
    },
    {
     "name": "stderr",
     "output_type": "stream",
     "text": [
      "Training Epoch 161: 100%|██████████| 16977/16977 [00:54<00:00, 309.88it/s]\n",
      "Validating Epoch 161: 100%|██████████| 3352/3352 [00:06<00:00, 538.53it/s]\n"
     ]
    },
    {
     "name": "stdout",
     "output_type": "stream",
     "text": [
      "Epoch 161: train_loss 4.0249, val_loss 3.5455\n"
     ]
    },
    {
     "name": "stderr",
     "output_type": "stream",
     "text": [
      "Training Epoch 162: 100%|██████████| 16977/16977 [00:56<00:00, 298.62it/s]\n",
      "Validating Epoch 162: 100%|██████████| 3352/3352 [00:06<00:00, 539.94it/s]\n"
     ]
    },
    {
     "name": "stdout",
     "output_type": "stream",
     "text": [
      "Epoch 162: train_loss 4.0245, val_loss 3.5443\n"
     ]
    },
    {
     "name": "stderr",
     "output_type": "stream",
     "text": [
      "Training Epoch 163: 100%|██████████| 16977/16977 [00:55<00:00, 304.36it/s]\n",
      "Validating Epoch 163: 100%|██████████| 3352/3352 [00:06<00:00, 534.20it/s]\n"
     ]
    },
    {
     "name": "stdout",
     "output_type": "stream",
     "text": [
      "Epoch 163: train_loss 4.0242, val_loss 3.5405\n"
     ]
    },
    {
     "name": "stderr",
     "output_type": "stream",
     "text": [
      "Training Epoch 164: 100%|██████████| 16977/16977 [00:54<00:00, 311.00it/s]\n",
      "Validating Epoch 164: 100%|██████████| 3352/3352 [00:06<00:00, 520.36it/s]\n"
     ]
    },
    {
     "name": "stdout",
     "output_type": "stream",
     "text": [
      "Epoch 164: train_loss 4.0238, val_loss 3.5422\n"
     ]
    },
    {
     "name": "stderr",
     "output_type": "stream",
     "text": [
      "Training Epoch 165: 100%|██████████| 16977/16977 [00:55<00:00, 304.68it/s]\n",
      "Validating Epoch 165: 100%|██████████| 3352/3352 [00:05<00:00, 559.18it/s]\n"
     ]
    },
    {
     "name": "stdout",
     "output_type": "stream",
     "text": [
      "Epoch 165: train_loss 4.0235, val_loss 3.5499\n"
     ]
    },
    {
     "name": "stderr",
     "output_type": "stream",
     "text": [
      "Training Epoch 166: 100%|██████████| 16977/16977 [00:55<00:00, 305.57it/s]\n",
      "Validating Epoch 166: 100%|██████████| 3352/3352 [00:05<00:00, 563.39it/s]\n"
     ]
    },
    {
     "name": "stdout",
     "output_type": "stream",
     "text": [
      "Epoch 166: train_loss 4.0234, val_loss 3.5378\n"
     ]
    },
    {
     "name": "stderr",
     "output_type": "stream",
     "text": [
      "Training Epoch 167: 100%|██████████| 16977/16977 [00:55<00:00, 303.31it/s]\n",
      "Validating Epoch 167: 100%|██████████| 3352/3352 [00:05<00:00, 563.43it/s]\n"
     ]
    },
    {
     "name": "stdout",
     "output_type": "stream",
     "text": [
      "Epoch 167: train_loss 4.0228, val_loss 3.5465\n"
     ]
    },
    {
     "name": "stderr",
     "output_type": "stream",
     "text": [
      "Training Epoch 168: 100%|██████████| 16977/16977 [00:55<00:00, 303.95it/s]\n",
      "Validating Epoch 168: 100%|██████████| 3352/3352 [00:06<00:00, 552.53it/s]\n"
     ]
    },
    {
     "name": "stdout",
     "output_type": "stream",
     "text": [
      "Epoch 168: train_loss 4.0225, val_loss 3.5409\n"
     ]
    },
    {
     "name": "stderr",
     "output_type": "stream",
     "text": [
      "Training Epoch 169: 100%|██████████| 16977/16977 [00:55<00:00, 307.91it/s]\n",
      "Validating Epoch 169: 100%|██████████| 3352/3352 [00:06<00:00, 538.89it/s]\n"
     ]
    },
    {
     "name": "stdout",
     "output_type": "stream",
     "text": [
      "Epoch 169: train_loss 4.0223, val_loss 3.5385\n"
     ]
    },
    {
     "name": "stderr",
     "output_type": "stream",
     "text": [
      "Training Epoch 170: 100%|██████████| 16977/16977 [00:59<00:00, 284.19it/s]\n",
      "Validating Epoch 170: 100%|██████████| 3352/3352 [00:05<00:00, 561.84it/s]\n"
     ]
    },
    {
     "name": "stdout",
     "output_type": "stream",
     "text": [
      "Epoch 170: train_loss 4.0220, val_loss 3.5408\n"
     ]
    },
    {
     "name": "stderr",
     "output_type": "stream",
     "text": [
      "Training Epoch 171: 100%|██████████| 16977/16977 [00:55<00:00, 307.46it/s]\n",
      "Validating Epoch 171: 100%|██████████| 3352/3352 [00:06<00:00, 548.78it/s]\n"
     ]
    },
    {
     "name": "stdout",
     "output_type": "stream",
     "text": [
      "Epoch 171: train_loss 4.0215, val_loss 3.5418\n"
     ]
    },
    {
     "name": "stderr",
     "output_type": "stream",
     "text": [
      "Training Epoch 172: 100%|██████████| 16977/16977 [00:56<00:00, 303.05it/s]\n",
      "Validating Epoch 172: 100%|██████████| 3352/3352 [00:05<00:00, 561.72it/s]\n"
     ]
    },
    {
     "name": "stdout",
     "output_type": "stream",
     "text": [
      "Epoch 172: train_loss 4.0212, val_loss 3.5398\n"
     ]
    },
    {
     "name": "stderr",
     "output_type": "stream",
     "text": [
      "Training Epoch 173: 100%|██████████| 16977/16977 [00:54<00:00, 309.62it/s]\n",
      "Validating Epoch 173: 100%|██████████| 3352/3352 [00:05<00:00, 563.05it/s]\n"
     ]
    },
    {
     "name": "stdout",
     "output_type": "stream",
     "text": [
      "Epoch 173: train_loss 4.0208, val_loss 3.5408\n"
     ]
    },
    {
     "name": "stderr",
     "output_type": "stream",
     "text": [
      "Training Epoch 174: 100%|██████████| 16977/16977 [00:54<00:00, 310.34it/s]\n",
      "Validating Epoch 174: 100%|██████████| 3352/3352 [00:05<00:00, 562.42it/s]\n"
     ]
    },
    {
     "name": "stdout",
     "output_type": "stream",
     "text": [
      "Epoch 174: train_loss 4.0206, val_loss 3.5423\n"
     ]
    },
    {
     "name": "stderr",
     "output_type": "stream",
     "text": [
      "Training Epoch 175: 100%|██████████| 16977/16977 [00:54<00:00, 309.89it/s]\n",
      "Validating Epoch 175: 100%|██████████| 3352/3352 [00:05<00:00, 580.62it/s]\n"
     ]
    },
    {
     "name": "stdout",
     "output_type": "stream",
     "text": [
      "Epoch 175: train_loss 4.0202, val_loss 3.5550\n"
     ]
    },
    {
     "name": "stderr",
     "output_type": "stream",
     "text": [
      "Training Epoch 176: 100%|██████████| 16977/16977 [00:54<00:00, 309.10it/s]\n",
      "Validating Epoch 176: 100%|██████████| 3352/3352 [00:05<00:00, 570.08it/s]\n"
     ]
    },
    {
     "name": "stdout",
     "output_type": "stream",
     "text": [
      "Epoch 176: train_loss 4.0201, val_loss 3.5351\n"
     ]
    },
    {
     "name": "stderr",
     "output_type": "stream",
     "text": [
      "Training Epoch 177: 100%|██████████| 16977/16977 [00:55<00:00, 305.52it/s]\n",
      "Validating Epoch 177: 100%|██████████| 3352/3352 [00:05<00:00, 562.71it/s]\n"
     ]
    },
    {
     "name": "stdout",
     "output_type": "stream",
     "text": [
      "Epoch 177: train_loss 4.0196, val_loss 3.5419\n"
     ]
    },
    {
     "name": "stderr",
     "output_type": "stream",
     "text": [
      "Training Epoch 178: 100%|██████████| 16977/16977 [00:56<00:00, 302.22it/s]\n",
      "Validating Epoch 178: 100%|██████████| 3352/3352 [00:06<00:00, 554.88it/s]\n"
     ]
    },
    {
     "name": "stdout",
     "output_type": "stream",
     "text": [
      "Epoch 178: train_loss 4.0193, val_loss 3.5422\n"
     ]
    },
    {
     "name": "stderr",
     "output_type": "stream",
     "text": [
      "Training Epoch 179: 100%|██████████| 16977/16977 [00:54<00:00, 308.74it/s]\n",
      "Validating Epoch 179: 100%|██████████| 3352/3352 [00:05<00:00, 562.42it/s]\n"
     ]
    },
    {
     "name": "stdout",
     "output_type": "stream",
     "text": [
      "Epoch 179: train_loss 4.0189, val_loss 3.5405\n"
     ]
    },
    {
     "name": "stderr",
     "output_type": "stream",
     "text": [
      "Training Epoch 180: 100%|██████████| 16977/16977 [00:56<00:00, 302.76it/s]\n",
      "Validating Epoch 180: 100%|██████████| 3352/3352 [00:06<00:00, 549.85it/s]\n"
     ]
    },
    {
     "name": "stdout",
     "output_type": "stream",
     "text": [
      "Epoch 180: train_loss 4.0189, val_loss 3.5388\n"
     ]
    },
    {
     "name": "stderr",
     "output_type": "stream",
     "text": [
      "Training Epoch 181: 100%|██████████| 16977/16977 [00:54<00:00, 310.09it/s]\n",
      "Validating Epoch 181: 100%|██████████| 3352/3352 [00:06<00:00, 525.65it/s]\n"
     ]
    },
    {
     "name": "stdout",
     "output_type": "stream",
     "text": [
      "Epoch 181: train_loss 4.0184, val_loss 3.5368\n"
     ]
    },
    {
     "name": "stderr",
     "output_type": "stream",
     "text": [
      "Training Epoch 182: 100%|██████████| 16977/16977 [00:54<00:00, 311.93it/s]\n",
      "Validating Epoch 182: 100%|██████████| 3352/3352 [00:06<00:00, 554.28it/s]\n"
     ]
    },
    {
     "name": "stdout",
     "output_type": "stream",
     "text": [
      "Epoch 182: train_loss 4.0181, val_loss 3.5368\n"
     ]
    },
    {
     "name": "stderr",
     "output_type": "stream",
     "text": [
      "Training Epoch 183: 100%|██████████| 16977/16977 [00:54<00:00, 311.30it/s]\n",
      "Validating Epoch 183: 100%|██████████| 3352/3352 [00:06<00:00, 537.11it/s]\n"
     ]
    },
    {
     "name": "stdout",
     "output_type": "stream",
     "text": [
      "Epoch 183: train_loss 4.0177, val_loss 3.5343\n"
     ]
    },
    {
     "name": "stderr",
     "output_type": "stream",
     "text": [
      "Training Epoch 184: 100%|██████████| 16977/16977 [00:56<00:00, 299.78it/s]\n",
      "Validating Epoch 184: 100%|██████████| 3352/3352 [00:06<00:00, 553.47it/s]\n"
     ]
    },
    {
     "name": "stdout",
     "output_type": "stream",
     "text": [
      "Epoch 184: train_loss 4.0174, val_loss 3.5374\n"
     ]
    },
    {
     "name": "stderr",
     "output_type": "stream",
     "text": [
      "Training Epoch 185: 100%|██████████| 16977/16977 [00:54<00:00, 310.67it/s]\n",
      "Validating Epoch 185: 100%|██████████| 3352/3352 [00:06<00:00, 548.09it/s]\n"
     ]
    },
    {
     "name": "stdout",
     "output_type": "stream",
     "text": [
      "Epoch 185: train_loss 4.0173, val_loss 3.5347\n"
     ]
    },
    {
     "name": "stderr",
     "output_type": "stream",
     "text": [
      "Training Epoch 186: 100%|██████████| 16977/16977 [00:54<00:00, 314.33it/s]\n",
      "Validating Epoch 186: 100%|██████████| 3352/3352 [00:06<00:00, 547.02it/s]\n"
     ]
    },
    {
     "name": "stdout",
     "output_type": "stream",
     "text": [
      "Epoch 186: train_loss 4.0169, val_loss 3.5335\n"
     ]
    },
    {
     "name": "stderr",
     "output_type": "stream",
     "text": [
      "Training Epoch 187: 100%|██████████| 16977/16977 [00:54<00:00, 312.43it/s]\n",
      "Validating Epoch 187: 100%|██████████| 3352/3352 [00:06<00:00, 549.90it/s]\n"
     ]
    },
    {
     "name": "stdout",
     "output_type": "stream",
     "text": [
      "Epoch 187: train_loss 4.0164, val_loss 3.5360\n"
     ]
    },
    {
     "name": "stderr",
     "output_type": "stream",
     "text": [
      "Training Epoch 188: 100%|██████████| 16977/16977 [00:54<00:00, 313.54it/s]\n",
      "Validating Epoch 188: 100%|██████████| 3352/3352 [00:06<00:00, 529.41it/s]\n"
     ]
    },
    {
     "name": "stdout",
     "output_type": "stream",
     "text": [
      "Epoch 188: train_loss 4.0161, val_loss 3.5781\n"
     ]
    },
    {
     "name": "stderr",
     "output_type": "stream",
     "text": [
      "Training Epoch 189: 100%|██████████| 16977/16977 [00:55<00:00, 305.69it/s]\n",
      "Validating Epoch 189: 100%|██████████| 3352/3352 [00:06<00:00, 555.62it/s]\n"
     ]
    },
    {
     "name": "stdout",
     "output_type": "stream",
     "text": [
      "Epoch 189: train_loss 4.0159, val_loss 3.5416\n"
     ]
    },
    {
     "name": "stderr",
     "output_type": "stream",
     "text": [
      "Training Epoch 190: 100%|██████████| 16977/16977 [00:55<00:00, 305.82it/s]\n",
      "Validating Epoch 190: 100%|██████████| 3352/3352 [00:05<00:00, 575.37it/s]\n"
     ]
    },
    {
     "name": "stdout",
     "output_type": "stream",
     "text": [
      "Epoch 190: train_loss 4.0156, val_loss 3.5357\n"
     ]
    },
    {
     "name": "stderr",
     "output_type": "stream",
     "text": [
      "Training Epoch 191: 100%|██████████| 16977/16977 [00:55<00:00, 308.01it/s]\n",
      "Validating Epoch 191: 100%|██████████| 3352/3352 [00:05<00:00, 569.02it/s]\n"
     ]
    },
    {
     "name": "stdout",
     "output_type": "stream",
     "text": [
      "Epoch 191: train_loss 4.0151, val_loss 3.5365\n"
     ]
    },
    {
     "name": "stderr",
     "output_type": "stream",
     "text": [
      "Training Epoch 192: 100%|██████████| 16977/16977 [00:55<00:00, 307.34it/s]\n",
      "Validating Epoch 192: 100%|██████████| 3352/3352 [00:05<00:00, 568.67it/s]\n"
     ]
    },
    {
     "name": "stdout",
     "output_type": "stream",
     "text": [
      "Epoch 192: train_loss 4.0151, val_loss 3.5339\n"
     ]
    },
    {
     "name": "stderr",
     "output_type": "stream",
     "text": [
      "Training Epoch 193: 100%|██████████| 16977/16977 [00:55<00:00, 304.23it/s]\n",
      "Validating Epoch 193: 100%|██████████| 3352/3352 [00:06<00:00, 557.25it/s]\n"
     ]
    },
    {
     "name": "stdout",
     "output_type": "stream",
     "text": [
      "Epoch 193: train_loss 4.0148, val_loss 3.5393\n"
     ]
    },
    {
     "name": "stderr",
     "output_type": "stream",
     "text": [
      "Training Epoch 194: 100%|██████████| 16977/16977 [00:55<00:00, 304.33it/s]\n",
      "Validating Epoch 194: 100%|██████████| 3352/3352 [00:05<00:00, 570.80it/s]\n"
     ]
    },
    {
     "name": "stdout",
     "output_type": "stream",
     "text": [
      "Epoch 194: train_loss 4.0144, val_loss 3.5359\n"
     ]
    },
    {
     "name": "stderr",
     "output_type": "stream",
     "text": [
      "Training Epoch 195: 100%|██████████| 16977/16977 [00:53<00:00, 315.02it/s]\n",
      "Validating Epoch 195: 100%|██████████| 3352/3352 [00:06<00:00, 558.48it/s]\n"
     ]
    },
    {
     "name": "stdout",
     "output_type": "stream",
     "text": [
      "Epoch 195: train_loss 4.0141, val_loss 3.5375\n"
     ]
    },
    {
     "name": "stderr",
     "output_type": "stream",
     "text": [
      "Training Epoch 196: 100%|██████████| 16977/16977 [00:55<00:00, 304.46it/s]\n",
      "Validating Epoch 196: 100%|██████████| 3352/3352 [00:06<00:00, 544.08it/s]\n"
     ]
    },
    {
     "name": "stdout",
     "output_type": "stream",
     "text": [
      "Epoch 196: train_loss 4.0138, val_loss 3.5323\n"
     ]
    },
    {
     "name": "stderr",
     "output_type": "stream",
     "text": [
      "Training Epoch 197: 100%|██████████| 16977/16977 [00:55<00:00, 306.60it/s]\n",
      "Validating Epoch 197: 100%|██████████| 3352/3352 [00:05<00:00, 566.78it/s]\n"
     ]
    },
    {
     "name": "stdout",
     "output_type": "stream",
     "text": [
      "Epoch 197: train_loss 4.0133, val_loss 3.5351\n"
     ]
    },
    {
     "name": "stderr",
     "output_type": "stream",
     "text": [
      "Training Epoch 198: 100%|██████████| 16977/16977 [00:55<00:00, 308.20it/s]\n",
      "Validating Epoch 198: 100%|██████████| 3352/3352 [00:06<00:00, 556.85it/s]\n"
     ]
    },
    {
     "name": "stdout",
     "output_type": "stream",
     "text": [
      "Epoch 198: train_loss 4.0132, val_loss 3.5364\n"
     ]
    },
    {
     "name": "stderr",
     "output_type": "stream",
     "text": [
      "Training Epoch 199: 100%|██████████| 16977/16977 [00:55<00:00, 306.20it/s]\n",
      "Validating Epoch 199: 100%|██████████| 3352/3352 [00:05<00:00, 571.45it/s]\n"
     ]
    },
    {
     "name": "stdout",
     "output_type": "stream",
     "text": [
      "Epoch 199: train_loss 4.0128, val_loss 3.5431\n"
     ]
    },
    {
     "name": "stderr",
     "output_type": "stream",
     "text": [
      "Training Epoch 200: 100%|██████████| 16977/16977 [00:56<00:00, 301.17it/s]\n",
      "Validating Epoch 200: 100%|██████████| 3352/3352 [00:05<00:00, 569.58it/s]\n"
     ]
    },
    {
     "name": "stdout",
     "output_type": "stream",
     "text": [
      "Epoch 200: train_loss 4.0125, val_loss 3.5318\n"
     ]
    },
    {
     "name": "stderr",
     "output_type": "stream",
     "text": [
      "Training Epoch 201: 100%|██████████| 16977/16977 [00:55<00:00, 303.76it/s]\n",
      "Validating Epoch 201: 100%|██████████| 3352/3352 [00:05<00:00, 578.84it/s]\n"
     ]
    },
    {
     "name": "stdout",
     "output_type": "stream",
     "text": [
      "Epoch 201: train_loss 4.0124, val_loss 3.5352\n"
     ]
    },
    {
     "name": "stderr",
     "output_type": "stream",
     "text": [
      "Training Epoch 202: 100%|██████████| 16977/16977 [00:55<00:00, 306.90it/s]\n",
      "Validating Epoch 202: 100%|██████████| 3352/3352 [00:06<00:00, 557.84it/s]\n"
     ]
    },
    {
     "name": "stdout",
     "output_type": "stream",
     "text": [
      "Epoch 202: train_loss 4.0120, val_loss 3.5346\n"
     ]
    },
    {
     "name": "stderr",
     "output_type": "stream",
     "text": [
      "Training Epoch 203: 100%|██████████| 16977/16977 [00:56<00:00, 301.23it/s]\n",
      "Validating Epoch 203: 100%|██████████| 3352/3352 [00:05<00:00, 567.48it/s]\n"
     ]
    },
    {
     "name": "stdout",
     "output_type": "stream",
     "text": [
      "Epoch 203: train_loss 4.0117, val_loss 3.5424\n"
     ]
    },
    {
     "name": "stderr",
     "output_type": "stream",
     "text": [
      "Training Epoch 204: 100%|██████████| 16977/16977 [00:55<00:00, 307.48it/s]\n",
      "Validating Epoch 204: 100%|██████████| 3352/3352 [00:06<00:00, 554.77it/s]\n"
     ]
    },
    {
     "name": "stdout",
     "output_type": "stream",
     "text": [
      "Epoch 204: train_loss 4.0114, val_loss 3.5332\n"
     ]
    },
    {
     "name": "stderr",
     "output_type": "stream",
     "text": [
      "Training Epoch 205: 100%|██████████| 16977/16977 [00:56<00:00, 299.59it/s]\n",
      "Validating Epoch 205: 100%|██████████| 3352/3352 [00:06<00:00, 537.55it/s]\n"
     ]
    },
    {
     "name": "stdout",
     "output_type": "stream",
     "text": [
      "Epoch 205: train_loss 4.0111, val_loss 3.5320\n"
     ]
    },
    {
     "name": "stderr",
     "output_type": "stream",
     "text": [
      "Training Epoch 206: 100%|██████████| 16977/16977 [00:55<00:00, 306.44it/s]\n",
      "Validating Epoch 206: 100%|██████████| 3352/3352 [00:05<00:00, 560.39it/s]\n"
     ]
    },
    {
     "name": "stdout",
     "output_type": "stream",
     "text": [
      "Epoch 206: train_loss 4.0108, val_loss 3.5313\n"
     ]
    },
    {
     "name": "stderr",
     "output_type": "stream",
     "text": [
      "Training Epoch 207: 100%|██████████| 16977/16977 [00:55<00:00, 306.85it/s]\n",
      "Validating Epoch 207: 100%|██████████| 3352/3352 [00:06<00:00, 557.35it/s]\n"
     ]
    },
    {
     "name": "stdout",
     "output_type": "stream",
     "text": [
      "Epoch 207: train_loss 4.0105, val_loss 3.5337\n"
     ]
    },
    {
     "name": "stderr",
     "output_type": "stream",
     "text": [
      "Training Epoch 208: 100%|██████████| 16977/16977 [00:55<00:00, 304.11it/s]\n",
      "Validating Epoch 208: 100%|██████████| 3352/3352 [00:06<00:00, 555.70it/s]\n"
     ]
    },
    {
     "name": "stdout",
     "output_type": "stream",
     "text": [
      "Epoch 208: train_loss 4.0103, val_loss 3.5356\n"
     ]
    },
    {
     "name": "stderr",
     "output_type": "stream",
     "text": [
      "Training Epoch 209: 100%|██████████| 16977/16977 [00:55<00:00, 306.76it/s]\n",
      "Validating Epoch 209: 100%|██████████| 3352/3352 [00:05<00:00, 558.97it/s]\n"
     ]
    },
    {
     "name": "stdout",
     "output_type": "stream",
     "text": [
      "Epoch 209: train_loss 4.0101, val_loss 3.5327\n"
     ]
    },
    {
     "name": "stderr",
     "output_type": "stream",
     "text": [
      "Training Epoch 210: 100%|██████████| 16977/16977 [00:55<00:00, 305.55it/s]\n",
      "Validating Epoch 210: 100%|██████████| 3352/3352 [00:06<00:00, 555.88it/s]\n"
     ]
    },
    {
     "name": "stdout",
     "output_type": "stream",
     "text": [
      "Epoch 210: train_loss 4.0097, val_loss 3.5330\n"
     ]
    },
    {
     "name": "stderr",
     "output_type": "stream",
     "text": [
      "Training Epoch 211: 100%|██████████| 16977/16977 [00:55<00:00, 304.76it/s]\n",
      "Validating Epoch 211: 100%|██████████| 3352/3352 [00:06<00:00, 555.00it/s]\n"
     ]
    },
    {
     "name": "stdout",
     "output_type": "stream",
     "text": [
      "Epoch 211: train_loss 4.0092, val_loss 3.5436\n"
     ]
    },
    {
     "name": "stderr",
     "output_type": "stream",
     "text": [
      "Training Epoch 212: 100%|██████████| 16977/16977 [00:54<00:00, 310.23it/s]\n",
      "Validating Epoch 212: 100%|██████████| 3352/3352 [00:06<00:00, 513.31it/s]\n"
     ]
    },
    {
     "name": "stdout",
     "output_type": "stream",
     "text": [
      "Epoch 212: train_loss 4.0092, val_loss 3.5318\n"
     ]
    },
    {
     "name": "stderr",
     "output_type": "stream",
     "text": [
      "Training Epoch 213: 100%|██████████| 16977/16977 [00:55<00:00, 305.56it/s]\n",
      "Validating Epoch 213: 100%|██████████| 3352/3352 [00:06<00:00, 532.73it/s]\n"
     ]
    },
    {
     "name": "stdout",
     "output_type": "stream",
     "text": [
      "Epoch 213: train_loss 4.0087, val_loss 3.5308\n"
     ]
    },
    {
     "name": "stderr",
     "output_type": "stream",
     "text": [
      "Training Epoch 214: 100%|██████████| 16977/16977 [00:55<00:00, 307.83it/s]\n",
      "Validating Epoch 214: 100%|██████████| 3352/3352 [00:06<00:00, 541.11it/s]\n"
     ]
    },
    {
     "name": "stdout",
     "output_type": "stream",
     "text": [
      "Epoch 214: train_loss 4.0086, val_loss 3.5323\n"
     ]
    },
    {
     "name": "stderr",
     "output_type": "stream",
     "text": [
      "Training Epoch 215: 100%|██████████| 16977/16977 [00:55<00:00, 306.32it/s]\n",
      "Validating Epoch 215: 100%|██████████| 3352/3352 [00:06<00:00, 552.80it/s]\n"
     ]
    },
    {
     "name": "stdout",
     "output_type": "stream",
     "text": [
      "Epoch 215: train_loss 4.0082, val_loss 3.5279\n"
     ]
    },
    {
     "name": "stderr",
     "output_type": "stream",
     "text": [
      "Training Epoch 216: 100%|██████████| 16977/16977 [00:56<00:00, 298.16it/s]\n",
      "Validating Epoch 216: 100%|██████████| 3352/3352 [00:06<00:00, 543.34it/s]\n"
     ]
    },
    {
     "name": "stdout",
     "output_type": "stream",
     "text": [
      "Epoch 216: train_loss 4.0082, val_loss 3.5294\n"
     ]
    },
    {
     "name": "stderr",
     "output_type": "stream",
     "text": [
      "Training Epoch 217: 100%|██████████| 16977/16977 [00:56<00:00, 298.26it/s]\n",
      "Validating Epoch 217: 100%|██████████| 3352/3352 [00:05<00:00, 559.90it/s]\n"
     ]
    },
    {
     "name": "stdout",
     "output_type": "stream",
     "text": [
      "Epoch 217: train_loss 4.0078, val_loss 3.5341\n"
     ]
    },
    {
     "name": "stderr",
     "output_type": "stream",
     "text": [
      "Training Epoch 218: 100%|██████████| 16977/16977 [00:56<00:00, 302.74it/s]\n",
      "Validating Epoch 218: 100%|██████████| 3352/3352 [00:06<00:00, 541.79it/s]\n"
     ]
    },
    {
     "name": "stdout",
     "output_type": "stream",
     "text": [
      "Epoch 218: train_loss 4.0073, val_loss 3.5328\n"
     ]
    },
    {
     "name": "stderr",
     "output_type": "stream",
     "text": [
      "Training Epoch 219: 100%|██████████| 16977/16977 [00:55<00:00, 307.55it/s]\n",
      "Validating Epoch 219: 100%|██████████| 3352/3352 [00:06<00:00, 549.44it/s]\n"
     ]
    },
    {
     "name": "stdout",
     "output_type": "stream",
     "text": [
      "Epoch 219: train_loss 4.0071, val_loss 3.5321\n"
     ]
    },
    {
     "name": "stderr",
     "output_type": "stream",
     "text": [
      "Training Epoch 220: 100%|██████████| 16977/16977 [00:54<00:00, 310.53it/s]\n",
      "Validating Epoch 220: 100%|██████████| 3352/3352 [00:06<00:00, 558.43it/s]\n"
     ]
    },
    {
     "name": "stdout",
     "output_type": "stream",
     "text": [
      "Epoch 220: train_loss 4.0070, val_loss 3.5341\n"
     ]
    },
    {
     "name": "stderr",
     "output_type": "stream",
     "text": [
      "Training Epoch 221: 100%|██████████| 16977/16977 [00:56<00:00, 302.72it/s]\n",
      "Validating Epoch 221: 100%|██████████| 3352/3352 [00:05<00:00, 558.68it/s]\n"
     ]
    },
    {
     "name": "stdout",
     "output_type": "stream",
     "text": [
      "Epoch 221: train_loss 4.0066, val_loss 3.5292\n"
     ]
    },
    {
     "name": "stderr",
     "output_type": "stream",
     "text": [
      "Training Epoch 222: 100%|██████████| 16977/16977 [00:54<00:00, 310.12it/s]\n",
      "Validating Epoch 222: 100%|██████████| 3352/3352 [00:06<00:00, 542.73it/s]\n"
     ]
    },
    {
     "name": "stdout",
     "output_type": "stream",
     "text": [
      "Epoch 222: train_loss 4.0066, val_loss 3.5308\n"
     ]
    },
    {
     "name": "stderr",
     "output_type": "stream",
     "text": [
      "Training Epoch 223: 100%|██████████| 16977/16977 [01:00<00:00, 280.86it/s]\n",
      "Validating Epoch 223: 100%|██████████| 3352/3352 [00:05<00:00, 559.71it/s]\n"
     ]
    },
    {
     "name": "stdout",
     "output_type": "stream",
     "text": [
      "Epoch 223: train_loss 4.0061, val_loss 3.5255\n"
     ]
    },
    {
     "name": "stderr",
     "output_type": "stream",
     "text": [
      "Training Epoch 224: 100%|██████████| 16977/16977 [01:00<00:00, 279.59it/s]\n",
      "Validating Epoch 224: 100%|██████████| 3352/3352 [00:06<00:00, 548.42it/s]\n"
     ]
    },
    {
     "name": "stdout",
     "output_type": "stream",
     "text": [
      "Epoch 224: train_loss 4.0058, val_loss 3.5279\n"
     ]
    },
    {
     "name": "stderr",
     "output_type": "stream",
     "text": [
      "Training Epoch 225: 100%|██████████| 16977/16977 [00:54<00:00, 311.49it/s]\n",
      "Validating Epoch 225: 100%|██████████| 3352/3352 [00:06<00:00, 554.74it/s]\n"
     ]
    },
    {
     "name": "stdout",
     "output_type": "stream",
     "text": [
      "Epoch 225: train_loss 4.0055, val_loss 3.5311\n"
     ]
    },
    {
     "name": "stderr",
     "output_type": "stream",
     "text": [
      "Training Epoch 226: 100%|██████████| 16977/16977 [00:54<00:00, 310.78it/s]\n",
      "Validating Epoch 226: 100%|██████████| 3352/3352 [00:05<00:00, 571.90it/s]\n"
     ]
    },
    {
     "name": "stdout",
     "output_type": "stream",
     "text": [
      "Epoch 226: train_loss 4.0054, val_loss 3.5343\n"
     ]
    },
    {
     "name": "stderr",
     "output_type": "stream",
     "text": [
      "Training Epoch 227:  50%|█████     | 8512/16977 [00:27<00:27, 307.54it/s]\n"
     ]
    },
    {
     "ename": "KeyboardInterrupt",
     "evalue": "",
     "output_type": "error",
     "traceback": [
      "\u001b[0;31m---------------------------------------------------------------------------\u001b[0m",
      "\u001b[0;31mKeyboardInterrupt\u001b[0m                         Traceback (most recent call last)",
      "Input \u001b[0;32mIn [155]\u001b[0m, in \u001b[0;36m<cell line: 3>\u001b[0;34m()\u001b[0m\n\u001b[1;32m      1\u001b[0m train_loss_list: List[\u001b[38;5;28mfloat\u001b[39m] \u001b[38;5;241m=\u001b[39m []\n\u001b[1;32m      2\u001b[0m valid_loss_list: List[\u001b[38;5;28mfloat\u001b[39m] \u001b[38;5;241m=\u001b[39m []\n\u001b[0;32m----> 3\u001b[0m train_loss_list, valid_loss_list \u001b[38;5;241m=\u001b[39m \u001b[43mtrain\u001b[49m\u001b[43m(\u001b[49m\n\u001b[1;32m      4\u001b[0m \u001b[43m    \u001b[49m\u001b[43mmodel\u001b[49m\u001b[38;5;241;43m=\u001b[39;49m\u001b[43mmodel\u001b[49m\u001b[43m,\u001b[49m\u001b[43m \u001b[49m\n\u001b[1;32m      5\u001b[0m \u001b[43m    \u001b[49m\u001b[43mtrain_loader\u001b[49m\u001b[38;5;241;43m=\u001b[39;49m\u001b[43mtrain_loader\u001b[49m\u001b[43m,\u001b[49m\u001b[43m \u001b[49m\n\u001b[1;32m      6\u001b[0m \u001b[43m    \u001b[49m\u001b[43mvalid_loader\u001b[49m\u001b[38;5;241;43m=\u001b[39;49m\u001b[43mvalid_loader\u001b[49m\u001b[43m,\u001b[49m\u001b[43m \u001b[49m\n\u001b[1;32m      7\u001b[0m \u001b[43m    \u001b[49m\u001b[43moptimizer\u001b[49m\u001b[38;5;241;43m=\u001b[39;49m\u001b[43moptimizer\u001b[49m\u001b[43m,\u001b[49m\u001b[43m \u001b[49m\n\u001b[1;32m      8\u001b[0m \u001b[43m    \u001b[49m\u001b[43mloss_fn\u001b[49m\u001b[38;5;241;43m=\u001b[39;49m\u001b[43mloss_fn\u001b[49m\u001b[43m,\u001b[49m\u001b[43m \u001b[49m\n\u001b[1;32m      9\u001b[0m \u001b[43m    \u001b[49m\u001b[43mepoch_cnt\u001b[49m\u001b[38;5;241;43m=\u001b[39;49m\u001b[43mEPOCHS\u001b[49m\n\u001b[1;32m     10\u001b[0m \u001b[43m)\u001b[49m\n",
      "Input \u001b[0;32mIn [138]\u001b[0m, in \u001b[0;36mtrain\u001b[0;34m(model, train_loader, valid_loader, optimizer, loss_fn, epoch_cnt)\u001b[0m\n\u001b[1;32m     25\u001b[0m loss \u001b[38;5;241m=\u001b[39m loss_fn(pred_y, batch_y)\n\u001b[1;32m     26\u001b[0m train_batch_loss_list\u001b[38;5;241m.\u001b[39mappend(loss\u001b[38;5;241m.\u001b[39mcpu()\u001b[38;5;241m.\u001b[39mdetach()\u001b[38;5;241m.\u001b[39mnumpy())\n\u001b[0;32m---> 28\u001b[0m \u001b[43mloss\u001b[49m\u001b[38;5;241;43m.\u001b[39;49m\u001b[43mbackward\u001b[49m\u001b[43m(\u001b[49m\u001b[43m)\u001b[49m\n\u001b[1;32m     29\u001b[0m optimizer\u001b[38;5;241m.\u001b[39mstep()\n\u001b[1;32m     31\u001b[0m \u001b[38;5;28;01mif\u001b[39;00m \u001b[38;5;28mlen\u001b[39m(train_batch_loss_list) \u001b[38;5;241m%\u001b[39m \u001b[38;5;241m1000\u001b[39m \u001b[38;5;241m==\u001b[39m \u001b[38;5;241m999\u001b[39m:\n",
      "File \u001b[0;32m/opt/conda/lib/python3.10/site-packages/torch/_tensor.py:487\u001b[0m, in \u001b[0;36mTensor.backward\u001b[0;34m(self, gradient, retain_graph, create_graph, inputs)\u001b[0m\n\u001b[1;32m    477\u001b[0m \u001b[38;5;28;01mif\u001b[39;00m has_torch_function_unary(\u001b[38;5;28mself\u001b[39m):\n\u001b[1;32m    478\u001b[0m     \u001b[38;5;28;01mreturn\u001b[39;00m handle_torch_function(\n\u001b[1;32m    479\u001b[0m         Tensor\u001b[38;5;241m.\u001b[39mbackward,\n\u001b[1;32m    480\u001b[0m         (\u001b[38;5;28mself\u001b[39m,),\n\u001b[0;32m   (...)\u001b[0m\n\u001b[1;32m    485\u001b[0m         inputs\u001b[38;5;241m=\u001b[39minputs,\n\u001b[1;32m    486\u001b[0m     )\n\u001b[0;32m--> 487\u001b[0m \u001b[43mtorch\u001b[49m\u001b[38;5;241;43m.\u001b[39;49m\u001b[43mautograd\u001b[49m\u001b[38;5;241;43m.\u001b[39;49m\u001b[43mbackward\u001b[49m\u001b[43m(\u001b[49m\n\u001b[1;32m    488\u001b[0m \u001b[43m    \u001b[49m\u001b[38;5;28;43mself\u001b[39;49m\u001b[43m,\u001b[49m\u001b[43m \u001b[49m\u001b[43mgradient\u001b[49m\u001b[43m,\u001b[49m\u001b[43m \u001b[49m\u001b[43mretain_graph\u001b[49m\u001b[43m,\u001b[49m\u001b[43m \u001b[49m\u001b[43mcreate_graph\u001b[49m\u001b[43m,\u001b[49m\u001b[43m \u001b[49m\u001b[43minputs\u001b[49m\u001b[38;5;241;43m=\u001b[39;49m\u001b[43minputs\u001b[49m\n\u001b[1;32m    489\u001b[0m \u001b[43m\u001b[49m\u001b[43m)\u001b[49m\n",
      "File \u001b[0;32m/opt/conda/lib/python3.10/site-packages/torch/autograd/__init__.py:200\u001b[0m, in \u001b[0;36mbackward\u001b[0;34m(tensors, grad_tensors, retain_graph, create_graph, grad_variables, inputs)\u001b[0m\n\u001b[1;32m    195\u001b[0m     retain_graph \u001b[38;5;241m=\u001b[39m create_graph\n\u001b[1;32m    197\u001b[0m \u001b[38;5;66;03m# The reason we repeat same the comment below is that\u001b[39;00m\n\u001b[1;32m    198\u001b[0m \u001b[38;5;66;03m# some Python versions print out the first line of a multi-line function\u001b[39;00m\n\u001b[1;32m    199\u001b[0m \u001b[38;5;66;03m# calls in the traceback and some print out the last line\u001b[39;00m\n\u001b[0;32m--> 200\u001b[0m \u001b[43mVariable\u001b[49m\u001b[38;5;241;43m.\u001b[39;49m\u001b[43m_execution_engine\u001b[49m\u001b[38;5;241;43m.\u001b[39;49m\u001b[43mrun_backward\u001b[49m\u001b[43m(\u001b[49m\u001b[43m  \u001b[49m\u001b[38;5;66;43;03m# Calls into the C++ engine to run the backward pass\u001b[39;49;00m\n\u001b[1;32m    201\u001b[0m \u001b[43m    \u001b[49m\u001b[43mtensors\u001b[49m\u001b[43m,\u001b[49m\u001b[43m \u001b[49m\u001b[43mgrad_tensors_\u001b[49m\u001b[43m,\u001b[49m\u001b[43m \u001b[49m\u001b[43mretain_graph\u001b[49m\u001b[43m,\u001b[49m\u001b[43m \u001b[49m\u001b[43mcreate_graph\u001b[49m\u001b[43m,\u001b[49m\u001b[43m \u001b[49m\u001b[43minputs\u001b[49m\u001b[43m,\u001b[49m\n\u001b[1;32m    202\u001b[0m \u001b[43m    \u001b[49m\u001b[43mallow_unreachable\u001b[49m\u001b[38;5;241;43m=\u001b[39;49m\u001b[38;5;28;43;01mTrue\u001b[39;49;00m\u001b[43m,\u001b[49m\u001b[43m \u001b[49m\u001b[43maccumulate_grad\u001b[49m\u001b[38;5;241;43m=\u001b[39;49m\u001b[38;5;28;43;01mTrue\u001b[39;49;00m\u001b[43m)\u001b[49m\n",
      "\u001b[0;31mKeyboardInterrupt\u001b[0m: "
     ]
    }
   ],
   "source": [
    "train_loss_list: List[float] = []\n",
    "valid_loss_list: List[float] = []\n",
    "train_loss_list, valid_loss_list = train(\n",
    "    model=model, \n",
    "    train_loader=train_loader, \n",
    "    valid_loader=valid_loader, \n",
    "    optimizer=optimizer, \n",
    "    loss_fn=loss_fn, \n",
    "    epoch_cnt=EPOCHS\n",
    ")"
   ]
  },
  {
   "cell_type": "code",
   "execution_count": 104,
   "id": "cefcf831-caf9-450f-a7c3-1db22c0fb21b",
   "metadata": {},
   "outputs": [
    {
     "data": {
      "image/png": "[encoded data removed]",
      "text/plain": [
       "<Figure size 4500x500 with 1 Axes>"
      ]
     },
     "metadata": {},
     "output_type": "display_data"
    }
   ],
   "source": [
    "# loss graph\n",
    "fig = plt.figure(figsize=(45, 5))\n",
    "ax1 = fig.add_subplot(1, 2, 1)\n",
    "\n",
    "train_loss_x_axis: List[int] = np.arange(len(train_loss_list)).tolist()\n",
    "valid_loss_x_axis: List[int] = np.arange(start=len(train_loss_list)-1, stop=-1, step=(len(train_loss_list)/len(valid_loss_list))*-1, dtype=np.float32).astype(np.int32).tolist()[::-1]\n",
    "\n",
    "ax1.set_title('Loss')\n",
    "ax1.plot(train_loss_x_axis, train_loss_list, marker='.')\n",
    "ax1.plot(valid_loss_x_axis, valid_loss_list, marker='.')\n",
    "ax1.legend(['train_loss', 'valid_loss'], loc='upper left')\n",
    "ax1.set_xlabel('1000 Batch')\n",
    "plt.show()"
   ]
  },
  {
   "cell_type": "code",
   "execution_count": 52,
   "id": "4784e183-c84f-45ca-a97f-56dcb702f35f",
   "metadata": {},
   "outputs": [],
   "source": [
    "torch.save(model, f\"./models/lstm-bs{BATCH_SIZE}-lr{LEARNING_RATE}.pt\")"
   ]
  },
  {
   "cell_type": "markdown",
   "id": "10bf8890",
   "metadata": {},
   "source": [
    "## Testing"
   ]
  },
  {
   "cell_type": "code",
   "execution_count": 159,
   "id": "dae568b4",
   "metadata": {},
   "outputs": [],
   "source": [
    "class TimeSeriesDataset(Dataset):\n",
    "    def __init__(self, raw_df: pd.DataFrame, window_size: int) -> None:\n",
    "        super().__init__()\n",
    "        self.data: pd.DataFrame = raw_df.copy()\n",
    "        self.window_size: int = window_size\n",
    "        self.stock_dfs: Dict[int, pd.DataFrame]\n",
    "        self.idx_map: Dict[int, Dict[str, int]]\n",
    "        self.stock_dfs, self.idx_map = TimeSeriesDataset._SplitStockDataFrame(raw_df=self.data, window_size=self.window_size)\n",
    "    \n",
    "\n",
    "    def __getitem__(self, _index: int) -> Tuple[np.ndarray, np.ndarray, int, int, int]:\n",
    "        '''\n",
    "        return x, y, date_id, seconds_in_buckets, stock_id\n",
    "        '''\n",
    "        index: int = _index\n",
    "        stock: int = self.idx_map[index]['stock']\n",
    "        stock_idx: int = self.idx_map[index]['idx']\n",
    "\n",
    "        start_idx, end_idx = stock_idx - (self.window_size - 1), stock_idx + 1\n",
    "        return TimeSeriesDataset._GenTimeSeriesData(raw_df=self.stock_dfs[stock].iloc[start_idx:end_idx])\n",
    "\n",
    "\n",
    "    def __len__(self) -> int:\n",
    "        return len(self.idx_map)\n",
    "    \n",
    "    def FillTarget(self, stock: int, date: int, second: int, value: np.float32) -> None:\n",
    "        if stock not in self.stock_dfs:\n",
    "            return\n",
    "        self.stock_dfs[stock].loc[(self.stock_dfs[stock]['date_id'] == date) & (self.stock_dfs[stock]['seconds_in_bucket'] == second), 'pred_target'] = value\n",
    "    \n",
    "    @staticmethod\n",
    "    def _GenTimeSeriesData(raw_df: pd.DataFrame) -> Tuple[np.ndarray, np.ndarray, int, int, int]:\n",
    "        '''\n",
    "        raw_df: The rows of time t-n ~ t for predicting the target of t.\n",
    "        The generated features contains the data of time t-n ~ t-1.\n",
    "        return x, y, date_id, seconds_in_buckets, stock_id\n",
    "        '''\n",
    "        df = raw_df.copy()\n",
    "        df = df.sort_values(by=['date_id', 'seconds_in_bucket'], ascending=True)\n",
    "\n",
    "        date: int = df['date_id'].tolist()[-1]\n",
    "        second: int = df['seconds_in_bucket'].tolist()[-1]\n",
    "        stock: int = df['stock_id'].tolist()[-1]\n",
    "        y: np.float32 = df['target'].tolist()[-1]\n",
    "\n",
    "        pred_target_not_null_indices = df['pred_target'].notnull()\n",
    "        df.loc[pred_target_not_null_indices, 'target'] = df.loc[pred_target_not_null_indices, 'pred_target']\n",
    "        \n",
    "        df = df[MODEL_INPUT_FEATURES]\n",
    "        df_numpy: np.ndarray = df.to_numpy()\n",
    "        df_numpy[-1, MODEL_INPUT_FEATURES.index('target')] = 0\n",
    "        \n",
    "        # x: np.ndarray = df_numpy[:-1, :]\n",
    "        x: np.ndarray = df_numpy\n",
    "        \n",
    "        return x.astype(np.float32), np.array(y).astype(np.float32), date, second, stock\n",
    "    \n",
    "    @staticmethod\n",
    "    def _SplitStockDataFrame(raw_df: pd.DataFrame, window_size: int) -> Tuple[Dict[int, pd.DataFrame], Dict[int, Dict[str, int]]]:\n",
    "        stock_dfs: Dict[int, pd.DataFrame] = {}\n",
    "        idx_map: Dict[int, Dict[str, int]] = {}\n",
    "\n",
    "        data: pd.DataFrame = raw_df.copy()\n",
    "        data = data.sort_values(by=['date_id', 'seconds_in_bucket', 'stock_id'], ascending=True)\n",
    "        data.reset_index(drop=True, inplace=True)\n",
    "        data_idx_offset: int = 5 * 200\n",
    "\n",
    "        for stock in data['stock_id'].unique().tolist():\n",
    "            stock_df: pd.DataFrame = data.copy().loc[data['stock_id'] == stock]\n",
    "            stock_df.insert(stock_df.shape[1], 'new_idx', range(stock_df.shape[0]))\n",
    "            stock_df.insert(stock_df.shape[1], 'pred_target', np.nan)\n",
    "            for idx, row in stock_df.iterrows():\n",
    "                if row['new_idx'] < window_size:\n",
    "                    continue\n",
    "                stock_idx_map: Dict[str, int] = {'stock': stock, 'idx': row['new_idx']}\n",
    "                idx_map[int(idx) - data_idx_offset] = stock_idx_map\n",
    "            stock_df.reset_index(drop=True, inplace=True)\n",
    "            stock_df.drop('new_idx', axis=1, inplace=True)\n",
    "            stock_dfs[stock] = stock_df\n",
    "\n",
    "        return stock_dfs, idx_map"
   ]
  },
  {
   "cell_type": "code",
   "execution_count": 160,
   "id": "2aa53399",
   "metadata": {},
   "outputs": [],
   "source": [
    "test_dataset: TimeSeriesDataset = TimeSeriesDataset(raw_df=test_pp_df, window_size=5)"
   ]
  },
  {
   "cell_type": "code",
   "execution_count": 161,
   "id": "f00be8b4",
   "metadata": {},
   "outputs": [
    {
     "name": "stdout",
     "output_type": "stream",
     "text": [
      "(array([[ 0.0101214 , -1.        ,  0.998733  ,  0.14999378,  0.998383  ,\n",
      "         0.998383  ,  0.998733  ,  0.01994986,  0.998908  ,  0.17002003,\n",
      "         0.998805  , -1.6599894 ],\n",
      "       [ 0.00991883, -1.        ,  0.998733  ,  0.1501158 ,  0.998383  ,\n",
      "         0.998383  ,  0.998733  ,  0.01808234,  0.998908  ,  0.18907678,\n",
      "         0.998796  , -0.23007393],\n",
      "       [ 0.00991883, -1.        ,  0.998733  ,  0.1501158 ,  0.998383  ,\n",
      "         0.998383  ,  0.998733  ,  0.02321076,  0.998908  ,  0.33625606,\n",
      "         0.998784  ,  1.5103817 ],\n",
      "       [ 0.02961175, -1.        ,  0.998996  ,  0.13825254,  0.998383  ,\n",
      "         0.998383  ,  0.998908  ,  0.01906299,  0.999083  ,  0.10952274,\n",
      "         0.998997  , -0.23007393],\n",
      "       [ 0.02812546, -1.        ,  0.999875  ,  0.03334593,  1.        ,\n",
      "         1.        ,  0.999875  ,  0.00387654,  1.00005   ,  0.00904484,\n",
      "         1.        ,  0.        ]], dtype=float32), array(-5.429983, dtype=float32), 478, 0, 0)\n"
     ]
    }
   ],
   "source": [
    "print(test_dataset[0])"
   ]
  },
  {
   "cell_type": "code",
   "execution_count": 97,
   "id": "d99bf7e3",
   "metadata": {},
   "outputs": [
    {
     "name": "stdout",
     "output_type": "stream",
     "text": [
      "(array([[ 1.0121399e-02, -1.0000000e+00,  9.9873298e-01,  1.4999378e-01,\n",
      "         9.9838299e-01,  9.9838299e-01,  9.9873298e-01,  9.5575508e-03,\n",
      "         9.9890798e-01,  6.2428858e-02,  9.9881601e-01, -1.9598007e+00],\n",
      "       [ 1.0121399e-02, -1.0000000e+00,  9.9873298e-01,  1.4999378e-01,\n",
      "         9.9838299e-01,  9.9838299e-01,  9.9873298e-01,  1.9949861e-02,\n",
      "         9.9890798e-01,  1.7002003e-01,  9.9880499e-01, -1.6599894e+00],\n",
      "       [ 9.9188332e-03, -1.0000000e+00,  9.9873298e-01,  1.5011580e-01,\n",
      "         9.9838299e-01,  9.9838299e-01,  9.9873298e-01,  1.8082341e-02,\n",
      "         9.9890798e-01,  1.8907678e-01,  9.9879599e-01, -2.3007393e-01],\n",
      "       [ 9.9188332e-03, -1.0000000e+00,  9.9873298e-01,  1.5011580e-01,\n",
      "         9.9838299e-01,  9.9838299e-01,  9.9873298e-01,  2.3210764e-02,\n",
      "         9.9890798e-01,  3.3625606e-01,  9.9878401e-01,  1.5103817e+00],\n",
      "       [ 2.9611750e-02, -1.0000000e+00,  9.9899602e-01,  1.3825254e-01,\n",
      "         9.9838299e-01,  9.9838299e-01,  9.9890798e-01,  1.9062987e-02,\n",
      "         9.9908298e-01,  1.0952274e-01,  9.9899697e-01,  1.2000000e+01]],\n",
      "      dtype=float32), array(-5.429983, dtype=float32), 478, 0, 0)\n"
     ]
    }
   ],
   "source": [
    "# test_dataset.FillTarget(stock=0, date=477, second=540, value=np.float32(12))\n",
    "# print(test_dataset[0])"
   ]
  },
  {
   "cell_type": "code",
   "execution_count": 162,
   "id": "40334048",
   "metadata": {},
   "outputs": [],
   "source": [
    "def test(\n",
    "    model, test_set: TimeSeriesDataset\n",
    ") -> pd.DataFrame:\n",
    "    \n",
    "    result: pd.DataFrame = pd.DataFrame(columns=['date_id', 'seconds_in_bucket', 'stock_id', 'time_id', 'row_id', 'target'])\n",
    "\n",
    "    model.eval()\n",
    "    with torch.no_grad():\n",
    "        with tqdm(total=len(test_set)) as pbar:\n",
    "            pbar.set_description(f\"Testing\")\n",
    "            for iter in range(len(test_set)):\n",
    "                batch_x, batch_y, date, second, stock = test_set[iter]\n",
    "\n",
    "                batch_x = torch.from_numpy(batch_x[np.newaxis, :]).to(device)\n",
    "                batch_y = torch.from_numpy(batch_y).to(device)\n",
    "                \n",
    "                pred_y = model(batch_x).cpu().detach().numpy()\n",
    "\n",
    "                for idx in range(len(pred_y)):\n",
    "                    test_set.FillTarget(stock=stock, date=date, second=second, value=pred_y[idx])\n",
    "                    curr_result: pd.DataFrame = pd.DataFrame.from_dict(data={\n",
    "                        'date_id': [date], \n",
    "                        'seconds_in_bucket': [second], \n",
    "                        'stock_id': [stock], \n",
    "                        'time_id': [int(26290 + (date - 478) * 55 + second)], \n",
    "                        'row_id': [f'{date}_{second}_{stock}'], \n",
    "                        'target': [pred_y[idx][0]]\n",
    "                    })\n",
    "                    if result.shape[0] > 0:\n",
    "                        result = pd.concat([result, curr_result], ignore_index=True)\n",
    "                    else:\n",
    "                        result = curr_result\n",
    "                pbar.update(1)\n",
    "        \n",
    "    return result"
   ]
  },
  {
   "cell_type": "code",
   "execution_count": 163,
   "id": "a35cd704",
   "metadata": {},
   "outputs": [
    {
     "name": "stderr",
     "output_type": "stream",
     "text": [
      "Testing: 100%|██████████| 33000/33000 [01:34<00:00, 350.77it/s]\n"
     ]
    }
   ],
   "source": [
    "test_result = test(model=model, test_set=test_dataset)"
   ]
  },
  {
   "cell_type": "code",
   "execution_count": 164,
   "id": "d65043b1",
   "metadata": {},
   "outputs": [
    {
     "data": {
      "text/html": [
       "<div>\n",
       "<style scoped>\n",
       "    .dataframe tbody tr th:only-of-type {\n",
       "        vertical-align: middle;\n",
       "    }\n",
       "\n",
       "    .dataframe tbody tr th {\n",
       "        vertical-align: top;\n",
       "    }\n",
       "\n",
       "    .dataframe thead th {\n",
       "        text-align: right;\n",
       "    }\n",
       "</style>\n",
       "<table border=\"1\" class=\"dataframe\">\n",
       "  <thead>\n",
       "    <tr style=\"text-align: right;\">\n",
       "      <th></th>\n",
       "      <th>date_id</th>\n",
       "      <th>seconds_in_bucket</th>\n",
       "      <th>stock_id</th>\n",
       "      <th>time_id</th>\n",
       "      <th>row_id</th>\n",
       "      <th>target</th>\n",
       "    </tr>\n",
       "  </thead>\n",
       "  <tbody>\n",
       "    <tr>\n",
       "      <th>0</th>\n",
       "      <td>478</td>\n",
       "      <td>0</td>\n",
       "      <td>0</td>\n",
       "      <td>26290</td>\n",
       "      <td>478_0_0</td>\n",
       "      <td>-0.601488</td>\n",
       "    </tr>\n",
       "    <tr>\n",
       "      <th>1</th>\n",
       "      <td>478</td>\n",
       "      <td>0</td>\n",
       "      <td>1</td>\n",
       "      <td>26290</td>\n",
       "      <td>478_0_1</td>\n",
       "      <td>-1.196316</td>\n",
       "    </tr>\n",
       "    <tr>\n",
       "      <th>2</th>\n",
       "      <td>478</td>\n",
       "      <td>0</td>\n",
       "      <td>2</td>\n",
       "      <td>26290</td>\n",
       "      <td>478_0_2</td>\n",
       "      <td>4.676425</td>\n",
       "    </tr>\n",
       "    <tr>\n",
       "      <th>3</th>\n",
       "      <td>478</td>\n",
       "      <td>0</td>\n",
       "      <td>3</td>\n",
       "      <td>26290</td>\n",
       "      <td>478_0_3</td>\n",
       "      <td>5.849753</td>\n",
       "    </tr>\n",
       "    <tr>\n",
       "      <th>4</th>\n",
       "      <td>478</td>\n",
       "      <td>0</td>\n",
       "      <td>4</td>\n",
       "      <td>26290</td>\n",
       "      <td>478_0_4</td>\n",
       "      <td>1.332446</td>\n",
       "    </tr>\n",
       "    <tr>\n",
       "      <th>...</th>\n",
       "      <td>...</td>\n",
       "      <td>...</td>\n",
       "      <td>...</td>\n",
       "      <td>...</td>\n",
       "      <td>...</td>\n",
       "      <td>...</td>\n",
       "    </tr>\n",
       "    <tr>\n",
       "      <th>32995</th>\n",
       "      <td>480</td>\n",
       "      <td>540</td>\n",
       "      <td>195</td>\n",
       "      <td>26940</td>\n",
       "      <td>480_540_195</td>\n",
       "      <td>-0.185602</td>\n",
       "    </tr>\n",
       "    <tr>\n",
       "      <th>32996</th>\n",
       "      <td>480</td>\n",
       "      <td>540</td>\n",
       "      <td>196</td>\n",
       "      <td>26940</td>\n",
       "      <td>480_540_196</td>\n",
       "      <td>-0.756889</td>\n",
       "    </tr>\n",
       "    <tr>\n",
       "      <th>32997</th>\n",
       "      <td>480</td>\n",
       "      <td>540</td>\n",
       "      <td>197</td>\n",
       "      <td>26940</td>\n",
       "      <td>480_540_197</td>\n",
       "      <td>0.848233</td>\n",
       "    </tr>\n",
       "    <tr>\n",
       "      <th>32998</th>\n",
       "      <td>480</td>\n",
       "      <td>540</td>\n",
       "      <td>198</td>\n",
       "      <td>26940</td>\n",
       "      <td>480_540_198</td>\n",
       "      <td>1.170139</td>\n",
       "    </tr>\n",
       "    <tr>\n",
       "      <th>32999</th>\n",
       "      <td>480</td>\n",
       "      <td>540</td>\n",
       "      <td>199</td>\n",
       "      <td>26940</td>\n",
       "      <td>480_540_199</td>\n",
       "      <td>-0.250568</td>\n",
       "    </tr>\n",
       "  </tbody>\n",
       "</table>\n",
       "<p>33000 rows × 6 columns</p>\n",
       "</div>"
      ],
      "text/plain": [
       "       date_id  seconds_in_bucket  stock_id  time_id       row_id    target\n",
       "0          478                  0         0    26290      478_0_0 -0.601488\n",
       "1          478                  0         1    26290      478_0_1 -1.196316\n",
       "2          478                  0         2    26290      478_0_2  4.676425\n",
       "3          478                  0         3    26290      478_0_3  5.849753\n",
       "4          478                  0         4    26290      478_0_4  1.332446\n",
       "...        ...                ...       ...      ...          ...       ...\n",
       "32995      480                540       195    26940  480_540_195 -0.185602\n",
       "32996      480                540       196    26940  480_540_196 -0.756889\n",
       "32997      480                540       197    26940  480_540_197  0.848233\n",
       "32998      480                540       198    26940  480_540_198  1.170139\n",
       "32999      480                540       199    26940  480_540_199 -0.250568\n",
       "\n",
       "[33000 rows x 6 columns]"
      ]
     },
     "execution_count": 164,
     "metadata": {},
     "output_type": "execute_result"
    }
   ],
   "source": [
    "test_result"
   ]
  },
  {
   "cell_type": "code",
   "execution_count": 165,
   "id": "890b13c1",
   "metadata": {},
   "outputs": [],
   "source": [
    "test_out_result = test_result.sort_values(by=['date_id', 'seconds_in_bucket', 'stock_id'], ascending=True)\n",
    "test_out_result.drop(['date_id', 'seconds_in_bucket', 'stock_id'], axis=1, inplace=True)\n",
    "test_out_result.to_csv('./submission.csv', index=False)"
   ]
  }
 ],
 "metadata": {
  "kaggle": {
   "accelerator": "nvidiaTeslaT4",
   "dataSources": [
    {
     "databundleVersionId": 7056235,
     "sourceId": 57891,
     "sourceType": "competition"
    }
   ],
   "dockerImageVersionId": 30627,
   "isGpuEnabled": true,
   "isInternetEnabled": true,
   "language": "python",
   "sourceType": "notebook"
  },
  "kernelspec": {
   "display_name": "Python 3 (ipykernel)",
   "language": "python",
   "name": "python3"
  },
  "language_info": {
   "codemirror_mode": {
    "name": "ipython",
    "version": 3
   },
   "file_extension": ".py",
   "mimetype": "text/x-python",
   "name": "python",
   "nbconvert_exporter": "python",
   "pygments_lexer": "ipython3",
   "version": "3.10.6"
  },
  "papermill": {
   "default_parameters": {},
   "duration": 8783.773029,
   "end_time": "2023-12-25T17:44:38.390752",
   "environment_variables": {},
   "exception": null,
   "input_path": "__notebook__.ipynb",
   "output_path": "__notebook__.ipynb",
   "parameters": {},
   "start_time": "2023-12-25T15:18:14.617723",
   "version": "2.4.0"
  }
 },
 "nbformat": 4,
 "nbformat_minor": 5
}
