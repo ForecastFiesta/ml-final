{
 "cells": [
  {
   "cell_type": "code",
   "execution_count": 154,
   "metadata": {},
   "outputs": [
    {
     "name": "stderr",
     "output_type": "stream",
     "text": [
      "  0%|          | 0/200 [00:00<?, ?it/s]"
     ]
    },
    {
     "name": "stdout",
     "output_type": "stream",
     "text": [
      "Predict Stock 0\n",
      "Predict Stock 0 | Predict Day 478\n",
      "Predict Stock 0 | Predict Day 478 | Predict Time 0~270\n",
      "Predict Stock 0 | Predict Day 478 | Predict Time 280~550\n",
      "Predict Stock 0 | Predict Day 479\n",
      "Predict Stock 0 | Predict Day 479 | Predict Time 0~270\n",
      "Predict Stock 0 | Predict Day 479 | Predict Time 280~550\n",
      "Predict Stock 0 | Predict Day 480\n",
      "Predict Stock 0 | Predict Day 480 | Predict Time 0~270\n",
      "Predict Stock 0 | Predict Day 480 | Predict Time 280~550\n"
     ]
    },
    {
     "name": "stderr",
     "output_type": "stream",
     "text": [
      "  0%|          | 1/200 [01:00<3:20:34, 60.47s/it]"
     ]
    },
    {
     "name": "stdout",
     "output_type": "stream",
     "text": [
      "Predict Stock 1\n",
      "Predict Stock 1 | Predict Day 478\n",
      "Predict Stock 1 | Predict Day 478 | Predict Time 0~270\n",
      "Predict Stock 1 | Predict Day 478 | Predict Time 280~550\n",
      "Predict Stock 1 | Predict Day 479\n",
      "Predict Stock 1 | Predict Day 479 | Predict Time 0~270\n",
      "Predict Stock 1 | Predict Day 479 | Predict Time 280~550\n",
      "Predict Stock 1 | Predict Day 480\n",
      "Predict Stock 1 | Predict Day 480 | Predict Time 0~270\n",
      "Predict Stock 1 | Predict Day 480 | Predict Time 280~550\n"
     ]
    },
    {
     "name": "stderr",
     "output_type": "stream",
     "text": [
      "  1%|          | 2/200 [02:07<3:33:02, 64.56s/it]"
     ]
    },
    {
     "name": "stdout",
     "output_type": "stream",
     "text": [
      "Predict Stock 2\n",
      "Predict Stock 2 | Predict Day 478\n",
      "Predict Stock 2 | Predict Day 478 | Predict Time 0~270\n",
      "Predict Stock 2 | Predict Day 478 | Predict Time 280~550\n",
      "Predict Stock 2 | Predict Day 479\n",
      "Predict Stock 2 | Predict Day 479 | Predict Time 0~270\n",
      "Predict Stock 2 | Predict Day 479 | Predict Time 280~550\n",
      "Predict Stock 2 | Predict Day 480\n",
      "Predict Stock 2 | Predict Day 480 | Predict Time 0~270\n",
      "Predict Stock 2 | Predict Day 480 | Predict Time 280~550\n"
     ]
    },
    {
     "name": "stderr",
     "output_type": "stream",
     "text": [
      "  2%|▏         | 3/200 [03:23<3:49:01, 69.76s/it]"
     ]
    },
    {
     "name": "stdout",
     "output_type": "stream",
     "text": [
      "Predict Stock 3\n",
      "Predict Stock 3 | Predict Day 478\n",
      "Predict Stock 3 | Predict Day 478 | Predict Time 0~270\n",
      "Predict Stock 3 | Predict Day 478 | Predict Time 280~550\n",
      "Predict Stock 3 | Predict Day 479\n",
      "Predict Stock 3 | Predict Day 479 | Predict Time 0~270\n",
      "Predict Stock 3 | Predict Day 479 | Predict Time 280~550\n",
      "Predict Stock 3 | Predict Day 480\n",
      "Predict Stock 3 | Predict Day 480 | Predict Time 0~270\n",
      "Predict Stock 3 | Predict Day 480 | Predict Time 280~550\n"
     ]
    },
    {
     "name": "stderr",
     "output_type": "stream",
     "text": [
      "  2%|▏         | 4/200 [04:02<3:07:56, 57.53s/it]"
     ]
    },
    {
     "name": "stdout",
     "output_type": "stream",
     "text": [
      "Predict Stock 4\n",
      "Predict Stock 4 | Predict Day 478\n",
      "Predict Stock 4 | Predict Day 478 | Predict Time 0~270\n",
      "Predict Stock 4 | Predict Day 478 | Predict Time 280~550\n",
      "Predict Stock 4 | Predict Day 479\n",
      "Predict Stock 4 | Predict Day 479 | Predict Time 0~270\n",
      "Predict Stock 4 | Predict Day 479 | Predict Time 280~550\n",
      "Predict Stock 4 | Predict Day 480\n",
      "Predict Stock 4 | Predict Day 480 | Predict Time 0~270\n",
      "Predict Stock 4 | Predict Day 480 | Predict Time 280~550\n"
     ]
    },
    {
     "name": "stderr",
     "output_type": "stream",
     "text": [
      "  2%|▎         | 5/200 [05:16<3:26:09, 63.43s/it]"
     ]
    },
    {
     "name": "stdout",
     "output_type": "stream",
     "text": [
      "Predict Stock 5\n",
      "Predict Stock 5 | Predict Day 478\n",
      "Predict Stock 5 | Predict Day 478 | Predict Time 0~270\n",
      "Predict Stock 5 | Predict Day 478 | Predict Time 280~550\n",
      "Predict Stock 5 | Predict Day 479\n",
      "Predict Stock 5 | Predict Day 479 | Predict Time 0~270\n",
      "Predict Stock 5 | Predict Day 479 | Predict Time 280~550\n",
      "Predict Stock 5 | Predict Day 480\n",
      "Predict Stock 5 | Predict Day 480 | Predict Time 0~270\n",
      "Predict Stock 5 | Predict Day 480 | Predict Time 280~550\n"
     ]
    },
    {
     "name": "stderr",
     "output_type": "stream",
     "text": [
      "  3%|▎         | 6/200 [06:22<3:27:31, 64.18s/it]"
     ]
    },
    {
     "name": "stdout",
     "output_type": "stream",
     "text": [
      "Predict Stock 6\n",
      "Predict Stock 6 | Predict Day 478\n",
      "Predict Stock 6 | Predict Day 478 | Predict Time 0~270\n",
      "Predict Stock 6 | Predict Day 478 | Predict Time 280~550\n",
      "Predict Stock 6 | Predict Day 479\n",
      "Predict Stock 6 | Predict Day 479 | Predict Time 0~270\n",
      "Predict Stock 6 | Predict Day 479 | Predict Time 280~550\n",
      "Predict Stock 6 | Predict Day 480\n",
      "Predict Stock 6 | Predict Day 480 | Predict Time 0~270\n",
      "Predict Stock 6 | Predict Day 480 | Predict Time 280~550\n"
     ]
    },
    {
     "name": "stderr",
     "output_type": "stream",
     "text": [
      "  4%|▎         | 7/200 [07:19<3:19:40, 62.07s/it]"
     ]
    },
    {
     "name": "stdout",
     "output_type": "stream",
     "text": [
      "Predict Stock 7\n",
      "Predict Stock 7 | Predict Day 478\n",
      "Predict Stock 7 | Predict Day 478 | Predict Time 0~270\n",
      "Predict Stock 7 | Predict Day 478 | Predict Time 280~550\n",
      "Predict Stock 7 | Predict Day 479\n",
      "Predict Stock 7 | Predict Day 479 | Predict Time 0~270\n",
      "Predict Stock 7 | Predict Day 479 | Predict Time 280~550\n",
      "Predict Stock 7 | Predict Day 480\n",
      "Predict Stock 7 | Predict Day 480 | Predict Time 0~270\n",
      "Predict Stock 7 | Predict Day 480 | Predict Time 280~550\n"
     ]
    },
    {
     "name": "stderr",
     "output_type": "stream",
     "text": [
      "  4%|▍         | 8/200 [08:06<3:03:23, 57.31s/it]"
     ]
    },
    {
     "name": "stdout",
     "output_type": "stream",
     "text": [
      "Predict Stock 8\n",
      "Predict Stock 8 | Predict Day 478\n",
      "Predict Stock 8 | Predict Day 478 | Predict Time 0~270\n",
      "Predict Stock 8 | Predict Day 478 | Predict Time 280~550\n",
      "Predict Stock 8 | Predict Day 479\n",
      "Predict Stock 8 | Predict Day 479 | Predict Time 0~270\n",
      "Predict Stock 8 | Predict Day 479 | Predict Time 280~550\n",
      "Predict Stock 8 | Predict Day 480\n",
      "Predict Stock 8 | Predict Day 480 | Predict Time 0~270\n",
      "Predict Stock 8 | Predict Day 480 | Predict Time 280~550\n"
     ]
    },
    {
     "name": "stderr",
     "output_type": "stream",
     "text": [
      "  4%|▍         | 9/200 [08:49<2:47:23, 52.58s/it]"
     ]
    },
    {
     "name": "stdout",
     "output_type": "stream",
     "text": [
      "Predict Stock 9\n",
      "Predict Stock 9 | Predict Day 478\n",
      "Predict Stock 9 | Predict Day 478 | Predict Time 0~270\n",
      "Predict Stock 9 | Predict Day 478 | Predict Time 280~550\n",
      "Predict Stock 9 | Predict Day 479\n",
      "Predict Stock 9 | Predict Day 479 | Predict Time 0~270\n",
      "Predict Stock 9 | Predict Day 479 | Predict Time 280~550\n",
      "Predict Stock 9 | Predict Day 480\n",
      "Predict Stock 9 | Predict Day 480 | Predict Time 0~270\n",
      "Predict Stock 9 | Predict Day 480 | Predict Time 280~550\n"
     ]
    },
    {
     "name": "stderr",
     "output_type": "stream",
     "text": [
      "  5%|▌         | 10/200 [09:34<2:38:55, 50.19s/it]"
     ]
    },
    {
     "name": "stdout",
     "output_type": "stream",
     "text": [
      "Predict Stock 10\n",
      "Predict Stock 10 | Predict Day 478\n",
      "Predict Stock 10 | Predict Day 478 | Predict Time 0~270\n",
      "Predict Stock 10 | Predict Day 478 | Predict Time 280~550\n",
      "Predict Stock 10 | Predict Day 479\n",
      "Predict Stock 10 | Predict Day 479 | Predict Time 0~270\n",
      "Predict Stock 10 | Predict Day 479 | Predict Time 280~550\n",
      "Predict Stock 10 | Predict Day 480\n",
      "Predict Stock 10 | Predict Day 480 | Predict Time 0~270\n",
      "Predict Stock 10 | Predict Day 480 | Predict Time 280~550\n"
     ]
    },
    {
     "name": "stderr",
     "output_type": "stream",
     "text": [
      "  6%|▌         | 11/200 [10:46<2:59:56, 57.12s/it]"
     ]
    },
    {
     "name": "stdout",
     "output_type": "stream",
     "text": [
      "Predict Stock 11\n",
      "Predict Stock 11 | Predict Day 478\n",
      "Predict Stock 11 | Predict Day 478 | Predict Time 0~270\n",
      "Predict Stock 11 | Predict Day 478 | Predict Time 280~550\n",
      "Predict Stock 11 | Predict Day 479\n",
      "Predict Stock 11 | Predict Day 479 | Predict Time 0~270\n",
      "Predict Stock 11 | Predict Day 479 | Predict Time 280~550\n",
      "Predict Stock 11 | Predict Day 480\n",
      "Predict Stock 11 | Predict Day 480 | Predict Time 0~270\n",
      "Predict Stock 11 | Predict Day 480 | Predict Time 280~550\n"
     ]
    },
    {
     "name": "stderr",
     "output_type": "stream",
     "text": [
      "  6%|▌         | 12/200 [11:39<2:54:44, 55.77s/it]"
     ]
    },
    {
     "name": "stdout",
     "output_type": "stream",
     "text": [
      "Predict Stock 12\n",
      "Predict Stock 12 | Predict Day 478\n",
      "Predict Stock 12 | Predict Day 478 | Predict Time 0~270\n",
      "Predict Stock 12 | Predict Day 478 | Predict Time 280~550\n",
      "Predict Stock 12 | Predict Day 479\n",
      "Predict Stock 12 | Predict Day 479 | Predict Time 0~270\n",
      "Predict Stock 12 | Predict Day 479 | Predict Time 280~550\n",
      "Predict Stock 12 | Predict Day 480\n",
      "Predict Stock 12 | Predict Day 480 | Predict Time 0~270\n",
      "Predict Stock 12 | Predict Day 480 | Predict Time 280~550\n"
     ]
    },
    {
     "name": "stderr",
     "output_type": "stream",
     "text": [
      "  6%|▋         | 13/200 [12:49<3:07:25, 60.14s/it]"
     ]
    },
    {
     "name": "stdout",
     "output_type": "stream",
     "text": [
      "Predict Stock 13\n",
      "Predict Stock 13 | Predict Day 478\n",
      "Predict Stock 13 | Predict Day 478 | Predict Time 0~270\n",
      "Predict Stock 13 | Predict Day 478 | Predict Time 280~550\n",
      "Predict Stock 13 | Predict Day 479\n",
      "Predict Stock 13 | Predict Day 479 | Predict Time 0~270\n",
      "Predict Stock 13 | Predict Day 479 | Predict Time 280~550\n",
      "Predict Stock 13 | Predict Day 480\n",
      "Predict Stock 13 | Predict Day 480 | Predict Time 0~270\n",
      "Predict Stock 13 | Predict Day 480 | Predict Time 280~550\n"
     ]
    },
    {
     "name": "stderr",
     "output_type": "stream",
     "text": [
      "  7%|▋         | 14/200 [14:01<3:16:52, 63.51s/it]"
     ]
    },
    {
     "name": "stdout",
     "output_type": "stream",
     "text": [
      "Predict Stock 14\n",
      "Predict Stock 14 | Predict Day 478\n",
      "Predict Stock 14 | Predict Day 478 | Predict Time 0~270\n",
      "Predict Stock 14 | Predict Day 478 | Predict Time 280~550\n",
      "Predict Stock 14 | Predict Day 479\n",
      "Predict Stock 14 | Predict Day 479 | Predict Time 0~270\n",
      "Predict Stock 14 | Predict Day 479 | Predict Time 280~550\n",
      "Predict Stock 14 | Predict Day 480\n",
      "Predict Stock 14 | Predict Day 480 | Predict Time 0~270\n",
      "Predict Stock 14 | Predict Day 480 | Predict Time 280~550\n"
     ]
    },
    {
     "name": "stderr",
     "output_type": "stream",
     "text": [
      "  8%|▊         | 15/200 [14:46<2:58:42, 57.96s/it]"
     ]
    },
    {
     "name": "stdout",
     "output_type": "stream",
     "text": [
      "Predict Stock 15\n",
      "Predict Stock 15 | Predict Day 478\n",
      "Predict Stock 15 | Predict Day 478 | Predict Time 0~270\n",
      "Predict Stock 15 | Predict Day 478 | Predict Time 280~550\n",
      "Predict Stock 15 | Predict Day 479\n",
      "Predict Stock 15 | Predict Day 479 | Predict Time 0~270\n",
      "Predict Stock 15 | Predict Day 479 | Predict Time 280~550\n",
      "Predict Stock 15 | Predict Day 480\n",
      "Predict Stock 15 | Predict Day 480 | Predict Time 0~270\n",
      "Predict Stock 15 | Predict Day 480 | Predict Time 280~550\n"
     ]
    },
    {
     "name": "stderr",
     "output_type": "stream",
     "text": [
      "  8%|▊         | 16/200 [15:32<2:46:48, 54.39s/it]"
     ]
    },
    {
     "name": "stdout",
     "output_type": "stream",
     "text": [
      "Predict Stock 16\n",
      "Predict Stock 16 | Predict Day 478\n",
      "Predict Stock 16 | Predict Day 478 | Predict Time 0~270\n",
      "Predict Stock 16 | Predict Day 478 | Predict Time 280~550\n",
      "Predict Stock 16 | Predict Day 479\n",
      "Predict Stock 16 | Predict Day 479 | Predict Time 0~270\n",
      "Predict Stock 16 | Predict Day 479 | Predict Time 280~550\n",
      "Predict Stock 16 | Predict Day 480\n",
      "Predict Stock 16 | Predict Day 480 | Predict Time 0~270\n",
      "Predict Stock 16 | Predict Day 480 | Predict Time 280~550\n"
     ]
    },
    {
     "name": "stderr",
     "output_type": "stream",
     "text": [
      "  8%|▊         | 17/200 [16:42<3:00:04, 59.04s/it]"
     ]
    },
    {
     "name": "stdout",
     "output_type": "stream",
     "text": [
      "Predict Stock 17\n",
      "Predict Stock 17 | Predict Day 478\n",
      "Predict Stock 17 | Predict Day 478 | Predict Time 0~270\n",
      "Predict Stock 17 | Predict Day 478 | Predict Time 280~550\n",
      "Predict Stock 17 | Predict Day 479\n",
      "Predict Stock 17 | Predict Day 479 | Predict Time 0~270\n",
      "Predict Stock 17 | Predict Day 479 | Predict Time 280~550\n",
      "Predict Stock 17 | Predict Day 480\n",
      "Predict Stock 17 | Predict Day 480 | Predict Time 0~270\n",
      "Predict Stock 17 | Predict Day 480 | Predict Time 280~550\n"
     ]
    },
    {
     "name": "stderr",
     "output_type": "stream",
     "text": [
      "  9%|▉         | 18/200 [17:43<3:01:37, 59.87s/it]"
     ]
    },
    {
     "name": "stdout",
     "output_type": "stream",
     "text": [
      "Predict Stock 18\n",
      "Predict Stock 18 | Predict Day 478\n",
      "Predict Stock 18 | Predict Day 478 | Predict Time 0~270\n",
      "Predict Stock 18 | Predict Day 478 | Predict Time 280~550\n",
      "Predict Stock 18 | Predict Day 479\n",
      "Predict Stock 18 | Predict Day 479 | Predict Time 0~270\n",
      "Predict Stock 18 | Predict Day 479 | Predict Time 280~550\n",
      "Predict Stock 18 | Predict Day 480\n",
      "Predict Stock 18 | Predict Day 480 | Predict Time 0~270\n",
      "Predict Stock 18 | Predict Day 480 | Predict Time 280~550\n"
     ]
    },
    {
     "name": "stderr",
     "output_type": "stream",
     "text": [
      " 10%|▉         | 19/200 [18:29<2:47:50, 55.64s/it]"
     ]
    },
    {
     "name": "stdout",
     "output_type": "stream",
     "text": [
      "Predict Stock 19\n",
      "Predict Stock 19 | Predict Day 478\n",
      "Predict Stock 19 | Predict Day 478 | Predict Time 0~270\n",
      "Predict Stock 19 | Predict Day 478 | Predict Time 280~550\n",
      "Predict Stock 19 | Predict Day 479\n",
      "Predict Stock 19 | Predict Day 479 | Predict Time 0~270\n",
      "Predict Stock 19 | Predict Day 479 | Predict Time 280~550\n",
      "Predict Stock 19 | Predict Day 480\n",
      "Predict Stock 19 | Predict Day 480 | Predict Time 0~270\n"
     ]
    },
    {
     "name": "stderr",
     "output_type": "stream",
     "text": [
      " 10%|█         | 20/200 [18:31<1:58:09, 39.38s/it]"
     ]
    },
    {
     "name": "stdout",
     "output_type": "stream",
     "text": [
      "Predict Stock 19 | Predict Day 480 | Predict Time 280~550\n",
      "Predict Stock 20\n",
      "Predict Stock 20 | Predict Day 478\n",
      "Predict Stock 20 | Predict Day 478 | Predict Time 0~270\n",
      "Predict Stock 20 | Predict Day 478 | Predict Time 280~550\n",
      "Predict Stock 20 | Predict Day 479\n",
      "Predict Stock 20 | Predict Day 479 | Predict Time 0~270\n",
      "Predict Stock 20 | Predict Day 479 | Predict Time 280~550\n",
      "Predict Stock 20 | Predict Day 480\n",
      "Predict Stock 20 | Predict Day 480 | Predict Time 0~270\n",
      "Predict Stock 20 | Predict Day 480 | Predict Time 280~550\n"
     ]
    },
    {
     "name": "stderr",
     "output_type": "stream",
     "text": [
      " 10%|█         | 21/200 [19:39<2:23:42, 48.17s/it]"
     ]
    },
    {
     "name": "stdout",
     "output_type": "stream",
     "text": [
      "Predict Stock 21\n",
      "Predict Stock 21 | Predict Day 478\n",
      "Predict Stock 21 | Predict Day 478 | Predict Time 0~270\n",
      "Predict Stock 21 | Predict Day 478 | Predict Time 280~550\n",
      "Predict Stock 21 | Predict Day 479\n",
      "Predict Stock 21 | Predict Day 479 | Predict Time 0~270\n",
      "Predict Stock 21 | Predict Day 479 | Predict Time 280~550\n",
      "Predict Stock 21 | Predict Day 480\n",
      "Predict Stock 21 | Predict Day 480 | Predict Time 0~270\n",
      "Predict Stock 21 | Predict Day 480 | Predict Time 280~550\n"
     ]
    },
    {
     "name": "stderr",
     "output_type": "stream",
     "text": [
      " 11%|█         | 22/200 [20:41<2:34:56, 52.23s/it]"
     ]
    },
    {
     "name": "stdout",
     "output_type": "stream",
     "text": [
      "Predict Stock 22\n",
      "Predict Stock 22 | Predict Day 478\n",
      "Predict Stock 22 | Predict Day 478 | Predict Time 0~270\n",
      "Predict Stock 22 | Predict Day 478 | Predict Time 280~550\n",
      "Predict Stock 22 | Predict Day 479\n",
      "Predict Stock 22 | Predict Day 479 | Predict Time 0~270\n",
      "Predict Stock 22 | Predict Day 479 | Predict Time 280~550\n",
      "Predict Stock 22 | Predict Day 480\n",
      "Predict Stock 22 | Predict Day 480 | Predict Time 0~270\n",
      "Predict Stock 22 | Predict Day 480 | Predict Time 280~550\n"
     ]
    },
    {
     "name": "stderr",
     "output_type": "stream",
     "text": [
      " 12%|█▏        | 23/200 [21:44<2:44:00, 55.60s/it]"
     ]
    },
    {
     "name": "stdout",
     "output_type": "stream",
     "text": [
      "Predict Stock 23\n",
      "Predict Stock 23 | Predict Day 478\n",
      "Predict Stock 23 | Predict Day 478 | Predict Time 0~270\n",
      "Predict Stock 23 | Predict Day 478 | Predict Time 280~550\n",
      "Predict Stock 23 | Predict Day 479\n",
      "Predict Stock 23 | Predict Day 479 | Predict Time 0~270\n",
      "Predict Stock 23 | Predict Day 479 | Predict Time 280~550\n",
      "Predict Stock 23 | Predict Day 480\n",
      "Predict Stock 23 | Predict Day 480 | Predict Time 0~270\n",
      "Predict Stock 23 | Predict Day 480 | Predict Time 280~550\n"
     ]
    },
    {
     "name": "stderr",
     "output_type": "stream",
     "text": [
      " 12%|█▏        | 24/200 [22:55<2:56:10, 60.06s/it]"
     ]
    },
    {
     "name": "stdout",
     "output_type": "stream",
     "text": [
      "Predict Stock 24\n",
      "Predict Stock 24 | Predict Day 478\n",
      "Predict Stock 24 | Predict Day 478 | Predict Time 0~270\n",
      "Predict Stock 24 | Predict Day 478 | Predict Time 280~550\n",
      "Predict Stock 24 | Predict Day 479\n",
      "Predict Stock 24 | Predict Day 479 | Predict Time 0~270\n",
      "Predict Stock 24 | Predict Day 479 | Predict Time 280~550\n",
      "Predict Stock 24 | Predict Day 480\n",
      "Predict Stock 24 | Predict Day 480 | Predict Time 0~270\n",
      "Predict Stock 24 | Predict Day 480 | Predict Time 280~550\n"
     ]
    },
    {
     "name": "stderr",
     "output_type": "stream",
     "text": [
      " 12%|█▎        | 25/200 [23:57<2:56:39, 60.57s/it]"
     ]
    },
    {
     "name": "stdout",
     "output_type": "stream",
     "text": [
      "Predict Stock 25\n",
      "Predict Stock 25 | Predict Day 478\n",
      "Predict Stock 25 | Predict Day 478 | Predict Time 0~270\n",
      "Predict Stock 25 | Predict Day 478 | Predict Time 280~550\n",
      "Predict Stock 25 | Predict Day 479\n",
      "Predict Stock 25 | Predict Day 479 | Predict Time 0~270\n",
      "Predict Stock 25 | Predict Day 479 | Predict Time 280~550\n",
      "Predict Stock 25 | Predict Day 480\n",
      "Predict Stock 25 | Predict Day 480 | Predict Time 0~270\n",
      "Predict Stock 25 | Predict Day 480 | Predict Time 280~550\n"
     ]
    },
    {
     "name": "stderr",
     "output_type": "stream",
     "text": [
      " 13%|█▎        | 26/200 [25:07<3:03:47, 63.38s/it]"
     ]
    },
    {
     "name": "stdout",
     "output_type": "stream",
     "text": [
      "Predict Stock 26\n",
      "Predict Stock 26 | Predict Day 478\n",
      "Predict Stock 26 | Predict Day 478 | Predict Time 0~270\n",
      "Predict Stock 26 | Predict Day 478 | Predict Time 280~550\n",
      "Predict Stock 26 | Predict Day 479\n",
      "Predict Stock 26 | Predict Day 479 | Predict Time 0~270\n",
      "Predict Stock 26 | Predict Day 479 | Predict Time 280~550\n",
      "Predict Stock 26 | Predict Day 480\n",
      "Predict Stock 26 | Predict Day 480 | Predict Time 0~270\n",
      "Predict Stock 26 | Predict Day 480 | Predict Time 280~550\n"
     ]
    },
    {
     "name": "stderr",
     "output_type": "stream",
     "text": [
      " 14%|█▎        | 27/200 [25:41<2:37:27, 54.61s/it]"
     ]
    },
    {
     "name": "stdout",
     "output_type": "stream",
     "text": [
      "Predict Stock 27\n",
      "Predict Stock 27 | Predict Day 478\n",
      "Predict Stock 27 | Predict Day 478 | Predict Time 0~270\n",
      "Predict Stock 27 | Predict Day 478 | Predict Time 280~550\n",
      "Predict Stock 27 | Predict Day 479\n",
      "Predict Stock 27 | Predict Day 479 | Predict Time 0~270\n",
      "Predict Stock 27 | Predict Day 479 | Predict Time 280~550\n",
      "Predict Stock 27 | Predict Day 480\n",
      "Predict Stock 27 | Predict Day 480 | Predict Time 0~270\n",
      "Predict Stock 27 | Predict Day 480 | Predict Time 280~550\n"
     ]
    },
    {
     "name": "stderr",
     "output_type": "stream",
     "text": [
      " 14%|█▍        | 28/200 [26:54<2:52:48, 60.28s/it]"
     ]
    },
    {
     "name": "stdout",
     "output_type": "stream",
     "text": [
      "Predict Stock 28\n",
      "Predict Stock 28 | Predict Day 478\n",
      "Predict Stock 28 | Predict Day 478 | Predict Time 0~270\n",
      "Predict Stock 28 | Predict Day 478 | Predict Time 280~550\n",
      "Predict Stock 28 | Predict Day 479\n",
      "Predict Stock 28 | Predict Day 479 | Predict Time 0~270\n",
      "Predict Stock 28 | Predict Day 479 | Predict Time 280~550\n",
      "Predict Stock 28 | Predict Day 480\n",
      "Predict Stock 28 | Predict Day 480 | Predict Time 0~270\n",
      "Predict Stock 28 | Predict Day 480 | Predict Time 280~550\n"
     ]
    },
    {
     "name": "stderr",
     "output_type": "stream",
     "text": [
      " 14%|█▍        | 29/200 [27:45<2:43:41, 57.44s/it]"
     ]
    },
    {
     "name": "stdout",
     "output_type": "stream",
     "text": [
      "Predict Stock 29\n",
      "Predict Stock 29 | Predict Day 478\n",
      "Predict Stock 29 | Predict Day 478 | Predict Time 0~270\n",
      "Predict Stock 29 | Predict Day 478 | Predict Time 280~550\n",
      "Predict Stock 29 | Predict Day 479\n",
      "Predict Stock 29 | Predict Day 479 | Predict Time 0~270\n",
      "Predict Stock 29 | Predict Day 479 | Predict Time 280~550\n",
      "Predict Stock 29 | Predict Day 480\n",
      "Predict Stock 29 | Predict Day 480 | Predict Time 0~270\n",
      "Predict Stock 29 | Predict Day 480 | Predict Time 280~550\n"
     ]
    },
    {
     "name": "stderr",
     "output_type": "stream",
     "text": [
      " 15%|█▌        | 30/200 [28:46<2:45:53, 58.55s/it]"
     ]
    },
    {
     "name": "stdout",
     "output_type": "stream",
     "text": [
      "Predict Stock 30\n",
      "Predict Stock 30 | Predict Day 478\n",
      "Predict Stock 30 | Predict Day 478 | Predict Time 0~270\n",
      "Predict Stock 30 | Predict Day 478 | Predict Time 280~550\n",
      "Predict Stock 30 | Predict Day 479\n",
      "Predict Stock 30 | Predict Day 479 | Predict Time 0~270\n",
      "Predict Stock 30 | Predict Day 479 | Predict Time 280~550\n",
      "Predict Stock 30 | Predict Day 480\n",
      "Predict Stock 30 | Predict Day 480 | Predict Time 0~270\n",
      "Predict Stock 30 | Predict Day 480 | Predict Time 280~550\n"
     ]
    },
    {
     "name": "stderr",
     "output_type": "stream",
     "text": [
      " 16%|█▌        | 31/200 [29:51<2:50:13, 60.43s/it]"
     ]
    },
    {
     "name": "stdout",
     "output_type": "stream",
     "text": [
      "Predict Stock 31\n",
      "Predict Stock 31 | Predict Day 478\n",
      "Predict Stock 31 | Predict Day 478 | Predict Time 0~270\n",
      "Predict Stock 31 | Predict Day 478 | Predict Time 280~550\n",
      "Predict Stock 31 | Predict Day 479\n",
      "Predict Stock 31 | Predict Day 479 | Predict Time 0~270\n",
      "Predict Stock 31 | Predict Day 479 | Predict Time 280~550\n",
      "Predict Stock 31 | Predict Day 480\n",
      "Predict Stock 31 | Predict Day 480 | Predict Time 0~270\n",
      "Predict Stock 31 | Predict Day 480 | Predict Time 280~550\n"
     ]
    },
    {
     "name": "stderr",
     "output_type": "stream",
     "text": [
      " 16%|█▌        | 32/200 [30:58<2:54:26, 62.30s/it]"
     ]
    },
    {
     "name": "stdout",
     "output_type": "stream",
     "text": [
      "Predict Stock 32\n",
      "Predict Stock 32 | Predict Day 478\n",
      "Predict Stock 32 | Predict Day 478 | Predict Time 0~270\n",
      "Predict Stock 32 | Predict Day 478 | Predict Time 280~550\n",
      "Predict Stock 32 | Predict Day 479\n",
      "Predict Stock 32 | Predict Day 479 | Predict Time 0~270\n",
      "Predict Stock 32 | Predict Day 479 | Predict Time 280~550\n",
      "Predict Stock 32 | Predict Day 480\n",
      "Predict Stock 32 | Predict Day 480 | Predict Time 0~270\n",
      "Predict Stock 32 | Predict Day 480 | Predict Time 280~550\n"
     ]
    },
    {
     "name": "stderr",
     "output_type": "stream",
     "text": [
      " 16%|█▋        | 33/200 [31:59<2:52:32, 61.99s/it]"
     ]
    },
    {
     "name": "stdout",
     "output_type": "stream",
     "text": [
      "Predict Stock 33\n",
      "Predict Stock 33 | Predict Day 478\n",
      "Predict Stock 33 | Predict Day 478 | Predict Time 0~270\n",
      "Predict Stock 33 | Predict Day 478 | Predict Time 280~550\n",
      "Predict Stock 33 | Predict Day 479\n",
      "Predict Stock 33 | Predict Day 479 | Predict Time 0~270\n",
      "Predict Stock 33 | Predict Day 479 | Predict Time 280~550\n",
      "Predict Stock 33 | Predict Day 480\n",
      "Predict Stock 33 | Predict Day 480 | Predict Time 0~270\n",
      "Predict Stock 33 | Predict Day 480 | Predict Time 280~550\n"
     ]
    },
    {
     "name": "stderr",
     "output_type": "stream",
     "text": [
      " 17%|█▋        | 34/200 [33:05<2:54:55, 63.22s/it]"
     ]
    },
    {
     "name": "stdout",
     "output_type": "stream",
     "text": [
      "Predict Stock 34\n",
      "Predict Stock 34 | Predict Day 478\n",
      "Predict Stock 34 | Predict Day 478 | Predict Time 0~270\n",
      "Predict Stock 34 | Predict Day 478 | Predict Time 280~550\n",
      "Predict Stock 34 | Predict Day 479\n",
      "Predict Stock 34 | Predict Day 479 | Predict Time 0~270\n",
      "Predict Stock 34 | Predict Day 479 | Predict Time 280~550\n",
      "Predict Stock 34 | Predict Day 480\n",
      "Predict Stock 34 | Predict Day 480 | Predict Time 0~270\n",
      "Predict Stock 34 | Predict Day 480 | Predict Time 280~550\n"
     ]
    },
    {
     "name": "stderr",
     "output_type": "stream",
     "text": [
      " 18%|█▊        | 35/200 [34:12<2:56:52, 64.32s/it]"
     ]
    },
    {
     "name": "stdout",
     "output_type": "stream",
     "text": [
      "Predict Stock 35\n",
      "Predict Stock 35 | Predict Day 478\n",
      "Predict Stock 35 | Predict Day 478 | Predict Time 0~270\n",
      "Predict Stock 35 | Predict Day 478 | Predict Time 280~550\n",
      "Predict Stock 35 | Predict Day 479\n",
      "Predict Stock 35 | Predict Day 479 | Predict Time 0~270\n",
      "Predict Stock 35 | Predict Day 479 | Predict Time 280~550\n",
      "Predict Stock 35 | Predict Day 480\n",
      "Predict Stock 35 | Predict Day 480 | Predict Time 0~270\n",
      "Predict Stock 35 | Predict Day 480 | Predict Time 280~550\n"
     ]
    },
    {
     "name": "stderr",
     "output_type": "stream",
     "text": [
      " 18%|█▊        | 36/200 [34:53<2:36:33, 57.28s/it]"
     ]
    },
    {
     "name": "stdout",
     "output_type": "stream",
     "text": [
      "Predict Stock 36\n",
      "Predict Stock 36 | Predict Day 478\n",
      "Predict Stock 36 | Predict Day 478 | Predict Time 0~270\n",
      "Predict Stock 36 | Predict Day 478 | Predict Time 280~550\n",
      "Predict Stock 36 | Predict Day 479\n",
      "Predict Stock 36 | Predict Day 479 | Predict Time 0~270\n",
      "Predict Stock 36 | Predict Day 479 | Predict Time 280~550\n",
      "Predict Stock 36 | Predict Day 480\n",
      "Predict Stock 36 | Predict Day 480 | Predict Time 0~270\n",
      "Predict Stock 36 | Predict Day 480 | Predict Time 280~550\n"
     ]
    },
    {
     "name": "stderr",
     "output_type": "stream",
     "text": [
      " 18%|█▊        | 37/200 [35:53<2:38:02, 58.18s/it]"
     ]
    },
    {
     "name": "stdout",
     "output_type": "stream",
     "text": [
      "Predict Stock 37\n",
      "Predict Stock 37 | Predict Day 478\n",
      "Predict Stock 37 | Predict Day 478 | Predict Time 0~270\n",
      "Predict Stock 37 | Predict Day 478 | Predict Time 280~550\n",
      "Predict Stock 37 | Predict Day 479\n",
      "Predict Stock 37 | Predict Day 479 | Predict Time 0~270\n",
      "Predict Stock 37 | Predict Day 479 | Predict Time 280~550\n",
      "Predict Stock 37 | Predict Day 480\n",
      "Predict Stock 37 | Predict Day 480 | Predict Time 0~270\n",
      "Predict Stock 37 | Predict Day 480 | Predict Time 280~550\n"
     ]
    },
    {
     "name": "stderr",
     "output_type": "stream",
     "text": [
      " 19%|█▉        | 38/200 [37:03<2:46:26, 61.64s/it]"
     ]
    },
    {
     "name": "stdout",
     "output_type": "stream",
     "text": [
      "Predict Stock 38\n",
      "Predict Stock 38 | Predict Day 478\n",
      "Predict Stock 38 | Predict Day 478 | Predict Time 0~270\n",
      "Predict Stock 38 | Predict Day 478 | Predict Time 280~550\n",
      "Predict Stock 38 | Predict Day 479\n",
      "Predict Stock 38 | Predict Day 479 | Predict Time 0~270\n",
      "Predict Stock 38 | Predict Day 479 | Predict Time 280~550\n",
      "Predict Stock 38 | Predict Day 480\n",
      "Predict Stock 38 | Predict Day 480 | Predict Time 0~270\n",
      "Predict Stock 38 | Predict Day 480 | Predict Time 280~550\n"
     ]
    },
    {
     "name": "stderr",
     "output_type": "stream",
     "text": [
      " 19%|█▉        | 38/200 [40:59<2:54:45, 64.73s/it]\n"
     ]
    },
    {
     "ename": "KeyboardInterrupt",
     "evalue": "",
     "output_type": "error",
     "traceback": [
      "\u001b[0;31m---------------------------------------------------------------------------\u001b[0m",
      "\u001b[0;31mKeyboardInterrupt\u001b[0m                         Traceback (most recent call last)",
      "Cell \u001b[0;32mIn[154], line 61\u001b[0m\n\u001b[1;32m     55\u001b[0m \u001b[38;5;28mprint\u001b[39m(\u001b[38;5;124mf\u001b[39m\u001b[38;5;124m\"\u001b[39m\u001b[38;5;124mPredict Stock \u001b[39m\u001b[38;5;132;01m{\u001b[39;00mstock_idx\u001b[38;5;132;01m}\u001b[39;00m\u001b[38;5;124m | Predict Day \u001b[39m\u001b[38;5;132;01m{\u001b[39;00m\u001b[38;5;241m478\u001b[39m\u001b[38;5;250m \u001b[39m\u001b[38;5;241m+\u001b[39m\u001b[38;5;250m \u001b[39mi\u001b[38;5;132;01m}\u001b[39;00m\u001b[38;5;124m | Predict Time \u001b[39m\u001b[38;5;132;01m{\u001b[39;00mj\u001b[38;5;241m*\u001b[39m\u001b[38;5;241m280\u001b[39m\u001b[38;5;132;01m}\u001b[39;00m\u001b[38;5;124m~\u001b[39m\u001b[38;5;132;01m{\u001b[39;00m(j\u001b[38;5;241m+\u001b[39m\u001b[38;5;241m1\u001b[39m)\u001b[38;5;241m*\u001b[39m\u001b[38;5;241m280\u001b[39m\u001b[38;5;250m \u001b[39m\u001b[38;5;241m-\u001b[39m\u001b[38;5;250m \u001b[39m\u001b[38;5;241m10\u001b[39m\u001b[38;5;132;01m}\u001b[39;00m\u001b[38;5;124m\"\u001b[39m)\n\u001b[1;32m     56\u001b[0m model \u001b[38;5;241m=\u001b[39m ARIMA(date_train, order\u001b[38;5;241m=\u001b[39m(\n\u001b[1;32m     57\u001b[0m                 p_estimated(date_train\u001b[38;5;241m.\u001b[39mto_numpy()),\n\u001b[1;32m     58\u001b[0m                 d_estimated(),\n\u001b[1;32m     59\u001b[0m                 q_estimated(date_train\u001b[38;5;241m.\u001b[39mto_numpy())),\n\u001b[1;32m     60\u001b[0m             )\n\u001b[0;32m---> 61\u001b[0m fitted \u001b[38;5;241m=\u001b[39m \u001b[43mmodel\u001b[49m\u001b[38;5;241;43m.\u001b[39;49m\u001b[43mfit\u001b[49m\u001b[43m(\u001b[49m\u001b[43m)\u001b[49m\n\u001b[1;32m     62\u001b[0m series \u001b[38;5;241m=\u001b[39m fitted\u001b[38;5;241m.\u001b[39mforecast(\u001b[38;5;241m28\u001b[39m)\n\u001b[1;32m     63\u001b[0m cur_dataframe \u001b[38;5;241m=\u001b[39m pd\u001b[38;5;241m.\u001b[39mDataFrame(series)\n",
      "File \u001b[0;32m~/Documents/NCKU_SOC/2023-Fall-Courses/Machine-Learning/Homework/final/.venv/lib/python3.10/site-packages/statsmodels/tsa/arima/model.py:395\u001b[0m, in \u001b[0;36mARIMA.fit\u001b[0;34m(self, start_params, transformed, includes_fixed, method, method_kwargs, gls, gls_kwargs, cov_type, cov_kwds, return_params, low_memory)\u001b[0m\n\u001b[1;32m    392\u001b[0m \u001b[38;5;28;01melse\u001b[39;00m:\n\u001b[1;32m    393\u001b[0m     method_kwargs\u001b[38;5;241m.\u001b[39msetdefault(\u001b[38;5;124m'\u001b[39m\u001b[38;5;124mdisp\u001b[39m\u001b[38;5;124m'\u001b[39m, \u001b[38;5;241m0\u001b[39m)\n\u001b[0;32m--> 395\u001b[0m     res \u001b[38;5;241m=\u001b[39m \u001b[38;5;28;43msuper\u001b[39;49m\u001b[43m(\u001b[49m\u001b[43m)\u001b[49m\u001b[38;5;241;43m.\u001b[39;49m\u001b[43mfit\u001b[49m\u001b[43m(\u001b[49m\n\u001b[1;32m    396\u001b[0m \u001b[43m        \u001b[49m\u001b[43mreturn_params\u001b[49m\u001b[38;5;241;43m=\u001b[39;49m\u001b[43mreturn_params\u001b[49m\u001b[43m,\u001b[49m\u001b[43m \u001b[49m\u001b[43mlow_memory\u001b[49m\u001b[38;5;241;43m=\u001b[39;49m\u001b[43mlow_memory\u001b[49m\u001b[43m,\u001b[49m\n\u001b[1;32m    397\u001b[0m \u001b[43m        \u001b[49m\u001b[43mcov_type\u001b[49m\u001b[38;5;241;43m=\u001b[39;49m\u001b[43mcov_type\u001b[49m\u001b[43m,\u001b[49m\u001b[43m \u001b[49m\u001b[43mcov_kwds\u001b[49m\u001b[38;5;241;43m=\u001b[39;49m\u001b[43mcov_kwds\u001b[49m\u001b[43m,\u001b[49m\u001b[43m \u001b[49m\u001b[38;5;241;43m*\u001b[39;49m\u001b[38;5;241;43m*\u001b[39;49m\u001b[43mmethod_kwargs\u001b[49m\u001b[43m)\u001b[49m\n\u001b[1;32m    398\u001b[0m     \u001b[38;5;28;01mif\u001b[39;00m \u001b[38;5;129;01mnot\u001b[39;00m return_params:\n\u001b[1;32m    399\u001b[0m         res\u001b[38;5;241m.\u001b[39mfit_details \u001b[38;5;241m=\u001b[39m res\u001b[38;5;241m.\u001b[39mmlefit\n",
      "File \u001b[0;32m~/Documents/NCKU_SOC/2023-Fall-Courses/Machine-Learning/Homework/final/.venv/lib/python3.10/site-packages/statsmodels/tsa/statespace/mlemodel.py:704\u001b[0m, in \u001b[0;36mMLEModel.fit\u001b[0;34m(self, start_params, transformed, includes_fixed, cov_type, cov_kwds, method, maxiter, full_output, disp, callback, return_params, optim_score, optim_complex_step, optim_hessian, flags, low_memory, **kwargs)\u001b[0m\n\u001b[1;32m    702\u001b[0m         flags[\u001b[38;5;124m'\u001b[39m\u001b[38;5;124mhessian_method\u001b[39m\u001b[38;5;124m'\u001b[39m] \u001b[38;5;241m=\u001b[39m optim_hessian\n\u001b[1;32m    703\u001b[0m     fargs \u001b[38;5;241m=\u001b[39m (flags,)\n\u001b[0;32m--> 704\u001b[0m     mlefit \u001b[38;5;241m=\u001b[39m \u001b[38;5;28;43msuper\u001b[39;49m\u001b[43m(\u001b[49m\u001b[43mMLEModel\u001b[49m\u001b[43m,\u001b[49m\u001b[43m \u001b[49m\u001b[38;5;28;43mself\u001b[39;49m\u001b[43m)\u001b[49m\u001b[38;5;241;43m.\u001b[39;49m\u001b[43mfit\u001b[49m\u001b[43m(\u001b[49m\u001b[43mstart_params\u001b[49m\u001b[43m,\u001b[49m\u001b[43m \u001b[49m\u001b[43mmethod\u001b[49m\u001b[38;5;241;43m=\u001b[39;49m\u001b[43mmethod\u001b[49m\u001b[43m,\u001b[49m\n\u001b[1;32m    705\u001b[0m \u001b[43m                                       \u001b[49m\u001b[43mfargs\u001b[49m\u001b[38;5;241;43m=\u001b[39;49m\u001b[43mfargs\u001b[49m\u001b[43m,\u001b[49m\n\u001b[1;32m    706\u001b[0m \u001b[43m                                       \u001b[49m\u001b[43mmaxiter\u001b[49m\u001b[38;5;241;43m=\u001b[39;49m\u001b[43mmaxiter\u001b[49m\u001b[43m,\u001b[49m\n\u001b[1;32m    707\u001b[0m \u001b[43m                                       \u001b[49m\u001b[43mfull_output\u001b[49m\u001b[38;5;241;43m=\u001b[39;49m\u001b[43mfull_output\u001b[49m\u001b[43m,\u001b[49m\n\u001b[1;32m    708\u001b[0m \u001b[43m                                       \u001b[49m\u001b[43mdisp\u001b[49m\u001b[38;5;241;43m=\u001b[39;49m\u001b[43mdisp\u001b[49m\u001b[43m,\u001b[49m\u001b[43m \u001b[49m\u001b[43mcallback\u001b[49m\u001b[38;5;241;43m=\u001b[39;49m\u001b[43mcallback\u001b[49m\u001b[43m,\u001b[49m\n\u001b[1;32m    709\u001b[0m \u001b[43m                                       \u001b[49m\u001b[43mskip_hessian\u001b[49m\u001b[38;5;241;43m=\u001b[39;49m\u001b[38;5;28;43;01mTrue\u001b[39;49;00m\u001b[43m,\u001b[49m\u001b[43m \u001b[49m\u001b[38;5;241;43m*\u001b[39;49m\u001b[38;5;241;43m*\u001b[39;49m\u001b[43mkwargs\u001b[49m\u001b[43m)\u001b[49m\n\u001b[1;32m    711\u001b[0m \u001b[38;5;66;03m# Just return the fitted parameters if requested\u001b[39;00m\n\u001b[1;32m    712\u001b[0m \u001b[38;5;28;01mif\u001b[39;00m return_params:\n",
      "File \u001b[0;32m~/Documents/NCKU_SOC/2023-Fall-Courses/Machine-Learning/Homework/final/.venv/lib/python3.10/site-packages/statsmodels/base/model.py:566\u001b[0m, in \u001b[0;36mLikelihoodModel.fit\u001b[0;34m(self, start_params, method, maxiter, full_output, disp, fargs, callback, retall, skip_hessian, **kwargs)\u001b[0m\n\u001b[1;32m    563\u001b[0m     \u001b[38;5;28;01mdel\u001b[39;00m kwargs[\u001b[38;5;124m\"\u001b[39m\u001b[38;5;124muse_t\u001b[39m\u001b[38;5;124m\"\u001b[39m]\n\u001b[1;32m    565\u001b[0m optimizer \u001b[38;5;241m=\u001b[39m Optimizer()\n\u001b[0;32m--> 566\u001b[0m xopt, retvals, optim_settings \u001b[38;5;241m=\u001b[39m \u001b[43moptimizer\u001b[49m\u001b[38;5;241;43m.\u001b[39;49m\u001b[43m_fit\u001b[49m\u001b[43m(\u001b[49m\u001b[43mf\u001b[49m\u001b[43m,\u001b[49m\u001b[43m \u001b[49m\u001b[43mscore\u001b[49m\u001b[43m,\u001b[49m\u001b[43m \u001b[49m\u001b[43mstart_params\u001b[49m\u001b[43m,\u001b[49m\n\u001b[1;32m    567\u001b[0m \u001b[43m                                               \u001b[49m\u001b[43mfargs\u001b[49m\u001b[43m,\u001b[49m\u001b[43m \u001b[49m\u001b[43mkwargs\u001b[49m\u001b[43m,\u001b[49m\n\u001b[1;32m    568\u001b[0m \u001b[43m                                               \u001b[49m\u001b[43mhessian\u001b[49m\u001b[38;5;241;43m=\u001b[39;49m\u001b[43mhess\u001b[49m\u001b[43m,\u001b[49m\n\u001b[1;32m    569\u001b[0m \u001b[43m                                               \u001b[49m\u001b[43mmethod\u001b[49m\u001b[38;5;241;43m=\u001b[39;49m\u001b[43mmethod\u001b[49m\u001b[43m,\u001b[49m\n\u001b[1;32m    570\u001b[0m \u001b[43m                                               \u001b[49m\u001b[43mdisp\u001b[49m\u001b[38;5;241;43m=\u001b[39;49m\u001b[43mdisp\u001b[49m\u001b[43m,\u001b[49m\n\u001b[1;32m    571\u001b[0m \u001b[43m                                               \u001b[49m\u001b[43mmaxiter\u001b[49m\u001b[38;5;241;43m=\u001b[39;49m\u001b[43mmaxiter\u001b[49m\u001b[43m,\u001b[49m\n\u001b[1;32m    572\u001b[0m \u001b[43m                                               \u001b[49m\u001b[43mcallback\u001b[49m\u001b[38;5;241;43m=\u001b[39;49m\u001b[43mcallback\u001b[49m\u001b[43m,\u001b[49m\n\u001b[1;32m    573\u001b[0m \u001b[43m                                               \u001b[49m\u001b[43mretall\u001b[49m\u001b[38;5;241;43m=\u001b[39;49m\u001b[43mretall\u001b[49m\u001b[43m,\u001b[49m\n\u001b[1;32m    574\u001b[0m \u001b[43m                                               \u001b[49m\u001b[43mfull_output\u001b[49m\u001b[38;5;241;43m=\u001b[39;49m\u001b[43mfull_output\u001b[49m\u001b[43m)\u001b[49m\n\u001b[1;32m    575\u001b[0m \u001b[38;5;66;03m# Restore cov_type, cov_kwds and use_t\u001b[39;00m\n\u001b[1;32m    576\u001b[0m optim_settings\u001b[38;5;241m.\u001b[39mupdate(kwds)\n",
      "File \u001b[0;32m~/Documents/NCKU_SOC/2023-Fall-Courses/Machine-Learning/Homework/final/.venv/lib/python3.10/site-packages/statsmodels/base/optimizer.py:242\u001b[0m, in \u001b[0;36mOptimizer._fit\u001b[0;34m(self, objective, gradient, start_params, fargs, kwargs, hessian, method, maxiter, full_output, disp, callback, retall)\u001b[0m\n\u001b[1;32m    239\u001b[0m     fit_funcs\u001b[38;5;241m.\u001b[39mupdate(extra_fit_funcs)\n\u001b[1;32m    241\u001b[0m func \u001b[38;5;241m=\u001b[39m fit_funcs[method]\n\u001b[0;32m--> 242\u001b[0m xopt, retvals \u001b[38;5;241m=\u001b[39m \u001b[43mfunc\u001b[49m\u001b[43m(\u001b[49m\u001b[43mobjective\u001b[49m\u001b[43m,\u001b[49m\u001b[43m \u001b[49m\u001b[43mgradient\u001b[49m\u001b[43m,\u001b[49m\u001b[43m \u001b[49m\u001b[43mstart_params\u001b[49m\u001b[43m,\u001b[49m\u001b[43m \u001b[49m\u001b[43mfargs\u001b[49m\u001b[43m,\u001b[49m\u001b[43m \u001b[49m\u001b[43mkwargs\u001b[49m\u001b[43m,\u001b[49m\n\u001b[1;32m    243\u001b[0m \u001b[43m                     \u001b[49m\u001b[43mdisp\u001b[49m\u001b[38;5;241;43m=\u001b[39;49m\u001b[43mdisp\u001b[49m\u001b[43m,\u001b[49m\u001b[43m \u001b[49m\u001b[43mmaxiter\u001b[49m\u001b[38;5;241;43m=\u001b[39;49m\u001b[43mmaxiter\u001b[49m\u001b[43m,\u001b[49m\u001b[43m \u001b[49m\u001b[43mcallback\u001b[49m\u001b[38;5;241;43m=\u001b[39;49m\u001b[43mcallback\u001b[49m\u001b[43m,\u001b[49m\n\u001b[1;32m    244\u001b[0m \u001b[43m                     \u001b[49m\u001b[43mretall\u001b[49m\u001b[38;5;241;43m=\u001b[39;49m\u001b[43mretall\u001b[49m\u001b[43m,\u001b[49m\u001b[43m \u001b[49m\u001b[43mfull_output\u001b[49m\u001b[38;5;241;43m=\u001b[39;49m\u001b[43mfull_output\u001b[49m\u001b[43m,\u001b[49m\n\u001b[1;32m    245\u001b[0m \u001b[43m                     \u001b[49m\u001b[43mhess\u001b[49m\u001b[38;5;241;43m=\u001b[39;49m\u001b[43mhessian\u001b[49m\u001b[43m)\u001b[49m\n\u001b[1;32m    247\u001b[0m optim_settings \u001b[38;5;241m=\u001b[39m {\u001b[38;5;124m'\u001b[39m\u001b[38;5;124moptimizer\u001b[39m\u001b[38;5;124m'\u001b[39m: method, \u001b[38;5;124m'\u001b[39m\u001b[38;5;124mstart_params\u001b[39m\u001b[38;5;124m'\u001b[39m: start_params,\n\u001b[1;32m    248\u001b[0m                   \u001b[38;5;124m'\u001b[39m\u001b[38;5;124mmaxiter\u001b[39m\u001b[38;5;124m'\u001b[39m: maxiter, \u001b[38;5;124m'\u001b[39m\u001b[38;5;124mfull_output\u001b[39m\u001b[38;5;124m'\u001b[39m: full_output,\n\u001b[1;32m    249\u001b[0m                   \u001b[38;5;124m'\u001b[39m\u001b[38;5;124mdisp\u001b[39m\u001b[38;5;124m'\u001b[39m: disp, \u001b[38;5;124m'\u001b[39m\u001b[38;5;124mfargs\u001b[39m\u001b[38;5;124m'\u001b[39m: fargs, \u001b[38;5;124m'\u001b[39m\u001b[38;5;124mcallback\u001b[39m\u001b[38;5;124m'\u001b[39m: callback,\n\u001b[1;32m    250\u001b[0m                   \u001b[38;5;124m'\u001b[39m\u001b[38;5;124mretall\u001b[39m\u001b[38;5;124m'\u001b[39m: retall, \u001b[38;5;124m\"\u001b[39m\u001b[38;5;124mextra_fit_funcs\u001b[39m\u001b[38;5;124m\"\u001b[39m: extra_fit_funcs}\n\u001b[1;32m    251\u001b[0m optim_settings\u001b[38;5;241m.\u001b[39mupdate(kwargs)\n",
      "File \u001b[0;32m~/Documents/NCKU_SOC/2023-Fall-Courses/Machine-Learning/Homework/final/.venv/lib/python3.10/site-packages/statsmodels/base/optimizer.py:659\u001b[0m, in \u001b[0;36m_fit_lbfgs\u001b[0;34m(f, score, start_params, fargs, kwargs, disp, maxiter, callback, retall, full_output, hess)\u001b[0m\n\u001b[1;32m    656\u001b[0m \u001b[38;5;28;01melif\u001b[39;00m approx_grad:\n\u001b[1;32m    657\u001b[0m     func \u001b[38;5;241m=\u001b[39m f\n\u001b[0;32m--> 659\u001b[0m retvals \u001b[38;5;241m=\u001b[39m \u001b[43moptimize\u001b[49m\u001b[38;5;241;43m.\u001b[39;49m\u001b[43mfmin_l_bfgs_b\u001b[49m\u001b[43m(\u001b[49m\u001b[43mfunc\u001b[49m\u001b[43m,\u001b[49m\u001b[43m \u001b[49m\u001b[43mstart_params\u001b[49m\u001b[43m,\u001b[49m\u001b[43m \u001b[49m\u001b[43mmaxiter\u001b[49m\u001b[38;5;241;43m=\u001b[39;49m\u001b[43mmaxiter\u001b[49m\u001b[43m,\u001b[49m\n\u001b[1;32m    660\u001b[0m \u001b[43m                                 \u001b[49m\u001b[43mcallback\u001b[49m\u001b[38;5;241;43m=\u001b[39;49m\u001b[43mcallback\u001b[49m\u001b[43m,\u001b[49m\u001b[43m \u001b[49m\u001b[43margs\u001b[49m\u001b[38;5;241;43m=\u001b[39;49m\u001b[43mfargs\u001b[49m\u001b[43m,\u001b[49m\n\u001b[1;32m    661\u001b[0m \u001b[43m                                 \u001b[49m\u001b[43mbounds\u001b[49m\u001b[38;5;241;43m=\u001b[39;49m\u001b[43mbounds\u001b[49m\u001b[43m,\u001b[49m\u001b[43m \u001b[49m\u001b[43mdisp\u001b[49m\u001b[38;5;241;43m=\u001b[39;49m\u001b[43mdisp\u001b[49m\u001b[43m,\u001b[49m\n\u001b[1;32m    662\u001b[0m \u001b[43m                                 \u001b[49m\u001b[38;5;241;43m*\u001b[39;49m\u001b[38;5;241;43m*\u001b[39;49m\u001b[43mextra_kwargs\u001b[49m\u001b[43m)\u001b[49m\n\u001b[1;32m    664\u001b[0m \u001b[38;5;28;01mif\u001b[39;00m full_output:\n\u001b[1;32m    665\u001b[0m     xopt, fopt, d \u001b[38;5;241m=\u001b[39m retvals\n",
      "File \u001b[0;32m~/Documents/NCKU_SOC/2023-Fall-Courses/Machine-Learning/Homework/final/.venv/lib/python3.10/site-packages/scipy/optimize/_lbfgsb_py.py:199\u001b[0m, in \u001b[0;36mfmin_l_bfgs_b\u001b[0;34m(func, x0, fprime, args, approx_grad, bounds, m, factr, pgtol, epsilon, iprint, maxfun, maxiter, disp, callback, maxls)\u001b[0m\n\u001b[1;32m    187\u001b[0m callback \u001b[38;5;241m=\u001b[39m _wrap_callback(callback)\n\u001b[1;32m    188\u001b[0m opts \u001b[38;5;241m=\u001b[39m {\u001b[38;5;124m'\u001b[39m\u001b[38;5;124mdisp\u001b[39m\u001b[38;5;124m'\u001b[39m: disp,\n\u001b[1;32m    189\u001b[0m         \u001b[38;5;124m'\u001b[39m\u001b[38;5;124miprint\u001b[39m\u001b[38;5;124m'\u001b[39m: iprint,\n\u001b[1;32m    190\u001b[0m         \u001b[38;5;124m'\u001b[39m\u001b[38;5;124mmaxcor\u001b[39m\u001b[38;5;124m'\u001b[39m: m,\n\u001b[0;32m   (...)\u001b[0m\n\u001b[1;32m    196\u001b[0m         \u001b[38;5;124m'\u001b[39m\u001b[38;5;124mcallback\u001b[39m\u001b[38;5;124m'\u001b[39m: callback,\n\u001b[1;32m    197\u001b[0m         \u001b[38;5;124m'\u001b[39m\u001b[38;5;124mmaxls\u001b[39m\u001b[38;5;124m'\u001b[39m: maxls}\n\u001b[0;32m--> 199\u001b[0m res \u001b[38;5;241m=\u001b[39m \u001b[43m_minimize_lbfgsb\u001b[49m\u001b[43m(\u001b[49m\u001b[43mfun\u001b[49m\u001b[43m,\u001b[49m\u001b[43m \u001b[49m\u001b[43mx0\u001b[49m\u001b[43m,\u001b[49m\u001b[43m \u001b[49m\u001b[43margs\u001b[49m\u001b[38;5;241;43m=\u001b[39;49m\u001b[43margs\u001b[49m\u001b[43m,\u001b[49m\u001b[43m \u001b[49m\u001b[43mjac\u001b[49m\u001b[38;5;241;43m=\u001b[39;49m\u001b[43mjac\u001b[49m\u001b[43m,\u001b[49m\u001b[43m \u001b[49m\u001b[43mbounds\u001b[49m\u001b[38;5;241;43m=\u001b[39;49m\u001b[43mbounds\u001b[49m\u001b[43m,\u001b[49m\n\u001b[1;32m    200\u001b[0m \u001b[43m                       \u001b[49m\u001b[38;5;241;43m*\u001b[39;49m\u001b[38;5;241;43m*\u001b[39;49m\u001b[43mopts\u001b[49m\u001b[43m)\u001b[49m\n\u001b[1;32m    201\u001b[0m d \u001b[38;5;241m=\u001b[39m {\u001b[38;5;124m'\u001b[39m\u001b[38;5;124mgrad\u001b[39m\u001b[38;5;124m'\u001b[39m: res[\u001b[38;5;124m'\u001b[39m\u001b[38;5;124mjac\u001b[39m\u001b[38;5;124m'\u001b[39m],\n\u001b[1;32m    202\u001b[0m      \u001b[38;5;124m'\u001b[39m\u001b[38;5;124mtask\u001b[39m\u001b[38;5;124m'\u001b[39m: res[\u001b[38;5;124m'\u001b[39m\u001b[38;5;124mmessage\u001b[39m\u001b[38;5;124m'\u001b[39m],\n\u001b[1;32m    203\u001b[0m      \u001b[38;5;124m'\u001b[39m\u001b[38;5;124mfuncalls\u001b[39m\u001b[38;5;124m'\u001b[39m: res[\u001b[38;5;124m'\u001b[39m\u001b[38;5;124mnfev\u001b[39m\u001b[38;5;124m'\u001b[39m],\n\u001b[1;32m    204\u001b[0m      \u001b[38;5;124m'\u001b[39m\u001b[38;5;124mnit\u001b[39m\u001b[38;5;124m'\u001b[39m: res[\u001b[38;5;124m'\u001b[39m\u001b[38;5;124mnit\u001b[39m\u001b[38;5;124m'\u001b[39m],\n\u001b[1;32m    205\u001b[0m      \u001b[38;5;124m'\u001b[39m\u001b[38;5;124mwarnflag\u001b[39m\u001b[38;5;124m'\u001b[39m: res[\u001b[38;5;124m'\u001b[39m\u001b[38;5;124mstatus\u001b[39m\u001b[38;5;124m'\u001b[39m]}\n\u001b[1;32m    206\u001b[0m f \u001b[38;5;241m=\u001b[39m res[\u001b[38;5;124m'\u001b[39m\u001b[38;5;124mfun\u001b[39m\u001b[38;5;124m'\u001b[39m]\n",
      "File \u001b[0;32m~/Documents/NCKU_SOC/2023-Fall-Courses/Machine-Learning/Homework/final/.venv/lib/python3.10/site-packages/scipy/optimize/_lbfgsb_py.py:365\u001b[0m, in \u001b[0;36m_minimize_lbfgsb\u001b[0;34m(fun, x0, args, jac, bounds, disp, maxcor, ftol, gtol, eps, maxfun, maxiter, iprint, callback, maxls, finite_diff_rel_step, **unknown_options)\u001b[0m\n\u001b[1;32m    359\u001b[0m task_str \u001b[38;5;241m=\u001b[39m task\u001b[38;5;241m.\u001b[39mtobytes()\n\u001b[1;32m    360\u001b[0m \u001b[38;5;28;01mif\u001b[39;00m task_str\u001b[38;5;241m.\u001b[39mstartswith(\u001b[38;5;124mb\u001b[39m\u001b[38;5;124m'\u001b[39m\u001b[38;5;124mFG\u001b[39m\u001b[38;5;124m'\u001b[39m):\n\u001b[1;32m    361\u001b[0m     \u001b[38;5;66;03m# The minimization routine wants f and g at the current x.\u001b[39;00m\n\u001b[1;32m    362\u001b[0m     \u001b[38;5;66;03m# Note that interruptions due to maxfun are postponed\u001b[39;00m\n\u001b[1;32m    363\u001b[0m     \u001b[38;5;66;03m# until the completion of the current minimization iteration.\u001b[39;00m\n\u001b[1;32m    364\u001b[0m     \u001b[38;5;66;03m# Overwrite f and g:\u001b[39;00m\n\u001b[0;32m--> 365\u001b[0m     f, g \u001b[38;5;241m=\u001b[39m \u001b[43mfunc_and_grad\u001b[49m\u001b[43m(\u001b[49m\u001b[43mx\u001b[49m\u001b[43m)\u001b[49m\n\u001b[1;32m    366\u001b[0m \u001b[38;5;28;01melif\u001b[39;00m task_str\u001b[38;5;241m.\u001b[39mstartswith(\u001b[38;5;124mb\u001b[39m\u001b[38;5;124m'\u001b[39m\u001b[38;5;124mNEW_X\u001b[39m\u001b[38;5;124m'\u001b[39m):\n\u001b[1;32m    367\u001b[0m     \u001b[38;5;66;03m# new iteration\u001b[39;00m\n\u001b[1;32m    368\u001b[0m     n_iterations \u001b[38;5;241m+\u001b[39m\u001b[38;5;241m=\u001b[39m \u001b[38;5;241m1\u001b[39m\n",
      "File \u001b[0;32m~/Documents/NCKU_SOC/2023-Fall-Courses/Machine-Learning/Homework/final/.venv/lib/python3.10/site-packages/scipy/optimize/_differentiable_functions.py:285\u001b[0m, in \u001b[0;36mScalarFunction.fun_and_grad\u001b[0;34m(self, x)\u001b[0m\n\u001b[1;32m    283\u001b[0m \u001b[38;5;28;01mif\u001b[39;00m \u001b[38;5;129;01mnot\u001b[39;00m np\u001b[38;5;241m.\u001b[39marray_equal(x, \u001b[38;5;28mself\u001b[39m\u001b[38;5;241m.\u001b[39mx):\n\u001b[1;32m    284\u001b[0m     \u001b[38;5;28mself\u001b[39m\u001b[38;5;241m.\u001b[39m_update_x_impl(x)\n\u001b[0;32m--> 285\u001b[0m \u001b[38;5;28;43mself\u001b[39;49m\u001b[38;5;241;43m.\u001b[39;49m\u001b[43m_update_fun\u001b[49m\u001b[43m(\u001b[49m\u001b[43m)\u001b[49m\n\u001b[1;32m    286\u001b[0m \u001b[38;5;28mself\u001b[39m\u001b[38;5;241m.\u001b[39m_update_grad()\n\u001b[1;32m    287\u001b[0m \u001b[38;5;28;01mreturn\u001b[39;00m \u001b[38;5;28mself\u001b[39m\u001b[38;5;241m.\u001b[39mf, \u001b[38;5;28mself\u001b[39m\u001b[38;5;241m.\u001b[39mg\n",
      "File \u001b[0;32m~/Documents/NCKU_SOC/2023-Fall-Courses/Machine-Learning/Homework/final/.venv/lib/python3.10/site-packages/scipy/optimize/_differentiable_functions.py:251\u001b[0m, in \u001b[0;36mScalarFunction._update_fun\u001b[0;34m(self)\u001b[0m\n\u001b[1;32m    249\u001b[0m \u001b[38;5;28;01mdef\u001b[39;00m \u001b[38;5;21m_update_fun\u001b[39m(\u001b[38;5;28mself\u001b[39m):\n\u001b[1;32m    250\u001b[0m     \u001b[38;5;28;01mif\u001b[39;00m \u001b[38;5;129;01mnot\u001b[39;00m \u001b[38;5;28mself\u001b[39m\u001b[38;5;241m.\u001b[39mf_updated:\n\u001b[0;32m--> 251\u001b[0m         \u001b[38;5;28;43mself\u001b[39;49m\u001b[38;5;241;43m.\u001b[39;49m\u001b[43m_update_fun_impl\u001b[49m\u001b[43m(\u001b[49m\u001b[43m)\u001b[49m\n\u001b[1;32m    252\u001b[0m         \u001b[38;5;28mself\u001b[39m\u001b[38;5;241m.\u001b[39mf_updated \u001b[38;5;241m=\u001b[39m \u001b[38;5;28;01mTrue\u001b[39;00m\n",
      "File \u001b[0;32m~/Documents/NCKU_SOC/2023-Fall-Courses/Machine-Learning/Homework/final/.venv/lib/python3.10/site-packages/scipy/optimize/_differentiable_functions.py:155\u001b[0m, in \u001b[0;36mScalarFunction.__init__.<locals>.update_fun\u001b[0;34m()\u001b[0m\n\u001b[1;32m    154\u001b[0m \u001b[38;5;28;01mdef\u001b[39;00m \u001b[38;5;21mupdate_fun\u001b[39m():\n\u001b[0;32m--> 155\u001b[0m     \u001b[38;5;28mself\u001b[39m\u001b[38;5;241m.\u001b[39mf \u001b[38;5;241m=\u001b[39m \u001b[43mfun_wrapped\u001b[49m\u001b[43m(\u001b[49m\u001b[38;5;28;43mself\u001b[39;49m\u001b[38;5;241;43m.\u001b[39;49m\u001b[43mx\u001b[49m\u001b[43m)\u001b[49m\n",
      "File \u001b[0;32m~/Documents/NCKU_SOC/2023-Fall-Courses/Machine-Learning/Homework/final/.venv/lib/python3.10/site-packages/scipy/optimize/_differentiable_functions.py:137\u001b[0m, in \u001b[0;36mScalarFunction.__init__.<locals>.fun_wrapped\u001b[0;34m(x)\u001b[0m\n\u001b[1;32m    133\u001b[0m \u001b[38;5;28mself\u001b[39m\u001b[38;5;241m.\u001b[39mnfev \u001b[38;5;241m+\u001b[39m\u001b[38;5;241m=\u001b[39m \u001b[38;5;241m1\u001b[39m\n\u001b[1;32m    134\u001b[0m \u001b[38;5;66;03m# Send a copy because the user may overwrite it.\u001b[39;00m\n\u001b[1;32m    135\u001b[0m \u001b[38;5;66;03m# Overwriting results in undefined behaviour because\u001b[39;00m\n\u001b[1;32m    136\u001b[0m \u001b[38;5;66;03m# fun(self.x) will change self.x, with the two no longer linked.\u001b[39;00m\n\u001b[0;32m--> 137\u001b[0m fx \u001b[38;5;241m=\u001b[39m \u001b[43mfun\u001b[49m\u001b[43m(\u001b[49m\u001b[43mnp\u001b[49m\u001b[38;5;241;43m.\u001b[39;49m\u001b[43mcopy\u001b[49m\u001b[43m(\u001b[49m\u001b[43mx\u001b[49m\u001b[43m)\u001b[49m\u001b[43m,\u001b[49m\u001b[43m \u001b[49m\u001b[38;5;241;43m*\u001b[39;49m\u001b[43margs\u001b[49m\u001b[43m)\u001b[49m\n\u001b[1;32m    138\u001b[0m \u001b[38;5;66;03m# Make sure the function returns a true scalar\u001b[39;00m\n\u001b[1;32m    139\u001b[0m \u001b[38;5;28;01mif\u001b[39;00m \u001b[38;5;129;01mnot\u001b[39;00m np\u001b[38;5;241m.\u001b[39misscalar(fx):\n",
      "File \u001b[0;32m~/Documents/NCKU_SOC/2023-Fall-Courses/Machine-Learning/Homework/final/.venv/lib/python3.10/site-packages/statsmodels/base/model.py:534\u001b[0m, in \u001b[0;36mLikelihoodModel.fit.<locals>.f\u001b[0;34m(params, *args)\u001b[0m\n\u001b[1;32m    533\u001b[0m \u001b[38;5;28;01mdef\u001b[39;00m \u001b[38;5;21mf\u001b[39m(params, \u001b[38;5;241m*\u001b[39margs):\n\u001b[0;32m--> 534\u001b[0m     \u001b[38;5;28;01mreturn\u001b[39;00m \u001b[38;5;241m-\u001b[39m\u001b[38;5;28;43mself\u001b[39;49m\u001b[38;5;241;43m.\u001b[39;49m\u001b[43mloglike\u001b[49m\u001b[43m(\u001b[49m\u001b[43mparams\u001b[49m\u001b[43m,\u001b[49m\u001b[43m \u001b[49m\u001b[38;5;241;43m*\u001b[39;49m\u001b[43margs\u001b[49m\u001b[43m)\u001b[49m \u001b[38;5;241m/\u001b[39m nobs\n",
      "File \u001b[0;32m~/Documents/NCKU_SOC/2023-Fall-Courses/Machine-Learning/Homework/final/.venv/lib/python3.10/site-packages/statsmodels/tsa/statespace/mlemodel.py:939\u001b[0m, in \u001b[0;36mMLEModel.loglike\u001b[0;34m(self, params, *args, **kwargs)\u001b[0m\n\u001b[1;32m    936\u001b[0m \u001b[38;5;28;01mif\u001b[39;00m complex_step:\n\u001b[1;32m    937\u001b[0m     kwargs[\u001b[38;5;124m'\u001b[39m\u001b[38;5;124minversion_method\u001b[39m\u001b[38;5;124m'\u001b[39m] \u001b[38;5;241m=\u001b[39m INVERT_UNIVARIATE \u001b[38;5;241m|\u001b[39m SOLVE_LU\n\u001b[0;32m--> 939\u001b[0m loglike \u001b[38;5;241m=\u001b[39m \u001b[38;5;28;43mself\u001b[39;49m\u001b[38;5;241;43m.\u001b[39;49m\u001b[43mssm\u001b[49m\u001b[38;5;241;43m.\u001b[39;49m\u001b[43mloglike\u001b[49m\u001b[43m(\u001b[49m\u001b[43mcomplex_step\u001b[49m\u001b[38;5;241;43m=\u001b[39;49m\u001b[43mcomplex_step\u001b[49m\u001b[43m,\u001b[49m\u001b[43m \u001b[49m\u001b[38;5;241;43m*\u001b[39;49m\u001b[38;5;241;43m*\u001b[39;49m\u001b[43mkwargs\u001b[49m\u001b[43m)\u001b[49m\n\u001b[1;32m    941\u001b[0m \u001b[38;5;66;03m# Koopman, Shephard, and Doornik recommend maximizing the average\u001b[39;00m\n\u001b[1;32m    942\u001b[0m \u001b[38;5;66;03m# likelihood to avoid scale issues, but the averaging is done\u001b[39;00m\n\u001b[1;32m    943\u001b[0m \u001b[38;5;66;03m# automatically in the base model `fit` method\u001b[39;00m\n\u001b[1;32m    944\u001b[0m \u001b[38;5;28;01mreturn\u001b[39;00m loglike\n",
      "File \u001b[0;32m~/Documents/NCKU_SOC/2023-Fall-Courses/Machine-Learning/Homework/final/.venv/lib/python3.10/site-packages/statsmodels/tsa/statespace/kalman_filter.py:1001\u001b[0m, in \u001b[0;36mKalmanFilter.loglike\u001b[0;34m(self, **kwargs)\u001b[0m\n\u001b[1;32m    985\u001b[0m \u001b[38;5;250m\u001b[39m\u001b[38;5;124mr\u001b[39m\u001b[38;5;124;03m\"\"\"\u001b[39;00m\n\u001b[1;32m    986\u001b[0m \u001b[38;5;124;03mCalculate the loglikelihood associated with the statespace model.\u001b[39;00m\n\u001b[1;32m    987\u001b[0m \n\u001b[0;32m   (...)\u001b[0m\n\u001b[1;32m    997\u001b[0m \u001b[38;5;124;03m    The joint loglikelihood.\u001b[39;00m\n\u001b[1;32m    998\u001b[0m \u001b[38;5;124;03m\"\"\"\u001b[39;00m\n\u001b[1;32m    999\u001b[0m kwargs\u001b[38;5;241m.\u001b[39msetdefault(\u001b[38;5;124m'\u001b[39m\u001b[38;5;124mconserve_memory\u001b[39m\u001b[38;5;124m'\u001b[39m,\n\u001b[1;32m   1000\u001b[0m                   MEMORY_CONSERVE \u001b[38;5;241m^\u001b[39m MEMORY_NO_LIKELIHOOD)\n\u001b[0;32m-> 1001\u001b[0m kfilter \u001b[38;5;241m=\u001b[39m \u001b[38;5;28;43mself\u001b[39;49m\u001b[38;5;241;43m.\u001b[39;49m\u001b[43m_filter\u001b[49m\u001b[43m(\u001b[49m\u001b[38;5;241;43m*\u001b[39;49m\u001b[38;5;241;43m*\u001b[39;49m\u001b[43mkwargs\u001b[49m\u001b[43m)\u001b[49m\n\u001b[1;32m   1002\u001b[0m loglikelihood_burn \u001b[38;5;241m=\u001b[39m kwargs\u001b[38;5;241m.\u001b[39mget(\u001b[38;5;124m'\u001b[39m\u001b[38;5;124mloglikelihood_burn\u001b[39m\u001b[38;5;124m'\u001b[39m,\n\u001b[1;32m   1003\u001b[0m                                 \u001b[38;5;28mself\u001b[39m\u001b[38;5;241m.\u001b[39mloglikelihood_burn)\n\u001b[1;32m   1004\u001b[0m \u001b[38;5;28;01mif\u001b[39;00m \u001b[38;5;129;01mnot\u001b[39;00m (kwargs[\u001b[38;5;124m'\u001b[39m\u001b[38;5;124mconserve_memory\u001b[39m\u001b[38;5;124m'\u001b[39m] \u001b[38;5;241m&\u001b[39m MEMORY_NO_LIKELIHOOD):\n",
      "File \u001b[0;32m~/Documents/NCKU_SOC/2023-Fall-Courses/Machine-Learning/Homework/final/.venv/lib/python3.10/site-packages/statsmodels/tsa/statespace/kalman_filter.py:924\u001b[0m, in \u001b[0;36mKalmanFilter._filter\u001b[0;34m(self, filter_method, inversion_method, stability_method, conserve_memory, filter_timing, tolerance, loglikelihood_burn, complex_step)\u001b[0m\n\u001b[1;32m    921\u001b[0m \u001b[38;5;28mself\u001b[39m\u001b[38;5;241m.\u001b[39m_initialize_state(prefix\u001b[38;5;241m=\u001b[39mprefix, complex_step\u001b[38;5;241m=\u001b[39mcomplex_step)\n\u001b[1;32m    923\u001b[0m \u001b[38;5;66;03m# Run the filter\u001b[39;00m\n\u001b[0;32m--> 924\u001b[0m \u001b[43mkfilter\u001b[49m\u001b[43m(\u001b[49m\u001b[43m)\u001b[49m\n\u001b[1;32m    926\u001b[0m \u001b[38;5;28;01mreturn\u001b[39;00m kfilter\n",
      "\u001b[0;31mKeyboardInterrupt\u001b[0m: "
     ]
    }
   ],
   "source": [
    "import pandas as pd\n",
    "import numpy as np\n",
    "import warnings\n",
    "warnings.filterwarnings('ignore')\n",
    "from tqdm import tqdm\n",
    "from statsmodels.tsa.arima.model import ARIMA as ARIMA\n",
    "dtypes = {\n",
    "    'stock_id' : np.uint8,\n",
    "    'date_id' : np.uint16,\n",
    "    'seconds_in_bucket' : np.uint16,\n",
    "    'imbalance_buy_sell_flag' : np.int8,\n",
    "    'time_id' : np.uint16\n",
    "    }\n",
    "\n",
    "df = pd.read_csv('train.csv', dtype = dtypes)\n",
    "from statsmodels.tsa.stattools import pacf, acf\n",
    "def _cnt(array):\n",
    "    index = 0\n",
    "    for i, value in enumerate(array):\n",
    "        if value > 0.01:\n",
    "            index = i\n",
    "        else: break\n",
    "    return index\n",
    "\n",
    "def p_estimated(array:np.ndarray):\n",
    "    pacf_array = pacf(array)\n",
    "    return _cnt(pacf_array)\n",
    "\n",
    "def d_estimated():\n",
    "    return 1\n",
    "\n",
    "def q_estimated(array:np.ndarray):\n",
    "    acf_array = acf(array)\n",
    "    return _cnt(acf_array)\n",
    "\n",
    "def mae(y_true, y_pred):\n",
    "    return np.abs(y_true - y_pred).mean()\n",
    "\n",
    "train = df[df['date_id'] <= 477]\n",
    "valid = df[df['date_id'] > 477]\n",
    "train = df[['date_id', 'seconds_in_bucket', 'stock_id', 'target']].reset_index(drop=True)\n",
    "\n",
    "data_test_list = []\n",
    "for stock_idx in tqdm(range(0, 200)):\n",
    "    print(f\"Predict Stock {stock_idx}\")\n",
    "    date_train = train[train['stock_id'] == stock_idx]\n",
    "    date_train = date_train.drop(['date_id'], axis = 1)\n",
    "    date_train = date_train.drop(['stock_id'], axis = 1)\n",
    "    date_train = date_train.drop(['seconds_in_bucket'], axis = 1)\n",
    "    data_test = pd.DataFrame()\n",
    "    for i in range(3):\n",
    "        # 280 秒為一個單位 0~270/280~550\n",
    "        print(f\"Predict Stock {stock_idx} | Predict Day {478 + i}\")\n",
    "        for j in range(2):\n",
    "            print(f\"Predict Stock {stock_idx} | Predict Day {478 + i} | Predict Time {j*280}~{(j+1)*280 - 10}\")\n",
    "            model = ARIMA(date_train, order=(\n",
    "                            p_estimated(date_train.to_numpy()),\n",
    "                            d_estimated(),\n",
    "                            q_estimated(date_train.to_numpy())),\n",
    "                        )\n",
    "            fitted = model.fit()\n",
    "            series = fitted.forecast(28)\n",
    "            cur_dataframe = pd.DataFrame(series)\n",
    "            cur_dataframe.columns = [\"target\"]\n",
    "            date_train = pd.concat([date_train, cur_dataframe], axis=0)\n",
    "            data_test = pd.concat([data_test, cur_dataframe], axis=0)\n",
    "    data_test_list.append(data_test)\n"
   ]
  },
  {
   "cell_type": "code",
   "execution_count": 149,
   "metadata": {},
   "outputs": [
    {
     "data": {
      "text/html": [
       "<div>\n",
       "<style scoped>\n",
       "    .dataframe tbody tr th:only-of-type {\n",
       "        vertical-align: middle;\n",
       "    }\n",
       "\n",
       "    .dataframe tbody tr th {\n",
       "        vertical-align: top;\n",
       "    }\n",
       "\n",
       "    .dataframe thead th {\n",
       "        text-align: right;\n",
       "    }\n",
       "</style>\n",
       "<table border=\"1\" class=\"dataframe\">\n",
       "  <thead>\n",
       "    <tr style=\"text-align: right;\">\n",
       "      <th></th>\n",
       "      <th>target</th>\n",
       "    </tr>\n",
       "  </thead>\n",
       "  <tbody>\n",
       "    <tr>\n",
       "      <th>26455</th>\n",
       "      <td>0.219785</td>\n",
       "    </tr>\n",
       "    <tr>\n",
       "      <th>26456</th>\n",
       "      <td>-0.397666</td>\n",
       "    </tr>\n",
       "    <tr>\n",
       "      <th>26457</th>\n",
       "      <td>0.199903</td>\n",
       "    </tr>\n",
       "    <tr>\n",
       "      <th>26458</th>\n",
       "      <td>-0.262919</td>\n",
       "    </tr>\n",
       "    <tr>\n",
       "      <th>26459</th>\n",
       "      <td>-0.262252</td>\n",
       "    </tr>\n",
       "    <tr>\n",
       "      <th>26460</th>\n",
       "      <td>-0.261885</td>\n",
       "    </tr>\n",
       "    <tr>\n",
       "      <th>26461</th>\n",
       "      <td>-0.261683</td>\n",
       "    </tr>\n",
       "    <tr>\n",
       "      <th>26462</th>\n",
       "      <td>-0.261572</td>\n",
       "    </tr>\n",
       "    <tr>\n",
       "      <th>26463</th>\n",
       "      <td>-0.261511</td>\n",
       "    </tr>\n",
       "    <tr>\n",
       "      <th>26464</th>\n",
       "      <td>-0.261477</td>\n",
       "    </tr>\n",
       "    <tr>\n",
       "      <th>26465</th>\n",
       "      <td>-0.261459</td>\n",
       "    </tr>\n",
       "    <tr>\n",
       "      <th>26466</th>\n",
       "      <td>-0.261449</td>\n",
       "    </tr>\n",
       "    <tr>\n",
       "      <th>26467</th>\n",
       "      <td>-0.261443</td>\n",
       "    </tr>\n",
       "    <tr>\n",
       "      <th>26468</th>\n",
       "      <td>-0.261440</td>\n",
       "    </tr>\n",
       "    <tr>\n",
       "      <th>26469</th>\n",
       "      <td>-0.261438</td>\n",
       "    </tr>\n",
       "    <tr>\n",
       "      <th>26470</th>\n",
       "      <td>-0.261437</td>\n",
       "    </tr>\n",
       "    <tr>\n",
       "      <th>26471</th>\n",
       "      <td>-0.261437</td>\n",
       "    </tr>\n",
       "    <tr>\n",
       "      <th>26472</th>\n",
       "      <td>-0.261437</td>\n",
       "    </tr>\n",
       "    <tr>\n",
       "      <th>26473</th>\n",
       "      <td>-0.261436</td>\n",
       "    </tr>\n",
       "    <tr>\n",
       "      <th>26474</th>\n",
       "      <td>-0.261436</td>\n",
       "    </tr>\n",
       "    <tr>\n",
       "      <th>26475</th>\n",
       "      <td>-0.261436</td>\n",
       "    </tr>\n",
       "    <tr>\n",
       "      <th>26476</th>\n",
       "      <td>-0.261436</td>\n",
       "    </tr>\n",
       "    <tr>\n",
       "      <th>26477</th>\n",
       "      <td>-0.261436</td>\n",
       "    </tr>\n",
       "    <tr>\n",
       "      <th>26478</th>\n",
       "      <td>-0.261436</td>\n",
       "    </tr>\n",
       "    <tr>\n",
       "      <th>26479</th>\n",
       "      <td>-0.261436</td>\n",
       "    </tr>\n",
       "    <tr>\n",
       "      <th>26480</th>\n",
       "      <td>-0.261436</td>\n",
       "    </tr>\n",
       "    <tr>\n",
       "      <th>26481</th>\n",
       "      <td>-0.261436</td>\n",
       "    </tr>\n",
       "    <tr>\n",
       "      <th>26482</th>\n",
       "      <td>-0.261436</td>\n",
       "    </tr>\n",
       "    <tr>\n",
       "      <th>26483</th>\n",
       "      <td>-0.261436</td>\n",
       "    </tr>\n",
       "    <tr>\n",
       "      <th>26484</th>\n",
       "      <td>-0.261436</td>\n",
       "    </tr>\n",
       "  </tbody>\n",
       "</table>\n",
       "</div>"
      ],
      "text/plain": [
       "         target\n",
       "26455  0.219785\n",
       "26456 -0.397666\n",
       "26457  0.199903\n",
       "26458 -0.262919\n",
       "26459 -0.262252\n",
       "26460 -0.261885\n",
       "26461 -0.261683\n",
       "26462 -0.261572\n",
       "26463 -0.261511\n",
       "26464 -0.261477\n",
       "26465 -0.261459\n",
       "26466 -0.261449\n",
       "26467 -0.261443\n",
       "26468 -0.261440\n",
       "26469 -0.261438\n",
       "26470 -0.261437\n",
       "26471 -0.261437\n",
       "26472 -0.261437\n",
       "26473 -0.261436\n",
       "26474 -0.261436\n",
       "26475 -0.261436\n",
       "26476 -0.261436\n",
       "26477 -0.261436\n",
       "26478 -0.261436\n",
       "26479 -0.261436\n",
       "26480 -0.261436\n",
       "26481 -0.261436\n",
       "26482 -0.261436\n",
       "26483 -0.261436\n",
       "26484 -0.261436"
      ]
     },
     "execution_count": 149,
     "metadata": {},
     "output_type": "execute_result"
    }
   ],
   "source": [
    "data_test_list[0][0:30]"
   ]
  },
  {
   "cell_type": "code",
   "execution_count": null,
   "metadata": {},
   "outputs": [],
   "source": []
  }
 ],
 "metadata": {
  "kernelspec": {
   "display_name": ".venv",
   "language": "python",
   "name": "python3"
  },
  "language_info": {
   "codemirror_mode": {
    "name": "ipython",
    "version": 3
   },
   "file_extension": ".py",
   "mimetype": "text/x-python",
   "name": "python",
   "nbconvert_exporter": "python",
   "pygments_lexer": "ipython3",
   "version": "3.10.13"
  }
 },
 "nbformat": 4,
 "nbformat_minor": 2
}
