{
 "cells": [
  {
   "cell_type": "markdown",
   "id": "038e695f",
   "metadata": {
    "papermill": {
     "duration": 0.009676,
     "end_time": "2023-12-25T15:18:18.149803",
     "exception": false,
     "start_time": "2023-12-25T15:18:18.140127",
     "status": "completed"
    },
    "tags": []
   },
   "source": [
    "# LSTM with attention for stock prediction"
   ]
  },
  {
   "cell_type": "markdown",
   "id": "8844a8bb",
   "metadata": {
    "papermill": {
     "duration": 0.008723,
     "end_time": "2023-12-25T15:18:18.167482",
     "exception": false,
     "start_time": "2023-12-25T15:18:18.158759",
     "status": "completed"
    },
    "tags": []
   },
   "source": [
    "## Import Library"
   ]
  },
  {
   "cell_type": "code",
   "execution_count": 114,
   "id": "735f1609-bf25-49ec-b265-3ee42f36c78e",
   "metadata": {},
   "outputs": [
    {
     "name": "stdout",
     "output_type": "stream",
     "text": [
      "Requirement already satisfied: torch==2.0.0 in /opt/conda/lib/python3.10/site-packages (2.0.0)\n",
      "Requirement already satisfied: pandas in /opt/conda/lib/python3.10/site-packages (2.1.4)\n",
      "Requirement already satisfied: numpy in /opt/conda/lib/python3.10/site-packages (1.24.2)\n",
      "Requirement already satisfied: tqdm in /opt/conda/lib/python3.10/site-packages (4.64.0)\n",
      "Requirement already satisfied: matplotlib in /opt/conda/lib/python3.10/site-packages (3.8.2)\n",
      "Requirement already satisfied: nvidia-cuda-runtime-cu11==11.7.99 in /opt/conda/lib/python3.10/site-packages (from torch==2.0.0) (11.7.99)\n",
      "Requirement already satisfied: nvidia-cuda-cupti-cu11==11.7.101 in /opt/conda/lib/python3.10/site-packages (from torch==2.0.0) (11.7.101)\n",
      "Requirement already satisfied: triton==2.0.0 in /opt/conda/lib/python3.10/site-packages (from torch==2.0.0) (2.0.0)\n",
      "Requirement already satisfied: nvidia-cusparse-cu11==11.7.4.91 in /opt/conda/lib/python3.10/site-packages (from torch==2.0.0) (11.7.4.91)\n",
      "Requirement already satisfied: filelock in /opt/conda/lib/python3.10/site-packages (from torch==2.0.0) (3.13.1)\n",
      "Requirement already satisfied: nvidia-cuda-nvrtc-cu11==11.7.99 in /opt/conda/lib/python3.10/site-packages (from torch==2.0.0) (11.7.99)\n",
      "Requirement already satisfied: sympy in /opt/conda/lib/python3.10/site-packages (from torch==2.0.0) (1.12)\n",
      "Requirement already satisfied: networkx in /opt/conda/lib/python3.10/site-packages (from torch==2.0.0) (3.2.1)\n",
      "Requirement already satisfied: nvidia-cublas-cu11==11.10.3.66 in /opt/conda/lib/python3.10/site-packages (from torch==2.0.0) (11.10.3.66)\n",
      "Requirement already satisfied: nvidia-cusolver-cu11==11.4.0.1 in /opt/conda/lib/python3.10/site-packages (from torch==2.0.0) (11.4.0.1)\n",
      "Requirement already satisfied: nvidia-nccl-cu11==2.14.3 in /opt/conda/lib/python3.10/site-packages (from torch==2.0.0) (2.14.3)\n",
      "Requirement already satisfied: nvidia-nvtx-cu11==11.7.91 in /opt/conda/lib/python3.10/site-packages (from torch==2.0.0) (11.7.91)\n",
      "Requirement already satisfied: typing-extensions in /opt/conda/lib/python3.10/site-packages (from torch==2.0.0) (4.3.0)\n",
      "Requirement already satisfied: nvidia-cufft-cu11==10.9.0.58 in /opt/conda/lib/python3.10/site-packages (from torch==2.0.0) (10.9.0.58)\n",
      "Requirement already satisfied: nvidia-curand-cu11==10.2.10.91 in /opt/conda/lib/python3.10/site-packages (from torch==2.0.0) (10.2.10.91)\n",
      "Requirement already satisfied: jinja2 in /opt/conda/lib/python3.10/site-packages (from torch==2.0.0) (3.1.2)\n",
      "Requirement already satisfied: nvidia-cudnn-cu11==8.5.0.96 in /opt/conda/lib/python3.10/site-packages (from torch==2.0.0) (8.5.0.96)\n",
      "Requirement already satisfied: setuptools in /opt/conda/lib/python3.10/site-packages (from nvidia-cublas-cu11==11.10.3.66->torch==2.0.0) (65.3.0)\n",
      "Requirement already satisfied: wheel in /opt/conda/lib/python3.10/site-packages (from nvidia-cublas-cu11==11.10.3.66->torch==2.0.0) (0.37.1)\n",
      "Requirement already satisfied: lit in /opt/conda/lib/python3.10/site-packages (from triton==2.0.0->torch==2.0.0) (17.0.6)\n",
      "Requirement already satisfied: cmake in /opt/conda/lib/python3.10/site-packages (from triton==2.0.0->torch==2.0.0) (3.28.1)\n",
      "Requirement already satisfied: pytz>=2020.1 in /opt/conda/lib/python3.10/site-packages (from pandas) (2022.2.1)\n",
      "Requirement already satisfied: tzdata>=2022.1 in /opt/conda/lib/python3.10/site-packages (from pandas) (2023.3)\n",
      "Requirement already satisfied: python-dateutil>=2.8.2 in /opt/conda/lib/python3.10/site-packages (from pandas) (2.8.2)\n",
      "Requirement already satisfied: pillow>=8 in /opt/conda/lib/python3.10/site-packages (from matplotlib) (10.1.0)\n",
      "Requirement already satisfied: packaging>=20.0 in /opt/conda/lib/python3.10/site-packages (from matplotlib) (21.3)\n",
      "Requirement already satisfied: cycler>=0.10 in /opt/conda/lib/python3.10/site-packages (from matplotlib) (0.12.1)\n",
      "Requirement already satisfied: fonttools>=4.22.0 in /opt/conda/lib/python3.10/site-packages (from matplotlib) (4.47.0)\n",
      "Requirement already satisfied: kiwisolver>=1.3.1 in /opt/conda/lib/python3.10/site-packages (from matplotlib) (1.4.5)\n",
      "Requirement already satisfied: contourpy>=1.0.1 in /opt/conda/lib/python3.10/site-packages (from matplotlib) (1.2.0)\n",
      "Requirement already satisfied: pyparsing>=2.3.1 in /opt/conda/lib/python3.10/site-packages (from matplotlib) (3.0.9)\n",
      "Requirement already satisfied: six>=1.5 in /opt/conda/lib/python3.10/site-packages (from python-dateutil>=2.8.2->pandas) (1.16.0)\n",
      "Requirement already satisfied: MarkupSafe>=2.0 in /opt/conda/lib/python3.10/site-packages (from jinja2->torch==2.0.0) (2.1.1)\n",
      "Requirement already satisfied: mpmath>=0.19 in /opt/conda/lib/python3.10/site-packages (from sympy->torch==2.0.0) (1.3.0)\n",
      "\u001b[33mWARNING: Running pip as the 'root' user can result in broken permissions and conflicting behaviour with the system package manager. It is recommended to use a virtual environment instead: https://pip.pypa.io/warnings/venv\u001b[0m\u001b[33m\n",
      "\u001b[0m"
     ]
    }
   ],
   "source": [
    "!sudo pip install torch==2.0.0 pandas numpy tqdm matplotlib"
   ]
  },
  {
   "cell_type": "code",
   "execution_count": 115,
   "id": "76ae4ab6",
   "metadata": {
    "_cell_guid": "b1076dfc-b9ad-4769-8c92-a6c4dae69d19",
    "_uuid": "8f2839f25d086af736a60e9eeb907d3b93b6e0e5",
    "papermill": {
     "duration": 5.359818,
     "end_time": "2023-12-25T15:18:23.536121",
     "exception": false,
     "start_time": "2023-12-25T15:18:18.176303",
     "status": "completed"
    },
    "tags": []
   },
   "outputs": [],
   "source": [
    "import matplotlib.pyplot as plt\n",
    "import numpy as np\n",
    "import pandas as pd\n",
    "\n",
    "import torch\n",
    "import torch.nn as nn\n",
    "import torch.optim as optim\n",
    "from torch.utils.data import Dataset, DataLoader, TensorDataset\n",
    "from tqdm import tqdm\n",
    "\n",
    "from typing import Any, Dict, List, Tuple\n",
    "\n",
    "import os\n",
    "import csv"
   ]
  },
  {
   "cell_type": "code",
   "execution_count": 116,
   "id": "2edbf493-ade6-4831-9a1a-bd590d4afc3a",
   "metadata": {},
   "outputs": [
    {
     "data": {
      "text/plain": [
       "device(type='cuda', index=0)"
      ]
     },
     "execution_count": 116,
     "metadata": {},
     "output_type": "execute_result"
    }
   ],
   "source": [
    "device = torch.device(\"cuda:0\" if torch.cuda.is_available() else \"cpu\")\n",
    "device"
   ]
  },
  {
   "cell_type": "markdown",
   "id": "475b38d2-d447-4210-ab61-6221c9afc999",
   "metadata": {},
   "source": [
    "## Constants Definition"
   ]
  },
  {
   "cell_type": "code",
   "execution_count": 117,
   "id": "ec82f829-fb3e-4504-83ab-667aff1502ee",
   "metadata": {},
   "outputs": [],
   "source": [
    "EXTENDED_FEATURES = [\n",
    "]\n",
    "NORMALIZED_FEATURE = [\n",
    "    'imbalance_size',\n",
    "    'matched_size',\n",
    "    'bid_size',\n",
    "    'ask_size'\n",
    "]\n",
    "FILL_ONE_FEATURES = [\n",
    "    \"reference_price\", \n",
    "    \"far_price\",\n",
    "    \"near_price\",\n",
    "    \"bid_price\",\n",
    "    \"ask_price\",\n",
    "    \"wap\"\n",
    "]\n",
    "FILL_MEAN_FEATURES = [\n",
    "    \"imbalance_size\", \n",
    "    \"matched_size\"\n",
    "]\n",
    "MODEL_INPUT_FEATURES = [\n",
    "    'imbalance_size', \n",
    "    'imbalance_buy_sell_flag',\n",
    "    'reference_price',\n",
    "    'matched_size',\n",
    "    'far_price',\n",
    "    'near_price',\n",
    "    'bid_price',\n",
    "    'bid_size',\n",
    "    'ask_price',\n",
    "    'ask_size',\n",
    "    'wap',\n",
    "    'target'\n",
    "]"
   ]
  },
  {
   "cell_type": "markdown",
   "id": "0457a3b8-1bc4-4549-8e87-2c1d222d520f",
   "metadata": {},
   "source": [
    "## Hyper Parameters"
   ]
  },
  {
   "cell_type": "code",
   "execution_count": 118,
   "id": "2ddc5da8-8221-4872-8455-ed1b58f90072",
   "metadata": {},
   "outputs": [],
   "source": [
    "BATCH_SIZE: int = 256\n",
    "EPOCHS: int = 50\n",
    "LEARNING_RATE: float = 0.0001"
   ]
  },
  {
   "cell_type": "markdown",
   "id": "bba54e3b",
   "metadata": {
    "papermill": {
     "duration": 0.010149,
     "end_time": "2023-12-25T15:18:23.555675",
     "exception": false,
     "start_time": "2023-12-25T15:18:23.545526",
     "status": "completed"
    },
    "tags": []
   },
   "source": [
    "## Import Dataset"
   ]
  },
  {
   "cell_type": "code",
   "execution_count": 119,
   "id": "b6e99ff2",
   "metadata": {
    "papermill": {
     "duration": 18.68127,
     "end_time": "2023-12-25T15:18:42.280392",
     "exception": false,
     "start_time": "2023-12-25T15:18:23.599122",
     "status": "completed"
    },
    "tags": []
   },
   "outputs": [
    {
     "data": {
      "text/html": [
       "<div>\n",
       "<style scoped>\n",
       "    .dataframe tbody tr th:only-of-type {\n",
       "        vertical-align: middle;\n",
       "    }\n",
       "\n",
       "    .dataframe tbody tr th {\n",
       "        vertical-align: top;\n",
       "    }\n",
       "\n",
       "    .dataframe thead th {\n",
       "        text-align: right;\n",
       "    }\n",
       "</style>\n",
       "<table border=\"1\" class=\"dataframe\">\n",
       "  <thead>\n",
       "    <tr style=\"text-align: right;\">\n",
       "      <th></th>\n",
       "      <th>stock_id</th>\n",
       "      <th>date_id</th>\n",
       "      <th>seconds_in_bucket</th>\n",
       "      <th>imbalance_size</th>\n",
       "      <th>imbalance_buy_sell_flag</th>\n",
       "      <th>reference_price</th>\n",
       "      <th>matched_size</th>\n",
       "      <th>far_price</th>\n",
       "      <th>near_price</th>\n",
       "      <th>bid_price</th>\n",
       "      <th>bid_size</th>\n",
       "      <th>ask_price</th>\n",
       "      <th>ask_size</th>\n",
       "      <th>wap</th>\n",
       "      <th>target</th>\n",
       "      <th>time_id</th>\n",
       "      <th>row_id</th>\n",
       "    </tr>\n",
       "  </thead>\n",
       "  <tbody>\n",
       "    <tr>\n",
       "      <th>0</th>\n",
       "      <td>0</td>\n",
       "      <td>0</td>\n",
       "      <td>0</td>\n",
       "      <td>3180602.69</td>\n",
       "      <td>1</td>\n",
       "      <td>0.999812</td>\n",
       "      <td>13380276.64</td>\n",
       "      <td>NaN</td>\n",
       "      <td>NaN</td>\n",
       "      <td>0.999812</td>\n",
       "      <td>60651.50</td>\n",
       "      <td>1.000026</td>\n",
       "      <td>8493.03</td>\n",
       "      <td>1.000000</td>\n",
       "      <td>-3.029704</td>\n",
       "      <td>0</td>\n",
       "      <td>0_0_0</td>\n",
       "    </tr>\n",
       "    <tr>\n",
       "      <th>1</th>\n",
       "      <td>1</td>\n",
       "      <td>0</td>\n",
       "      <td>0</td>\n",
       "      <td>166603.91</td>\n",
       "      <td>-1</td>\n",
       "      <td>0.999896</td>\n",
       "      <td>1642214.25</td>\n",
       "      <td>NaN</td>\n",
       "      <td>NaN</td>\n",
       "      <td>0.999896</td>\n",
       "      <td>3233.04</td>\n",
       "      <td>1.000660</td>\n",
       "      <td>20605.09</td>\n",
       "      <td>1.000000</td>\n",
       "      <td>-5.519986</td>\n",
       "      <td>0</td>\n",
       "      <td>0_0_1</td>\n",
       "    </tr>\n",
       "    <tr>\n",
       "      <th>2</th>\n",
       "      <td>2</td>\n",
       "      <td>0</td>\n",
       "      <td>0</td>\n",
       "      <td>302879.87</td>\n",
       "      <td>-1</td>\n",
       "      <td>0.999561</td>\n",
       "      <td>1819368.03</td>\n",
       "      <td>NaN</td>\n",
       "      <td>NaN</td>\n",
       "      <td>0.999403</td>\n",
       "      <td>37956.00</td>\n",
       "      <td>1.000298</td>\n",
       "      <td>18995.00</td>\n",
       "      <td>1.000000</td>\n",
       "      <td>-8.389950</td>\n",
       "      <td>0</td>\n",
       "      <td>0_0_2</td>\n",
       "    </tr>\n",
       "    <tr>\n",
       "      <th>3</th>\n",
       "      <td>3</td>\n",
       "      <td>0</td>\n",
       "      <td>0</td>\n",
       "      <td>11917682.27</td>\n",
       "      <td>-1</td>\n",
       "      <td>1.000171</td>\n",
       "      <td>18389745.62</td>\n",
       "      <td>NaN</td>\n",
       "      <td>NaN</td>\n",
       "      <td>0.999999</td>\n",
       "      <td>2324.90</td>\n",
       "      <td>1.000214</td>\n",
       "      <td>479032.40</td>\n",
       "      <td>1.000000</td>\n",
       "      <td>-4.010200</td>\n",
       "      <td>0</td>\n",
       "      <td>0_0_3</td>\n",
       "    </tr>\n",
       "    <tr>\n",
       "      <th>4</th>\n",
       "      <td>4</td>\n",
       "      <td>0</td>\n",
       "      <td>0</td>\n",
       "      <td>447549.96</td>\n",
       "      <td>-1</td>\n",
       "      <td>0.999532</td>\n",
       "      <td>17860614.95</td>\n",
       "      <td>NaN</td>\n",
       "      <td>NaN</td>\n",
       "      <td>0.999394</td>\n",
       "      <td>16485.54</td>\n",
       "      <td>1.000016</td>\n",
       "      <td>434.10</td>\n",
       "      <td>1.000000</td>\n",
       "      <td>-7.349849</td>\n",
       "      <td>0</td>\n",
       "      <td>0_0_4</td>\n",
       "    </tr>\n",
       "    <tr>\n",
       "      <th>...</th>\n",
       "      <td>...</td>\n",
       "      <td>...</td>\n",
       "      <td>...</td>\n",
       "      <td>...</td>\n",
       "      <td>...</td>\n",
       "      <td>...</td>\n",
       "      <td>...</td>\n",
       "      <td>...</td>\n",
       "      <td>...</td>\n",
       "      <td>...</td>\n",
       "      <td>...</td>\n",
       "      <td>...</td>\n",
       "      <td>...</td>\n",
       "      <td>...</td>\n",
       "      <td>...</td>\n",
       "      <td>...</td>\n",
       "      <td>...</td>\n",
       "    </tr>\n",
       "    <tr>\n",
       "      <th>5237975</th>\n",
       "      <td>195</td>\n",
       "      <td>480</td>\n",
       "      <td>540</td>\n",
       "      <td>2440722.89</td>\n",
       "      <td>-1</td>\n",
       "      <td>1.000317</td>\n",
       "      <td>28280361.74</td>\n",
       "      <td>0.999734</td>\n",
       "      <td>0.999734</td>\n",
       "      <td>1.000317</td>\n",
       "      <td>32257.04</td>\n",
       "      <td>1.000434</td>\n",
       "      <td>319862.40</td>\n",
       "      <td>1.000328</td>\n",
       "      <td>2.310276</td>\n",
       "      <td>26454</td>\n",
       "      <td>480_540_195</td>\n",
       "    </tr>\n",
       "    <tr>\n",
       "      <th>5237976</th>\n",
       "      <td>196</td>\n",
       "      <td>480</td>\n",
       "      <td>540</td>\n",
       "      <td>349510.47</td>\n",
       "      <td>-1</td>\n",
       "      <td>1.000643</td>\n",
       "      <td>9187699.11</td>\n",
       "      <td>1.000129</td>\n",
       "      <td>1.000386</td>\n",
       "      <td>1.000643</td>\n",
       "      <td>205108.40</td>\n",
       "      <td>1.000900</td>\n",
       "      <td>93393.07</td>\n",
       "      <td>1.000819</td>\n",
       "      <td>-8.220077</td>\n",
       "      <td>26454</td>\n",
       "      <td>480_540_196</td>\n",
       "    </tr>\n",
       "    <tr>\n",
       "      <th>5237977</th>\n",
       "      <td>197</td>\n",
       "      <td>480</td>\n",
       "      <td>540</td>\n",
       "      <td>0.00</td>\n",
       "      <td>0</td>\n",
       "      <td>0.995789</td>\n",
       "      <td>12725436.10</td>\n",
       "      <td>0.995789</td>\n",
       "      <td>0.995789</td>\n",
       "      <td>0.995789</td>\n",
       "      <td>16790.66</td>\n",
       "      <td>0.995883</td>\n",
       "      <td>180038.32</td>\n",
       "      <td>0.995797</td>\n",
       "      <td>1.169443</td>\n",
       "      <td>26454</td>\n",
       "      <td>480_540_197</td>\n",
       "    </tr>\n",
       "    <tr>\n",
       "      <th>5237978</th>\n",
       "      <td>198</td>\n",
       "      <td>480</td>\n",
       "      <td>540</td>\n",
       "      <td>1000898.84</td>\n",
       "      <td>1</td>\n",
       "      <td>0.999210</td>\n",
       "      <td>94773271.05</td>\n",
       "      <td>0.999210</td>\n",
       "      <td>0.999210</td>\n",
       "      <td>0.998970</td>\n",
       "      <td>125631.72</td>\n",
       "      <td>0.999210</td>\n",
       "      <td>669893.00</td>\n",
       "      <td>0.999008</td>\n",
       "      <td>-1.540184</td>\n",
       "      <td>26454</td>\n",
       "      <td>480_540_198</td>\n",
       "    </tr>\n",
       "    <tr>\n",
       "      <th>5237979</th>\n",
       "      <td>199</td>\n",
       "      <td>480</td>\n",
       "      <td>540</td>\n",
       "      <td>1884285.71</td>\n",
       "      <td>-1</td>\n",
       "      <td>1.002129</td>\n",
       "      <td>24073677.32</td>\n",
       "      <td>1.000859</td>\n",
       "      <td>1.001494</td>\n",
       "      <td>1.002129</td>\n",
       "      <td>250081.44</td>\n",
       "      <td>1.002447</td>\n",
       "      <td>300167.56</td>\n",
       "      <td>1.002274</td>\n",
       "      <td>-6.530285</td>\n",
       "      <td>26454</td>\n",
       "      <td>480_540_199</td>\n",
       "    </tr>\n",
       "  </tbody>\n",
       "</table>\n",
       "<p>5237980 rows × 17 columns</p>\n",
       "</div>"
      ],
      "text/plain": [
       "         stock_id  date_id  seconds_in_bucket  imbalance_size  \\\n",
       "0               0        0                  0      3180602.69   \n",
       "1               1        0                  0       166603.91   \n",
       "2               2        0                  0       302879.87   \n",
       "3               3        0                  0     11917682.27   \n",
       "4               4        0                  0       447549.96   \n",
       "...           ...      ...                ...             ...   \n",
       "5237975       195      480                540      2440722.89   \n",
       "5237976       196      480                540       349510.47   \n",
       "5237977       197      480                540            0.00   \n",
       "5237978       198      480                540      1000898.84   \n",
       "5237979       199      480                540      1884285.71   \n",
       "\n",
       "         imbalance_buy_sell_flag  reference_price  matched_size  far_price  \\\n",
       "0                              1         0.999812   13380276.64        NaN   \n",
       "1                             -1         0.999896    1642214.25        NaN   \n",
       "2                             -1         0.999561    1819368.03        NaN   \n",
       "3                             -1         1.000171   18389745.62        NaN   \n",
       "4                             -1         0.999532   17860614.95        NaN   \n",
       "...                          ...              ...           ...        ...   \n",
       "5237975                       -1         1.000317   28280361.74   0.999734   \n",
       "5237976                       -1         1.000643    9187699.11   1.000129   \n",
       "5237977                        0         0.995789   12725436.10   0.995789   \n",
       "5237978                        1         0.999210   94773271.05   0.999210   \n",
       "5237979                       -1         1.002129   24073677.32   1.000859   \n",
       "\n",
       "         near_price  bid_price   bid_size  ask_price   ask_size       wap  \\\n",
       "0               NaN   0.999812   60651.50   1.000026    8493.03  1.000000   \n",
       "1               NaN   0.999896    3233.04   1.000660   20605.09  1.000000   \n",
       "2               NaN   0.999403   37956.00   1.000298   18995.00  1.000000   \n",
       "3               NaN   0.999999    2324.90   1.000214  479032.40  1.000000   \n",
       "4               NaN   0.999394   16485.54   1.000016     434.10  1.000000   \n",
       "...             ...        ...        ...        ...        ...       ...   \n",
       "5237975    0.999734   1.000317   32257.04   1.000434  319862.40  1.000328   \n",
       "5237976    1.000386   1.000643  205108.40   1.000900   93393.07  1.000819   \n",
       "5237977    0.995789   0.995789   16790.66   0.995883  180038.32  0.995797   \n",
       "5237978    0.999210   0.998970  125631.72   0.999210  669893.00  0.999008   \n",
       "5237979    1.001494   1.002129  250081.44   1.002447  300167.56  1.002274   \n",
       "\n",
       "           target  time_id       row_id  \n",
       "0       -3.029704        0        0_0_0  \n",
       "1       -5.519986        0        0_0_1  \n",
       "2       -8.389950        0        0_0_2  \n",
       "3       -4.010200        0        0_0_3  \n",
       "4       -7.349849        0        0_0_4  \n",
       "...           ...      ...          ...  \n",
       "5237975  2.310276    26454  480_540_195  \n",
       "5237976 -8.220077    26454  480_540_196  \n",
       "5237977  1.169443    26454  480_540_197  \n",
       "5237978 -1.540184    26454  480_540_198  \n",
       "5237979 -6.530285    26454  480_540_199  \n",
       "\n",
       "[5237980 rows x 17 columns]"
      ]
     },
     "execution_count": 119,
     "metadata": {},
     "output_type": "execute_result"
    }
   ],
   "source": [
    "kaggle_dir = './data'\n",
    "df = pd.read_csv(os.path.join(kaggle_dir, 'train.csv'))\n",
    "df"
   ]
  },
  {
   "cell_type": "code",
   "execution_count": 120,
   "id": "f694b58f",
   "metadata": {
    "papermill": {
     "duration": 0.036399,
     "end_time": "2023-12-25T15:18:42.327346",
     "exception": false,
     "start_time": "2023-12-25T15:18:42.290947",
     "status": "completed"
    },
    "tags": []
   },
   "outputs": [
    {
     "name": "stdout",
     "output_type": "stream",
     "text": [
      "<class 'pandas.core.frame.DataFrame'>\n",
      "RangeIndex: 5237980 entries, 0 to 5237979\n",
      "Data columns (total 17 columns):\n",
      " #   Column                   Dtype  \n",
      "---  ------                   -----  \n",
      " 0   stock_id                 int64  \n",
      " 1   date_id                  int64  \n",
      " 2   seconds_in_bucket        int64  \n",
      " 3   imbalance_size           float64\n",
      " 4   imbalance_buy_sell_flag  int64  \n",
      " 5   reference_price          float64\n",
      " 6   matched_size             float64\n",
      " 7   far_price                float64\n",
      " 8   near_price               float64\n",
      " 9   bid_price                float64\n",
      " 10  bid_size                 float64\n",
      " 11  ask_price                float64\n",
      " 12  ask_size                 float64\n",
      " 13  wap                      float64\n",
      " 14  target                   float64\n",
      " 15  time_id                  int64  \n",
      " 16  row_id                   object \n",
      "dtypes: float64(11), int64(5), object(1)\n",
      "memory usage: 679.4+ MB\n"
     ]
    }
   ],
   "source": [
    "df.info()"
   ]
  },
  {
   "cell_type": "code",
   "execution_count": 121,
   "id": "bd2dfad6",
   "metadata": {
    "papermill": {
     "duration": 0.578321,
     "end_time": "2023-12-25T15:18:42.919211",
     "exception": false,
     "start_time": "2023-12-25T15:18:42.340890",
     "status": "completed"
    },
    "tags": []
   },
   "outputs": [
    {
     "data": {
      "text/plain": [
       "stock_id                         0\n",
       "date_id                          0\n",
       "seconds_in_bucket                0\n",
       "imbalance_size                 220\n",
       "imbalance_buy_sell_flag          0\n",
       "reference_price                220\n",
       "matched_size                   220\n",
       "far_price                  2894342\n",
       "near_price                 2857180\n",
       "bid_price                      220\n",
       "bid_size                         0\n",
       "ask_price                      220\n",
       "ask_size                         0\n",
       "wap                            220\n",
       "target                          88\n",
       "time_id                          0\n",
       "row_id                           0\n",
       "dtype: int64"
      ]
     },
     "execution_count": 121,
     "metadata": {},
     "output_type": "execute_result"
    }
   ],
   "source": [
    "df.isnull().sum()"
   ]
  },
  {
   "cell_type": "code",
   "execution_count": 122,
   "id": "0db4e14b",
   "metadata": {
    "papermill": {
     "duration": 10.259183,
     "end_time": "2023-12-25T15:18:53.188599",
     "exception": false,
     "start_time": "2023-12-25T15:18:42.929416",
     "status": "completed"
    },
    "tags": []
   },
   "outputs": [
    {
     "data": {
      "text/html": [
       "<div>\n",
       "<style scoped>\n",
       "    .dataframe tbody tr th:only-of-type {\n",
       "        vertical-align: middle;\n",
       "    }\n",
       "\n",
       "    .dataframe tbody tr th {\n",
       "        vertical-align: top;\n",
       "    }\n",
       "\n",
       "    .dataframe thead th {\n",
       "        text-align: right;\n",
       "    }\n",
       "</style>\n",
       "<table border=\"1\" class=\"dataframe\">\n",
       "  <thead>\n",
       "    <tr style=\"text-align: right;\">\n",
       "      <th></th>\n",
       "      <th>unique</th>\n",
       "      <th>cardinality</th>\n",
       "      <th>with_null</th>\n",
       "      <th>null_pct</th>\n",
       "      <th>1st_row</th>\n",
       "      <th>random_row</th>\n",
       "      <th>last_row</th>\n",
       "      <th>dtype</th>\n",
       "    </tr>\n",
       "  </thead>\n",
       "  <tbody>\n",
       "    <tr>\n",
       "      <th>stock_id</th>\n",
       "      <td>False</td>\n",
       "      <td>200</td>\n",
       "      <td>False</td>\n",
       "      <td>0.00</td>\n",
       "      <td>0</td>\n",
       "      <td>168</td>\n",
       "      <td>199</td>\n",
       "      <td>int64</td>\n",
       "    </tr>\n",
       "    <tr>\n",
       "      <th>date_id</th>\n",
       "      <td>False</td>\n",
       "      <td>481</td>\n",
       "      <td>False</td>\n",
       "      <td>0.00</td>\n",
       "      <td>0</td>\n",
       "      <td>342</td>\n",
       "      <td>480</td>\n",
       "      <td>int64</td>\n",
       "    </tr>\n",
       "    <tr>\n",
       "      <th>seconds_in_bucket</th>\n",
       "      <td>False</td>\n",
       "      <td>55</td>\n",
       "      <td>False</td>\n",
       "      <td>0.00</td>\n",
       "      <td>0</td>\n",
       "      <td>300</td>\n",
       "      <td>540</td>\n",
       "      <td>int64</td>\n",
       "    </tr>\n",
       "    <tr>\n",
       "      <th>imbalance_size</th>\n",
       "      <td>False</td>\n",
       "      <td>2971863</td>\n",
       "      <td>True</td>\n",
       "      <td>0.00</td>\n",
       "      <td>3180602.69</td>\n",
       "      <td>34523814.87</td>\n",
       "      <td>1884285.71</td>\n",
       "      <td>float64</td>\n",
       "    </tr>\n",
       "    <tr>\n",
       "      <th>imbalance_buy_sell_flag</th>\n",
       "      <td>False</td>\n",
       "      <td>3</td>\n",
       "      <td>False</td>\n",
       "      <td>0.00</td>\n",
       "      <td>1</td>\n",
       "      <td>-1</td>\n",
       "      <td>-1</td>\n",
       "      <td>int64</td>\n",
       "    </tr>\n",
       "    <tr>\n",
       "      <th>reference_price</th>\n",
       "      <td>False</td>\n",
       "      <td>28741</td>\n",
       "      <td>True</td>\n",
       "      <td>0.00</td>\n",
       "      <td>0.999812</td>\n",
       "      <td>1.001926</td>\n",
       "      <td>1.002129</td>\n",
       "      <td>float64</td>\n",
       "    </tr>\n",
       "    <tr>\n",
       "      <th>matched_size</th>\n",
       "      <td>False</td>\n",
       "      <td>2948862</td>\n",
       "      <td>True</td>\n",
       "      <td>0.00</td>\n",
       "      <td>13380276.64</td>\n",
       "      <td>503827157.79</td>\n",
       "      <td>24073677.32</td>\n",
       "      <td>float64</td>\n",
       "    </tr>\n",
       "    <tr>\n",
       "      <th>far_price</th>\n",
       "      <td>False</td>\n",
       "      <td>95739</td>\n",
       "      <td>True</td>\n",
       "      <td>55.26</td>\n",
       "      <td>NaN</td>\n",
       "      <td>0.987613</td>\n",
       "      <td>1.000859</td>\n",
       "      <td>float64</td>\n",
       "    </tr>\n",
       "    <tr>\n",
       "      <th>near_price</th>\n",
       "      <td>False</td>\n",
       "      <td>84625</td>\n",
       "      <td>True</td>\n",
       "      <td>54.55</td>\n",
       "      <td>NaN</td>\n",
       "      <td>0.989055</td>\n",
       "      <td>1.001494</td>\n",
       "      <td>float64</td>\n",
       "    </tr>\n",
       "    <tr>\n",
       "      <th>bid_price</th>\n",
       "      <td>False</td>\n",
       "      <td>28313</td>\n",
       "      <td>True</td>\n",
       "      <td>0.00</td>\n",
       "      <td>0.999812</td>\n",
       "      <td>1.001372</td>\n",
       "      <td>1.002129</td>\n",
       "      <td>float64</td>\n",
       "    </tr>\n",
       "    <tr>\n",
       "      <th>bid_size</th>\n",
       "      <td>False</td>\n",
       "      <td>2591773</td>\n",
       "      <td>False</td>\n",
       "      <td>0.00</td>\n",
       "      <td>60651.5</td>\n",
       "      <td>102975.25</td>\n",
       "      <td>250081.44</td>\n",
       "      <td>float64</td>\n",
       "    </tr>\n",
       "    <tr>\n",
       "      <th>ask_price</th>\n",
       "      <td>False</td>\n",
       "      <td>28266</td>\n",
       "      <td>True</td>\n",
       "      <td>0.00</td>\n",
       "      <td>1.000026</td>\n",
       "      <td>1.001593</td>\n",
       "      <td>1.002447</td>\n",
       "      <td>float64</td>\n",
       "    </tr>\n",
       "    <tr>\n",
       "      <th>ask_size</th>\n",
       "      <td>False</td>\n",
       "      <td>2623254</td>\n",
       "      <td>False</td>\n",
       "      <td>0.00</td>\n",
       "      <td>8493.03</td>\n",
       "      <td>27983.7</td>\n",
       "      <td>300167.56</td>\n",
       "      <td>float64</td>\n",
       "    </tr>\n",
       "    <tr>\n",
       "      <th>wap</th>\n",
       "      <td>False</td>\n",
       "      <td>31506</td>\n",
       "      <td>True</td>\n",
       "      <td>0.00</td>\n",
       "      <td>1.0</td>\n",
       "      <td>1.001546</td>\n",
       "      <td>1.002274</td>\n",
       "      <td>float64</td>\n",
       "    </tr>\n",
       "    <tr>\n",
       "      <th>target</th>\n",
       "      <td>False</td>\n",
       "      <td>15934</td>\n",
       "      <td>True</td>\n",
       "      <td>0.00</td>\n",
       "      <td>-3.029704</td>\n",
       "      <td>-1.779795</td>\n",
       "      <td>-6.530285</td>\n",
       "      <td>float64</td>\n",
       "    </tr>\n",
       "    <tr>\n",
       "      <th>time_id</th>\n",
       "      <td>False</td>\n",
       "      <td>26455</td>\n",
       "      <td>False</td>\n",
       "      <td>0.00</td>\n",
       "      <td>0</td>\n",
       "      <td>18840</td>\n",
       "      <td>26454</td>\n",
       "      <td>int64</td>\n",
       "    </tr>\n",
       "    <tr>\n",
       "      <th>row_id</th>\n",
       "      <td>True</td>\n",
       "      <td>5237980</td>\n",
       "      <td>False</td>\n",
       "      <td>0.00</td>\n",
       "      <td>0_0_0</td>\n",
       "      <td>342_300_168</td>\n",
       "      <td>480_540_199</td>\n",
       "      <td>object</td>\n",
       "    </tr>\n",
       "  </tbody>\n",
       "</table>\n",
       "</div>"
      ],
      "text/plain": [
       "                         unique  cardinality  with_null  null_pct  \\\n",
       "stock_id                  False          200      False      0.00   \n",
       "date_id                   False          481      False      0.00   \n",
       "seconds_in_bucket         False           55      False      0.00   \n",
       "imbalance_size            False      2971863       True      0.00   \n",
       "imbalance_buy_sell_flag   False            3      False      0.00   \n",
       "reference_price           False        28741       True      0.00   \n",
       "matched_size              False      2948862       True      0.00   \n",
       "far_price                 False        95739       True     55.26   \n",
       "near_price                False        84625       True     54.55   \n",
       "bid_price                 False        28313       True      0.00   \n",
       "bid_size                  False      2591773      False      0.00   \n",
       "ask_price                 False        28266       True      0.00   \n",
       "ask_size                  False      2623254      False      0.00   \n",
       "wap                       False        31506       True      0.00   \n",
       "target                    False        15934       True      0.00   \n",
       "time_id                   False        26455      False      0.00   \n",
       "row_id                     True      5237980      False      0.00   \n",
       "\n",
       "                             1st_row    random_row     last_row    dtype  \n",
       "stock_id                           0           168          199    int64  \n",
       "date_id                            0           342          480    int64  \n",
       "seconds_in_bucket                  0           300          540    int64  \n",
       "imbalance_size            3180602.69   34523814.87   1884285.71  float64  \n",
       "imbalance_buy_sell_flag            1            -1           -1    int64  \n",
       "reference_price             0.999812      1.001926     1.002129  float64  \n",
       "matched_size             13380276.64  503827157.79  24073677.32  float64  \n",
       "far_price                        NaN      0.987613     1.000859  float64  \n",
       "near_price                       NaN      0.989055     1.001494  float64  \n",
       "bid_price                   0.999812      1.001372     1.002129  float64  \n",
       "bid_size                     60651.5     102975.25    250081.44  float64  \n",
       "ask_price                   1.000026      1.001593     1.002447  float64  \n",
       "ask_size                     8493.03       27983.7    300167.56  float64  \n",
       "wap                              1.0      1.001546     1.002274  float64  \n",
       "target                     -3.029704     -1.779795    -6.530285  float64  \n",
       "time_id                            0         18840        26454    int64  \n",
       "row_id                         0_0_0   342_300_168  480_540_199   object  "
      ]
     },
     "execution_count": 122,
     "metadata": {},
     "output_type": "execute_result"
    }
   ],
   "source": [
    "def inspect_columns(df):\n",
    "\n",
    "    result = pd.DataFrame({\n",
    "        'unique': df.nunique() == len(df),\n",
    "        'cardinality': df.nunique(),\n",
    "        'with_null': df.isna().any(),\n",
    "        'null_pct': round((df.isnull().sum() / len(df)) * 100, 2),\n",
    "        '1st_row': df.iloc[0],\n",
    "        'random_row': df.iloc[np.random.randint(low=0, high=len(df))],\n",
    "        'last_row': df.iloc[-1],\n",
    "        'dtype': df.dtypes\n",
    "    })\n",
    "    return result\n",
    "\n",
    "inspect_columns(df)"
   ]
  },
  {
   "cell_type": "markdown",
   "id": "a48ff4ba-a541-40c9-a146-16075b276e6f",
   "metadata": {},
   "source": [
    "## Data Splitting"
   ]
  },
  {
   "cell_type": "code",
   "execution_count": 123,
   "id": "c71fa615-9b51-4be9-becb-8e81d3e79d98",
   "metadata": {},
   "outputs": [
    {
     "name": "stdout",
     "output_type": "stream",
     "text": [
      "The shape of train_df = (4346980, 17)\n",
      "The shape of valid_df = (858000, 17)\n",
      "The shape of test_df = (34000, 17)\n"
     ]
    }
   ],
   "source": [
    "train_df: pd.DataFrame = df.loc[(0 <= df['date_id']) & (df['date_id'] <= 399)]\n",
    "valid_df: pd.DataFrame = df.loc[(400 <= df['date_id']) & (df['date_id'] <= 477)]\n",
    "test_df: pd.DataFrame = df.loc[((477 == df['date_id']) & (500 <= df['seconds_in_bucket'])) | ((478 <= df['date_id']) & (df['date_id'] <= 480))]\n",
    "\n",
    "print(f'The shape of train_df = {train_df.shape}')\n",
    "print(f'The shape of valid_df = {valid_df.shape}')\n",
    "print(f'The shape of test_df = {test_df.shape}')"
   ]
  },
  {
   "cell_type": "markdown",
   "id": "a2f9ac3a-d0af-4614-ad13-d6456dd86878",
   "metadata": {},
   "source": [
    "## Data Preprocessing After Splitting"
   ]
  },
  {
   "cell_type": "markdown",
   "id": "6045094f-4882-413b-ab6e-319750f4cd7c",
   "metadata": {},
   "source": [
    "### Training Set"
   ]
  },
  {
   "cell_type": "code",
   "execution_count": 124,
   "id": "35873067-1aed-4933-82a8-5930793e3fdf",
   "metadata": {},
   "outputs": [],
   "source": [
    "def GenPreprocessInfo(raw_df: pd.DataFrame) -> Dict[int, Dict[str, Dict[str, float]]]:\n",
    "    '''\n",
    "    Return value example:\n",
    "    {\n",
    "        'STOCK_ID': {\n",
    "            'COLUMN': {\n",
    "                'min': 0.0,\n",
    "                'max': 1.0,\n",
    "                'mean': 0.5\n",
    "            }\n",
    "        }\n",
    "    }\n",
    "    '''\n",
    "    data: pd.DataFrame = raw_df.copy()\n",
    "    statistic_result: Dict[int, Dict[str, Dict[str, float]]] = {}\n",
    "    \n",
    "    for stock in data['stock_id'].unique().tolist():\n",
    "        stock_df: pd.DataFrame = data.loc[data['stock_id'] == stock]\n",
    "        stock_info: Dict[str, Dict[str, float]] = {}\n",
    "        \n",
    "        for feat in stock_df.columns:\n",
    "            if pd.api.types.is_string_dtype(stock_df[feat]):\n",
    "                continue\n",
    "            stock_feat_info: Dict[str, float] = {}\n",
    "            stock_feat_info['min'] = stock_df[feat].min(skipna=True)\n",
    "            stock_feat_info['max'] = stock_df[feat].max(skipna=True)\n",
    "            stock_feat_info['mean'] = stock_df[feat].mean(skipna=True)\n",
    "            stock_info[feat] = stock_feat_info\n",
    "        \n",
    "        statistic_result[stock] = stock_info\n",
    "    \n",
    "    return statistic_result\n",
    "\n",
    "preprocess_info = GenPreprocessInfo(raw_df=train_df)"
   ]
  },
  {
   "cell_type": "code",
   "execution_count": 125,
   "id": "4c14e11b-63a3-4225-a01c-dc39b8260a42",
   "metadata": {},
   "outputs": [
    {
     "name": "stdout",
     "output_type": "stream",
     "text": [
      "Data has nan: \n",
      "stock_id                   False\n",
      "date_id                    False\n",
      "seconds_in_bucket          False\n",
      "imbalance_size             False\n",
      "imbalance_buy_sell_flag    False\n",
      "reference_price            False\n",
      "matched_size               False\n",
      "far_price                  False\n",
      "near_price                 False\n",
      "bid_price                  False\n",
      "bid_size                   False\n",
      "ask_price                  False\n",
      "ask_size                   False\n",
      "wap                        False\n",
      "target                     False\n",
      "time_id                    False\n",
      "row_id                     False\n",
      "dtype: bool\n",
      "         stock_id  date_id  seconds_in_bucket  imbalance_size  \\\n",
      "0               0        0                  0        0.023833   \n",
      "1               1        0                  0        0.014830   \n",
      "2               2        0                  0        0.015351   \n",
      "3               3        0                  0        0.037858   \n",
      "4               4        0                  0        0.005779   \n",
      "...           ...      ...                ...             ...   \n",
      "4346975       195      399                540        0.002781   \n",
      "4346976       196      399                540        0.021758   \n",
      "4346977       197      399                540        0.011443   \n",
      "4346978       198      399                540        0.000000   \n",
      "4346979       199      399                540        0.003262   \n",
      "\n",
      "         imbalance_buy_sell_flag  reference_price  matched_size  far_price  \\\n",
      "0                              1         0.999812      0.041612   1.000000   \n",
      "1                             -1         0.999896      0.028287   1.000000   \n",
      "2                             -1         0.999561      0.003258   1.000000   \n",
      "3                             -1         1.000171      0.014849   1.000000   \n",
      "4                             -1         0.999532      0.051819   1.000000   \n",
      "...                          ...              ...           ...        ...   \n",
      "4346975                        1         0.998808      0.096884   0.999258   \n",
      "4346976                       -1         1.000274      0.149871   0.999756   \n",
      "4346977                        1         1.000543      0.029236   1.002325   \n",
      "4346978                        0         1.003443      0.081872   1.003443   \n",
      "4346979                        1         0.997327      0.021922   1.000154   \n",
      "\n",
      "         near_price  bid_price  bid_size  ask_price  ask_size       wap  \\\n",
      "0          1.000000   0.999812  0.010269   1.000026  0.008365  1.000000   \n",
      "1          1.000000   0.999896  0.006184   1.000660  0.027442  1.000000   \n",
      "2          1.000000   0.999403  0.077508   1.000298  0.010908  1.000000   \n",
      "3          1.000000   0.999999  0.001119   1.000214  0.374974  1.000000   \n",
      "4          1.000000   0.999394  0.010196   1.000016  0.000344  1.000000   \n",
      "...             ...        ...       ...        ...       ...       ...   \n",
      "4346975    0.998808   0.998695  0.086108   0.998808  0.192638  0.998756   \n",
      "4346976    0.999756   1.000274  0.147018   1.000533  0.157138  1.000343   \n",
      "4346977    1.001830   1.000444  0.049986   1.000543  0.049032  1.000509   \n",
      "4346978    1.003443   1.003166  0.652195   1.003443  0.373526  1.003316   \n",
      "4346979    0.998269   0.997013  0.109486   0.997327  0.105845  0.997254   \n",
      "\n",
      "           target  time_id       row_id  \n",
      "0       -3.029704        0        0_0_0  \n",
      "1       -5.519986        0        0_0_1  \n",
      "2       -8.389950        0        0_0_2  \n",
      "3       -4.010200        0        0_0_3  \n",
      "4       -7.349849        0        0_0_4  \n",
      "...           ...      ...          ...  \n",
      "4346975 -1.779795    21999  399_540_195  \n",
      "4346976 -7.029772    21999  399_540_196  \n",
      "4346977  5.110502    21999  399_540_197  \n",
      "4346978  2.870560    21999  399_540_198  \n",
      "4346979 -0.439882    21999  399_540_199  \n",
      "\n",
      "[4346893 rows x 17 columns]\n"
     ]
    }
   ],
   "source": [
    "def PreprocessTrainSet(\n",
    "    raw_df: pd.DataFrame, statistic_result: Dict[int, Dict[str, Dict[str, float]]]\n",
    ") -> pd.DataFrame:\n",
    "    data: pd.DataFrame = raw_df.copy()\n",
    "    \n",
    "    # fill out NaN with mean value\n",
    "    for stock in data['stock_id'].unique().tolist():\n",
    "        for feat in FILL_MEAN_FEATURES:\n",
    "            data.loc[\n",
    "                (data['stock_id'] == stock) & (data[feat].isnull()), \n",
    "                feat\n",
    "            ] = statistic_result[stock][feat]['mean']\n",
    "\n",
    "    # fill out NaN with 1\n",
    "    for feat in FILL_ONE_FEATURES:\n",
    "        data[feat] = data[feat].fillna(1.0)\n",
    "\n",
    "    # normalize features\n",
    "    for feat in MODEL_INPUT_FEATURES:\n",
    "        if feat not in NORMALIZED_FEATURE:\n",
    "            continue\n",
    "        data['min'] = np.nan\n",
    "        data['max'] = np.nan\n",
    "        \n",
    "        for stock in data['stock_id'].unique().tolist():\n",
    "            data.loc[data['stock_id'] == stock, ['min', 'max']] = [\n",
    "                statistic_result[stock][feat]['min'],\n",
    "                statistic_result[stock][feat]['max']\n",
    "            ]\n",
    "        \n",
    "        data[feat] = (data[feat] - data['min']) / (data['max'] - data['min'])\n",
    "        data = data.drop('min', axis=1)\n",
    "        data = data.drop('max', axis=1)\n",
    "        \n",
    "    data.dropna(inplace=True)\n",
    "    \n",
    "    print(f'Data has nan: \\n{data.isnull().any()}')\n",
    "    \n",
    "    return data\n",
    "\n",
    "\n",
    "train_pp_df = PreprocessTrainSet(raw_df=train_df, statistic_result=preprocess_info)\n",
    "\n",
    "print(train_pp_df)"
   ]
  },
  {
   "cell_type": "code",
   "execution_count": 126,
   "id": "fd10edc0-fcf7-499b-b513-1c052e401d68",
   "metadata": {
    "tags": []
   },
   "outputs": [],
   "source": [
    "# def PreprocessTrainSet(\n",
    "#     raw_df: pd.DataFrame\n",
    "# ) -> Tuple[pd.DataFrame, Dict[int, Dict[str, Dict[str, float]]]]:\n",
    "#     '''\n",
    "#     The 2nd return value example:\n",
    "#     {\n",
    "#         'STOCK_ID': {\n",
    "#             'COLUMN': {\n",
    "#                 'min': 0.0,\n",
    "#                 'max': 1.0,\n",
    "#                 'mean': 0.5\n",
    "#             }\n",
    "#         }\n",
    "#     }\n",
    "#     '''\n",
    "#     data: pd.DataFrame = raw_df.copy()\n",
    "#     statistic_result: Dict[int, Dict[str, Dict[str, float]]] = {}\n",
    "    \n",
    "#     for stock in data['stock_id'].unique().tolist():\n",
    "#         stock_df: pd.DataFrame = data.loc[data['stock_id'] == stock]\n",
    "#         stock_info: Dict[str, Dict[str, float]] = {}\n",
    "        \n",
    "#         for feat in stock_df.columns:\n",
    "#             if pd.api.types.is_string_dtype(stock_df[feat]):\n",
    "#                 continue\n",
    "#             stock_feat_info: Dict[str, float] = {}\n",
    "#             stock_feat_info['min'] = stock_df[feat].min(skipna=True)\n",
    "#             stock_feat_info['max'] = stock_df[feat].max(skipna=True)\n",
    "#             stock_feat_info['mean'] = stock_df[feat].mean(skipna=True)\n",
    "#             stock_info[feat] = stock_feat_info\n",
    "        \n",
    "#         statistic_result[stock] = stock_info\n",
    "    \n",
    "#     # fill out NaN with mean value\n",
    "#     for stock in data['stock_id'].unique().tolist():\n",
    "#         for feat in FILL_MEAN_FEATURES:\n",
    "#             data.loc[\n",
    "#                 (data['stock_id'] == stock) & (data[feat].isnull()), \n",
    "#                 feat\n",
    "#             ] = statistic_result[stock][feat]['mean']\n",
    "\n",
    "#     # fill out NaN with 1\n",
    "#     for feat in FILL_ONE_FEATURES:\n",
    "#         data[feat] = data[feat].fillna(1.0)\n",
    "\n",
    "#     # normalize features\n",
    "#     for feat in MODEL_INPUT_FEATURES:\n",
    "#         if feat not in NORMALIZED_FEATURE:\n",
    "#             continue\n",
    "#         data['min'] = np.nan\n",
    "#         data['max'] = np.nan\n",
    "        \n",
    "#         for stock in data['stock_id'].unique().tolist():\n",
    "#             data.loc[data['stock_id'] == stock, ['min', 'max']] = [\n",
    "#                 statistic_result[stock][feat]['min'],\n",
    "#                 statistic_result[stock][feat]['max']\n",
    "#             ]\n",
    "        \n",
    "#         data[feat] = (data[feat] - data['min']) / (data['max'] - data['min'])\n",
    "#         data = data.drop('min', axis=1)\n",
    "#         data = data.drop('max', axis=1)\n",
    "        \n",
    "#     data.dropna(inplace=True)\n",
    "    \n",
    "#     print(f'Data has nan: \\n{data.isnull().any()}')\n",
    "    \n",
    "#     return data, statistic_result\n",
    "\n",
    "\n",
    "# preprocess_info: Dict[Any, Any]\n",
    "# train_pp_df, preprocess_info = PreprocessTrainSet(raw_df=train_df)\n",
    "\n",
    "# print(train_pp_df)"
   ]
  },
  {
   "cell_type": "markdown",
   "id": "c32d644e-77b6-4538-9350-d8324fbf66a5",
   "metadata": {},
   "source": [
    "### Validation Set and Test Set"
   ]
  },
  {
   "cell_type": "code",
   "execution_count": 127,
   "id": "f3fe10b3-9446-4c78-aa05-c2880f7fde2d",
   "metadata": {},
   "outputs": [],
   "source": [
    "def PreprocessValidationTestSet(\n",
    "    raw_df: pd.DataFrame, statistic_result: Dict[int, Dict[str, Dict[str, float]]]\n",
    ") -> pd.DataFrame:\n",
    "\n",
    "    data: pd.DataFrame = raw_df.copy()\n",
    "    \n",
    "    # fill out NaN with mean value\n",
    "    for stock in data['stock_id'].unique().tolist():\n",
    "        for feat in FILL_MEAN_FEATURES:\n",
    "            data.loc[\n",
    "                (data['stock_id'] == stock) & (data[feat].isnull()), \n",
    "                feat\n",
    "            ] = statistic_result[stock][feat]['mean']\n",
    "\n",
    "    # fill out NaN with 1\n",
    "    for feat in FILL_ONE_FEATURES:\n",
    "        data[feat] = data[feat].fillna(1.0)\n",
    "\n",
    "    # normalize features\n",
    "    for feat in MODEL_INPUT_FEATURES:\n",
    "        if feat not in NORMALIZED_FEATURE:\n",
    "            continue\n",
    "        data['min'] = np.nan\n",
    "        data['max'] = np.nan\n",
    "        \n",
    "        for stock in data['stock_id'].unique().tolist():\n",
    "            data.loc[data['stock_id'] == stock, ['min', 'max']] = [\n",
    "                statistic_result[stock][feat]['min'],\n",
    "                statistic_result[stock][feat]['max']\n",
    "            ]\n",
    "        \n",
    "        data[feat] = (data[feat] - data['min']) / (data['max'] - data['min'])\n",
    "        data = data.drop('min', axis=1)\n",
    "        data = data.drop('max', axis=1)\n",
    "        \n",
    "    data.dropna(inplace=True)\n",
    "    \n",
    "    print(f'Data has nan: \\n{data.isnull().any()}')\n",
    "    \n",
    "    return data"
   ]
  },
  {
   "cell_type": "code",
   "execution_count": 128,
   "id": "67ac87c8-9ef3-425b-8824-0f9c6da9b230",
   "metadata": {},
   "outputs": [
    {
     "name": "stdout",
     "output_type": "stream",
     "text": [
      "Data has nan: \n",
      "stock_id                   False\n",
      "date_id                    False\n",
      "seconds_in_bucket          False\n",
      "imbalance_size             False\n",
      "imbalance_buy_sell_flag    False\n",
      "reference_price            False\n",
      "matched_size               False\n",
      "far_price                  False\n",
      "near_price                 False\n",
      "bid_price                  False\n",
      "bid_size                   False\n",
      "ask_price                  False\n",
      "ask_size                   False\n",
      "wap                        False\n",
      "target                     False\n",
      "time_id                    False\n",
      "row_id                     False\n",
      "dtype: bool\n"
     ]
    },
    {
     "data": {
      "text/html": [
       "<div>\n",
       "<style scoped>\n",
       "    .dataframe tbody tr th:only-of-type {\n",
       "        vertical-align: middle;\n",
       "    }\n",
       "\n",
       "    .dataframe tbody tr th {\n",
       "        vertical-align: top;\n",
       "    }\n",
       "\n",
       "    .dataframe thead th {\n",
       "        text-align: right;\n",
       "    }\n",
       "</style>\n",
       "<table border=\"1\" class=\"dataframe\">\n",
       "  <thead>\n",
       "    <tr style=\"text-align: right;\">\n",
       "      <th></th>\n",
       "      <th>stock_id</th>\n",
       "      <th>date_id</th>\n",
       "      <th>seconds_in_bucket</th>\n",
       "      <th>imbalance_size</th>\n",
       "      <th>imbalance_buy_sell_flag</th>\n",
       "      <th>reference_price</th>\n",
       "      <th>matched_size</th>\n",
       "      <th>far_price</th>\n",
       "      <th>near_price</th>\n",
       "      <th>bid_price</th>\n",
       "      <th>bid_size</th>\n",
       "      <th>ask_price</th>\n",
       "      <th>ask_size</th>\n",
       "      <th>wap</th>\n",
       "      <th>target</th>\n",
       "      <th>time_id</th>\n",
       "      <th>row_id</th>\n",
       "    </tr>\n",
       "  </thead>\n",
       "  <tbody>\n",
       "    <tr>\n",
       "      <th>4346980</th>\n",
       "      <td>0</td>\n",
       "      <td>400</td>\n",
       "      <td>0</td>\n",
       "      <td>0.104640</td>\n",
       "      <td>1</td>\n",
       "      <td>0.999454</td>\n",
       "      <td>0.026447</td>\n",
       "      <td>1.000000</td>\n",
       "      <td>1.000000</td>\n",
       "      <td>0.999648</td>\n",
       "      <td>0.001736</td>\n",
       "      <td>1.000521</td>\n",
       "      <td>0.015102</td>\n",
       "      <td>1.000000</td>\n",
       "      <td>0.050068</td>\n",
       "      <td>22000</td>\n",
       "      <td>400_0_0</td>\n",
       "    </tr>\n",
       "    <tr>\n",
       "      <th>4346981</th>\n",
       "      <td>1</td>\n",
       "      <td>400</td>\n",
       "      <td>0</td>\n",
       "      <td>0.178324</td>\n",
       "      <td>1</td>\n",
       "      <td>0.998651</td>\n",
       "      <td>0.025849</td>\n",
       "      <td>1.000000</td>\n",
       "      <td>1.000000</td>\n",
       "      <td>0.998065</td>\n",
       "      <td>0.049754</td>\n",
       "      <td>1.002580</td>\n",
       "      <td>0.045598</td>\n",
       "      <td>1.000000</td>\n",
       "      <td>-10.010004</td>\n",
       "      <td>22000</td>\n",
       "      <td>400_0_1</td>\n",
       "    </tr>\n",
       "    <tr>\n",
       "      <th>4346982</th>\n",
       "      <td>2</td>\n",
       "      <td>400</td>\n",
       "      <td>0</td>\n",
       "      <td>0.097252</td>\n",
       "      <td>-1</td>\n",
       "      <td>1.000470</td>\n",
       "      <td>0.011749</td>\n",
       "      <td>1.000000</td>\n",
       "      <td>1.000000</td>\n",
       "      <td>0.999974</td>\n",
       "      <td>0.007547</td>\n",
       "      <td>1.001236</td>\n",
       "      <td>0.103731</td>\n",
       "      <td>1.000000</td>\n",
       "      <td>7.070303</td>\n",
       "      <td>22000</td>\n",
       "      <td>400_0_2</td>\n",
       "    </tr>\n",
       "    <tr>\n",
       "      <th>4346983</th>\n",
       "      <td>3</td>\n",
       "      <td>400</td>\n",
       "      <td>0</td>\n",
       "      <td>0.020171</td>\n",
       "      <td>1</td>\n",
       "      <td>1.000143</td>\n",
       "      <td>0.032162</td>\n",
       "      <td>1.000000</td>\n",
       "      <td>1.000000</td>\n",
       "      <td>0.999964</td>\n",
       "      <td>0.004982</td>\n",
       "      <td>1.000731</td>\n",
       "      <td>0.153409</td>\n",
       "      <td>1.000000</td>\n",
       "      <td>3.780127</td>\n",
       "      <td>22000</td>\n",
       "      <td>400_0_3</td>\n",
       "    </tr>\n",
       "    <tr>\n",
       "      <th>4346984</th>\n",
       "      <td>4</td>\n",
       "      <td>400</td>\n",
       "      <td>0</td>\n",
       "      <td>0.071687</td>\n",
       "      <td>1</td>\n",
       "      <td>0.999428</td>\n",
       "      <td>0.008230</td>\n",
       "      <td>1.000000</td>\n",
       "      <td>1.000000</td>\n",
       "      <td>0.999255</td>\n",
       "      <td>0.016142</td>\n",
       "      <td>1.000119</td>\n",
       "      <td>0.004565</td>\n",
       "      <td>1.000000</td>\n",
       "      <td>1.590252</td>\n",
       "      <td>22000</td>\n",
       "      <td>400_0_4</td>\n",
       "    </tr>\n",
       "    <tr>\n",
       "      <th>...</th>\n",
       "      <td>...</td>\n",
       "      <td>...</td>\n",
       "      <td>...</td>\n",
       "      <td>...</td>\n",
       "      <td>...</td>\n",
       "      <td>...</td>\n",
       "      <td>...</td>\n",
       "      <td>...</td>\n",
       "      <td>...</td>\n",
       "      <td>...</td>\n",
       "      <td>...</td>\n",
       "      <td>...</td>\n",
       "      <td>...</td>\n",
       "      <td>...</td>\n",
       "      <td>...</td>\n",
       "      <td>...</td>\n",
       "      <td>...</td>\n",
       "    </tr>\n",
       "    <tr>\n",
       "      <th>5204975</th>\n",
       "      <td>195</td>\n",
       "      <td>477</td>\n",
       "      <td>540</td>\n",
       "      <td>0.040944</td>\n",
       "      <td>-1</td>\n",
       "      <td>1.002359</td>\n",
       "      <td>0.120353</td>\n",
       "      <td>1.001253</td>\n",
       "      <td>1.001253</td>\n",
       "      <td>1.002359</td>\n",
       "      <td>0.153837</td>\n",
       "      <td>1.002482</td>\n",
       "      <td>0.318110</td>\n",
       "      <td>1.002429</td>\n",
       "      <td>-3.190041</td>\n",
       "      <td>26289</td>\n",
       "      <td>477_540_195</td>\n",
       "    </tr>\n",
       "    <tr>\n",
       "      <th>5204976</th>\n",
       "      <td>196</td>\n",
       "      <td>477</td>\n",
       "      <td>540</td>\n",
       "      <td>0.045124</td>\n",
       "      <td>-1</td>\n",
       "      <td>0.998663</td>\n",
       "      <td>0.148910</td>\n",
       "      <td>0.996644</td>\n",
       "      <td>0.997401</td>\n",
       "      <td>0.998663</td>\n",
       "      <td>0.078859</td>\n",
       "      <td>0.999168</td>\n",
       "      <td>0.079631</td>\n",
       "      <td>0.998803</td>\n",
       "      <td>-6.200075</td>\n",
       "      <td>26289</td>\n",
       "      <td>477_540_196</td>\n",
       "    </tr>\n",
       "    <tr>\n",
       "      <th>5204977</th>\n",
       "      <td>197</td>\n",
       "      <td>477</td>\n",
       "      <td>540</td>\n",
       "      <td>0.004787</td>\n",
       "      <td>1</td>\n",
       "      <td>0.997623</td>\n",
       "      <td>0.024257</td>\n",
       "      <td>0.998388</td>\n",
       "      <td>0.998388</td>\n",
       "      <td>0.997240</td>\n",
       "      <td>0.013190</td>\n",
       "      <td>0.997623</td>\n",
       "      <td>0.033533</td>\n",
       "      <td>0.997405</td>\n",
       "      <td>0.000000</td>\n",
       "      <td>26289</td>\n",
       "      <td>477_540_197</td>\n",
       "    </tr>\n",
       "    <tr>\n",
       "      <th>5204978</th>\n",
       "      <td>198</td>\n",
       "      <td>477</td>\n",
       "      <td>540</td>\n",
       "      <td>0.027363</td>\n",
       "      <td>-1</td>\n",
       "      <td>0.999832</td>\n",
       "      <td>0.054122</td>\n",
       "      <td>0.998511</td>\n",
       "      <td>0.998751</td>\n",
       "      <td>0.999712</td>\n",
       "      <td>0.249313</td>\n",
       "      <td>0.999952</td>\n",
       "      <td>0.303272</td>\n",
       "      <td>0.999797</td>\n",
       "      <td>1.300573</td>\n",
       "      <td>26289</td>\n",
       "      <td>477_540_198</td>\n",
       "    </tr>\n",
       "    <tr>\n",
       "      <th>5204979</th>\n",
       "      <td>199</td>\n",
       "      <td>477</td>\n",
       "      <td>540</td>\n",
       "      <td>0.001769</td>\n",
       "      <td>-1</td>\n",
       "      <td>0.996704</td>\n",
       "      <td>0.028876</td>\n",
       "      <td>0.996063</td>\n",
       "      <td>0.996063</td>\n",
       "      <td>0.996704</td>\n",
       "      <td>0.045153</td>\n",
       "      <td>0.997025</td>\n",
       "      <td>0.119507</td>\n",
       "      <td>0.996880</td>\n",
       "      <td>1.239777</td>\n",
       "      <td>26289</td>\n",
       "      <td>477_540_199</td>\n",
       "    </tr>\n",
       "  </tbody>\n",
       "</table>\n",
       "<p>857999 rows × 17 columns</p>\n",
       "</div>"
      ],
      "text/plain": [
       "         stock_id  date_id  seconds_in_bucket  imbalance_size  \\\n",
       "4346980         0      400                  0        0.104640   \n",
       "4346981         1      400                  0        0.178324   \n",
       "4346982         2      400                  0        0.097252   \n",
       "4346983         3      400                  0        0.020171   \n",
       "4346984         4      400                  0        0.071687   \n",
       "...           ...      ...                ...             ...   \n",
       "5204975       195      477                540        0.040944   \n",
       "5204976       196      477                540        0.045124   \n",
       "5204977       197      477                540        0.004787   \n",
       "5204978       198      477                540        0.027363   \n",
       "5204979       199      477                540        0.001769   \n",
       "\n",
       "         imbalance_buy_sell_flag  reference_price  matched_size  far_price  \\\n",
       "4346980                        1         0.999454      0.026447   1.000000   \n",
       "4346981                        1         0.998651      0.025849   1.000000   \n",
       "4346982                       -1         1.000470      0.011749   1.000000   \n",
       "4346983                        1         1.000143      0.032162   1.000000   \n",
       "4346984                        1         0.999428      0.008230   1.000000   \n",
       "...                          ...              ...           ...        ...   \n",
       "5204975                       -1         1.002359      0.120353   1.001253   \n",
       "5204976                       -1         0.998663      0.148910   0.996644   \n",
       "5204977                        1         0.997623      0.024257   0.998388   \n",
       "5204978                       -1         0.999832      0.054122   0.998511   \n",
       "5204979                       -1         0.996704      0.028876   0.996063   \n",
       "\n",
       "         near_price  bid_price  bid_size  ask_price  ask_size       wap  \\\n",
       "4346980    1.000000   0.999648  0.001736   1.000521  0.015102  1.000000   \n",
       "4346981    1.000000   0.998065  0.049754   1.002580  0.045598  1.000000   \n",
       "4346982    1.000000   0.999974  0.007547   1.001236  0.103731  1.000000   \n",
       "4346983    1.000000   0.999964  0.004982   1.000731  0.153409  1.000000   \n",
       "4346984    1.000000   0.999255  0.016142   1.000119  0.004565  1.000000   \n",
       "...             ...        ...       ...        ...       ...       ...   \n",
       "5204975    1.001253   1.002359  0.153837   1.002482  0.318110  1.002429   \n",
       "5204976    0.997401   0.998663  0.078859   0.999168  0.079631  0.998803   \n",
       "5204977    0.998388   0.997240  0.013190   0.997623  0.033533  0.997405   \n",
       "5204978    0.998751   0.999712  0.249313   0.999952  0.303272  0.999797   \n",
       "5204979    0.996063   0.996704  0.045153   0.997025  0.119507  0.996880   \n",
       "\n",
       "            target  time_id       row_id  \n",
       "4346980   0.050068    22000      400_0_0  \n",
       "4346981 -10.010004    22000      400_0_1  \n",
       "4346982   7.070303    22000      400_0_2  \n",
       "4346983   3.780127    22000      400_0_3  \n",
       "4346984   1.590252    22000      400_0_4  \n",
       "...            ...      ...          ...  \n",
       "5204975  -3.190041    26289  477_540_195  \n",
       "5204976  -6.200075    26289  477_540_196  \n",
       "5204977   0.000000    26289  477_540_197  \n",
       "5204978   1.300573    26289  477_540_198  \n",
       "5204979   1.239777    26289  477_540_199  \n",
       "\n",
       "[857999 rows x 17 columns]"
      ]
     },
     "execution_count": 128,
     "metadata": {},
     "output_type": "execute_result"
    }
   ],
   "source": [
    "valid_pp_df = PreprocessValidationTestSet(raw_df=valid_df, statistic_result=preprocess_info)\n",
    "valid_pp_df"
   ]
  },
  {
   "cell_type": "code",
   "execution_count": 129,
   "id": "f7fedf3b-e18f-447b-994e-31e8f3e5bcaa",
   "metadata": {},
   "outputs": [
    {
     "name": "stdout",
     "output_type": "stream",
     "text": [
      "Data has nan: \n",
      "stock_id                   False\n",
      "date_id                    False\n",
      "seconds_in_bucket          False\n",
      "imbalance_size             False\n",
      "imbalance_buy_sell_flag    False\n",
      "reference_price            False\n",
      "matched_size               False\n",
      "far_price                  False\n",
      "near_price                 False\n",
      "bid_price                  False\n",
      "bid_size                   False\n",
      "ask_price                  False\n",
      "ask_size                   False\n",
      "wap                        False\n",
      "target                     False\n",
      "time_id                    False\n",
      "row_id                     False\n",
      "dtype: bool\n"
     ]
    },
    {
     "data": {
      "text/html": [
       "<div>\n",
       "<style scoped>\n",
       "    .dataframe tbody tr th:only-of-type {\n",
       "        vertical-align: middle;\n",
       "    }\n",
       "\n",
       "    .dataframe tbody tr th {\n",
       "        vertical-align: top;\n",
       "    }\n",
       "\n",
       "    .dataframe thead th {\n",
       "        text-align: right;\n",
       "    }\n",
       "</style>\n",
       "<table border=\"1\" class=\"dataframe\">\n",
       "  <thead>\n",
       "    <tr style=\"text-align: right;\">\n",
       "      <th></th>\n",
       "      <th>stock_id</th>\n",
       "      <th>date_id</th>\n",
       "      <th>seconds_in_bucket</th>\n",
       "      <th>imbalance_size</th>\n",
       "      <th>imbalance_buy_sell_flag</th>\n",
       "      <th>reference_price</th>\n",
       "      <th>matched_size</th>\n",
       "      <th>far_price</th>\n",
       "      <th>near_price</th>\n",
       "      <th>bid_price</th>\n",
       "      <th>bid_size</th>\n",
       "      <th>ask_price</th>\n",
       "      <th>ask_size</th>\n",
       "      <th>wap</th>\n",
       "      <th>target</th>\n",
       "      <th>time_id</th>\n",
       "      <th>row_id</th>\n",
       "    </tr>\n",
       "  </thead>\n",
       "  <tbody>\n",
       "    <tr>\n",
       "      <th>5203980</th>\n",
       "      <td>0</td>\n",
       "      <td>477</td>\n",
       "      <td>500</td>\n",
       "      <td>0.010121</td>\n",
       "      <td>-1</td>\n",
       "      <td>0.998733</td>\n",
       "      <td>0.149994</td>\n",
       "      <td>0.998383</td>\n",
       "      <td>0.998383</td>\n",
       "      <td>0.998733</td>\n",
       "      <td>0.009558</td>\n",
       "      <td>0.998908</td>\n",
       "      <td>0.062429</td>\n",
       "      <td>0.998816</td>\n",
       "      <td>-1.959801</td>\n",
       "      <td>26285</td>\n",
       "      <td>477_500_0</td>\n",
       "    </tr>\n",
       "    <tr>\n",
       "      <th>5203981</th>\n",
       "      <td>1</td>\n",
       "      <td>477</td>\n",
       "      <td>500</td>\n",
       "      <td>0.019167</td>\n",
       "      <td>-1</td>\n",
       "      <td>0.996861</td>\n",
       "      <td>0.230179</td>\n",
       "      <td>0.996761</td>\n",
       "      <td>0.996811</td>\n",
       "      <td>0.996861</td>\n",
       "      <td>0.022933</td>\n",
       "      <td>0.997110</td>\n",
       "      <td>0.003114</td>\n",
       "      <td>0.997068</td>\n",
       "      <td>-3.240108</td>\n",
       "      <td>26285</td>\n",
       "      <td>477_500_1</td>\n",
       "    </tr>\n",
       "    <tr>\n",
       "      <th>5203982</th>\n",
       "      <td>2</td>\n",
       "      <td>477</td>\n",
       "      <td>500</td>\n",
       "      <td>0.008084</td>\n",
       "      <td>1</td>\n",
       "      <td>1.000412</td>\n",
       "      <td>0.025736</td>\n",
       "      <td>1.000618</td>\n",
       "      <td>1.000618</td>\n",
       "      <td>1.000206</td>\n",
       "      <td>0.007384</td>\n",
       "      <td>1.000412</td>\n",
       "      <td>0.002194</td>\n",
       "      <td>1.000306</td>\n",
       "      <td>2.800226</td>\n",
       "      <td>26285</td>\n",
       "      <td>477_500_2</td>\n",
       "    </tr>\n",
       "    <tr>\n",
       "      <th>5203983</th>\n",
       "      <td>3</td>\n",
       "      <td>477</td>\n",
       "      <td>500</td>\n",
       "      <td>0.023070</td>\n",
       "      <td>-1</td>\n",
       "      <td>0.999988</td>\n",
       "      <td>0.065996</td>\n",
       "      <td>0.998009</td>\n",
       "      <td>0.998603</td>\n",
       "      <td>0.999988</td>\n",
       "      <td>0.006517</td>\n",
       "      <td>1.000087</td>\n",
       "      <td>0.032960</td>\n",
       "      <td>1.000011</td>\n",
       "      <td>-5.049705</td>\n",
       "      <td>26285</td>\n",
       "      <td>477_500_3</td>\n",
       "    </tr>\n",
       "    <tr>\n",
       "      <th>5203984</th>\n",
       "      <td>4</td>\n",
       "      <td>477</td>\n",
       "      <td>500</td>\n",
       "      <td>0.000000</td>\n",
       "      <td>0</td>\n",
       "      <td>1.001033</td>\n",
       "      <td>0.075482</td>\n",
       "      <td>1.001033</td>\n",
       "      <td>1.001033</td>\n",
       "      <td>1.001033</td>\n",
       "      <td>0.093155</td>\n",
       "      <td>1.001089</td>\n",
       "      <td>0.006674</td>\n",
       "      <td>1.001087</td>\n",
       "      <td>-1.299977</td>\n",
       "      <td>26285</td>\n",
       "      <td>477_500_4</td>\n",
       "    </tr>\n",
       "    <tr>\n",
       "      <th>...</th>\n",
       "      <td>...</td>\n",
       "      <td>...</td>\n",
       "      <td>...</td>\n",
       "      <td>...</td>\n",
       "      <td>...</td>\n",
       "      <td>...</td>\n",
       "      <td>...</td>\n",
       "      <td>...</td>\n",
       "      <td>...</td>\n",
       "      <td>...</td>\n",
       "      <td>...</td>\n",
       "      <td>...</td>\n",
       "      <td>...</td>\n",
       "      <td>...</td>\n",
       "      <td>...</td>\n",
       "      <td>...</td>\n",
       "      <td>...</td>\n",
       "    </tr>\n",
       "    <tr>\n",
       "      <th>5237975</th>\n",
       "      <td>195</td>\n",
       "      <td>480</td>\n",
       "      <td>540</td>\n",
       "      <td>0.035571</td>\n",
       "      <td>-1</td>\n",
       "      <td>1.000317</td>\n",
       "      <td>0.092998</td>\n",
       "      <td>0.999734</td>\n",
       "      <td>0.999734</td>\n",
       "      <td>1.000317</td>\n",
       "      <td>0.011651</td>\n",
       "      <td>1.000434</td>\n",
       "      <td>0.311774</td>\n",
       "      <td>1.000328</td>\n",
       "      <td>2.310276</td>\n",
       "      <td>26454</td>\n",
       "      <td>480_540_195</td>\n",
       "    </tr>\n",
       "    <tr>\n",
       "      <th>5237976</th>\n",
       "      <td>196</td>\n",
       "      <td>480</td>\n",
       "      <td>540</td>\n",
       "      <td>0.012758</td>\n",
       "      <td>-1</td>\n",
       "      <td>1.000643</td>\n",
       "      <td>0.155865</td>\n",
       "      <td>1.000129</td>\n",
       "      <td>1.000386</td>\n",
       "      <td>1.000643</td>\n",
       "      <td>0.446159</td>\n",
       "      <td>1.000900</td>\n",
       "      <td>0.078257</td>\n",
       "      <td>1.000819</td>\n",
       "      <td>-8.220077</td>\n",
       "      <td>26454</td>\n",
       "      <td>480_540_196</td>\n",
       "    </tr>\n",
       "    <tr>\n",
       "      <th>5237977</th>\n",
       "      <td>197</td>\n",
       "      <td>480</td>\n",
       "      <td>540</td>\n",
       "      <td>0.000000</td>\n",
       "      <td>0</td>\n",
       "      <td>0.995789</td>\n",
       "      <td>0.030443</td>\n",
       "      <td>0.995789</td>\n",
       "      <td>0.995789</td>\n",
       "      <td>0.995789</td>\n",
       "      <td>0.010616</td>\n",
       "      <td>0.995883</td>\n",
       "      <td>0.219793</td>\n",
       "      <td>0.995797</td>\n",
       "      <td>1.169443</td>\n",
       "      <td>26454</td>\n",
       "      <td>480_540_197</td>\n",
       "    </tr>\n",
       "    <tr>\n",
       "      <th>5237978</th>\n",
       "      <td>198</td>\n",
       "      <td>480</td>\n",
       "      <td>540</td>\n",
       "      <td>0.004784</td>\n",
       "      <td>1</td>\n",
       "      <td>0.999210</td>\n",
       "      <td>0.090585</td>\n",
       "      <td>0.999210</td>\n",
       "      <td>0.999210</td>\n",
       "      <td>0.998970</td>\n",
       "      <td>0.058164</td>\n",
       "      <td>0.999210</td>\n",
       "      <td>0.209937</td>\n",
       "      <td>0.999008</td>\n",
       "      <td>-1.540184</td>\n",
       "      <td>26454</td>\n",
       "      <td>480_540_198</td>\n",
       "    </tr>\n",
       "    <tr>\n",
       "      <th>5237979</th>\n",
       "      <td>199</td>\n",
       "      <td>480</td>\n",
       "      <td>540</td>\n",
       "      <td>0.006047</td>\n",
       "      <td>-1</td>\n",
       "      <td>1.002129</td>\n",
       "      <td>0.030855</td>\n",
       "      <td>1.000859</td>\n",
       "      <td>1.001494</td>\n",
       "      <td>1.002129</td>\n",
       "      <td>0.054782</td>\n",
       "      <td>1.002447</td>\n",
       "      <td>0.212474</td>\n",
       "      <td>1.002274</td>\n",
       "      <td>-6.530285</td>\n",
       "      <td>26454</td>\n",
       "      <td>480_540_199</td>\n",
       "    </tr>\n",
       "  </tbody>\n",
       "</table>\n",
       "<p>34000 rows × 17 columns</p>\n",
       "</div>"
      ],
      "text/plain": [
       "         stock_id  date_id  seconds_in_bucket  imbalance_size  \\\n",
       "5203980         0      477                500        0.010121   \n",
       "5203981         1      477                500        0.019167   \n",
       "5203982         2      477                500        0.008084   \n",
       "5203983         3      477                500        0.023070   \n",
       "5203984         4      477                500        0.000000   \n",
       "...           ...      ...                ...             ...   \n",
       "5237975       195      480                540        0.035571   \n",
       "5237976       196      480                540        0.012758   \n",
       "5237977       197      480                540        0.000000   \n",
       "5237978       198      480                540        0.004784   \n",
       "5237979       199      480                540        0.006047   \n",
       "\n",
       "         imbalance_buy_sell_flag  reference_price  matched_size  far_price  \\\n",
       "5203980                       -1         0.998733      0.149994   0.998383   \n",
       "5203981                       -1         0.996861      0.230179   0.996761   \n",
       "5203982                        1         1.000412      0.025736   1.000618   \n",
       "5203983                       -1         0.999988      0.065996   0.998009   \n",
       "5203984                        0         1.001033      0.075482   1.001033   \n",
       "...                          ...              ...           ...        ...   \n",
       "5237975                       -1         1.000317      0.092998   0.999734   \n",
       "5237976                       -1         1.000643      0.155865   1.000129   \n",
       "5237977                        0         0.995789      0.030443   0.995789   \n",
       "5237978                        1         0.999210      0.090585   0.999210   \n",
       "5237979                       -1         1.002129      0.030855   1.000859   \n",
       "\n",
       "         near_price  bid_price  bid_size  ask_price  ask_size       wap  \\\n",
       "5203980    0.998383   0.998733  0.009558   0.998908  0.062429  0.998816   \n",
       "5203981    0.996811   0.996861  0.022933   0.997110  0.003114  0.997068   \n",
       "5203982    1.000618   1.000206  0.007384   1.000412  0.002194  1.000306   \n",
       "5203983    0.998603   0.999988  0.006517   1.000087  0.032960  1.000011   \n",
       "5203984    1.001033   1.001033  0.093155   1.001089  0.006674  1.001087   \n",
       "...             ...        ...       ...        ...       ...       ...   \n",
       "5237975    0.999734   1.000317  0.011651   1.000434  0.311774  1.000328   \n",
       "5237976    1.000386   1.000643  0.446159   1.000900  0.078257  1.000819   \n",
       "5237977    0.995789   0.995789  0.010616   0.995883  0.219793  0.995797   \n",
       "5237978    0.999210   0.998970  0.058164   0.999210  0.209937  0.999008   \n",
       "5237979    1.001494   1.002129  0.054782   1.002447  0.212474  1.002274   \n",
       "\n",
       "           target  time_id       row_id  \n",
       "5203980 -1.959801    26285    477_500_0  \n",
       "5203981 -3.240108    26285    477_500_1  \n",
       "5203982  2.800226    26285    477_500_2  \n",
       "5203983 -5.049705    26285    477_500_3  \n",
       "5203984 -1.299977    26285    477_500_4  \n",
       "...           ...      ...          ...  \n",
       "5237975  2.310276    26454  480_540_195  \n",
       "5237976 -8.220077    26454  480_540_196  \n",
       "5237977  1.169443    26454  480_540_197  \n",
       "5237978 -1.540184    26454  480_540_198  \n",
       "5237979 -6.530285    26454  480_540_199  \n",
       "\n",
       "[34000 rows x 17 columns]"
      ]
     },
     "execution_count": 129,
     "metadata": {},
     "output_type": "execute_result"
    }
   ],
   "source": [
    "test_pp_df = PreprocessValidationTestSet(raw_df=test_df, statistic_result=preprocess_info)\n",
    "test_pp_df"
   ]
  },
  {
   "cell_type": "markdown",
   "id": "d3638b1b-b9f8-40e1-a609-e15fbcdb37b5",
   "metadata": {},
   "source": [
    "## Create DataLoaders for Training And Validation"
   ]
  },
  {
   "cell_type": "code",
   "execution_count": 130,
   "id": "98e49a47-2eae-48eb-bb75-e7454651823b",
   "metadata": {},
   "outputs": [],
   "source": [
    "def GenTimeSeriesData(raw_df: pd.DataFrame) -> Tuple[np.ndarray, np.float32]:\n",
    "    '''\n",
    "    raw_df: The rows of time t-n ~ t for predicting the target of t.\n",
    "    The generated features contains the data of time t-n ~ t-1.\n",
    "    '''\n",
    "    df = raw_df.copy()\n",
    "    df = df.sort_values(by=['date_id', 'seconds_in_bucket'], ascending=True)\n",
    "    \n",
    "    df = df[MODEL_INPUT_FEATURES]\n",
    "    df_numpy: np.ndarray = df.to_numpy()\n",
    "    \n",
    "    x: np.ndarray = df_numpy[:-1, :]\n",
    "    y: np.float32 = df['target'].tolist()[-1]\n",
    "    \n",
    "    return x, y\n",
    "\n",
    "def GenTimeSeriesDataset(\n",
    "    train_raw_df: pd.DataFrame, valid_raw_df: pd.DataFrame, window_size: int\n",
    ") -> Tuple[\n",
    "    np.ndarray, np.ndarray, np.ndarray, np.ndarray\n",
    "]:\n",
    "    '''\n",
    "    Generate train_x, train_y, valid_x, valid_y\n",
    "    '''\n",
    "    train_x: List[np.ndarray] = []\n",
    "    train_y: List[np.float32] = []\n",
    "    valid_x: List[np.ndarray] = []\n",
    "    valid_y: List[np.float32] = []\n",
    "    \n",
    "    data: pd.DataFrame = pd.concat([train_raw_df, valid_raw_df], ignore_index=True)\n",
    "    data = data.sort_values(by=['stock_id', 'date_id', 'seconds_in_bucket'], ascending=True)\n",
    "    train_date: List[int] = train_raw_df['date_id'].unique().tolist()\n",
    "    valid_date: List[int] = valid_raw_df['date_id'].unique().tolist()\n",
    "    \n",
    "    with tqdm(total=data.shape[0]) as pbar:\n",
    "        pbar.set_description('Preparing time series dataset')\n",
    "        for stock in data['stock_id'].unique().tolist():\n",
    "            stock_df: pd.DataFrame = data.loc[data['stock_id'] == stock].reset_index(drop=True)\n",
    "            stock_df.reset_index(drop=True, inplace=True)\n",
    "            \n",
    "            for date in range(0, 478):\n",
    "                for second in range(0, 540+1, 10):\n",
    "                    index_list: List[int] = stock_df.index[\n",
    "                        (stock_df['stock_id'] == stock) & \n",
    "                        (stock_df['date_id'] == date) & \n",
    "                        (stock_df['seconds_in_bucket'] == second)\n",
    "                    ].tolist()\n",
    "                    \n",
    "                    if len(index_list) == 0:\n",
    "                        continue\n",
    "                    pbar.update(1)\n",
    "                    if index_list[0] < window_size:\n",
    "                        continue\n",
    "                    \n",
    "                    x: np.ndarray\n",
    "                    y: np.float32\n",
    "                    start_idx, end_idx = index_list[0] - window_size, index_list[0] + 1\n",
    "                    x, y = GenTimeSeriesData(raw_df=stock_df.iloc[start_idx:end_idx])\n",
    "                    \n",
    "                    if date in train_date:\n",
    "                        train_x.append(x)\n",
    "                        train_y.append(y)\n",
    "                    elif date in valid_date:\n",
    "                        valid_x.append(x)\n",
    "                        valid_y.append(y)\n",
    "    \n",
    "    return np.array(train_x), np.array(train_y), np.array(valid_x), np.array(valid_y)"
   ]
  },
  {
   "cell_type": "code",
   "execution_count": 17,
   "id": "8dcfb5e9-941b-4cc8-8358-db2700a63ced",
   "metadata": {},
   "outputs": [],
   "source": [
    "train_set_x: np.ndarray\n",
    "train_set_y: np.ndarray\n",
    "valid_set_x: np.ndarray\n",
    "valid_set_y: np.ndarray\n",
    "\n",
    "# train_set_x, train_set_y, valid_set_x, valid_set_y = GenTimeSeriesDataset(\n",
    "#     train_raw_df=train_pp_df, valid_raw_df=valid_pp_df, window_size=5\n",
    "# )"
   ]
  },
  {
   "cell_type": "code",
   "execution_count": 56,
   "id": "5f13a116",
   "metadata": {},
   "outputs": [],
   "source": [
    "train_set_x = train_set_x.astype(np.float32)\n",
    "train_set_y = train_set_y.astype(np.float32)\n",
    "valid_set_x = valid_set_x.astype(np.float32)\n",
    "valid_set_y = valid_set_y.astype(np.float32)"
   ]
  },
  {
   "cell_type": "code",
   "execution_count": 47,
   "id": "1e613a7b",
   "metadata": {},
   "outputs": [],
   "source": [
    "train_set_y = train_set_y[:, np.newaxis]\n",
    "valid_set_y = valid_set_y[:, np.newaxis]"
   ]
  },
  {
   "cell_type": "code",
   "execution_count": 143,
   "id": "40a46e54-f247-453e-ae6a-c342a597142b",
   "metadata": {},
   "outputs": [
    {
     "name": "stdout",
     "output_type": "stream",
     "text": [
      "(4345893, 5, 12)\n",
      "(4345893, 1)\n",
      "(857999, 5, 12)\n",
      "(857999, 1)\n"
     ]
    }
   ],
   "source": [
    "print(train_set_x.shape)\n",
    "print(train_set_y.shape)\n",
    "print(valid_set_x.shape)\n",
    "print(valid_set_y.shape)"
   ]
  },
  {
   "cell_type": "code",
   "execution_count": 30,
   "id": "a9893c79",
   "metadata": {},
   "outputs": [],
   "source": [
    "with open('./numpy_bin/train_set_x.npy', 'wb') as f:\n",
    "    np.save(f, train_set_x)\n",
    "with open('./numpy_bin/train_set_y.npy', 'wb') as f:\n",
    "    np.save(f, train_set_y)\n",
    "with open('./numpy_bin/valid_set_x.npy', 'wb') as f:\n",
    "    np.save(f, valid_set_x)\n",
    "with open('./numpy_bin/valid_set_y.npy', 'wb') as f:\n",
    "    np.save(f, valid_set_y)"
   ]
  },
  {
   "cell_type": "code",
   "execution_count": 131,
   "id": "7355a393-999c-464b-b327-c6d73d249d5f",
   "metadata": {},
   "outputs": [],
   "source": [
    "train_set_x = np.load('./numpy_bin/new_time_period/train_set_2_x.npy', allow_pickle=True).astype(np.float32)\n",
    "train_set_y = np.load('./numpy_bin/new_time_period/train_set_2_y.npy', allow_pickle=True).astype(np.float32)\n",
    "valid_set_x = np.load('./numpy_bin/new_time_period/valid_set_2_x.npy', allow_pickle=True).astype(np.float32)\n",
    "valid_set_y = np.load('./numpy_bin/new_time_period/valid_set_2_y.npy', allow_pickle=True).astype(np.float32)\n",
    "\n",
    "if train_set_y.ndim == 1:\n",
    "    train_set_y = train_set_y[:, np.newaxis]\n",
    "if valid_set_y.ndim == 1:\n",
    "    valid_set_y = valid_set_y[:, np.newaxis]"
   ]
  },
  {
   "cell_type": "code",
   "execution_count": 132,
   "id": "4f1abd72-a8cb-46e9-a74e-ea57996ab6e9",
   "metadata": {},
   "outputs": [
    {
     "name": "stdout",
     "output_type": "stream",
     "text": [
      "(4345893, 5, 12)\n",
      "(4345893, 1)\n",
      "(857999, 5, 12)\n",
      "(857999, 1)\n"
     ]
    }
   ],
   "source": [
    "print(train_set_x.shape)\n",
    "print(train_set_y.shape)\n",
    "print(valid_set_x.shape)\n",
    "print(valid_set_y.shape)"
   ]
  },
  {
   "cell_type": "code",
   "execution_count": 133,
   "id": "63eb8dbe-cdde-4e46-badd-358a3aa9b7ef",
   "metadata": {},
   "outputs": [],
   "source": [
    "train_set_x_torch, train_set_y_torch, valid_set_x_torch, valid_set_y_torch = (\n",
    "    torch.tensor(train_set_x).clone().detach(),\n",
    "    torch.tensor(train_set_y).clone().detach(),\n",
    "    torch.tensor(valid_set_x).clone().detach(),\n",
    "    torch.tensor(valid_set_y).clone().detach()\n",
    ")\n",
    "\n",
    "train_loader = DataLoader(TensorDataset(train_set_x_torch, train_set_y_torch), shuffle=True, batch_size=BATCH_SIZE)\n",
    "valid_loader = DataLoader(TensorDataset(valid_set_x_torch, valid_set_y_torch), shuffle=True, batch_size=BATCH_SIZE)"
   ]
  },
  {
   "cell_type": "markdown",
   "id": "d86aa0f0-33f7-49d2-937b-76b4a11dc25b",
   "metadata": {},
   "source": [
    "## Model Definition"
   ]
  },
  {
   "cell_type": "code",
   "execution_count": 134,
   "id": "e1b980b4-e13a-45b8-9c61-dd65e2c9c3ee",
   "metadata": {},
   "outputs": [],
   "source": [
    "class AttentionLSTM_Model(nn.Module):\n",
    "    def __init__(self, input_size, hidden_size=64, num_layers=2, num_heads=64, batch_first=True, dropout=0.1):\n",
    "        super(AttentionLSTM_Model, self).__init__()\n",
    "        self.lstm = nn.LSTM(input_size=input_size, hidden_size=hidden_size, num_layers=num_layers, batch_first=batch_first, dropout=dropout)\n",
    "        self.multihead_attention = nn.MultiheadAttention(embed_dim=hidden_size, num_heads=num_heads)\n",
    "        self.linear = nn.Linear(hidden_size, 1)\n",
    "        self.dropout = nn.Dropout(0.1)\n",
    "\n",
    "    def forward(self, x):\n",
    "        # LSTM\n",
    "        lstm_output, _ = self.lstm(x)\n",
    "\n",
    "        # Multihead Attention\n",
    "        lstm_output = lstm_output.permute(1, 0, 2)  # Change the sequence format for MultiheadAttention\n",
    "        attention_output, _ = self.multihead_attention(lstm_output, lstm_output, lstm_output)\n",
    "        attention_output = attention_output.permute(1, 0, 2)  # Change the sequence format back to the original\n",
    "\n",
    "        # Linear layer\n",
    "        x = self.dropout(attention_output)\n",
    "        x = self.linear(x[:, -1, :])\n",
    "        return x"
   ]
  },
  {
   "cell_type": "markdown",
   "id": "ea0d67b4-3c71-4d15-b3f4-b9d26b280823",
   "metadata": {},
   "source": [
    "## Training"
   ]
  },
  {
   "cell_type": "code",
   "execution_count": 135,
   "id": "fcdcce33-2f75-4d67-9ab3-a266c8ec4484",
   "metadata": {},
   "outputs": [],
   "source": [
    "def train(\n",
    "    model, train_loader: DataLoader, valid_loader: DataLoader, optimizer, loss_fn, epoch_cnt: int\n",
    ") -> Tuple[List[float], List[float]]:\n",
    "    train_loss_list: List[float] = []\n",
    "    valid_loss_list: List[float] = []\n",
    "    \n",
    "    print(f'The batch size of train_loader = {train_loader.batch_size}')\n",
    "    print(f'The batch size of valid_loader = {valid_loader.batch_size}')\n",
    "\n",
    "    min_loss: float = 10.0\n",
    "    \n",
    "    for epoch in range(epoch_cnt):\n",
    "        train_batch_loss_list: List[float] = []\n",
    "        valid_batch_loss_list: List[float] = []\n",
    "        \n",
    "        model.train()\n",
    "        pbar = tqdm(train_loader)\n",
    "        pbar.set_description(f\"Training Epoch {epoch}\")\n",
    "        for batch_x, batch_y in pbar:\n",
    "            batch_x = batch_x.to(device)\n",
    "            batch_y = batch_y.to(device)\n",
    "            \n",
    "            optimizer.zero_grad()\n",
    "            pred_y = model(batch_x)\n",
    "            loss = loss_fn(pred_y, batch_y)\n",
    "            train_batch_loss_list.append(loss.cpu().detach().numpy())\n",
    "            \n",
    "            loss.backward()\n",
    "            optimizer.step()\n",
    "\n",
    "            if len(train_batch_loss_list) % 1000 == 999:\n",
    "                train_loss_list.append(float(np.mean(train_batch_loss_list[-100:])))\n",
    "        \n",
    "        model.eval()\n",
    "        better_model: bool = False\n",
    "        with torch.no_grad():\n",
    "            pbar = tqdm(valid_loader)\n",
    "            pbar.set_description(f\"Validating Epoch {epoch}\")\n",
    "            for batch_x, batch_y in pbar:\n",
    "                batch_x = batch_x.to(device)\n",
    "                batch_y = batch_y.to(device)\n",
    "                \n",
    "                pred_y = model(batch_x)\n",
    "                loss = loss_fn(pred_y, batch_y)\n",
    "                valid_batch_loss_list.append(loss.cpu().detach().numpy())\n",
    "\n",
    "                if len(valid_batch_loss_list) % 1000 == 999:\n",
    "                    if len(valid_loss_list) == 0 or float(np.mean(valid_batch_loss_list[-100:])) < min_loss:\n",
    "                        better_model = True\n",
    "                        min_loss = float(np.mean(valid_batch_loss_list[-100:]))\n",
    "                    valid_loss_list.append(float(np.mean(valid_batch_loss_list[-100:])))\n",
    "\n",
    "        if better_model:\n",
    "            torch.save(model, f\"./models/lstm-with-attention-t2t4-bs{BATCH_SIZE}-lr{LEARNING_RATE}.pt\")\n",
    "        \n",
    "        print(\"Epoch %d: train_loss %.4f, val_loss %.4f\" % (epoch, np.mean(train_batch_loss_list), np.mean(valid_batch_loss_list)))\n",
    "        \n",
    "    return train_loss_list, valid_loss_list"
   ]
  },
  {
   "cell_type": "code",
   "execution_count": 136,
   "id": "61753e46-7e47-4309-8148-0160227cbd0f",
   "metadata": {},
   "outputs": [
    {
     "data": {
      "text/plain": [
       "AttentionLSTM_Model(\n",
       "  (lstm): LSTM(12, 64, num_layers=2, batch_first=True, dropout=0.1)\n",
       "  (multihead_attention): MultiheadAttention(\n",
       "    (out_proj): NonDynamicallyQuantizableLinear(in_features=64, out_features=64, bias=True)\n",
       "  )\n",
       "  (linear): Linear(in_features=64, out_features=1, bias=True)\n",
       "  (dropout): Dropout(p=0.1, inplace=False)\n",
       ")"
      ]
     },
     "execution_count": 136,
     "metadata": {},
     "output_type": "execute_result"
    }
   ],
   "source": [
    "model = AttentionLSTM_Model(input_size=len(MODEL_INPUT_FEATURES))\n",
    "model.to(device)"
   ]
  },
  {
   "cell_type": "code",
   "execution_count": 137,
   "id": "001d47ff-1046-4f90-ac54-b041b808edd0",
   "metadata": {},
   "outputs": [],
   "source": [
    "optimizer = optim.Adam(model.parameters(), lr=LEARNING_RATE)\n",
    "loss_fn = nn.L1Loss()"
   ]
  },
  {
   "cell_type": "code",
   "execution_count": 138,
   "id": "bf9af786",
   "metadata": {},
   "outputs": [
    {
     "name": "stdout",
     "output_type": "stream",
     "text": [
      "The batch size of train_loader = 256\n",
      "The batch size of valid_loader = 256\n"
     ]
    },
    {
     "name": "stderr",
     "output_type": "stream",
     "text": [
      "Training Epoch 0: 100%|██████████| 16977/16977 [00:55<00:00, 305.25it/s]\n",
      "Validating Epoch 0: 100%|██████████| 3352/3352 [00:05<00:00, 589.21it/s]\n"
     ]
    },
    {
     "name": "stdout",
     "output_type": "stream",
     "text": [
      "Epoch 0: train_loss 4.2222, val_loss 3.6315\n"
     ]
    },
    {
     "name": "stderr",
     "output_type": "stream",
     "text": [
      "Training Epoch 1: 100%|██████████| 16977/16977 [00:54<00:00, 309.70it/s]\n",
      "Validating Epoch 1: 100%|██████████| 3352/3352 [00:05<00:00, 560.39it/s]\n"
     ]
    },
    {
     "name": "stdout",
     "output_type": "stream",
     "text": [
      "Epoch 1: train_loss 4.1305, val_loss 3.6039\n"
     ]
    },
    {
     "name": "stderr",
     "output_type": "stream",
     "text": [
      "Training Epoch 2: 100%|██████████| 16977/16977 [00:54<00:00, 309.27it/s]\n",
      "Validating Epoch 2: 100%|██████████| 3352/3352 [00:05<00:00, 591.28it/s]\n"
     ]
    },
    {
     "name": "stdout",
     "output_type": "stream",
     "text": [
      "Epoch 2: train_loss 4.1167, val_loss 3.6231\n"
     ]
    },
    {
     "name": "stderr",
     "output_type": "stream",
     "text": [
      "Training Epoch 3: 100%|██████████| 16977/16977 [00:55<00:00, 307.64it/s]\n",
      "Validating Epoch 3: 100%|██████████| 3352/3352 [00:05<00:00, 592.19it/s]\n"
     ]
    },
    {
     "name": "stdout",
     "output_type": "stream",
     "text": [
      "Epoch 3: train_loss 4.1024, val_loss 3.5829\n"
     ]
    },
    {
     "name": "stderr",
     "output_type": "stream",
     "text": [
      "Training Epoch 4: 100%|██████████| 16977/16977 [00:54<00:00, 308.82it/s]\n",
      "Validating Epoch 4: 100%|██████████| 3352/3352 [00:05<00:00, 587.72it/s]\n"
     ]
    },
    {
     "name": "stdout",
     "output_type": "stream",
     "text": [
      "Epoch 4: train_loss 4.0895, val_loss 3.5785\n"
     ]
    },
    {
     "name": "stderr",
     "output_type": "stream",
     "text": [
      "Training Epoch 5: 100%|██████████| 16977/16977 [01:01<00:00, 274.37it/s]\n",
      "Validating Epoch 5: 100%|██████████| 3352/3352 [00:05<00:00, 560.32it/s]\n"
     ]
    },
    {
     "name": "stdout",
     "output_type": "stream",
     "text": [
      "Epoch 5: train_loss 4.0782, val_loss 3.5726\n"
     ]
    },
    {
     "name": "stderr",
     "output_type": "stream",
     "text": [
      "Training Epoch 6: 100%|██████████| 16977/16977 [00:58<00:00, 289.21it/s]\n",
      "Validating Epoch 6: 100%|██████████| 3352/3352 [00:06<00:00, 553.57it/s]\n"
     ]
    },
    {
     "name": "stdout",
     "output_type": "stream",
     "text": [
      "Epoch 6: train_loss 4.0702, val_loss 3.5556\n"
     ]
    },
    {
     "name": "stderr",
     "output_type": "stream",
     "text": [
      "Training Epoch 7: 100%|██████████| 16977/16977 [00:55<00:00, 308.50it/s]\n",
      "Validating Epoch 7: 100%|██████████| 3352/3352 [00:05<00:00, 570.01it/s]\n"
     ]
    },
    {
     "name": "stdout",
     "output_type": "stream",
     "text": [
      "Epoch 7: train_loss 4.0631, val_loss 3.5535\n"
     ]
    },
    {
     "name": "stderr",
     "output_type": "stream",
     "text": [
      "Training Epoch 8: 100%|██████████| 16977/16977 [00:53<00:00, 316.77it/s]\n",
      "Validating Epoch 8: 100%|██████████| 3352/3352 [00:05<00:00, 602.53it/s]\n"
     ]
    },
    {
     "name": "stdout",
     "output_type": "stream",
     "text": [
      "Epoch 8: train_loss 4.0572, val_loss 3.5436\n"
     ]
    },
    {
     "name": "stderr",
     "output_type": "stream",
     "text": [
      "Training Epoch 9: 100%|██████████| 16977/16977 [00:53<00:00, 318.36it/s]\n",
      "Validating Epoch 9: 100%|██████████| 3352/3352 [00:05<00:00, 599.26it/s]\n"
     ]
    },
    {
     "name": "stdout",
     "output_type": "stream",
     "text": [
      "Epoch 9: train_loss 4.0511, val_loss 3.5368\n"
     ]
    },
    {
     "name": "stderr",
     "output_type": "stream",
     "text": [
      "Training Epoch 10: 100%|██████████| 16977/16977 [00:53<00:00, 315.84it/s]\n",
      "Validating Epoch 10: 100%|██████████| 3352/3352 [00:05<00:00, 599.19it/s]\n"
     ]
    },
    {
     "name": "stdout",
     "output_type": "stream",
     "text": [
      "Epoch 10: train_loss 4.0470, val_loss 3.5421\n"
     ]
    },
    {
     "name": "stderr",
     "output_type": "stream",
     "text": [
      "Training Epoch 11: 100%|██████████| 16977/16977 [00:53<00:00, 319.23it/s]\n",
      "Validating Epoch 11: 100%|██████████| 3352/3352 [00:05<00:00, 572.41it/s]\n"
     ]
    },
    {
     "name": "stdout",
     "output_type": "stream",
     "text": [
      "Epoch 11: train_loss 4.0417, val_loss 3.5404\n"
     ]
    },
    {
     "name": "stderr",
     "output_type": "stream",
     "text": [
      "Training Epoch 12: 100%|██████████| 16977/16977 [00:53<00:00, 320.32it/s]\n",
      "Validating Epoch 12: 100%|██████████| 3352/3352 [00:05<00:00, 606.47it/s]\n"
     ]
    },
    {
     "name": "stdout",
     "output_type": "stream",
     "text": [
      "Epoch 12: train_loss 4.0385, val_loss 3.5451\n"
     ]
    },
    {
     "name": "stderr",
     "output_type": "stream",
     "text": [
      "Training Epoch 13: 100%|██████████| 16977/16977 [00:53<00:00, 318.98it/s]\n",
      "Validating Epoch 13: 100%|██████████| 3352/3352 [00:05<00:00, 607.88it/s]\n"
     ]
    },
    {
     "name": "stdout",
     "output_type": "stream",
     "text": [
      "Epoch 13: train_loss 4.0344, val_loss 3.5250\n"
     ]
    },
    {
     "name": "stderr",
     "output_type": "stream",
     "text": [
      "Training Epoch 14: 100%|██████████| 16977/16977 [00:53<00:00, 319.62it/s]\n",
      "Validating Epoch 14: 100%|██████████| 3352/3352 [00:05<00:00, 606.41it/s]\n"
     ]
    },
    {
     "name": "stdout",
     "output_type": "stream",
     "text": [
      "Epoch 14: train_loss 4.0318, val_loss 3.5272\n"
     ]
    },
    {
     "name": "stderr",
     "output_type": "stream",
     "text": [
      "Training Epoch 15: 100%|██████████| 16977/16977 [00:53<00:00, 318.07it/s]\n",
      "Validating Epoch 15: 100%|██████████| 3352/3352 [00:05<00:00, 604.80it/s]\n"
     ]
    },
    {
     "name": "stdout",
     "output_type": "stream",
     "text": [
      "Epoch 15: train_loss 4.0289, val_loss 3.5339\n"
     ]
    },
    {
     "name": "stderr",
     "output_type": "stream",
     "text": [
      "Training Epoch 16: 100%|██████████| 16977/16977 [00:53<00:00, 318.00it/s]\n",
      "Validating Epoch 16: 100%|██████████| 3352/3352 [00:05<00:00, 574.35it/s]\n"
     ]
    },
    {
     "name": "stdout",
     "output_type": "stream",
     "text": [
      "Epoch 16: train_loss 4.0261, val_loss 3.5217\n"
     ]
    },
    {
     "name": "stderr",
     "output_type": "stream",
     "text": [
      "Training Epoch 17: 100%|██████████| 16977/16977 [00:53<00:00, 318.90it/s]\n",
      "Validating Epoch 17: 100%|██████████| 3352/3352 [00:05<00:00, 606.90it/s]\n"
     ]
    },
    {
     "name": "stdout",
     "output_type": "stream",
     "text": [
      "Epoch 17: train_loss 4.0234, val_loss 3.5257\n"
     ]
    },
    {
     "name": "stderr",
     "output_type": "stream",
     "text": [
      "Training Epoch 18: 100%|██████████| 16977/16977 [00:53<00:00, 317.66it/s]\n",
      "Validating Epoch 18: 100%|██████████| 3352/3352 [00:05<00:00, 608.73it/s]\n"
     ]
    },
    {
     "name": "stdout",
     "output_type": "stream",
     "text": [
      "Epoch 18: train_loss 4.0206, val_loss 3.5266\n"
     ]
    },
    {
     "name": "stderr",
     "output_type": "stream",
     "text": [
      "Training Epoch 19: 100%|██████████| 16977/16977 [00:53<00:00, 319.13it/s]\n",
      "Validating Epoch 19: 100%|██████████| 3352/3352 [00:05<00:00, 580.12it/s]\n"
     ]
    },
    {
     "name": "stdout",
     "output_type": "stream",
     "text": [
      "Epoch 19: train_loss 4.0177, val_loss 3.5144\n"
     ]
    },
    {
     "name": "stderr",
     "output_type": "stream",
     "text": [
      "Training Epoch 20: 100%|██████████| 16977/16977 [00:53<00:00, 319.86it/s]\n",
      "Validating Epoch 20: 100%|██████████| 3352/3352 [00:05<00:00, 603.60it/s]\n"
     ]
    },
    {
     "name": "stdout",
     "output_type": "stream",
     "text": [
      "Epoch 20: train_loss 4.0153, val_loss 3.5132\n"
     ]
    },
    {
     "name": "stderr",
     "output_type": "stream",
     "text": [
      "Training Epoch 21: 100%|██████████| 16977/16977 [00:53<00:00, 318.15it/s]\n",
      "Validating Epoch 21: 100%|██████████| 3352/3352 [00:06<00:00, 557.17it/s]\n"
     ]
    },
    {
     "name": "stdout",
     "output_type": "stream",
     "text": [
      "Epoch 21: train_loss 4.0130, val_loss 3.5092\n"
     ]
    },
    {
     "name": "stderr",
     "output_type": "stream",
     "text": [
      "Training Epoch 22: 100%|██████████| 16977/16977 [00:53<00:00, 318.00it/s]\n",
      "Validating Epoch 22: 100%|██████████| 3352/3352 [00:05<00:00, 603.23it/s]\n"
     ]
    },
    {
     "name": "stdout",
     "output_type": "stream",
     "text": [
      "Epoch 22: train_loss 4.0100, val_loss 3.5084\n"
     ]
    },
    {
     "name": "stderr",
     "output_type": "stream",
     "text": [
      "Training Epoch 23: 100%|██████████| 16977/16977 [00:53<00:00, 318.26it/s]\n",
      "Validating Epoch 23: 100%|██████████| 3352/3352 [00:05<00:00, 563.32it/s]\n"
     ]
    },
    {
     "name": "stdout",
     "output_type": "stream",
     "text": [
      "Epoch 23: train_loss 4.0081, val_loss 3.5094\n"
     ]
    },
    {
     "name": "stderr",
     "output_type": "stream",
     "text": [
      "Training Epoch 24: 100%|██████████| 16977/16977 [00:53<00:00, 318.47it/s]\n",
      "Validating Epoch 24: 100%|██████████| 3352/3352 [00:05<00:00, 560.98it/s]\n"
     ]
    },
    {
     "name": "stdout",
     "output_type": "stream",
     "text": [
      "Epoch 24: train_loss 4.0055, val_loss 3.5052\n"
     ]
    },
    {
     "name": "stderr",
     "output_type": "stream",
     "text": [
      "Training Epoch 25: 100%|██████████| 16977/16977 [00:54<00:00, 308.72it/s]\n",
      "Validating Epoch 25: 100%|██████████| 3352/3352 [00:05<00:00, 602.90it/s]\n"
     ]
    },
    {
     "name": "stdout",
     "output_type": "stream",
     "text": [
      "Epoch 25: train_loss 4.0036, val_loss 3.5181\n"
     ]
    },
    {
     "name": "stderr",
     "output_type": "stream",
     "text": [
      "Training Epoch 26: 100%|██████████| 16977/16977 [00:53<00:00, 317.98it/s]\n",
      "Validating Epoch 26: 100%|██████████| 3352/3352 [00:05<00:00, 590.78it/s]\n"
     ]
    },
    {
     "name": "stdout",
     "output_type": "stream",
     "text": [
      "Epoch 26: train_loss 4.0013, val_loss 3.5034\n"
     ]
    },
    {
     "name": "stderr",
     "output_type": "stream",
     "text": [
      "Training Epoch 27: 100%|██████████| 16977/16977 [00:53<00:00, 318.55it/s]\n",
      "Validating Epoch 27: 100%|██████████| 3352/3352 [00:05<00:00, 600.41it/s]\n"
     ]
    },
    {
     "name": "stdout",
     "output_type": "stream",
     "text": [
      "Epoch 27: train_loss 3.9995, val_loss 3.5002\n"
     ]
    },
    {
     "name": "stderr",
     "output_type": "stream",
     "text": [
      "Training Epoch 28: 100%|██████████| 16977/16977 [00:53<00:00, 319.08it/s]\n",
      "Validating Epoch 28: 100%|██████████| 3352/3352 [00:05<00:00, 607.16it/s]\n"
     ]
    },
    {
     "name": "stdout",
     "output_type": "stream",
     "text": [
      "Epoch 28: train_loss 3.9975, val_loss 3.5088\n"
     ]
    },
    {
     "name": "stderr",
     "output_type": "stream",
     "text": [
      "Training Epoch 29: 100%|██████████| 16977/16977 [00:53<00:00, 319.37it/s]\n",
      "Validating Epoch 29: 100%|██████████| 3352/3352 [00:05<00:00, 573.65it/s]\n"
     ]
    },
    {
     "name": "stdout",
     "output_type": "stream",
     "text": [
      "Epoch 29: train_loss 3.9962, val_loss 3.5014\n"
     ]
    },
    {
     "name": "stderr",
     "output_type": "stream",
     "text": [
      "Training Epoch 30: 100%|██████████| 16977/16977 [00:53<00:00, 318.38it/s]\n",
      "Validating Epoch 30: 100%|██████████| 3352/3352 [00:05<00:00, 607.87it/s]\n"
     ]
    },
    {
     "name": "stdout",
     "output_type": "stream",
     "text": [
      "Epoch 30: train_loss 3.9939, val_loss 3.5024\n"
     ]
    },
    {
     "name": "stderr",
     "output_type": "stream",
     "text": [
      "Training Epoch 31: 100%|██████████| 16977/16977 [00:53<00:00, 317.60it/s]\n",
      "Validating Epoch 31: 100%|██████████| 3352/3352 [00:05<00:00, 598.46it/s]\n"
     ]
    },
    {
     "name": "stdout",
     "output_type": "stream",
     "text": [
      "Epoch 31: train_loss 3.9917, val_loss 3.5010\n"
     ]
    },
    {
     "name": "stderr",
     "output_type": "stream",
     "text": [
      "Training Epoch 32: 100%|██████████| 16977/16977 [00:53<00:00, 317.57it/s]\n",
      "Validating Epoch 32: 100%|██████████| 3352/3352 [00:05<00:00, 598.02it/s]\n"
     ]
    },
    {
     "name": "stdout",
     "output_type": "stream",
     "text": [
      "Epoch 32: train_loss 3.9899, val_loss 3.5002\n"
     ]
    },
    {
     "name": "stderr",
     "output_type": "stream",
     "text": [
      "Training Epoch 33: 100%|██████████| 16977/16977 [00:53<00:00, 317.92it/s]\n",
      "Validating Epoch 33: 100%|██████████| 3352/3352 [00:05<00:00, 607.19it/s]\n"
     ]
    },
    {
     "name": "stdout",
     "output_type": "stream",
     "text": [
      "Epoch 33: train_loss 3.9883, val_loss 3.5090\n"
     ]
    },
    {
     "name": "stderr",
     "output_type": "stream",
     "text": [
      "Training Epoch 34: 100%|██████████| 16977/16977 [00:53<00:00, 318.96it/s]\n",
      "Validating Epoch 34: 100%|██████████| 3352/3352 [00:05<00:00, 579.60it/s]\n"
     ]
    },
    {
     "name": "stdout",
     "output_type": "stream",
     "text": [
      "Epoch 34: train_loss 3.9864, val_loss 3.4953\n"
     ]
    },
    {
     "name": "stderr",
     "output_type": "stream",
     "text": [
      "Training Epoch 35: 100%|██████████| 16977/16977 [00:53<00:00, 319.04it/s]\n",
      "Validating Epoch 35: 100%|██████████| 3352/3352 [00:05<00:00, 606.03it/s]\n"
     ]
    },
    {
     "name": "stdout",
     "output_type": "stream",
     "text": [
      "Epoch 35: train_loss 3.9847, val_loss 3.4964\n"
     ]
    },
    {
     "name": "stderr",
     "output_type": "stream",
     "text": [
      "Training Epoch 36: 100%|██████████| 16977/16977 [00:53<00:00, 316.94it/s]\n",
      "Validating Epoch 36: 100%|██████████| 3352/3352 [00:05<00:00, 605.25it/s]\n"
     ]
    },
    {
     "name": "stdout",
     "output_type": "stream",
     "text": [
      "Epoch 36: train_loss 3.9835, val_loss 3.4998\n"
     ]
    },
    {
     "name": "stderr",
     "output_type": "stream",
     "text": [
      "Training Epoch 37: 100%|██████████| 16977/16977 [00:52<00:00, 320.58it/s]\n",
      "Validating Epoch 37: 100%|██████████| 3352/3352 [00:05<00:00, 597.29it/s]\n"
     ]
    },
    {
     "name": "stdout",
     "output_type": "stream",
     "text": [
      "Epoch 37: train_loss 3.9821, val_loss 3.4854\n"
     ]
    },
    {
     "name": "stderr",
     "output_type": "stream",
     "text": [
      "Training Epoch 38: 100%|██████████| 16977/16977 [00:53<00:00, 317.33it/s]\n",
      "Validating Epoch 38: 100%|██████████| 3352/3352 [00:05<00:00, 607.42it/s]\n"
     ]
    },
    {
     "name": "stdout",
     "output_type": "stream",
     "text": [
      "Epoch 38: train_loss 3.9802, val_loss 3.4923\n"
     ]
    },
    {
     "name": "stderr",
     "output_type": "stream",
     "text": [
      "Training Epoch 39: 100%|██████████| 16977/16977 [00:53<00:00, 318.98it/s]\n",
      "Validating Epoch 39: 100%|██████████| 3352/3352 [00:05<00:00, 578.89it/s]\n"
     ]
    },
    {
     "name": "stdout",
     "output_type": "stream",
     "text": [
      "Epoch 39: train_loss 3.9790, val_loss 3.4898\n"
     ]
    },
    {
     "name": "stderr",
     "output_type": "stream",
     "text": [
      "Training Epoch 40: 100%|██████████| 16977/16977 [00:53<00:00, 319.28it/s]\n",
      "Validating Epoch 40: 100%|██████████| 3352/3352 [00:05<00:00, 604.57it/s]\n"
     ]
    },
    {
     "name": "stdout",
     "output_type": "stream",
     "text": [
      "Epoch 40: train_loss 3.9783, val_loss 3.4897\n"
     ]
    },
    {
     "name": "stderr",
     "output_type": "stream",
     "text": [
      "Training Epoch 41: 100%|██████████| 16977/16977 [00:53<00:00, 317.31it/s]\n",
      "Validating Epoch 41: 100%|██████████| 3352/3352 [00:05<00:00, 605.17it/s]\n"
     ]
    },
    {
     "name": "stdout",
     "output_type": "stream",
     "text": [
      "Epoch 41: train_loss 3.9769, val_loss 3.4907\n"
     ]
    },
    {
     "name": "stderr",
     "output_type": "stream",
     "text": [
      "Training Epoch 42: 100%|██████████| 16977/16977 [00:53<00:00, 318.74it/s]\n",
      "Validating Epoch 42: 100%|██████████| 3352/3352 [00:05<00:00, 581.36it/s]\n"
     ]
    },
    {
     "name": "stdout",
     "output_type": "stream",
     "text": [
      "Epoch 42: train_loss 3.9760, val_loss 3.4879\n"
     ]
    },
    {
     "name": "stderr",
     "output_type": "stream",
     "text": [
      "Training Epoch 43: 100%|██████████| 16977/16977 [00:53<00:00, 319.09it/s]\n",
      "Validating Epoch 43: 100%|██████████| 3352/3352 [00:05<00:00, 604.79it/s]\n"
     ]
    },
    {
     "name": "stdout",
     "output_type": "stream",
     "text": [
      "Epoch 43: train_loss 3.9751, val_loss 3.4906\n"
     ]
    },
    {
     "name": "stderr",
     "output_type": "stream",
     "text": [
      "Training Epoch 44: 100%|██████████| 16977/16977 [00:53<00:00, 319.37it/s]\n",
      "Validating Epoch 44: 100%|██████████| 3352/3352 [00:05<00:00, 572.67it/s]\n"
     ]
    },
    {
     "name": "stdout",
     "output_type": "stream",
     "text": [
      "Epoch 44: train_loss 3.9747, val_loss 3.4971\n"
     ]
    },
    {
     "name": "stderr",
     "output_type": "stream",
     "text": [
      "Training Epoch 45: 100%|██████████| 16977/16977 [00:53<00:00, 317.57it/s]\n",
      "Validating Epoch 45: 100%|██████████| 3352/3352 [00:05<00:00, 609.73it/s]\n"
     ]
    },
    {
     "name": "stdout",
     "output_type": "stream",
     "text": [
      "Epoch 45: train_loss 3.9734, val_loss 3.5014\n"
     ]
    },
    {
     "name": "stderr",
     "output_type": "stream",
     "text": [
      "Training Epoch 46: 100%|██████████| 16977/16977 [00:53<00:00, 316.74it/s]\n",
      "Validating Epoch 46: 100%|██████████| 3352/3352 [00:05<00:00, 602.10it/s]\n"
     ]
    },
    {
     "name": "stdout",
     "output_type": "stream",
     "text": [
      "Epoch 46: train_loss 3.9729, val_loss 3.4795\n"
     ]
    },
    {
     "name": "stderr",
     "output_type": "stream",
     "text": [
      "Training Epoch 47: 100%|██████████| 16977/16977 [00:53<00:00, 317.89it/s]\n",
      "Validating Epoch 47: 100%|██████████| 3352/3352 [00:05<00:00, 577.25it/s]\n"
     ]
    },
    {
     "name": "stdout",
     "output_type": "stream",
     "text": [
      "Epoch 47: train_loss 3.9717, val_loss 3.4789\n"
     ]
    },
    {
     "name": "stderr",
     "output_type": "stream",
     "text": [
      "Training Epoch 48: 100%|██████████| 16977/16977 [00:53<00:00, 319.04it/s]\n",
      "Validating Epoch 48: 100%|██████████| 3352/3352 [00:05<00:00, 605.07it/s]\n"
     ]
    },
    {
     "name": "stdout",
     "output_type": "stream",
     "text": [
      "Epoch 48: train_loss 3.9704, val_loss 3.4793\n"
     ]
    },
    {
     "name": "stderr",
     "output_type": "stream",
     "text": [
      "Training Epoch 49: 100%|██████████| 16977/16977 [00:53<00:00, 316.74it/s]\n",
      "Validating Epoch 49: 100%|██████████| 3352/3352 [00:05<00:00, 606.19it/s]"
     ]
    },
    {
     "name": "stdout",
     "output_type": "stream",
     "text": [
      "Epoch 49: train_loss 3.9700, val_loss 3.4835\n"
     ]
    },
    {
     "name": "stderr",
     "output_type": "stream",
     "text": [
      "\n"
     ]
    }
   ],
   "source": [
    "train_loss_list: List[float] = []\n",
    "valid_loss_list: List[float] = []\n",
    "train_loss_list, valid_loss_list = train(\n",
    "    model=model, \n",
    "    train_loader=train_loader, \n",
    "    valid_loader=valid_loader, \n",
    "    optimizer=optimizer, \n",
    "    loss_fn=loss_fn, \n",
    "    epoch_cnt=EPOCHS\n",
    ")"
   ]
  },
  {
   "cell_type": "code",
   "execution_count": 139,
   "id": "cefcf831-caf9-450f-a7c3-1db22c0fb21b",
   "metadata": {},
   "outputs": [
    {
     "data": {
      "image/png": "[encoded data removed]",
      "text/plain": [
       "<Figure size 4500x500 with 1 Axes>"
      ]
     },
     "metadata": {},
     "output_type": "display_data"
    }
   ],
   "source": [
    "# loss graph\n",
    "fig = plt.figure(figsize=(45, 5))\n",
    "ax1 = fig.add_subplot(1, 2, 1)\n",
    "\n",
    "train_loss_x_axis: List[int] = np.arange(len(train_loss_list)).tolist()\n",
    "valid_loss_x_axis: List[int] = np.arange(start=len(train_loss_list)-1, stop=-1, step=(len(train_loss_list)/len(valid_loss_list))*-1, dtype=np.float32).astype(np.int32).tolist()[::-1]\n",
    "\n",
    "ax1.set_title('Loss')\n",
    "ax1.plot(train_loss_x_axis, train_loss_list, marker='.')\n",
    "ax1.plot(valid_loss_x_axis, valid_loss_list, marker='.')\n",
    "ax1.legend(['train_loss', 'valid_loss'], loc='upper left')\n",
    "ax1.set_xlabel('1000 Batch')\n",
    "plt.show()"
   ]
  },
  {
   "cell_type": "markdown",
   "id": "10bf8890",
   "metadata": {},
   "source": [
    "## Testing"
   ]
  },
  {
   "cell_type": "code",
   "execution_count": 140,
   "id": "dae568b4",
   "metadata": {},
   "outputs": [],
   "source": [
    "class TimeSeriesDataset(Dataset):\n",
    "    def __init__(self, raw_df: pd.DataFrame, window_size: int) -> None:\n",
    "        super().__init__()\n",
    "        self.data: pd.DataFrame = raw_df.copy()\n",
    "        self.window_size: int = window_size\n",
    "        self.stock_dfs: Dict[int, pd.DataFrame]\n",
    "        self.idx_map: Dict[int, Dict[str, int]]\n",
    "        self.stock_dfs, self.idx_map = TimeSeriesDataset._SplitStockDataFrame(raw_df=self.data, window_size=self.window_size)\n",
    "    \n",
    "\n",
    "    def __getitem__(self, _index: int) -> Tuple[np.ndarray, np.ndarray, int, int, int]:\n",
    "        '''\n",
    "        return x, y, date_id, seconds_in_buckets, stock_id\n",
    "        '''\n",
    "        index: int = _index\n",
    "        stock: int = self.idx_map[index]['stock']\n",
    "        stock_idx: int = self.idx_map[index]['idx']\n",
    "\n",
    "        start_idx, end_idx = stock_idx - (self.window_size - 1), stock_idx + 1\n",
    "        return TimeSeriesDataset._GenTimeSeriesData(raw_df=self.stock_dfs[stock].iloc[start_idx:end_idx])\n",
    "\n",
    "\n",
    "    def __len__(self) -> int:\n",
    "        return len(self.idx_map)\n",
    "    \n",
    "    def FillTarget(self, stock: int, date: int, second: int, value: np.float32) -> None:\n",
    "        if stock not in self.stock_dfs:\n",
    "            return\n",
    "        self.stock_dfs[stock].loc[(self.stock_dfs[stock]['date_id'] == date) & (self.stock_dfs[stock]['seconds_in_bucket'] == second), 'pred_target'] = value\n",
    "    \n",
    "    @staticmethod\n",
    "    def _GenTimeSeriesData(raw_df: pd.DataFrame) -> Tuple[np.ndarray, np.ndarray, int, int, int]:\n",
    "        '''\n",
    "        raw_df: The rows of time t-n ~ t for predicting the target of t.\n",
    "        The generated features contains the data of time t-n ~ t-1.\n",
    "        return x, y, date_id, seconds_in_buckets, stock_id\n",
    "        '''\n",
    "        df = raw_df.copy()\n",
    "        df = df.sort_values(by=['date_id', 'seconds_in_bucket'], ascending=True)\n",
    "\n",
    "        date: int = df['date_id'].tolist()[-1]\n",
    "        second: int = df['seconds_in_bucket'].tolist()[-1]\n",
    "        stock: int = df['stock_id'].tolist()[-1]\n",
    "        y: np.float32 = df['target'].tolist()[-1]\n",
    "\n",
    "        pred_target_not_null_indices = df['pred_target'].notnull()\n",
    "        df.loc[pred_target_not_null_indices, 'target'] = df.loc[pred_target_not_null_indices, 'pred_target']\n",
    "        \n",
    "        df = df[MODEL_INPUT_FEATURES]\n",
    "        df_numpy: np.ndarray = df.to_numpy()\n",
    "        df_numpy[-1, MODEL_INPUT_FEATURES.index('target')] = 0\n",
    "        \n",
    "        # x: np.ndarray = df_numpy[:-1, :]\n",
    "        x: np.ndarray = df_numpy\n",
    "        \n",
    "        return x.astype(np.float32), np.array(y).astype(np.float32), date, second, stock\n",
    "    \n",
    "    @staticmethod\n",
    "    def _SplitStockDataFrame(raw_df: pd.DataFrame, window_size: int) -> Tuple[Dict[int, pd.DataFrame], Dict[int, Dict[str, int]]]:\n",
    "        stock_dfs: Dict[int, pd.DataFrame] = {}\n",
    "        idx_map: Dict[int, Dict[str, int]] = {}\n",
    "\n",
    "        data: pd.DataFrame = raw_df.copy()\n",
    "        data = data.sort_values(by=['date_id', 'seconds_in_bucket', 'stock_id'], ascending=True)\n",
    "        data.reset_index(drop=True, inplace=True)\n",
    "        data_idx_offset: int = 5 * 200\n",
    "\n",
    "        for stock in data['stock_id'].unique().tolist():\n",
    "            stock_df: pd.DataFrame = data.copy().loc[data['stock_id'] == stock]\n",
    "            stock_df.insert(stock_df.shape[1], 'new_idx', range(stock_df.shape[0]))\n",
    "            stock_df.insert(stock_df.shape[1], 'pred_target', np.nan)\n",
    "            for idx, row in stock_df.iterrows():\n",
    "                if row['new_idx'] < window_size:\n",
    "                    continue\n",
    "                stock_idx_map: Dict[str, int] = {'stock': stock, 'idx': row['new_idx']}\n",
    "                idx_map[int(idx) - data_idx_offset] = stock_idx_map\n",
    "            stock_df.reset_index(drop=True, inplace=True)\n",
    "            stock_df.drop('new_idx', axis=1, inplace=True)\n",
    "            stock_dfs[stock] = stock_df\n",
    "\n",
    "        return stock_dfs, idx_map"
   ]
  },
  {
   "cell_type": "code",
   "execution_count": 141,
   "id": "2aa53399",
   "metadata": {},
   "outputs": [],
   "source": [
    "test_dataset: TimeSeriesDataset = TimeSeriesDataset(raw_df=test_pp_df, window_size=5)"
   ]
  },
  {
   "cell_type": "code",
   "execution_count": 142,
   "id": "f00be8b4",
   "metadata": {},
   "outputs": [
    {
     "name": "stdout",
     "output_type": "stream",
     "text": [
      "(array([[ 1.00501455e-01, -1.00000000e+00,  1.00222695e+00,\n",
      "         8.06415230e-02,  1.00000000e+00,  1.00000000e+00,\n",
      "         1.00176895e+00,  1.75893139e-02,  1.00298905e+00,\n",
      "         2.76037063e-02,  1.00214100e+00,  1.73902512e+01],\n",
      "       [ 1.00501455e-01, -1.00000000e+00,  1.00237894e+00,\n",
      "         8.06415230e-02,  1.00000000e+00,  1.00000000e+00,\n",
      "         1.00227702e+00,  6.41890382e-03,  1.00298905e+00,\n",
      "         2.62847077e-02,  1.00238097e+00,  1.48999691e+01],\n",
      "       [ 1.00501455e-01, -1.00000000e+00,  1.00288701e+00,\n",
      "         8.06415230e-02,  1.00000000e+00,  1.00000000e+00,\n",
      "         1.00278497e+00,  4.80769612e-02,  1.00339496e+00,\n",
      "         1.38917761e-02,  1.00321400e+00,  4.86969948e+00],\n",
      "       [ 1.00501455e-01, -1.00000000e+00,  1.00293803e+00,\n",
      "         8.06415230e-02,  1.00000000e+00,  1.00000000e+00,\n",
      "         1.00278497e+00,  9.12206993e-03,  1.00339496e+00,\n",
      "         4.02824618e-02,  1.00286806e+00,  6.43968582e+00],\n",
      "       [ 1.00501455e-01, -1.00000000e+00,  1.00288701e+00,\n",
      "         8.06415230e-02,  1.00000000e+00,  1.00000000e+00,\n",
      "         1.00278497e+00,  7.57930242e-03,  1.00339496e+00,\n",
      "         1.38917761e-02,  1.00295305e+00,  0.00000000e+00]], dtype=float32), array(-4.169941, dtype=float32), 478, 150, 1)\n"
     ]
    }
   ],
   "source": [
    "print(test_dataset[3001])"
   ]
  },
  {
   "cell_type": "code",
   "execution_count": 143,
   "id": "d99bf7e3",
   "metadata": {},
   "outputs": [
    {
     "name": "stdout",
     "output_type": "stream",
     "text": [
      "(array([[ 1.0121399e-02, -1.0000000e+00,  9.9873298e-01,  1.4999378e-01,\n",
      "         9.9838299e-01,  9.9838299e-01,  9.9873298e-01,  1.9949861e-02,\n",
      "         9.9890798e-01,  1.7002003e-01,  9.9880499e-01, -1.6599894e+00],\n",
      "       [ 9.9188332e-03, -1.0000000e+00,  9.9873298e-01,  1.5011580e-01,\n",
      "         9.9838299e-01,  9.9838299e-01,  9.9873298e-01,  1.8082341e-02,\n",
      "         9.9890798e-01,  1.8907678e-01,  9.9879599e-01, -2.3007393e-01],\n",
      "       [ 9.9188332e-03, -1.0000000e+00,  9.9873298e-01,  1.5011580e-01,\n",
      "         9.9838299e-01,  9.9838299e-01,  9.9873298e-01,  2.3210764e-02,\n",
      "         9.9890798e-01,  3.3625606e-01,  9.9878401e-01,  1.5103817e+00],\n",
      "       [ 2.9611750e-02, -1.0000000e+00,  9.9899602e-01,  1.3825254e-01,\n",
      "         9.9838299e-01,  9.9838299e-01,  9.9890798e-01,  1.9062987e-02,\n",
      "         9.9908298e-01,  1.0952274e-01,  9.9899697e-01,  1.2000000e+01],\n",
      "       [ 2.8125461e-02, -1.0000000e+00,  9.9987501e-01,  3.3345934e-02,\n",
      "         1.0000000e+00,  1.0000000e+00,  9.9987501e-01,  3.8765382e-03,\n",
      "         1.0000499e+00,  9.0448437e-03,  1.0000000e+00,  0.0000000e+00]],\n",
      "      dtype=float32), array(-5.429983, dtype=float32), 478, 0, 0)\n"
     ]
    }
   ],
   "source": [
    "test_dataset.FillTarget(stock=0, date=477, second=540, value=np.float32(12))\n",
    "print(test_dataset[0])"
   ]
  },
  {
   "cell_type": "code",
   "execution_count": 144,
   "id": "40334048",
   "metadata": {},
   "outputs": [],
   "source": [
    "def test(\n",
    "    model, test_set: TimeSeriesDataset\n",
    ") -> pd.DataFrame:\n",
    "    \n",
    "    result: pd.DataFrame = pd.DataFrame(columns=['date_id', 'seconds_in_bucket', 'stock_id', 'time_id', 'row_id', 'target'])\n",
    "\n",
    "    model.eval()\n",
    "    with torch.no_grad():\n",
    "        with tqdm(total=len(test_set)) as pbar:\n",
    "            pbar.set_description(f\"Testing\")\n",
    "            for iter in range(len(test_set)):\n",
    "                batch_x, batch_y, date, second, stock = test_set[iter]\n",
    "\n",
    "                batch_x = torch.from_numpy(batch_x[np.newaxis, :]).to(device)\n",
    "                batch_y = torch.from_numpy(batch_y).to(device)\n",
    "                \n",
    "                pred_y = model(batch_x).cpu().detach().numpy()\n",
    "\n",
    "                for idx in range(len(pred_y)):\n",
    "                    test_set.FillTarget(stock=stock, date=date, second=second, value=pred_y[idx])\n",
    "                    curr_result: pd.DataFrame = pd.DataFrame.from_dict(data={\n",
    "                        'date_id': [date], \n",
    "                        'seconds_in_bucket': [second], \n",
    "                        'stock_id': [stock], \n",
    "                        'time_id': [int(26290 + (date - 478) * 55 + second)], \n",
    "                        'row_id': [f'{date}_{second}_{stock}'], \n",
    "                        'target': [pred_y[idx][0]]\n",
    "                    })\n",
    "                    if result.shape[0] > 0:\n",
    "                        result = pd.concat([result, curr_result], ignore_index=True)\n",
    "                    else:\n",
    "                        result = curr_result\n",
    "                pbar.update(1)\n",
    "        \n",
    "    return result"
   ]
  },
  {
   "cell_type": "code",
   "execution_count": 145,
   "id": "b49cbe55-c639-4076-ba16-825af539d68e",
   "metadata": {},
   "outputs": [
    {
     "data": {
      "text/plain": [
       "AttentionLSTM_Model(\n",
       "  (lstm): LSTM(12, 64, num_layers=2, batch_first=True, dropout=0.1)\n",
       "  (multihead_attention): MultiheadAttention(\n",
       "    (out_proj): NonDynamicallyQuantizableLinear(in_features=64, out_features=64, bias=True)\n",
       "  )\n",
       "  (linear): Linear(in_features=64, out_features=1, bias=True)\n",
       "  (dropout): Dropout(p=0.1, inplace=False)\n",
       ")"
      ]
     },
     "execution_count": 145,
     "metadata": {},
     "output_type": "execute_result"
    }
   ],
   "source": [
    "model = torch.load(\"./models/lstm-with-attention-t2t4-bs256-lr0.0001.pt\")\n",
    "model.to(device)"
   ]
  },
  {
   "cell_type": "code",
   "execution_count": 146,
   "id": "a35cd704",
   "metadata": {},
   "outputs": [
    {
     "name": "stderr",
     "output_type": "stream",
     "text": [
      "Testing: 100%|██████████| 33000/33000 [01:26<00:00, 381.32it/s]\n"
     ]
    }
   ],
   "source": [
    "test_result = test(model=model, test_set=test_dataset)"
   ]
  },
  {
   "cell_type": "code",
   "execution_count": 147,
   "id": "d65043b1",
   "metadata": {},
   "outputs": [
    {
     "data": {
      "text/html": [
       "<div>\n",
       "<style scoped>\n",
       "    .dataframe tbody tr th:only-of-type {\n",
       "        vertical-align: middle;\n",
       "    }\n",
       "\n",
       "    .dataframe tbody tr th {\n",
       "        vertical-align: top;\n",
       "    }\n",
       "\n",
       "    .dataframe thead th {\n",
       "        text-align: right;\n",
       "    }\n",
       "</style>\n",
       "<table border=\"1\" class=\"dataframe\">\n",
       "  <thead>\n",
       "    <tr style=\"text-align: right;\">\n",
       "      <th></th>\n",
       "      <th>date_id</th>\n",
       "      <th>seconds_in_bucket</th>\n",
       "      <th>stock_id</th>\n",
       "      <th>time_id</th>\n",
       "      <th>row_id</th>\n",
       "      <th>target</th>\n",
       "    </tr>\n",
       "  </thead>\n",
       "  <tbody>\n",
       "    <tr>\n",
       "      <th>0</th>\n",
       "      <td>478</td>\n",
       "      <td>0</td>\n",
       "      <td>0</td>\n",
       "      <td>26290</td>\n",
       "      <td>478_0_0</td>\n",
       "      <td>5.163425</td>\n",
       "    </tr>\n",
       "    <tr>\n",
       "      <th>1</th>\n",
       "      <td>478</td>\n",
       "      <td>0</td>\n",
       "      <td>1</td>\n",
       "      <td>26290</td>\n",
       "      <td>478_0_1</td>\n",
       "      <td>-1.118874</td>\n",
       "    </tr>\n",
       "    <tr>\n",
       "      <th>2</th>\n",
       "      <td>478</td>\n",
       "      <td>0</td>\n",
       "      <td>2</td>\n",
       "      <td>26290</td>\n",
       "      <td>478_0_2</td>\n",
       "      <td>4.616506</td>\n",
       "    </tr>\n",
       "    <tr>\n",
       "      <th>3</th>\n",
       "      <td>478</td>\n",
       "      <td>0</td>\n",
       "      <td>3</td>\n",
       "      <td>26290</td>\n",
       "      <td>478_0_3</td>\n",
       "      <td>5.799172</td>\n",
       "    </tr>\n",
       "    <tr>\n",
       "      <th>4</th>\n",
       "      <td>478</td>\n",
       "      <td>0</td>\n",
       "      <td>4</td>\n",
       "      <td>26290</td>\n",
       "      <td>478_0_4</td>\n",
       "      <td>0.356116</td>\n",
       "    </tr>\n",
       "    <tr>\n",
       "      <th>...</th>\n",
       "      <td>...</td>\n",
       "      <td>...</td>\n",
       "      <td>...</td>\n",
       "      <td>...</td>\n",
       "      <td>...</td>\n",
       "      <td>...</td>\n",
       "    </tr>\n",
       "    <tr>\n",
       "      <th>32995</th>\n",
       "      <td>480</td>\n",
       "      <td>540</td>\n",
       "      <td>195</td>\n",
       "      <td>26940</td>\n",
       "      <td>480_540_195</td>\n",
       "      <td>1.261652</td>\n",
       "    </tr>\n",
       "    <tr>\n",
       "      <th>32996</th>\n",
       "      <td>480</td>\n",
       "      <td>540</td>\n",
       "      <td>196</td>\n",
       "      <td>26940</td>\n",
       "      <td>480_540_196</td>\n",
       "      <td>-0.469830</td>\n",
       "    </tr>\n",
       "    <tr>\n",
       "      <th>32997</th>\n",
       "      <td>480</td>\n",
       "      <td>540</td>\n",
       "      <td>197</td>\n",
       "      <td>26940</td>\n",
       "      <td>480_540_197</td>\n",
       "      <td>1.228851</td>\n",
       "    </tr>\n",
       "    <tr>\n",
       "      <th>32998</th>\n",
       "      <td>480</td>\n",
       "      <td>540</td>\n",
       "      <td>198</td>\n",
       "      <td>26940</td>\n",
       "      <td>480_540_198</td>\n",
       "      <td>0.654082</td>\n",
       "    </tr>\n",
       "    <tr>\n",
       "      <th>32999</th>\n",
       "      <td>480</td>\n",
       "      <td>540</td>\n",
       "      <td>199</td>\n",
       "      <td>26940</td>\n",
       "      <td>480_540_199</td>\n",
       "      <td>0.332033</td>\n",
       "    </tr>\n",
       "  </tbody>\n",
       "</table>\n",
       "<p>33000 rows × 6 columns</p>\n",
       "</div>"
      ],
      "text/plain": [
       "       date_id  seconds_in_bucket  stock_id  time_id       row_id    target\n",
       "0          478                  0         0    26290      478_0_0  5.163425\n",
       "1          478                  0         1    26290      478_0_1 -1.118874\n",
       "2          478                  0         2    26290      478_0_2  4.616506\n",
       "3          478                  0         3    26290      478_0_3  5.799172\n",
       "4          478                  0         4    26290      478_0_4  0.356116\n",
       "...        ...                ...       ...      ...          ...       ...\n",
       "32995      480                540       195    26940  480_540_195  1.261652\n",
       "32996      480                540       196    26940  480_540_196 -0.469830\n",
       "32997      480                540       197    26940  480_540_197  1.228851\n",
       "32998      480                540       198    26940  480_540_198  0.654082\n",
       "32999      480                540       199    26940  480_540_199  0.332033\n",
       "\n",
       "[33000 rows x 6 columns]"
      ]
     },
     "execution_count": 147,
     "metadata": {},
     "output_type": "execute_result"
    }
   ],
   "source": [
    "test_result"
   ]
  },
  {
   "cell_type": "code",
   "execution_count": 148,
   "id": "890b13c1",
   "metadata": {},
   "outputs": [],
   "source": [
    "test_out_result = test_result.sort_values(by=['date_id', 'seconds_in_bucket', 'stock_id'], ascending=True)\n",
    "test_out_result.drop(['date_id', 'seconds_in_bucket', 'stock_id'], axis=1, inplace=True)\n",
    "test_out_result.to_csv('./submission.csv', index=False)"
   ]
  },
  {
   "cell_type": "code",
   "execution_count": null,
   "id": "96cfd10e-1cad-494a-badc-85c748bdb867",
   "metadata": {},
   "outputs": [],
   "source": []
  }
 ],
 "metadata": {
  "kaggle": {
   "accelerator": "nvidiaTeslaT4",
   "dataSources": [
    {
     "databundleVersionId": 7056235,
     "sourceId": 57891,
     "sourceType": "competition"
    }
   ],
   "dockerImageVersionId": 30627,
   "isGpuEnabled": true,
   "isInternetEnabled": true,
   "language": "python",
   "sourceType": "notebook"
  },
  "kernelspec": {
   "display_name": "Python 3 (ipykernel)",
   "language": "python",
   "name": "python3"
  },
  "language_info": {
   "codemirror_mode": {
    "name": "ipython",
    "version": 3
   },
   "file_extension": ".py",
   "mimetype": "text/x-python",
   "name": "python",
   "nbconvert_exporter": "python",
   "pygments_lexer": "ipython3",
   "version": "3.10.6"
  },
  "papermill": {
   "default_parameters": {},
   "duration": 8783.773029,
   "end_time": "2023-12-25T17:44:38.390752",
   "environment_variables": {},
   "exception": null,
   "input_path": "__notebook__.ipynb",
   "output_path": "__notebook__.ipynb",
   "parameters": {},
   "start_time": "2023-12-25T15:18:14.617723",
   "version": "2.4.0"
  }
 },
 "nbformat": 4,
 "nbformat_minor": 5
}
