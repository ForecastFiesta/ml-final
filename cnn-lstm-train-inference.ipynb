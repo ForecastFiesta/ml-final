{
 "cells": [
  {
   "cell_type": "markdown",
   "id": "038e695f",
   "metadata": {
    "papermill": {
     "duration": 0.009676,
     "end_time": "2023-12-25T15:18:18.149803",
     "exception": false,
     "start_time": "2023-12-25T15:18:18.140127",
     "status": "completed"
    },
    "tags": []
   },
   "source": [
    "# LSTM for stock prediction"
   ]
  },
  {
   "cell_type": "markdown",
   "id": "8844a8bb",
   "metadata": {
    "papermill": {
     "duration": 0.008723,
     "end_time": "2023-12-25T15:18:18.167482",
     "exception": false,
     "start_time": "2023-12-25T15:18:18.158759",
     "status": "completed"
    },
    "tags": []
   },
   "source": [
    "## Import Library"
   ]
  },
  {
   "cell_type": "code",
   "execution_count": null,
   "id": "735f1609-bf25-49ec-b265-3ee42f36c78e",
   "metadata": {},
   "outputs": [],
   "source": [
    "!sudo pip install torch==2.0.0 pandas numpy tqdm matplotlib"
   ]
  },
  {
   "cell_type": "code",
   "execution_count": 57,
   "id": "76ae4ab6",
   "metadata": {
    "_cell_guid": "b1076dfc-b9ad-4769-8c92-a6c4dae69d19",
    "_uuid": "8f2839f25d086af736a60e9eeb907d3b93b6e0e5",
    "papermill": {
     "duration": 5.359818,
     "end_time": "2023-12-25T15:18:23.536121",
     "exception": false,
     "start_time": "2023-12-25T15:18:18.176303",
     "status": "completed"
    },
    "tags": []
   },
   "outputs": [],
   "source": [
    "import matplotlib.pyplot as plt\n",
    "import numpy as np\n",
    "import pandas as pd\n",
    "\n",
    "import torch\n",
    "import torch.nn as nn\n",
    "import torch.optim as optim\n",
    "from torch.utils.data import Dataset, DataLoader, TensorDataset\n",
    "from tqdm import tqdm\n",
    "\n",
    "from typing import Any, Dict, List, Tuple\n",
    "\n",
    "import os\n",
    "import csv"
   ]
  },
  {
   "cell_type": "code",
   "execution_count": 58,
   "id": "2edbf493-ade6-4831-9a1a-bd590d4afc3a",
   "metadata": {},
   "outputs": [
    {
     "data": {
      "text/plain": [
       "device(type='cuda', index=0)"
      ]
     },
     "execution_count": 58,
     "metadata": {},
     "output_type": "execute_result"
    }
   ],
   "source": [
    "device = torch.device(\"cuda:0\" if torch.cuda.is_available() else \"cpu\")\n",
    "device"
   ]
  },
  {
   "cell_type": "markdown",
   "id": "475b38d2-d447-4210-ab61-6221c9afc999",
   "metadata": {},
   "source": [
    "## Constants Definition"
   ]
  },
  {
   "cell_type": "code",
   "execution_count": 59,
   "id": "ec82f829-fb3e-4504-83ab-667aff1502ee",
   "metadata": {},
   "outputs": [],
   "source": [
    "EXTENDED_FEATURES = [\n",
    "]\n",
    "NORMALIZED_FEATURE = [\n",
    "    'imbalance_size',\n",
    "    'matched_size',\n",
    "    'bid_size',\n",
    "    'ask_size'\n",
    "]\n",
    "FILL_ONE_FEATURES = [\n",
    "    \"reference_price\", \n",
    "    \"far_price\",\n",
    "    \"near_price\",\n",
    "    \"bid_price\",\n",
    "    \"ask_price\",\n",
    "    \"wap\"\n",
    "]\n",
    "FILL_MEAN_FEATURES = [\n",
    "    \"imbalance_size\", \n",
    "    \"matched_size\"\n",
    "]\n",
    "MODEL_INPUT_FEATURES = [\n",
    "    'imbalance_size', \n",
    "    'imbalance_buy_sell_flag',\n",
    "    'reference_price',\n",
    "    'matched_size',\n",
    "    'far_price',\n",
    "    'near_price',\n",
    "    'bid_price',\n",
    "    'bid_size',\n",
    "    'ask_price',\n",
    "    'ask_size',\n",
    "    'wap',\n",
    "    'target'\n",
    "]"
   ]
  },
  {
   "cell_type": "markdown",
   "id": "0457a3b8-1bc4-4549-8e87-2c1d222d520f",
   "metadata": {},
   "source": [
    "## Hyper Parameters"
   ]
  },
  {
   "cell_type": "code",
   "execution_count": 105,
   "id": "2ddc5da8-8221-4872-8455-ed1b58f90072",
   "metadata": {},
   "outputs": [],
   "source": [
    "BATCH_SIZE: int = 256\n",
    "EPOCHS: int = 300\n",
    "LEARNING_RATE: float = 0.00001"
   ]
  },
  {
   "cell_type": "markdown",
   "id": "bba54e3b",
   "metadata": {
    "papermill": {
     "duration": 0.010149,
     "end_time": "2023-12-25T15:18:23.555675",
     "exception": false,
     "start_time": "2023-12-25T15:18:23.545526",
     "status": "completed"
    },
    "tags": []
   },
   "source": [
    "## Import Dataset"
   ]
  },
  {
   "cell_type": "code",
   "execution_count": 61,
   "id": "b6e99ff2",
   "metadata": {
    "papermill": {
     "duration": 18.68127,
     "end_time": "2023-12-25T15:18:42.280392",
     "exception": false,
     "start_time": "2023-12-25T15:18:23.599122",
     "status": "completed"
    },
    "tags": []
   },
   "outputs": [
    {
     "data": {
      "text/html": [
       "<div>\n",
       "<style scoped>\n",
       "    .dataframe tbody tr th:only-of-type {\n",
       "        vertical-align: middle;\n",
       "    }\n",
       "\n",
       "    .dataframe tbody tr th {\n",
       "        vertical-align: top;\n",
       "    }\n",
       "\n",
       "    .dataframe thead th {\n",
       "        text-align: right;\n",
       "    }\n",
       "</style>\n",
       "<table border=\"1\" class=\"dataframe\">\n",
       "  <thead>\n",
       "    <tr style=\"text-align: right;\">\n",
       "      <th></th>\n",
       "      <th>stock_id</th>\n",
       "      <th>date_id</th>\n",
       "      <th>seconds_in_bucket</th>\n",
       "      <th>imbalance_size</th>\n",
       "      <th>imbalance_buy_sell_flag</th>\n",
       "      <th>reference_price</th>\n",
       "      <th>matched_size</th>\n",
       "      <th>far_price</th>\n",
       "      <th>near_price</th>\n",
       "      <th>bid_price</th>\n",
       "      <th>bid_size</th>\n",
       "      <th>ask_price</th>\n",
       "      <th>ask_size</th>\n",
       "      <th>wap</th>\n",
       "      <th>target</th>\n",
       "      <th>time_id</th>\n",
       "      <th>row_id</th>\n",
       "    </tr>\n",
       "  </thead>\n",
       "  <tbody>\n",
       "    <tr>\n",
       "      <th>0</th>\n",
       "      <td>0</td>\n",
       "      <td>0</td>\n",
       "      <td>0</td>\n",
       "      <td>3180602.69</td>\n",
       "      <td>1</td>\n",
       "      <td>0.999812</td>\n",
       "      <td>13380276.64</td>\n",
       "      <td>NaN</td>\n",
       "      <td>NaN</td>\n",
       "      <td>0.999812</td>\n",
       "      <td>60651.50</td>\n",
       "      <td>1.000026</td>\n",
       "      <td>8493.03</td>\n",
       "      <td>1.000000</td>\n",
       "      <td>-3.029704</td>\n",
       "      <td>0</td>\n",
       "      <td>0_0_0</td>\n",
       "    </tr>\n",
       "    <tr>\n",
       "      <th>1</th>\n",
       "      <td>1</td>\n",
       "      <td>0</td>\n",
       "      <td>0</td>\n",
       "      <td>166603.91</td>\n",
       "      <td>-1</td>\n",
       "      <td>0.999896</td>\n",
       "      <td>1642214.25</td>\n",
       "      <td>NaN</td>\n",
       "      <td>NaN</td>\n",
       "      <td>0.999896</td>\n",
       "      <td>3233.04</td>\n",
       "      <td>1.000660</td>\n",
       "      <td>20605.09</td>\n",
       "      <td>1.000000</td>\n",
       "      <td>-5.519986</td>\n",
       "      <td>0</td>\n",
       "      <td>0_0_1</td>\n",
       "    </tr>\n",
       "    <tr>\n",
       "      <th>2</th>\n",
       "      <td>2</td>\n",
       "      <td>0</td>\n",
       "      <td>0</td>\n",
       "      <td>302879.87</td>\n",
       "      <td>-1</td>\n",
       "      <td>0.999561</td>\n",
       "      <td>1819368.03</td>\n",
       "      <td>NaN</td>\n",
       "      <td>NaN</td>\n",
       "      <td>0.999403</td>\n",
       "      <td>37956.00</td>\n",
       "      <td>1.000298</td>\n",
       "      <td>18995.00</td>\n",
       "      <td>1.000000</td>\n",
       "      <td>-8.389950</td>\n",
       "      <td>0</td>\n",
       "      <td>0_0_2</td>\n",
       "    </tr>\n",
       "    <tr>\n",
       "      <th>3</th>\n",
       "      <td>3</td>\n",
       "      <td>0</td>\n",
       "      <td>0</td>\n",
       "      <td>11917682.27</td>\n",
       "      <td>-1</td>\n",
       "      <td>1.000171</td>\n",
       "      <td>18389745.62</td>\n",
       "      <td>NaN</td>\n",
       "      <td>NaN</td>\n",
       "      <td>0.999999</td>\n",
       "      <td>2324.90</td>\n",
       "      <td>1.000214</td>\n",
       "      <td>479032.40</td>\n",
       "      <td>1.000000</td>\n",
       "      <td>-4.010200</td>\n",
       "      <td>0</td>\n",
       "      <td>0_0_3</td>\n",
       "    </tr>\n",
       "    <tr>\n",
       "      <th>4</th>\n",
       "      <td>4</td>\n",
       "      <td>0</td>\n",
       "      <td>0</td>\n",
       "      <td>447549.96</td>\n",
       "      <td>-1</td>\n",
       "      <td>0.999532</td>\n",
       "      <td>17860614.95</td>\n",
       "      <td>NaN</td>\n",
       "      <td>NaN</td>\n",
       "      <td>0.999394</td>\n",
       "      <td>16485.54</td>\n",
       "      <td>1.000016</td>\n",
       "      <td>434.10</td>\n",
       "      <td>1.000000</td>\n",
       "      <td>-7.349849</td>\n",
       "      <td>0</td>\n",
       "      <td>0_0_4</td>\n",
       "    </tr>\n",
       "    <tr>\n",
       "      <th>...</th>\n",
       "      <td>...</td>\n",
       "      <td>...</td>\n",
       "      <td>...</td>\n",
       "      <td>...</td>\n",
       "      <td>...</td>\n",
       "      <td>...</td>\n",
       "      <td>...</td>\n",
       "      <td>...</td>\n",
       "      <td>...</td>\n",
       "      <td>...</td>\n",
       "      <td>...</td>\n",
       "      <td>...</td>\n",
       "      <td>...</td>\n",
       "      <td>...</td>\n",
       "      <td>...</td>\n",
       "      <td>...</td>\n",
       "      <td>...</td>\n",
       "    </tr>\n",
       "    <tr>\n",
       "      <th>5237975</th>\n",
       "      <td>195</td>\n",
       "      <td>480</td>\n",
       "      <td>540</td>\n",
       "      <td>2440722.89</td>\n",
       "      <td>-1</td>\n",
       "      <td>1.000317</td>\n",
       "      <td>28280361.74</td>\n",
       "      <td>0.999734</td>\n",
       "      <td>0.999734</td>\n",
       "      <td>1.000317</td>\n",
       "      <td>32257.04</td>\n",
       "      <td>1.000434</td>\n",
       "      <td>319862.40</td>\n",
       "      <td>1.000328</td>\n",
       "      <td>2.310276</td>\n",
       "      <td>26454</td>\n",
       "      <td>480_540_195</td>\n",
       "    </tr>\n",
       "    <tr>\n",
       "      <th>5237976</th>\n",
       "      <td>196</td>\n",
       "      <td>480</td>\n",
       "      <td>540</td>\n",
       "      <td>349510.47</td>\n",
       "      <td>-1</td>\n",
       "      <td>1.000643</td>\n",
       "      <td>9187699.11</td>\n",
       "      <td>1.000129</td>\n",
       "      <td>1.000386</td>\n",
       "      <td>1.000643</td>\n",
       "      <td>205108.40</td>\n",
       "      <td>1.000900</td>\n",
       "      <td>93393.07</td>\n",
       "      <td>1.000819</td>\n",
       "      <td>-8.220077</td>\n",
       "      <td>26454</td>\n",
       "      <td>480_540_196</td>\n",
       "    </tr>\n",
       "    <tr>\n",
       "      <th>5237977</th>\n",
       "      <td>197</td>\n",
       "      <td>480</td>\n",
       "      <td>540</td>\n",
       "      <td>0.00</td>\n",
       "      <td>0</td>\n",
       "      <td>0.995789</td>\n",
       "      <td>12725436.10</td>\n",
       "      <td>0.995789</td>\n",
       "      <td>0.995789</td>\n",
       "      <td>0.995789</td>\n",
       "      <td>16790.66</td>\n",
       "      <td>0.995883</td>\n",
       "      <td>180038.32</td>\n",
       "      <td>0.995797</td>\n",
       "      <td>1.169443</td>\n",
       "      <td>26454</td>\n",
       "      <td>480_540_197</td>\n",
       "    </tr>\n",
       "    <tr>\n",
       "      <th>5237978</th>\n",
       "      <td>198</td>\n",
       "      <td>480</td>\n",
       "      <td>540</td>\n",
       "      <td>1000898.84</td>\n",
       "      <td>1</td>\n",
       "      <td>0.999210</td>\n",
       "      <td>94773271.05</td>\n",
       "      <td>0.999210</td>\n",
       "      <td>0.999210</td>\n",
       "      <td>0.998970</td>\n",
       "      <td>125631.72</td>\n",
       "      <td>0.999210</td>\n",
       "      <td>669893.00</td>\n",
       "      <td>0.999008</td>\n",
       "      <td>-1.540184</td>\n",
       "      <td>26454</td>\n",
       "      <td>480_540_198</td>\n",
       "    </tr>\n",
       "    <tr>\n",
       "      <th>5237979</th>\n",
       "      <td>199</td>\n",
       "      <td>480</td>\n",
       "      <td>540</td>\n",
       "      <td>1884285.71</td>\n",
       "      <td>-1</td>\n",
       "      <td>1.002129</td>\n",
       "      <td>24073677.32</td>\n",
       "      <td>1.000859</td>\n",
       "      <td>1.001494</td>\n",
       "      <td>1.002129</td>\n",
       "      <td>250081.44</td>\n",
       "      <td>1.002447</td>\n",
       "      <td>300167.56</td>\n",
       "      <td>1.002274</td>\n",
       "      <td>-6.530285</td>\n",
       "      <td>26454</td>\n",
       "      <td>480_540_199</td>\n",
       "    </tr>\n",
       "  </tbody>\n",
       "</table>\n",
       "<p>5237980 rows × 17 columns</p>\n",
       "</div>"
      ],
      "text/plain": [
       "         stock_id  date_id  seconds_in_bucket  imbalance_size  \\\n",
       "0               0        0                  0      3180602.69   \n",
       "1               1        0                  0       166603.91   \n",
       "2               2        0                  0       302879.87   \n",
       "3               3        0                  0     11917682.27   \n",
       "4               4        0                  0       447549.96   \n",
       "...           ...      ...                ...             ...   \n",
       "5237975       195      480                540      2440722.89   \n",
       "5237976       196      480                540       349510.47   \n",
       "5237977       197      480                540            0.00   \n",
       "5237978       198      480                540      1000898.84   \n",
       "5237979       199      480                540      1884285.71   \n",
       "\n",
       "         imbalance_buy_sell_flag  reference_price  matched_size  far_price  \\\n",
       "0                              1         0.999812   13380276.64        NaN   \n",
       "1                             -1         0.999896    1642214.25        NaN   \n",
       "2                             -1         0.999561    1819368.03        NaN   \n",
       "3                             -1         1.000171   18389745.62        NaN   \n",
       "4                             -1         0.999532   17860614.95        NaN   \n",
       "...                          ...              ...           ...        ...   \n",
       "5237975                       -1         1.000317   28280361.74   0.999734   \n",
       "5237976                       -1         1.000643    9187699.11   1.000129   \n",
       "5237977                        0         0.995789   12725436.10   0.995789   \n",
       "5237978                        1         0.999210   94773271.05   0.999210   \n",
       "5237979                       -1         1.002129   24073677.32   1.000859   \n",
       "\n",
       "         near_price  bid_price   bid_size  ask_price   ask_size       wap  \\\n",
       "0               NaN   0.999812   60651.50   1.000026    8493.03  1.000000   \n",
       "1               NaN   0.999896    3233.04   1.000660   20605.09  1.000000   \n",
       "2               NaN   0.999403   37956.00   1.000298   18995.00  1.000000   \n",
       "3               NaN   0.999999    2324.90   1.000214  479032.40  1.000000   \n",
       "4               NaN   0.999394   16485.54   1.000016     434.10  1.000000   \n",
       "...             ...        ...        ...        ...        ...       ...   \n",
       "5237975    0.999734   1.000317   32257.04   1.000434  319862.40  1.000328   \n",
       "5237976    1.000386   1.000643  205108.40   1.000900   93393.07  1.000819   \n",
       "5237977    0.995789   0.995789   16790.66   0.995883  180038.32  0.995797   \n",
       "5237978    0.999210   0.998970  125631.72   0.999210  669893.00  0.999008   \n",
       "5237979    1.001494   1.002129  250081.44   1.002447  300167.56  1.002274   \n",
       "\n",
       "           target  time_id       row_id  \n",
       "0       -3.029704        0        0_0_0  \n",
       "1       -5.519986        0        0_0_1  \n",
       "2       -8.389950        0        0_0_2  \n",
       "3       -4.010200        0        0_0_3  \n",
       "4       -7.349849        0        0_0_4  \n",
       "...           ...      ...          ...  \n",
       "5237975  2.310276    26454  480_540_195  \n",
       "5237976 -8.220077    26454  480_540_196  \n",
       "5237977  1.169443    26454  480_540_197  \n",
       "5237978 -1.540184    26454  480_540_198  \n",
       "5237979 -6.530285    26454  480_540_199  \n",
       "\n",
       "[5237980 rows x 17 columns]"
      ]
     },
     "execution_count": 61,
     "metadata": {},
     "output_type": "execute_result"
    }
   ],
   "source": [
    "kaggle_dir = './kaggle'\n",
    "df = pd.read_csv(os.path.join(kaggle_dir, 'train.csv'))\n",
    "df"
   ]
  },
  {
   "cell_type": "code",
   "execution_count": 5,
   "id": "f694b58f",
   "metadata": {
    "papermill": {
     "duration": 0.036399,
     "end_time": "2023-12-25T15:18:42.327346",
     "exception": false,
     "start_time": "2023-12-25T15:18:42.290947",
     "status": "completed"
    },
    "tags": []
   },
   "outputs": [
    {
     "name": "stdout",
     "output_type": "stream",
     "text": [
      "<class 'pandas.core.frame.DataFrame'>\n",
      "RangeIndex: 5237980 entries, 0 to 5237979\n",
      "Data columns (total 17 columns):\n",
      " #   Column                   Dtype  \n",
      "---  ------                   -----  \n",
      " 0   stock_id                 int64  \n",
      " 1   date_id                  int64  \n",
      " 2   seconds_in_bucket        int64  \n",
      " 3   imbalance_size           float64\n",
      " 4   imbalance_buy_sell_flag  int64  \n",
      " 5   reference_price          float64\n",
      " 6   matched_size             float64\n",
      " 7   far_price                float64\n",
      " 8   near_price               float64\n",
      " 9   bid_price                float64\n",
      " 10  bid_size                 float64\n",
      " 11  ask_price                float64\n",
      " 12  ask_size                 float64\n",
      " 13  wap                      float64\n",
      " 14  target                   float64\n",
      " 15  time_id                  int64  \n",
      " 16  row_id                   object \n",
      "dtypes: float64(11), int64(5), object(1)\n",
      "memory usage: 679.4+ MB\n"
     ]
    }
   ],
   "source": [
    "df.info()"
   ]
  },
  {
   "cell_type": "code",
   "execution_count": 6,
   "id": "bd2dfad6",
   "metadata": {
    "papermill": {
     "duration": 0.578321,
     "end_time": "2023-12-25T15:18:42.919211",
     "exception": false,
     "start_time": "2023-12-25T15:18:42.340890",
     "status": "completed"
    },
    "tags": []
   },
   "outputs": [
    {
     "data": {
      "text/plain": [
       "stock_id                         0\n",
       "date_id                          0\n",
       "seconds_in_bucket                0\n",
       "imbalance_size                 220\n",
       "imbalance_buy_sell_flag          0\n",
       "reference_price                220\n",
       "matched_size                   220\n",
       "far_price                  2894342\n",
       "near_price                 2857180\n",
       "bid_price                      220\n",
       "bid_size                         0\n",
       "ask_price                      220\n",
       "ask_size                         0\n",
       "wap                            220\n",
       "target                          88\n",
       "time_id                          0\n",
       "row_id                           0\n",
       "dtype: int64"
      ]
     },
     "execution_count": 6,
     "metadata": {},
     "output_type": "execute_result"
    }
   ],
   "source": [
    "df.isnull().sum()"
   ]
  },
  {
   "cell_type": "code",
   "execution_count": 7,
   "id": "0db4e14b",
   "metadata": {
    "papermill": {
     "duration": 10.259183,
     "end_time": "2023-12-25T15:18:53.188599",
     "exception": false,
     "start_time": "2023-12-25T15:18:42.929416",
     "status": "completed"
    },
    "tags": []
   },
   "outputs": [
    {
     "data": {
      "text/html": [
       "<div>\n",
       "<style scoped>\n",
       "    .dataframe tbody tr th:only-of-type {\n",
       "        vertical-align: middle;\n",
       "    }\n",
       "\n",
       "    .dataframe tbody tr th {\n",
       "        vertical-align: top;\n",
       "    }\n",
       "\n",
       "    .dataframe thead th {\n",
       "        text-align: right;\n",
       "    }\n",
       "</style>\n",
       "<table border=\"1\" class=\"dataframe\">\n",
       "  <thead>\n",
       "    <tr style=\"text-align: right;\">\n",
       "      <th></th>\n",
       "      <th>unique</th>\n",
       "      <th>cardinality</th>\n",
       "      <th>with_null</th>\n",
       "      <th>null_pct</th>\n",
       "      <th>1st_row</th>\n",
       "      <th>random_row</th>\n",
       "      <th>last_row</th>\n",
       "      <th>dtype</th>\n",
       "    </tr>\n",
       "  </thead>\n",
       "  <tbody>\n",
       "    <tr>\n",
       "      <th>stock_id</th>\n",
       "      <td>False</td>\n",
       "      <td>200</td>\n",
       "      <td>False</td>\n",
       "      <td>0.00</td>\n",
       "      <td>0</td>\n",
       "      <td>181</td>\n",
       "      <td>199</td>\n",
       "      <td>int64</td>\n",
       "    </tr>\n",
       "    <tr>\n",
       "      <th>date_id</th>\n",
       "      <td>False</td>\n",
       "      <td>481</td>\n",
       "      <td>False</td>\n",
       "      <td>0.00</td>\n",
       "      <td>0</td>\n",
       "      <td>27</td>\n",
       "      <td>480</td>\n",
       "      <td>int64</td>\n",
       "    </tr>\n",
       "    <tr>\n",
       "      <th>seconds_in_bucket</th>\n",
       "      <td>False</td>\n",
       "      <td>55</td>\n",
       "      <td>False</td>\n",
       "      <td>0.00</td>\n",
       "      <td>0</td>\n",
       "      <td>410</td>\n",
       "      <td>540</td>\n",
       "      <td>int64</td>\n",
       "    </tr>\n",
       "    <tr>\n",
       "      <th>imbalance_size</th>\n",
       "      <td>False</td>\n",
       "      <td>2971863</td>\n",
       "      <td>True</td>\n",
       "      <td>0.00</td>\n",
       "      <td>3180602.69</td>\n",
       "      <td>2400918.36</td>\n",
       "      <td>1884285.71</td>\n",
       "      <td>float64</td>\n",
       "    </tr>\n",
       "    <tr>\n",
       "      <th>imbalance_buy_sell_flag</th>\n",
       "      <td>False</td>\n",
       "      <td>3</td>\n",
       "      <td>False</td>\n",
       "      <td>0.00</td>\n",
       "      <td>1</td>\n",
       "      <td>-1</td>\n",
       "      <td>-1</td>\n",
       "      <td>int64</td>\n",
       "    </tr>\n",
       "    <tr>\n",
       "      <th>reference_price</th>\n",
       "      <td>False</td>\n",
       "      <td>28741</td>\n",
       "      <td>True</td>\n",
       "      <td>0.00</td>\n",
       "      <td>0.999812</td>\n",
       "      <td>0.997309</td>\n",
       "      <td>1.002129</td>\n",
       "      <td>float64</td>\n",
       "    </tr>\n",
       "    <tr>\n",
       "      <th>matched_size</th>\n",
       "      <td>False</td>\n",
       "      <td>2948862</td>\n",
       "      <td>True</td>\n",
       "      <td>0.00</td>\n",
       "      <td>13380276.64</td>\n",
       "      <td>9135345.31</td>\n",
       "      <td>24073677.32</td>\n",
       "      <td>float64</td>\n",
       "    </tr>\n",
       "    <tr>\n",
       "      <th>far_price</th>\n",
       "      <td>False</td>\n",
       "      <td>95739</td>\n",
       "      <td>True</td>\n",
       "      <td>55.26</td>\n",
       "      <td>NaN</td>\n",
       "      <td>0.898997</td>\n",
       "      <td>1.000859</td>\n",
       "      <td>float64</td>\n",
       "    </tr>\n",
       "    <tr>\n",
       "      <th>near_price</th>\n",
       "      <td>False</td>\n",
       "      <td>84625</td>\n",
       "      <td>True</td>\n",
       "      <td>54.55</td>\n",
       "      <td>NaN</td>\n",
       "      <td>0.979654</td>\n",
       "      <td>1.001494</td>\n",
       "      <td>float64</td>\n",
       "    </tr>\n",
       "    <tr>\n",
       "      <th>bid_price</th>\n",
       "      <td>False</td>\n",
       "      <td>28313</td>\n",
       "      <td>True</td>\n",
       "      <td>0.00</td>\n",
       "      <td>0.999812</td>\n",
       "      <td>0.997309</td>\n",
       "      <td>1.002129</td>\n",
       "      <td>float64</td>\n",
       "    </tr>\n",
       "    <tr>\n",
       "      <th>bid_size</th>\n",
       "      <td>False</td>\n",
       "      <td>2591773</td>\n",
       "      <td>False</td>\n",
       "      <td>0.00</td>\n",
       "      <td>60651.5</td>\n",
       "      <td>345.72</td>\n",
       "      <td>250081.44</td>\n",
       "      <td>float64</td>\n",
       "    </tr>\n",
       "    <tr>\n",
       "      <th>ask_price</th>\n",
       "      <td>False</td>\n",
       "      <td>28266</td>\n",
       "      <td>True</td>\n",
       "      <td>0.00</td>\n",
       "      <td>1.000026</td>\n",
       "      <td>0.997655</td>\n",
       "      <td>1.002447</td>\n",
       "      <td>float64</td>\n",
       "    </tr>\n",
       "    <tr>\n",
       "      <th>ask_size</th>\n",
       "      <td>False</td>\n",
       "      <td>2623254</td>\n",
       "      <td>False</td>\n",
       "      <td>0.00</td>\n",
       "      <td>8493.03</td>\n",
       "      <td>10375.2</td>\n",
       "      <td>300167.56</td>\n",
       "      <td>float64</td>\n",
       "    </tr>\n",
       "    <tr>\n",
       "      <th>wap</th>\n",
       "      <td>False</td>\n",
       "      <td>31506</td>\n",
       "      <td>True</td>\n",
       "      <td>0.00</td>\n",
       "      <td>1.0</td>\n",
       "      <td>0.99732</td>\n",
       "      <td>1.002274</td>\n",
       "      <td>float64</td>\n",
       "    </tr>\n",
       "    <tr>\n",
       "      <th>target</th>\n",
       "      <td>False</td>\n",
       "      <td>15934</td>\n",
       "      <td>True</td>\n",
       "      <td>0.00</td>\n",
       "      <td>-3.029704</td>\n",
       "      <td>4.889965</td>\n",
       "      <td>-6.530285</td>\n",
       "      <td>float64</td>\n",
       "    </tr>\n",
       "    <tr>\n",
       "      <th>time_id</th>\n",
       "      <td>False</td>\n",
       "      <td>26455</td>\n",
       "      <td>False</td>\n",
       "      <td>0.00</td>\n",
       "      <td>0</td>\n",
       "      <td>1526</td>\n",
       "      <td>26454</td>\n",
       "      <td>int64</td>\n",
       "    </tr>\n",
       "    <tr>\n",
       "      <th>row_id</th>\n",
       "      <td>True</td>\n",
       "      <td>5237980</td>\n",
       "      <td>False</td>\n",
       "      <td>0.00</td>\n",
       "      <td>0_0_0</td>\n",
       "      <td>27_410_181</td>\n",
       "      <td>480_540_199</td>\n",
       "      <td>object</td>\n",
       "    </tr>\n",
       "  </tbody>\n",
       "</table>\n",
       "</div>"
      ],
      "text/plain": [
       "                         unique  cardinality  with_null  null_pct  \\\n",
       "stock_id                  False          200      False      0.00   \n",
       "date_id                   False          481      False      0.00   \n",
       "seconds_in_bucket         False           55      False      0.00   \n",
       "imbalance_size            False      2971863       True      0.00   \n",
       "imbalance_buy_sell_flag   False            3      False      0.00   \n",
       "reference_price           False        28741       True      0.00   \n",
       "matched_size              False      2948862       True      0.00   \n",
       "far_price                 False        95739       True     55.26   \n",
       "near_price                False        84625       True     54.55   \n",
       "bid_price                 False        28313       True      0.00   \n",
       "bid_size                  False      2591773      False      0.00   \n",
       "ask_price                 False        28266       True      0.00   \n",
       "ask_size                  False      2623254      False      0.00   \n",
       "wap                       False        31506       True      0.00   \n",
       "target                    False        15934       True      0.00   \n",
       "time_id                   False        26455      False      0.00   \n",
       "row_id                     True      5237980      False      0.00   \n",
       "\n",
       "                             1st_row  random_row     last_row    dtype  \n",
       "stock_id                           0         181          199    int64  \n",
       "date_id                            0          27          480    int64  \n",
       "seconds_in_bucket                  0         410          540    int64  \n",
       "imbalance_size            3180602.69  2400918.36   1884285.71  float64  \n",
       "imbalance_buy_sell_flag            1          -1           -1    int64  \n",
       "reference_price             0.999812    0.997309     1.002129  float64  \n",
       "matched_size             13380276.64  9135345.31  24073677.32  float64  \n",
       "far_price                        NaN    0.898997     1.000859  float64  \n",
       "near_price                       NaN    0.979654     1.001494  float64  \n",
       "bid_price                   0.999812    0.997309     1.002129  float64  \n",
       "bid_size                     60651.5      345.72    250081.44  float64  \n",
       "ask_price                   1.000026    0.997655     1.002447  float64  \n",
       "ask_size                     8493.03     10375.2    300167.56  float64  \n",
       "wap                              1.0     0.99732     1.002274  float64  \n",
       "target                     -3.029704    4.889965    -6.530285  float64  \n",
       "time_id                            0        1526        26454    int64  \n",
       "row_id                         0_0_0  27_410_181  480_540_199   object  "
      ]
     },
     "execution_count": 7,
     "metadata": {},
     "output_type": "execute_result"
    }
   ],
   "source": [
    "def inspect_columns(df):\n",
    "\n",
    "    result = pd.DataFrame({\n",
    "        'unique': df.nunique() == len(df),\n",
    "        'cardinality': df.nunique(),\n",
    "        'with_null': df.isna().any(),\n",
    "        'null_pct': round((df.isnull().sum() / len(df)) * 100, 2),\n",
    "        '1st_row': df.iloc[0],\n",
    "        'random_row': df.iloc[np.random.randint(low=0, high=len(df))],\n",
    "        'last_row': df.iloc[-1],\n",
    "        'dtype': df.dtypes\n",
    "    })\n",
    "    return result\n",
    "\n",
    "inspect_columns(df)"
   ]
  },
  {
   "cell_type": "markdown",
   "id": "a48ff4ba-a541-40c9-a146-16075b276e6f",
   "metadata": {},
   "source": [
    "## Data Splitting"
   ]
  },
  {
   "cell_type": "code",
   "execution_count": 62,
   "id": "c71fa615-9b51-4be9-becb-8e81d3e79d98",
   "metadata": {},
   "outputs": [
    {
     "name": "stdout",
     "output_type": "stream",
     "text": [
      "The shape of train_df = (4346980, 17)\n",
      "The shape of valid_df = (858000, 17)\n",
      "The shape of test_df = (34000, 17)\n"
     ]
    }
   ],
   "source": [
    "train_df: pd.DataFrame = df.loc[(0 <= df['date_id']) & (df['date_id'] <= 399)]\n",
    "valid_df: pd.DataFrame = df.loc[(400 <= df['date_id']) & (df['date_id'] <= 477)]\n",
    "test_df: pd.DataFrame = df.loc[((477 == df['date_id']) & (500 <= df['seconds_in_bucket'])) | ((478 <= df['date_id']) & (df['date_id'] <= 480))]\n",
    "\n",
    "print(f'The shape of train_df = {train_df.shape}')\n",
    "print(f'The shape of valid_df = {valid_df.shape}')\n",
    "print(f'The shape of test_df = {test_df.shape}')"
   ]
  },
  {
   "cell_type": "markdown",
   "id": "a2f9ac3a-d0af-4614-ad13-d6456dd86878",
   "metadata": {},
   "source": [
    "## Data Preprocessing After Splitting"
   ]
  },
  {
   "cell_type": "markdown",
   "id": "6045094f-4882-413b-ab6e-319750f4cd7c",
   "metadata": {},
   "source": [
    "### Training Set"
   ]
  },
  {
   "cell_type": "code",
   "execution_count": 63,
   "id": "b6fcd041-20bb-4c1d-8aeb-5f9212816529",
   "metadata": {},
   "outputs": [],
   "source": [
    "def GenPreprocessInfo(raw_df: pd.DataFrame) -> Dict[int, Dict[str, Dict[str, float]]]:\n",
    "    '''\n",
    "    Return value example:\n",
    "    {\n",
    "        'STOCK_ID': {\n",
    "            'COLUMN': {\n",
    "                'min': 0.0,\n",
    "                'max': 1.0,\n",
    "                'mean': 0.5\n",
    "            }\n",
    "        }\n",
    "    }\n",
    "    '''\n",
    "    data: pd.DataFrame = raw_df.copy()\n",
    "    statistic_result: Dict[int, Dict[str, Dict[str, float]]] = {}\n",
    "    \n",
    "    for stock in data['stock_id'].unique().tolist():\n",
    "        stock_df: pd.DataFrame = data.loc[data['stock_id'] == stock]\n",
    "        stock_info: Dict[str, Dict[str, float]] = {}\n",
    "        \n",
    "        for feat in stock_df.columns:\n",
    "            if pd.api.types.is_string_dtype(stock_df[feat]):\n",
    "                continue\n",
    "            stock_feat_info: Dict[str, float] = {}\n",
    "            stock_feat_info['min'] = stock_df[feat].min(skipna=True)\n",
    "            stock_feat_info['max'] = stock_df[feat].max(skipna=True)\n",
    "            stock_feat_info['mean'] = stock_df[feat].mean(skipna=True)\n",
    "            stock_info[feat] = stock_feat_info\n",
    "        \n",
    "        statistic_result[stock] = stock_info\n",
    "    \n",
    "    return statistic_result\n",
    "\n",
    "preprocess_info = GenPreprocessInfo(raw_df=train_df)"
   ]
  },
  {
   "cell_type": "code",
   "execution_count": 10,
   "id": "fd10edc0-fcf7-499b-b513-1c052e401d68",
   "metadata": {
    "tags": []
   },
   "outputs": [
    {
     "name": "stdout",
     "output_type": "stream",
     "text": [
      "Data has nan: \n",
      "stock_id                   False\n",
      "date_id                    False\n",
      "seconds_in_bucket          False\n",
      "imbalance_size             False\n",
      "imbalance_buy_sell_flag    False\n",
      "reference_price            False\n",
      "matched_size               False\n",
      "far_price                  False\n",
      "near_price                 False\n",
      "bid_price                  False\n",
      "bid_size                   False\n",
      "ask_price                  False\n",
      "ask_size                   False\n",
      "wap                        False\n",
      "target                     False\n",
      "time_id                    False\n",
      "row_id                     False\n",
      "dtype: bool\n",
      "         stock_id  date_id  seconds_in_bucket  imbalance_size  \\\n",
      "0               0        0                  0        0.023833   \n",
      "1               1        0                  0        0.014830   \n",
      "2               2        0                  0        0.015351   \n",
      "3               3        0                  0        0.037858   \n",
      "4               4        0                  0        0.005779   \n",
      "...           ...      ...                ...             ...   \n",
      "4346975       195      399                540        0.002781   \n",
      "4346976       196      399                540        0.021758   \n",
      "4346977       197      399                540        0.011443   \n",
      "4346978       198      399                540        0.000000   \n",
      "4346979       199      399                540        0.003262   \n",
      "\n",
      "         imbalance_buy_sell_flag  reference_price  matched_size  far_price  \\\n",
      "0                              1         0.999812      0.041612   1.000000   \n",
      "1                             -1         0.999896      0.028287   1.000000   \n",
      "2                             -1         0.999561      0.003258   1.000000   \n",
      "3                             -1         1.000171      0.014849   1.000000   \n",
      "4                             -1         0.999532      0.051819   1.000000   \n",
      "...                          ...              ...           ...        ...   \n",
      "4346975                        1         0.998808      0.096884   0.999258   \n",
      "4346976                       -1         1.000274      0.149871   0.999756   \n",
      "4346977                        1         1.000543      0.029236   1.002325   \n",
      "4346978                        0         1.003443      0.081872   1.003443   \n",
      "4346979                        1         0.997327      0.021922   1.000154   \n",
      "\n",
      "         near_price  bid_price  bid_size  ask_price  ask_size       wap  \\\n",
      "0          1.000000   0.999812  0.010269   1.000026  0.008365  1.000000   \n",
      "1          1.000000   0.999896  0.006184   1.000660  0.027442  1.000000   \n",
      "2          1.000000   0.999403  0.077508   1.000298  0.010908  1.000000   \n",
      "3          1.000000   0.999999  0.001119   1.000214  0.374974  1.000000   \n",
      "4          1.000000   0.999394  0.010196   1.000016  0.000344  1.000000   \n",
      "...             ...        ...       ...        ...       ...       ...   \n",
      "4346975    0.998808   0.998695  0.086108   0.998808  0.192638  0.998756   \n",
      "4346976    0.999756   1.000274  0.147018   1.000533  0.157138  1.000343   \n",
      "4346977    1.001830   1.000444  0.049986   1.000543  0.049032  1.000509   \n",
      "4346978    1.003443   1.003166  0.652195   1.003443  0.373526  1.003316   \n",
      "4346979    0.998269   0.997013  0.109486   0.997327  0.105845  0.997254   \n",
      "\n",
      "           target  time_id       row_id  \n",
      "0       -3.029704        0        0_0_0  \n",
      "1       -5.519986        0        0_0_1  \n",
      "2       -8.389950        0        0_0_2  \n",
      "3       -4.010200        0        0_0_3  \n",
      "4       -7.349849        0        0_0_4  \n",
      "...           ...      ...          ...  \n",
      "4346975 -1.779795    21999  399_540_195  \n",
      "4346976 -7.029772    21999  399_540_196  \n",
      "4346977  5.110502    21999  399_540_197  \n",
      "4346978  2.870560    21999  399_540_198  \n",
      "4346979 -0.439882    21999  399_540_199  \n",
      "\n",
      "[4346893 rows x 17 columns]\n"
     ]
    }
   ],
   "source": [
    "def PreprocessTrainSet(\n",
    "    raw_df: pd.DataFrame, statistic_result: Dict[int, Dict[str, Dict[str, float]]]\n",
    ") -> pd.DataFrame:\n",
    "    data: pd.DataFrame = raw_df.copy()\n",
    "    \n",
    "    # fill out NaN with mean value\n",
    "    for stock in data['stock_id'].unique().tolist():\n",
    "        for feat in FILL_MEAN_FEATURES:\n",
    "            data.loc[\n",
    "                (data['stock_id'] == stock) & (data[feat].isnull()), \n",
    "                feat\n",
    "            ] = statistic_result[stock][feat]['mean']\n",
    "\n",
    "    # fill out NaN with 1\n",
    "    for feat in FILL_ONE_FEATURES:\n",
    "        data[feat] = data[feat].fillna(1.0)\n",
    "\n",
    "    # normalize features\n",
    "    for feat in MODEL_INPUT_FEATURES:\n",
    "        if feat not in NORMALIZED_FEATURE:\n",
    "            continue\n",
    "        data['min'] = np.nan\n",
    "        data['max'] = np.nan\n",
    "        \n",
    "        for stock in data['stock_id'].unique().tolist():\n",
    "            data.loc[data['stock_id'] == stock, ['min', 'max']] = [\n",
    "                statistic_result[stock][feat]['min'],\n",
    "                statistic_result[stock][feat]['max']\n",
    "            ]\n",
    "        \n",
    "        data[feat] = (data[feat] - data['min']) / (data['max'] - data['min'])\n",
    "        data = data.drop('min', axis=1)\n",
    "        data = data.drop('max', axis=1)\n",
    "        \n",
    "    data.dropna(inplace=True)\n",
    "    \n",
    "    print(f'Data has nan: \\n{data.isnull().any()}')\n",
    "    \n",
    "    return data\n",
    "\n",
    "\n",
    "train_pp_df = PreprocessTrainSet(raw_df=train_df, statistic_result=preprocess_info)\n",
    "\n",
    "print(train_pp_df)"
   ]
  },
  {
   "cell_type": "markdown",
   "id": "c32d644e-77b6-4538-9350-d8324fbf66a5",
   "metadata": {},
   "source": [
    "### Validation Set and Test Set"
   ]
  },
  {
   "cell_type": "code",
   "execution_count": 9,
   "id": "f3fe10b3-9446-4c78-aa05-c2880f7fde2d",
   "metadata": {},
   "outputs": [],
   "source": [
    "def PreprocessValidationTestSet(\n",
    "    raw_df: pd.DataFrame, statistic_result: Dict[int, Dict[str, Dict[str, float]]]\n",
    ") -> pd.DataFrame:\n",
    "\n",
    "    data: pd.DataFrame = raw_df.copy()\n",
    "    \n",
    "    # fill out NaN with mean value\n",
    "    for stock in data['stock_id'].unique().tolist():\n",
    "        for feat in FILL_MEAN_FEATURES:\n",
    "            data.loc[\n",
    "                (data['stock_id'] == stock) & (data[feat].isnull()), \n",
    "                feat\n",
    "            ] = statistic_result[stock][feat]['mean']\n",
    "\n",
    "    # fill out NaN with 1\n",
    "    for feat in FILL_ONE_FEATURES:\n",
    "        data[feat] = data[feat].fillna(1.0)\n",
    "\n",
    "    # normalize features\n",
    "    for feat in MODEL_INPUT_FEATURES:\n",
    "        if feat not in NORMALIZED_FEATURE:\n",
    "            continue\n",
    "        data['min'] = np.nan\n",
    "        data['max'] = np.nan\n",
    "        \n",
    "        for stock in data['stock_id'].unique().tolist():\n",
    "            data.loc[data['stock_id'] == stock, ['min', 'max']] = [\n",
    "                statistic_result[stock][feat]['min'],\n",
    "                statistic_result[stock][feat]['max']\n",
    "            ]\n",
    "        \n",
    "        data[feat] = (data[feat] - data['min']) / (data['max'] - data['min'])\n",
    "        data = data.drop('min', axis=1)\n",
    "        data = data.drop('max', axis=1)\n",
    "        \n",
    "    data.dropna(inplace=True)\n",
    "    \n",
    "    print(f'Data has nan: \\n{data.isnull().any()}')\n",
    "    \n",
    "    return data"
   ]
  },
  {
   "cell_type": "code",
   "execution_count": 12,
   "id": "67ac87c8-9ef3-425b-8824-0f9c6da9b230",
   "metadata": {},
   "outputs": [
    {
     "name": "stdout",
     "output_type": "stream",
     "text": [
      "Data has nan: \n",
      "stock_id                   False\n",
      "date_id                    False\n",
      "seconds_in_bucket          False\n",
      "imbalance_size             False\n",
      "imbalance_buy_sell_flag    False\n",
      "reference_price            False\n",
      "matched_size               False\n",
      "far_price                  False\n",
      "near_price                 False\n",
      "bid_price                  False\n",
      "bid_size                   False\n",
      "ask_price                  False\n",
      "ask_size                   False\n",
      "wap                        False\n",
      "target                     False\n",
      "time_id                    False\n",
      "row_id                     False\n",
      "dtype: bool\n"
     ]
    },
    {
     "data": {
      "text/html": [
       "<div>\n",
       "<style scoped>\n",
       "    .dataframe tbody tr th:only-of-type {\n",
       "        vertical-align: middle;\n",
       "    }\n",
       "\n",
       "    .dataframe tbody tr th {\n",
       "        vertical-align: top;\n",
       "    }\n",
       "\n",
       "    .dataframe thead th {\n",
       "        text-align: right;\n",
       "    }\n",
       "</style>\n",
       "<table border=\"1\" class=\"dataframe\">\n",
       "  <thead>\n",
       "    <tr style=\"text-align: right;\">\n",
       "      <th></th>\n",
       "      <th>stock_id</th>\n",
       "      <th>date_id</th>\n",
       "      <th>seconds_in_bucket</th>\n",
       "      <th>imbalance_size</th>\n",
       "      <th>imbalance_buy_sell_flag</th>\n",
       "      <th>reference_price</th>\n",
       "      <th>matched_size</th>\n",
       "      <th>far_price</th>\n",
       "      <th>near_price</th>\n",
       "      <th>bid_price</th>\n",
       "      <th>bid_size</th>\n",
       "      <th>ask_price</th>\n",
       "      <th>ask_size</th>\n",
       "      <th>wap</th>\n",
       "      <th>target</th>\n",
       "      <th>time_id</th>\n",
       "      <th>row_id</th>\n",
       "    </tr>\n",
       "  </thead>\n",
       "  <tbody>\n",
       "    <tr>\n",
       "      <th>4346980</th>\n",
       "      <td>0</td>\n",
       "      <td>400</td>\n",
       "      <td>0</td>\n",
       "      <td>0.104640</td>\n",
       "      <td>1</td>\n",
       "      <td>0.999454</td>\n",
       "      <td>0.026447</td>\n",
       "      <td>1.000000</td>\n",
       "      <td>1.000000</td>\n",
       "      <td>0.999648</td>\n",
       "      <td>0.001736</td>\n",
       "      <td>1.000521</td>\n",
       "      <td>0.015102</td>\n",
       "      <td>1.000000</td>\n",
       "      <td>0.050068</td>\n",
       "      <td>22000</td>\n",
       "      <td>400_0_0</td>\n",
       "    </tr>\n",
       "    <tr>\n",
       "      <th>4346981</th>\n",
       "      <td>1</td>\n",
       "      <td>400</td>\n",
       "      <td>0</td>\n",
       "      <td>0.178324</td>\n",
       "      <td>1</td>\n",
       "      <td>0.998651</td>\n",
       "      <td>0.025849</td>\n",
       "      <td>1.000000</td>\n",
       "      <td>1.000000</td>\n",
       "      <td>0.998065</td>\n",
       "      <td>0.049754</td>\n",
       "      <td>1.002580</td>\n",
       "      <td>0.045598</td>\n",
       "      <td>1.000000</td>\n",
       "      <td>-10.010004</td>\n",
       "      <td>22000</td>\n",
       "      <td>400_0_1</td>\n",
       "    </tr>\n",
       "    <tr>\n",
       "      <th>4346982</th>\n",
       "      <td>2</td>\n",
       "      <td>400</td>\n",
       "      <td>0</td>\n",
       "      <td>0.097252</td>\n",
       "      <td>-1</td>\n",
       "      <td>1.000470</td>\n",
       "      <td>0.011749</td>\n",
       "      <td>1.000000</td>\n",
       "      <td>1.000000</td>\n",
       "      <td>0.999974</td>\n",
       "      <td>0.007547</td>\n",
       "      <td>1.001236</td>\n",
       "      <td>0.103731</td>\n",
       "      <td>1.000000</td>\n",
       "      <td>7.070303</td>\n",
       "      <td>22000</td>\n",
       "      <td>400_0_2</td>\n",
       "    </tr>\n",
       "    <tr>\n",
       "      <th>4346983</th>\n",
       "      <td>3</td>\n",
       "      <td>400</td>\n",
       "      <td>0</td>\n",
       "      <td>0.020171</td>\n",
       "      <td>1</td>\n",
       "      <td>1.000143</td>\n",
       "      <td>0.032162</td>\n",
       "      <td>1.000000</td>\n",
       "      <td>1.000000</td>\n",
       "      <td>0.999964</td>\n",
       "      <td>0.004982</td>\n",
       "      <td>1.000731</td>\n",
       "      <td>0.153409</td>\n",
       "      <td>1.000000</td>\n",
       "      <td>3.780127</td>\n",
       "      <td>22000</td>\n",
       "      <td>400_0_3</td>\n",
       "    </tr>\n",
       "    <tr>\n",
       "      <th>4346984</th>\n",
       "      <td>4</td>\n",
       "      <td>400</td>\n",
       "      <td>0</td>\n",
       "      <td>0.071687</td>\n",
       "      <td>1</td>\n",
       "      <td>0.999428</td>\n",
       "      <td>0.008230</td>\n",
       "      <td>1.000000</td>\n",
       "      <td>1.000000</td>\n",
       "      <td>0.999255</td>\n",
       "      <td>0.016142</td>\n",
       "      <td>1.000119</td>\n",
       "      <td>0.004565</td>\n",
       "      <td>1.000000</td>\n",
       "      <td>1.590252</td>\n",
       "      <td>22000</td>\n",
       "      <td>400_0_4</td>\n",
       "    </tr>\n",
       "    <tr>\n",
       "      <th>...</th>\n",
       "      <td>...</td>\n",
       "      <td>...</td>\n",
       "      <td>...</td>\n",
       "      <td>...</td>\n",
       "      <td>...</td>\n",
       "      <td>...</td>\n",
       "      <td>...</td>\n",
       "      <td>...</td>\n",
       "      <td>...</td>\n",
       "      <td>...</td>\n",
       "      <td>...</td>\n",
       "      <td>...</td>\n",
       "      <td>...</td>\n",
       "      <td>...</td>\n",
       "      <td>...</td>\n",
       "      <td>...</td>\n",
       "      <td>...</td>\n",
       "    </tr>\n",
       "    <tr>\n",
       "      <th>5204975</th>\n",
       "      <td>195</td>\n",
       "      <td>477</td>\n",
       "      <td>540</td>\n",
       "      <td>0.040944</td>\n",
       "      <td>-1</td>\n",
       "      <td>1.002359</td>\n",
       "      <td>0.120353</td>\n",
       "      <td>1.001253</td>\n",
       "      <td>1.001253</td>\n",
       "      <td>1.002359</td>\n",
       "      <td>0.153837</td>\n",
       "      <td>1.002482</td>\n",
       "      <td>0.318110</td>\n",
       "      <td>1.002429</td>\n",
       "      <td>-3.190041</td>\n",
       "      <td>26289</td>\n",
       "      <td>477_540_195</td>\n",
       "    </tr>\n",
       "    <tr>\n",
       "      <th>5204976</th>\n",
       "      <td>196</td>\n",
       "      <td>477</td>\n",
       "      <td>540</td>\n",
       "      <td>0.045124</td>\n",
       "      <td>-1</td>\n",
       "      <td>0.998663</td>\n",
       "      <td>0.148910</td>\n",
       "      <td>0.996644</td>\n",
       "      <td>0.997401</td>\n",
       "      <td>0.998663</td>\n",
       "      <td>0.078859</td>\n",
       "      <td>0.999168</td>\n",
       "      <td>0.079631</td>\n",
       "      <td>0.998803</td>\n",
       "      <td>-6.200075</td>\n",
       "      <td>26289</td>\n",
       "      <td>477_540_196</td>\n",
       "    </tr>\n",
       "    <tr>\n",
       "      <th>5204977</th>\n",
       "      <td>197</td>\n",
       "      <td>477</td>\n",
       "      <td>540</td>\n",
       "      <td>0.004787</td>\n",
       "      <td>1</td>\n",
       "      <td>0.997623</td>\n",
       "      <td>0.024257</td>\n",
       "      <td>0.998388</td>\n",
       "      <td>0.998388</td>\n",
       "      <td>0.997240</td>\n",
       "      <td>0.013190</td>\n",
       "      <td>0.997623</td>\n",
       "      <td>0.033533</td>\n",
       "      <td>0.997405</td>\n",
       "      <td>0.000000</td>\n",
       "      <td>26289</td>\n",
       "      <td>477_540_197</td>\n",
       "    </tr>\n",
       "    <tr>\n",
       "      <th>5204978</th>\n",
       "      <td>198</td>\n",
       "      <td>477</td>\n",
       "      <td>540</td>\n",
       "      <td>0.027363</td>\n",
       "      <td>-1</td>\n",
       "      <td>0.999832</td>\n",
       "      <td>0.054122</td>\n",
       "      <td>0.998511</td>\n",
       "      <td>0.998751</td>\n",
       "      <td>0.999712</td>\n",
       "      <td>0.249313</td>\n",
       "      <td>0.999952</td>\n",
       "      <td>0.303272</td>\n",
       "      <td>0.999797</td>\n",
       "      <td>1.300573</td>\n",
       "      <td>26289</td>\n",
       "      <td>477_540_198</td>\n",
       "    </tr>\n",
       "    <tr>\n",
       "      <th>5204979</th>\n",
       "      <td>199</td>\n",
       "      <td>477</td>\n",
       "      <td>540</td>\n",
       "      <td>0.001769</td>\n",
       "      <td>-1</td>\n",
       "      <td>0.996704</td>\n",
       "      <td>0.028876</td>\n",
       "      <td>0.996063</td>\n",
       "      <td>0.996063</td>\n",
       "      <td>0.996704</td>\n",
       "      <td>0.045153</td>\n",
       "      <td>0.997025</td>\n",
       "      <td>0.119507</td>\n",
       "      <td>0.996880</td>\n",
       "      <td>1.239777</td>\n",
       "      <td>26289</td>\n",
       "      <td>477_540_199</td>\n",
       "    </tr>\n",
       "  </tbody>\n",
       "</table>\n",
       "<p>857999 rows × 17 columns</p>\n",
       "</div>"
      ],
      "text/plain": [
       "         stock_id  date_id  seconds_in_bucket  imbalance_size  \\\n",
       "4346980         0      400                  0        0.104640   \n",
       "4346981         1      400                  0        0.178324   \n",
       "4346982         2      400                  0        0.097252   \n",
       "4346983         3      400                  0        0.020171   \n",
       "4346984         4      400                  0        0.071687   \n",
       "...           ...      ...                ...             ...   \n",
       "5204975       195      477                540        0.040944   \n",
       "5204976       196      477                540        0.045124   \n",
       "5204977       197      477                540        0.004787   \n",
       "5204978       198      477                540        0.027363   \n",
       "5204979       199      477                540        0.001769   \n",
       "\n",
       "         imbalance_buy_sell_flag  reference_price  matched_size  far_price  \\\n",
       "4346980                        1         0.999454      0.026447   1.000000   \n",
       "4346981                        1         0.998651      0.025849   1.000000   \n",
       "4346982                       -1         1.000470      0.011749   1.000000   \n",
       "4346983                        1         1.000143      0.032162   1.000000   \n",
       "4346984                        1         0.999428      0.008230   1.000000   \n",
       "...                          ...              ...           ...        ...   \n",
       "5204975                       -1         1.002359      0.120353   1.001253   \n",
       "5204976                       -1         0.998663      0.148910   0.996644   \n",
       "5204977                        1         0.997623      0.024257   0.998388   \n",
       "5204978                       -1         0.999832      0.054122   0.998511   \n",
       "5204979                       -1         0.996704      0.028876   0.996063   \n",
       "\n",
       "         near_price  bid_price  bid_size  ask_price  ask_size       wap  \\\n",
       "4346980    1.000000   0.999648  0.001736   1.000521  0.015102  1.000000   \n",
       "4346981    1.000000   0.998065  0.049754   1.002580  0.045598  1.000000   \n",
       "4346982    1.000000   0.999974  0.007547   1.001236  0.103731  1.000000   \n",
       "4346983    1.000000   0.999964  0.004982   1.000731  0.153409  1.000000   \n",
       "4346984    1.000000   0.999255  0.016142   1.000119  0.004565  1.000000   \n",
       "...             ...        ...       ...        ...       ...       ...   \n",
       "5204975    1.001253   1.002359  0.153837   1.002482  0.318110  1.002429   \n",
       "5204976    0.997401   0.998663  0.078859   0.999168  0.079631  0.998803   \n",
       "5204977    0.998388   0.997240  0.013190   0.997623  0.033533  0.997405   \n",
       "5204978    0.998751   0.999712  0.249313   0.999952  0.303272  0.999797   \n",
       "5204979    0.996063   0.996704  0.045153   0.997025  0.119507  0.996880   \n",
       "\n",
       "            target  time_id       row_id  \n",
       "4346980   0.050068    22000      400_0_0  \n",
       "4346981 -10.010004    22000      400_0_1  \n",
       "4346982   7.070303    22000      400_0_2  \n",
       "4346983   3.780127    22000      400_0_3  \n",
       "4346984   1.590252    22000      400_0_4  \n",
       "...            ...      ...          ...  \n",
       "5204975  -3.190041    26289  477_540_195  \n",
       "5204976  -6.200075    26289  477_540_196  \n",
       "5204977   0.000000    26289  477_540_197  \n",
       "5204978   1.300573    26289  477_540_198  \n",
       "5204979   1.239777    26289  477_540_199  \n",
       "\n",
       "[857999 rows x 17 columns]"
      ]
     },
     "execution_count": 12,
     "metadata": {},
     "output_type": "execute_result"
    }
   ],
   "source": [
    "valid_pp_df = PreprocessValidationTestSet(raw_df=valid_df, statistic_result=preprocess_info)\n",
    "valid_pp_df"
   ]
  },
  {
   "cell_type": "code",
   "execution_count": 64,
   "id": "f7fedf3b-e18f-447b-994e-31e8f3e5bcaa",
   "metadata": {},
   "outputs": [
    {
     "name": "stdout",
     "output_type": "stream",
     "text": [
      "Data has nan: \n",
      "stock_id                   False\n",
      "date_id                    False\n",
      "seconds_in_bucket          False\n",
      "imbalance_size             False\n",
      "imbalance_buy_sell_flag    False\n",
      "reference_price            False\n",
      "matched_size               False\n",
      "far_price                  False\n",
      "near_price                 False\n",
      "bid_price                  False\n",
      "bid_size                   False\n",
      "ask_price                  False\n",
      "ask_size                   False\n",
      "wap                        False\n",
      "target                     False\n",
      "time_id                    False\n",
      "row_id                     False\n",
      "dtype: bool\n"
     ]
    },
    {
     "data": {
      "text/html": [
       "<div>\n",
       "<style scoped>\n",
       "    .dataframe tbody tr th:only-of-type {\n",
       "        vertical-align: middle;\n",
       "    }\n",
       "\n",
       "    .dataframe tbody tr th {\n",
       "        vertical-align: top;\n",
       "    }\n",
       "\n",
       "    .dataframe thead th {\n",
       "        text-align: right;\n",
       "    }\n",
       "</style>\n",
       "<table border=\"1\" class=\"dataframe\">\n",
       "  <thead>\n",
       "    <tr style=\"text-align: right;\">\n",
       "      <th></th>\n",
       "      <th>stock_id</th>\n",
       "      <th>date_id</th>\n",
       "      <th>seconds_in_bucket</th>\n",
       "      <th>imbalance_size</th>\n",
       "      <th>imbalance_buy_sell_flag</th>\n",
       "      <th>reference_price</th>\n",
       "      <th>matched_size</th>\n",
       "      <th>far_price</th>\n",
       "      <th>near_price</th>\n",
       "      <th>bid_price</th>\n",
       "      <th>bid_size</th>\n",
       "      <th>ask_price</th>\n",
       "      <th>ask_size</th>\n",
       "      <th>wap</th>\n",
       "      <th>target</th>\n",
       "      <th>time_id</th>\n",
       "      <th>row_id</th>\n",
       "    </tr>\n",
       "  </thead>\n",
       "  <tbody>\n",
       "    <tr>\n",
       "      <th>5203980</th>\n",
       "      <td>0</td>\n",
       "      <td>477</td>\n",
       "      <td>500</td>\n",
       "      <td>0.010121</td>\n",
       "      <td>-1</td>\n",
       "      <td>0.998733</td>\n",
       "      <td>0.149994</td>\n",
       "      <td>0.998383</td>\n",
       "      <td>0.998383</td>\n",
       "      <td>0.998733</td>\n",
       "      <td>0.009558</td>\n",
       "      <td>0.998908</td>\n",
       "      <td>0.062429</td>\n",
       "      <td>0.998816</td>\n",
       "      <td>-1.959801</td>\n",
       "      <td>26285</td>\n",
       "      <td>477_500_0</td>\n",
       "    </tr>\n",
       "    <tr>\n",
       "      <th>5203981</th>\n",
       "      <td>1</td>\n",
       "      <td>477</td>\n",
       "      <td>500</td>\n",
       "      <td>0.019167</td>\n",
       "      <td>-1</td>\n",
       "      <td>0.996861</td>\n",
       "      <td>0.230179</td>\n",
       "      <td>0.996761</td>\n",
       "      <td>0.996811</td>\n",
       "      <td>0.996861</td>\n",
       "      <td>0.022933</td>\n",
       "      <td>0.997110</td>\n",
       "      <td>0.003114</td>\n",
       "      <td>0.997068</td>\n",
       "      <td>-3.240108</td>\n",
       "      <td>26285</td>\n",
       "      <td>477_500_1</td>\n",
       "    </tr>\n",
       "    <tr>\n",
       "      <th>5203982</th>\n",
       "      <td>2</td>\n",
       "      <td>477</td>\n",
       "      <td>500</td>\n",
       "      <td>0.008084</td>\n",
       "      <td>1</td>\n",
       "      <td>1.000412</td>\n",
       "      <td>0.025736</td>\n",
       "      <td>1.000618</td>\n",
       "      <td>1.000618</td>\n",
       "      <td>1.000206</td>\n",
       "      <td>0.007384</td>\n",
       "      <td>1.000412</td>\n",
       "      <td>0.002194</td>\n",
       "      <td>1.000306</td>\n",
       "      <td>2.800226</td>\n",
       "      <td>26285</td>\n",
       "      <td>477_500_2</td>\n",
       "    </tr>\n",
       "    <tr>\n",
       "      <th>5203983</th>\n",
       "      <td>3</td>\n",
       "      <td>477</td>\n",
       "      <td>500</td>\n",
       "      <td>0.023070</td>\n",
       "      <td>-1</td>\n",
       "      <td>0.999988</td>\n",
       "      <td>0.065996</td>\n",
       "      <td>0.998009</td>\n",
       "      <td>0.998603</td>\n",
       "      <td>0.999988</td>\n",
       "      <td>0.006517</td>\n",
       "      <td>1.000087</td>\n",
       "      <td>0.032960</td>\n",
       "      <td>1.000011</td>\n",
       "      <td>-5.049705</td>\n",
       "      <td>26285</td>\n",
       "      <td>477_500_3</td>\n",
       "    </tr>\n",
       "    <tr>\n",
       "      <th>5203984</th>\n",
       "      <td>4</td>\n",
       "      <td>477</td>\n",
       "      <td>500</td>\n",
       "      <td>0.000000</td>\n",
       "      <td>0</td>\n",
       "      <td>1.001033</td>\n",
       "      <td>0.075482</td>\n",
       "      <td>1.001033</td>\n",
       "      <td>1.001033</td>\n",
       "      <td>1.001033</td>\n",
       "      <td>0.093155</td>\n",
       "      <td>1.001089</td>\n",
       "      <td>0.006674</td>\n",
       "      <td>1.001087</td>\n",
       "      <td>-1.299977</td>\n",
       "      <td>26285</td>\n",
       "      <td>477_500_4</td>\n",
       "    </tr>\n",
       "    <tr>\n",
       "      <th>...</th>\n",
       "      <td>...</td>\n",
       "      <td>...</td>\n",
       "      <td>...</td>\n",
       "      <td>...</td>\n",
       "      <td>...</td>\n",
       "      <td>...</td>\n",
       "      <td>...</td>\n",
       "      <td>...</td>\n",
       "      <td>...</td>\n",
       "      <td>...</td>\n",
       "      <td>...</td>\n",
       "      <td>...</td>\n",
       "      <td>...</td>\n",
       "      <td>...</td>\n",
       "      <td>...</td>\n",
       "      <td>...</td>\n",
       "      <td>...</td>\n",
       "    </tr>\n",
       "    <tr>\n",
       "      <th>5237975</th>\n",
       "      <td>195</td>\n",
       "      <td>480</td>\n",
       "      <td>540</td>\n",
       "      <td>0.035571</td>\n",
       "      <td>-1</td>\n",
       "      <td>1.000317</td>\n",
       "      <td>0.092998</td>\n",
       "      <td>0.999734</td>\n",
       "      <td>0.999734</td>\n",
       "      <td>1.000317</td>\n",
       "      <td>0.011651</td>\n",
       "      <td>1.000434</td>\n",
       "      <td>0.311774</td>\n",
       "      <td>1.000328</td>\n",
       "      <td>2.310276</td>\n",
       "      <td>26454</td>\n",
       "      <td>480_540_195</td>\n",
       "    </tr>\n",
       "    <tr>\n",
       "      <th>5237976</th>\n",
       "      <td>196</td>\n",
       "      <td>480</td>\n",
       "      <td>540</td>\n",
       "      <td>0.012758</td>\n",
       "      <td>-1</td>\n",
       "      <td>1.000643</td>\n",
       "      <td>0.155865</td>\n",
       "      <td>1.000129</td>\n",
       "      <td>1.000386</td>\n",
       "      <td>1.000643</td>\n",
       "      <td>0.446159</td>\n",
       "      <td>1.000900</td>\n",
       "      <td>0.078257</td>\n",
       "      <td>1.000819</td>\n",
       "      <td>-8.220077</td>\n",
       "      <td>26454</td>\n",
       "      <td>480_540_196</td>\n",
       "    </tr>\n",
       "    <tr>\n",
       "      <th>5237977</th>\n",
       "      <td>197</td>\n",
       "      <td>480</td>\n",
       "      <td>540</td>\n",
       "      <td>0.000000</td>\n",
       "      <td>0</td>\n",
       "      <td>0.995789</td>\n",
       "      <td>0.030443</td>\n",
       "      <td>0.995789</td>\n",
       "      <td>0.995789</td>\n",
       "      <td>0.995789</td>\n",
       "      <td>0.010616</td>\n",
       "      <td>0.995883</td>\n",
       "      <td>0.219793</td>\n",
       "      <td>0.995797</td>\n",
       "      <td>1.169443</td>\n",
       "      <td>26454</td>\n",
       "      <td>480_540_197</td>\n",
       "    </tr>\n",
       "    <tr>\n",
       "      <th>5237978</th>\n",
       "      <td>198</td>\n",
       "      <td>480</td>\n",
       "      <td>540</td>\n",
       "      <td>0.004784</td>\n",
       "      <td>1</td>\n",
       "      <td>0.999210</td>\n",
       "      <td>0.090585</td>\n",
       "      <td>0.999210</td>\n",
       "      <td>0.999210</td>\n",
       "      <td>0.998970</td>\n",
       "      <td>0.058164</td>\n",
       "      <td>0.999210</td>\n",
       "      <td>0.209937</td>\n",
       "      <td>0.999008</td>\n",
       "      <td>-1.540184</td>\n",
       "      <td>26454</td>\n",
       "      <td>480_540_198</td>\n",
       "    </tr>\n",
       "    <tr>\n",
       "      <th>5237979</th>\n",
       "      <td>199</td>\n",
       "      <td>480</td>\n",
       "      <td>540</td>\n",
       "      <td>0.006047</td>\n",
       "      <td>-1</td>\n",
       "      <td>1.002129</td>\n",
       "      <td>0.030855</td>\n",
       "      <td>1.000859</td>\n",
       "      <td>1.001494</td>\n",
       "      <td>1.002129</td>\n",
       "      <td>0.054782</td>\n",
       "      <td>1.002447</td>\n",
       "      <td>0.212474</td>\n",
       "      <td>1.002274</td>\n",
       "      <td>-6.530285</td>\n",
       "      <td>26454</td>\n",
       "      <td>480_540_199</td>\n",
       "    </tr>\n",
       "  </tbody>\n",
       "</table>\n",
       "<p>34000 rows × 17 columns</p>\n",
       "</div>"
      ],
      "text/plain": [
       "         stock_id  date_id  seconds_in_bucket  imbalance_size  \\\n",
       "5203980         0      477                500        0.010121   \n",
       "5203981         1      477                500        0.019167   \n",
       "5203982         2      477                500        0.008084   \n",
       "5203983         3      477                500        0.023070   \n",
       "5203984         4      477                500        0.000000   \n",
       "...           ...      ...                ...             ...   \n",
       "5237975       195      480                540        0.035571   \n",
       "5237976       196      480                540        0.012758   \n",
       "5237977       197      480                540        0.000000   \n",
       "5237978       198      480                540        0.004784   \n",
       "5237979       199      480                540        0.006047   \n",
       "\n",
       "         imbalance_buy_sell_flag  reference_price  matched_size  far_price  \\\n",
       "5203980                       -1         0.998733      0.149994   0.998383   \n",
       "5203981                       -1         0.996861      0.230179   0.996761   \n",
       "5203982                        1         1.000412      0.025736   1.000618   \n",
       "5203983                       -1         0.999988      0.065996   0.998009   \n",
       "5203984                        0         1.001033      0.075482   1.001033   \n",
       "...                          ...              ...           ...        ...   \n",
       "5237975                       -1         1.000317      0.092998   0.999734   \n",
       "5237976                       -1         1.000643      0.155865   1.000129   \n",
       "5237977                        0         0.995789      0.030443   0.995789   \n",
       "5237978                        1         0.999210      0.090585   0.999210   \n",
       "5237979                       -1         1.002129      0.030855   1.000859   \n",
       "\n",
       "         near_price  bid_price  bid_size  ask_price  ask_size       wap  \\\n",
       "5203980    0.998383   0.998733  0.009558   0.998908  0.062429  0.998816   \n",
       "5203981    0.996811   0.996861  0.022933   0.997110  0.003114  0.997068   \n",
       "5203982    1.000618   1.000206  0.007384   1.000412  0.002194  1.000306   \n",
       "5203983    0.998603   0.999988  0.006517   1.000087  0.032960  1.000011   \n",
       "5203984    1.001033   1.001033  0.093155   1.001089  0.006674  1.001087   \n",
       "...             ...        ...       ...        ...       ...       ...   \n",
       "5237975    0.999734   1.000317  0.011651   1.000434  0.311774  1.000328   \n",
       "5237976    1.000386   1.000643  0.446159   1.000900  0.078257  1.000819   \n",
       "5237977    0.995789   0.995789  0.010616   0.995883  0.219793  0.995797   \n",
       "5237978    0.999210   0.998970  0.058164   0.999210  0.209937  0.999008   \n",
       "5237979    1.001494   1.002129  0.054782   1.002447  0.212474  1.002274   \n",
       "\n",
       "           target  time_id       row_id  \n",
       "5203980 -1.959801    26285    477_500_0  \n",
       "5203981 -3.240108    26285    477_500_1  \n",
       "5203982  2.800226    26285    477_500_2  \n",
       "5203983 -5.049705    26285    477_500_3  \n",
       "5203984 -1.299977    26285    477_500_4  \n",
       "...           ...      ...          ...  \n",
       "5237975  2.310276    26454  480_540_195  \n",
       "5237976 -8.220077    26454  480_540_196  \n",
       "5237977  1.169443    26454  480_540_197  \n",
       "5237978 -1.540184    26454  480_540_198  \n",
       "5237979 -6.530285    26454  480_540_199  \n",
       "\n",
       "[34000 rows x 17 columns]"
      ]
     },
     "execution_count": 64,
     "metadata": {},
     "output_type": "execute_result"
    }
   ],
   "source": [
    "test_pp_df = PreprocessValidationTestSet(raw_df=test_df, statistic_result=preprocess_info)\n",
    "test_pp_df"
   ]
  },
  {
   "cell_type": "markdown",
   "id": "d3638b1b-b9f8-40e1-a609-e15fbcdb37b5",
   "metadata": {},
   "source": [
    "## Create DataLoaders for Training And Validation"
   ]
  },
  {
   "cell_type": "code",
   "execution_count": 142,
   "id": "98e49a47-2eae-48eb-bb75-e7454651823b",
   "metadata": {},
   "outputs": [],
   "source": [
    "def GenTimeSeriesData(raw_df: pd.DataFrame) -> Tuple[np.ndarray, np.float32]:\n",
    "    '''\n",
    "    raw_df: The rows of time t-n ~ t for predicting the target of t.\n",
    "    The generated features contains the data of time t-n ~ t-1.\n",
    "    '''\n",
    "    df = raw_df.copy()\n",
    "    df = df.sort_values(by=['date_id', 'seconds_in_bucket'], ascending=True)\n",
    "    \n",
    "    df = df[MODEL_INPUT_FEATURES]\n",
    "    df_numpy: np.ndarray = df.to_numpy()\n",
    "    df_numpy[-1, MODEL_INPUT_FEATURES.index('target')] = 0\n",
    "    \n",
    "    x: np.ndarray = df_numpy\n",
    "    y: np.float32 = df['target'].tolist()[-1]\n",
    "    \n",
    "    return x, y\n",
    "\n",
    "def GenTimeSeriesDataset(\n",
    "    train_raw_df: pd.DataFrame, valid_raw_df: pd.DataFrame, window_size: int\n",
    ") -> Tuple[\n",
    "    np.ndarray, np.ndarray, np.ndarray, np.ndarray\n",
    "]:\n",
    "    '''\n",
    "    Generate train_x, train_y, valid_x, valid_y\n",
    "    '''\n",
    "    train_x: List[np.ndarray] = []\n",
    "    train_y: List[np.float32] = []\n",
    "    valid_x: List[np.ndarray] = []\n",
    "    valid_y: List[np.float32] = []\n",
    "    \n",
    "    data: pd.DataFrame = pd.concat([train_raw_df, valid_raw_df], ignore_index=True)\n",
    "    data = data.sort_values(by=['stock_id', 'date_id', 'seconds_in_bucket'], ascending=True)\n",
    "    train_date: List[int] = train_raw_df['date_id'].unique().tolist()\n",
    "    valid_date: List[int] = valid_raw_df['date_id'].unique().tolist()\n",
    "    \n",
    "    with tqdm(total=data.shape[0]) as pbar:\n",
    "        pbar.set_description('Preparing time series dataset')\n",
    "        for stock in data['stock_id'].unique().tolist():\n",
    "            stock_df: pd.DataFrame = data.loc[data['stock_id'] == stock].reset_index(drop=True)\n",
    "            stock_df.reset_index(drop=True, inplace=True)\n",
    "            \n",
    "            for date in range(0, 478):\n",
    "                for second in range(0, 540+1, 10):\n",
    "                    index_list: List[int] = stock_df.index[\n",
    "                        (stock_df['stock_id'] == stock) & \n",
    "                        (stock_df['date_id'] == date) & \n",
    "                        (stock_df['seconds_in_bucket'] == second)\n",
    "                    ].tolist()\n",
    "                    \n",
    "                    if len(index_list) == 0:\n",
    "                        continue\n",
    "                    pbar.update(1)\n",
    "                    if index_list[0] < window_size:\n",
    "                        continue\n",
    "                    \n",
    "                    x: np.ndarray\n",
    "                    y: np.float32\n",
    "                    start_idx, end_idx = index_list[0] - (window_size - 1), index_list[0] + 1\n",
    "                    x, y = GenTimeSeriesData(raw_df=stock_df.iloc[start_idx:end_idx])\n",
    "                    \n",
    "                    if date in train_date:\n",
    "                        train_x.append(x)\n",
    "                        train_y.append(y)\n",
    "                    elif date in valid_date:\n",
    "                        valid_x.append(x)\n",
    "                        valid_y.append(y)\n",
    "    \n",
    "    return np.array(train_x), np.array(train_y), np.array(valid_x), np.array(valid_y)"
   ]
  },
  {
   "cell_type": "code",
   "execution_count": 17,
   "id": "8dcfb5e9-941b-4cc8-8358-db2700a63ced",
   "metadata": {},
   "outputs": [
    {
     "name": "stderr",
     "output_type": "stream",
     "text": [
      "Preparing time series dataset: 100%|██████████| 5204892/5204892 [2:25:34<00:00, 595.93it/s]  \n"
     ]
    }
   ],
   "source": [
    "train_set_x: np.ndarray\n",
    "train_set_y: np.ndarray\n",
    "valid_set_x: np.ndarray\n",
    "valid_set_y: np.ndarray\n",
    "\n",
    "train_set_x, train_set_y, valid_set_x, valid_set_y = GenTimeSeriesDataset(\n",
    "    train_raw_df=train_pp_df, valid_raw_df=valid_pp_df, window_size=5\n",
    ")"
   ]
  },
  {
   "cell_type": "code",
   "execution_count": 28,
   "id": "5f13a116",
   "metadata": {},
   "outputs": [],
   "source": [
    "train_set_x = train_set_x.astype(np.float32)\n",
    "train_set_y = train_set_y.astype(np.float32)\n",
    "valid_set_x = valid_set_x.astype(np.float32)\n",
    "valid_set_y = valid_set_y.astype(np.float32)"
   ]
  },
  {
   "cell_type": "code",
   "execution_count": 47,
   "id": "1e613a7b",
   "metadata": {},
   "outputs": [],
   "source": [
    "train_set_y = train_set_y[:, np.newaxis]\n",
    "valid_set_y = valid_set_y[:, np.newaxis]"
   ]
  },
  {
   "cell_type": "code",
   "execution_count": 143,
   "id": "40a46e54-f247-453e-ae6a-c342a597142b",
   "metadata": {},
   "outputs": [
    {
     "name": "stdout",
     "output_type": "stream",
     "text": [
      "(4345893, 5, 12)\n",
      "(4345893, 1)\n",
      "(857999, 5, 12)\n",
      "(857999, 1)\n"
     ]
    }
   ],
   "source": [
    "print(train_set_x.shape)\n",
    "print(train_set_y.shape)\n",
    "print(valid_set_x.shape)\n",
    "print(valid_set_y.shape)"
   ]
  },
  {
   "cell_type": "code",
   "execution_count": 30,
   "id": "a9893c79",
   "metadata": {},
   "outputs": [],
   "source": [
    "with open('./numpy_bin/train_set_2_x.npy', 'wb') as f:\n",
    "    np.save(f, train_set_x)\n",
    "with open('./numpy_bin/train_set_2_y.npy', 'wb') as f:\n",
    "    np.save(f, train_set_y)\n",
    "with open('./numpy_bin/valid_set_2_x.npy', 'wb') as f:\n",
    "    np.save(f, valid_set_x)\n",
    "with open('./numpy_bin/valid_set_2_y.npy', 'wb') as f:\n",
    "    np.save(f, valid_set_y)"
   ]
  },
  {
   "cell_type": "code",
   "execution_count": 82,
   "id": "7355a393-999c-464b-b327-c6d73d249d5f",
   "metadata": {},
   "outputs": [],
   "source": [
    "train_set_x = np.load('./numpy_bin/train_set_2_x.npy').astype(np.float32)\n",
    "train_set_y = np.load('./numpy_bin/train_set_2_y.npy').astype(np.float32)\n",
    "valid_set_x = np.load('./numpy_bin/valid_set_2_x.npy').astype(np.float32)\n",
    "valid_set_y = np.load('./numpy_bin/valid_set_2_y.npy').astype(np.float32)\n",
    "\n",
    "if train_set_y.ndim == 1:\n",
    "    train_set_y = train_set_y[:, np.newaxis]\n",
    "if valid_set_y.ndim == 1:\n",
    "    valid_set_y = valid_set_y[:, np.newaxis]"
   ]
  },
  {
   "cell_type": "code",
   "execution_count": 83,
   "id": "4f1abd72-a8cb-46e9-a74e-ea57996ab6e9",
   "metadata": {},
   "outputs": [
    {
     "name": "stdout",
     "output_type": "stream",
     "text": [
      "(4345893, 5, 12)\n",
      "(4345893, 1)\n",
      "(857999, 5, 12)\n",
      "(857999, 1)\n"
     ]
    }
   ],
   "source": [
    "print(train_set_x.shape)\n",
    "print(train_set_y.shape)\n",
    "print(valid_set_x.shape)\n",
    "print(valid_set_y.shape)"
   ]
  },
  {
   "cell_type": "code",
   "execution_count": 100,
   "id": "63eb8dbe-cdde-4e46-badd-358a3aa9b7ef",
   "metadata": {},
   "outputs": [],
   "source": [
    "train_set_x_torch, train_set_y_torch, valid_set_x_torch, valid_set_y_torch = (\n",
    "    torch.tensor(train_set_x).clone().detach(),\n",
    "    torch.tensor(train_set_y).clone().detach(),\n",
    "    torch.tensor(valid_set_x).clone().detach(),\n",
    "    torch.tensor(valid_set_y).clone().detach()\n",
    ")\n",
    "\n",
    "train_loader = DataLoader(TensorDataset(train_set_x_torch, train_set_y_torch), shuffle=True, batch_size=BATCH_SIZE)\n",
    "valid_loader = DataLoader(TensorDataset(valid_set_x_torch, valid_set_y_torch), shuffle=True, batch_size=BATCH_SIZE)"
   ]
  },
  {
   "cell_type": "markdown",
   "id": "d86aa0f0-33f7-49d2-937b-76b4a11dc25b",
   "metadata": {},
   "source": [
    "## Model Definition"
   ]
  },
  {
   "cell_type": "code",
   "execution_count": 68,
   "id": "e1b980b4-e13a-45b8-9c61-dd65e2c9c3ee",
   "metadata": {},
   "outputs": [],
   "source": [
    "class LSTM_Model(nn.Module):\n",
    "    def __init__(self, input_size):\n",
    "        super().__init__()\n",
    "        self.cnn_1 = nn.Sequential(\n",
    "            nn.Conv1d(in_channels=input_size, out_channels=64, kernel_size=3, stride=1, padding=1),\n",
    "            nn.ReLU(),\n",
    "            nn.MaxPool1d(kernel_size=2, stride=2),\n",
    "            nn.Conv1d(in_channels=64, out_channels=128, kernel_size=3, stride=1, padding=1),\n",
    "            nn.ReLU(),\n",
    "            nn.MaxPool1d(kernel_size=2, stride=2)\n",
    "        )\n",
    "        self.lstm_1 = nn.LSTM(\n",
    "            input_size=128, \n",
    "            hidden_size=64, \n",
    "            num_layers=2, \n",
    "            batch_first=True\n",
    "        )\n",
    "        # self.linear_1 = nn.Linear(64 * 2, 64)\n",
    "        # self.tanh_1 = nn.Tanh()\n",
    "        # self.linear_2 = nn.Linear(64, 64)\n",
    "        # self.tanh_2 = nn.Tanh()\n",
    "        self.linear_3 = nn.Linear(64, 1)\n",
    "        \n",
    "    def forward(self, x):\n",
    "        #cnn takes input of shape (batch_size, channels, seq_len)\n",
    "        x = x.permute(0, 2, 1)\n",
    "        out = self.cnn_1(x)\n",
    "        \n",
    "        # lstm takes input of shape (batch_size, seq_len, input_size)\n",
    "        out = out.permute(0, 2, 1)\n",
    "        out, _ = self.lstm_1(out)\n",
    "        out = self.linear_3(out[:, -1, :])\n",
    "        return out"
   ]
  },
  {
   "cell_type": "markdown",
   "id": "ea0d67b4-3c71-4d15-b3f4-b9d26b280823",
   "metadata": {},
   "source": [
    "## Training"
   ]
  },
  {
   "cell_type": "code",
   "execution_count": 102,
   "id": "fcdcce33-2f75-4d67-9ab3-a266c8ec4484",
   "metadata": {},
   "outputs": [],
   "source": [
    "def train(\n",
    "    model, train_loader: DataLoader, valid_loader: DataLoader, optimizer, loss_fn, epoch_cnt: int\n",
    ") -> Tuple[List[float], List[float]]:\n",
    "    train_loss_list: List[float] = []\n",
    "    valid_loss_list: List[float] = []\n",
    "    \n",
    "    print(f'The batch size of train_loader = {train_loader.batch_size}')\n",
    "    print(f'The batch size of valid_loader = {valid_loader.batch_size}')\n",
    "\n",
    "    min_loss: float = 10.0\n",
    "    \n",
    "    for epoch in range(epoch_cnt):\n",
    "        train_batch_loss_list: List[float] = []\n",
    "        valid_batch_loss_list: List[float] = []\n",
    "        \n",
    "        model.train()\n",
    "        pbar = tqdm(train_loader)\n",
    "        pbar.set_description(f\"Training Epoch {epoch}\")\n",
    "        for batch_x, batch_y in pbar:\n",
    "            batch_x = batch_x.to(device)\n",
    "            batch_y = batch_y.to(device)\n",
    "            \n",
    "            optimizer.zero_grad()\n",
    "            pred_y = model(batch_x)\n",
    "            loss = loss_fn(pred_y, batch_y)\n",
    "            train_batch_loss_list.append(loss.cpu().detach().numpy())\n",
    "            \n",
    "            loss.backward()\n",
    "            optimizer.step()\n",
    "\n",
    "            if len(train_batch_loss_list) % 1000 == 999:\n",
    "                train_loss_list.append(float(np.mean(train_batch_loss_list[-100:])))\n",
    "        \n",
    "        model.eval()\n",
    "        better_model: bool = False\n",
    "        with torch.no_grad():\n",
    "            pbar = tqdm(valid_loader)\n",
    "            pbar.set_description(f\"Validating Epoch {epoch}\")\n",
    "            for batch_x, batch_y in pbar:\n",
    "                batch_x = batch_x.to(device)\n",
    "                batch_y = batch_y.to(device)\n",
    "                \n",
    "                pred_y = model(batch_x)\n",
    "                loss = loss_fn(pred_y, batch_y)\n",
    "                valid_batch_loss_list.append(loss.cpu().detach().numpy())\n",
    "\n",
    "                if len(valid_batch_loss_list) % 1000 == 999:\n",
    "                    if len(valid_loss_list) == 0 or float(np.mean(valid_batch_loss_list[-1000:])) < min_loss:\n",
    "                        better_model = True\n",
    "                        min_loss = float(np.mean(valid_batch_loss_list[-1000:]))\n",
    "                    valid_loss_list.append(float(np.mean(valid_batch_loss_list[-1000:])))\n",
    "\n",
    "        if better_model:\n",
    "            torch.save(model, f\"./models/cnn-lstm-bs[{BATCH_SIZE}]-lr[{LEARNING_RATE}].pt\")\n",
    "        \n",
    "        print(\"Epoch %d: train_loss %.4f, val_loss %.4f\" % (epoch, np.mean(train_batch_loss_list), np.mean(valid_batch_loss_list)))\n",
    "        \n",
    "    return train_loss_list, valid_loss_list"
   ]
  },
  {
   "cell_type": "code",
   "execution_count": 103,
   "id": "61753e46-7e47-4309-8148-0160227cbd0f",
   "metadata": {},
   "outputs": [
    {
     "data": {
      "text/plain": [
       "LSTM_Model(\n",
       "  (cnn_1): Sequential(\n",
       "    (0): Conv1d(12, 64, kernel_size=(3,), stride=(1,), padding=(1,))\n",
       "    (1): ReLU()\n",
       "    (2): MaxPool1d(kernel_size=2, stride=2, padding=0, dilation=1, ceil_mode=False)\n",
       "    (3): Conv1d(64, 128, kernel_size=(3,), stride=(1,), padding=(1,))\n",
       "    (4): ReLU()\n",
       "    (5): MaxPool1d(kernel_size=2, stride=2, padding=0, dilation=1, ceil_mode=False)\n",
       "  )\n",
       "  (lstm_1): LSTM(128, 64, num_layers=2, batch_first=True)\n",
       "  (linear_3): Linear(in_features=64, out_features=1, bias=True)\n",
       ")"
      ]
     },
     "execution_count": 103,
     "metadata": {},
     "output_type": "execute_result"
    }
   ],
   "source": [
    "model = LSTM_Model(input_size=len(MODEL_INPUT_FEATURES))\n",
    "model.to(device)"
   ]
  },
  {
   "cell_type": "code",
   "execution_count": 104,
   "id": "001d47ff-1046-4f90-ac54-b041b808edd0",
   "metadata": {},
   "outputs": [],
   "source": [
    "optimizer = optim.Adam(model.parameters(), lr=LEARNING_RATE)\n",
    "loss_fn = nn.L1Loss()"
   ]
  },
  {
   "cell_type": "code",
   "execution_count": 106,
   "id": "bf9af786",
   "metadata": {},
   "outputs": [
    {
     "name": "stdout",
     "output_type": "stream",
     "text": [
      "The batch size of train_loader = 16\n",
      "The batch size of valid_loader = 16\n"
     ]
    },
    {
     "name": "stderr",
     "output_type": "stream",
     "text": [
      "Training Epoch 0: 100%|██████████| 271619/271619 [07:42<00:00, 587.32it/s]\n",
      "Validating Epoch 0: 100%|██████████| 53625/53625 [00:33<00:00, 1584.95it/s]\n"
     ]
    },
    {
     "name": "stdout",
     "output_type": "stream",
     "text": [
      "Epoch 0: train_loss 4.2201, val_loss 3.6535\n"
     ]
    },
    {
     "name": "stderr",
     "output_type": "stream",
     "text": [
      "Training Epoch 1: 100%|██████████| 271619/271619 [07:44<00:00, 584.15it/s]\n",
      "Validating Epoch 1: 100%|██████████| 53625/53625 [00:33<00:00, 1588.01it/s]\n"
     ]
    },
    {
     "name": "stdout",
     "output_type": "stream",
     "text": [
      "Epoch 1: train_loss 4.1335, val_loss 3.6266\n"
     ]
    },
    {
     "name": "stderr",
     "output_type": "stream",
     "text": [
      "Training Epoch 2: 100%|██████████| 271619/271619 [07:43<00:00, 586.43it/s]\n",
      "Validating Epoch 2: 100%|██████████| 53625/53625 [00:33<00:00, 1602.40it/s]\n"
     ]
    },
    {
     "name": "stdout",
     "output_type": "stream",
     "text": [
      "Epoch 2: train_loss 4.1012, val_loss 3.6280\n"
     ]
    },
    {
     "name": "stderr",
     "output_type": "stream",
     "text": [
      "Training Epoch 3: 100%|██████████| 271619/271619 [07:42<00:00, 587.60it/s]\n",
      "Validating Epoch 3: 100%|██████████| 53625/53625 [00:33<00:00, 1596.34it/s]\n"
     ]
    },
    {
     "name": "stdout",
     "output_type": "stream",
     "text": [
      "Epoch 3: train_loss 4.0771, val_loss 3.5716\n"
     ]
    },
    {
     "name": "stderr",
     "output_type": "stream",
     "text": [
      "Training Epoch 4: 100%|██████████| 271619/271619 [07:42<00:00, 587.81it/s]\n",
      "Validating Epoch 4: 100%|██████████| 53625/53625 [00:33<00:00, 1588.17it/s]\n"
     ]
    },
    {
     "name": "stdout",
     "output_type": "stream",
     "text": [
      "Epoch 4: train_loss 4.0614, val_loss 3.5574\n"
     ]
    },
    {
     "name": "stderr",
     "output_type": "stream",
     "text": [
      "Training Epoch 5: 100%|██████████| 271619/271619 [07:41<00:00, 588.83it/s]\n",
      "Validating Epoch 5: 100%|██████████| 53625/53625 [00:33<00:00, 1594.06it/s]\n"
     ]
    },
    {
     "name": "stdout",
     "output_type": "stream",
     "text": [
      "Epoch 5: train_loss 4.0501, val_loss 3.5807\n"
     ]
    },
    {
     "name": "stderr",
     "output_type": "stream",
     "text": [
      "Training Epoch 6: 100%|██████████| 271619/271619 [07:41<00:00, 588.15it/s]\n",
      "Validating Epoch 6: 100%|██████████| 53625/53625 [00:33<00:00, 1586.46it/s]\n"
     ]
    },
    {
     "name": "stdout",
     "output_type": "stream",
     "text": [
      "Epoch 6: train_loss 4.0412, val_loss 3.5485\n"
     ]
    },
    {
     "name": "stderr",
     "output_type": "stream",
     "text": [
      "Training Epoch 7: 100%|██████████| 271619/271619 [07:41<00:00, 588.59it/s]\n",
      "Validating Epoch 7: 100%|██████████| 53625/53625 [00:33<00:00, 1593.24it/s]\n"
     ]
    },
    {
     "name": "stdout",
     "output_type": "stream",
     "text": [
      "Epoch 7: train_loss 4.0343, val_loss 3.5367\n"
     ]
    },
    {
     "name": "stderr",
     "output_type": "stream",
     "text": [
      "Training Epoch 8: 100%|██████████| 271619/271619 [07:40<00:00, 589.52it/s]\n",
      "Validating Epoch 8: 100%|██████████| 53625/53625 [00:33<00:00, 1617.96it/s]\n"
     ]
    },
    {
     "name": "stdout",
     "output_type": "stream",
     "text": [
      "Epoch 8: train_loss 4.0281, val_loss 3.5298\n"
     ]
    },
    {
     "name": "stderr",
     "output_type": "stream",
     "text": [
      "Training Epoch 9: 100%|██████████| 271619/271619 [07:57<00:00, 568.92it/s]\n",
      "Validating Epoch 9: 100%|██████████| 53625/53625 [00:33<00:00, 1589.79it/s]\n"
     ]
    },
    {
     "name": "stdout",
     "output_type": "stream",
     "text": [
      "Epoch 9: train_loss 4.0232, val_loss 3.5420\n"
     ]
    },
    {
     "name": "stderr",
     "output_type": "stream",
     "text": [
      "Training Epoch 10: 100%|██████████| 271619/271619 [07:50<00:00, 577.33it/s]\n",
      "Validating Epoch 10: 100%|██████████| 53625/53625 [00:33<00:00, 1588.89it/s]\n"
     ]
    },
    {
     "name": "stdout",
     "output_type": "stream",
     "text": [
      "Epoch 10: train_loss 4.0182, val_loss 3.5446\n"
     ]
    },
    {
     "name": "stderr",
     "output_type": "stream",
     "text": [
      "Training Epoch 11: 100%|██████████| 271619/271619 [07:44<00:00, 584.23it/s]\n",
      "Validating Epoch 11: 100%|██████████| 53625/53625 [00:33<00:00, 1597.99it/s]\n"
     ]
    },
    {
     "name": "stdout",
     "output_type": "stream",
     "text": [
      "Epoch 11: train_loss 4.0144, val_loss 3.5192\n"
     ]
    },
    {
     "name": "stderr",
     "output_type": "stream",
     "text": [
      "Training Epoch 12: 100%|██████████| 271619/271619 [07:44<00:00, 584.51it/s]\n",
      "Validating Epoch 12: 100%|██████████| 53625/53625 [00:33<00:00, 1604.16it/s]\n"
     ]
    },
    {
     "name": "stdout",
     "output_type": "stream",
     "text": [
      "Epoch 12: train_loss 4.0105, val_loss 3.5389\n"
     ]
    },
    {
     "name": "stderr",
     "output_type": "stream",
     "text": [
      "Training Epoch 13: 100%|██████████| 271619/271619 [07:45<00:00, 583.95it/s]\n",
      "Validating Epoch 13: 100%|██████████| 53625/53625 [00:33<00:00, 1584.32it/s]\n"
     ]
    },
    {
     "name": "stdout",
     "output_type": "stream",
     "text": [
      "Epoch 13: train_loss 4.0075, val_loss 3.5367\n"
     ]
    },
    {
     "name": "stderr",
     "output_type": "stream",
     "text": [
      "Training Epoch 14: 100%|██████████| 271619/271619 [07:47<00:00, 581.19it/s]\n",
      "Validating Epoch 14: 100%|██████████| 53625/53625 [00:33<00:00, 1597.01it/s]\n"
     ]
    },
    {
     "name": "stdout",
     "output_type": "stream",
     "text": [
      "Epoch 14: train_loss 4.0044, val_loss 3.5304\n"
     ]
    },
    {
     "name": "stderr",
     "output_type": "stream",
     "text": [
      "Training Epoch 15: 100%|██████████| 271619/271619 [07:47<00:00, 580.92it/s]\n",
      "Validating Epoch 15: 100%|██████████| 53625/53625 [00:33<00:00, 1589.32it/s]\n"
     ]
    },
    {
     "name": "stdout",
     "output_type": "stream",
     "text": [
      "Epoch 15: train_loss 4.0016, val_loss 3.5155\n"
     ]
    },
    {
     "name": "stderr",
     "output_type": "stream",
     "text": [
      "Training Epoch 16: 100%|██████████| 271619/271619 [07:49<00:00, 578.97it/s]\n",
      "Validating Epoch 16: 100%|██████████| 53625/53625 [00:34<00:00, 1543.19it/s]\n"
     ]
    },
    {
     "name": "stdout",
     "output_type": "stream",
     "text": [
      "Epoch 16: train_loss 3.9990, val_loss 3.5258\n"
     ]
    },
    {
     "name": "stderr",
     "output_type": "stream",
     "text": [
      "Training Epoch 17: 100%|██████████| 271619/271619 [07:45<00:00, 583.48it/s]\n",
      "Validating Epoch 17: 100%|██████████| 53625/53625 [00:33<00:00, 1590.07it/s]\n"
     ]
    },
    {
     "name": "stdout",
     "output_type": "stream",
     "text": [
      "Epoch 17: train_loss 3.9967, val_loss 3.5205\n"
     ]
    },
    {
     "name": "stderr",
     "output_type": "stream",
     "text": [
      "Training Epoch 18: 100%|██████████| 271619/271619 [07:40<00:00, 589.68it/s]\n",
      "Validating Epoch 18: 100%|██████████| 53625/53625 [00:33<00:00, 1590.86it/s]\n"
     ]
    },
    {
     "name": "stdout",
     "output_type": "stream",
     "text": [
      "Epoch 18: train_loss 3.9945, val_loss 3.5187\n"
     ]
    },
    {
     "name": "stderr",
     "output_type": "stream",
     "text": [
      "Training Epoch 19: 100%|██████████| 271619/271619 [07:54<00:00, 572.19it/s]\n",
      "Validating Epoch 19: 100%|██████████| 53625/53625 [00:33<00:00, 1592.54it/s]\n"
     ]
    },
    {
     "name": "stdout",
     "output_type": "stream",
     "text": [
      "Epoch 19: train_loss 3.9922, val_loss 3.5189\n"
     ]
    },
    {
     "name": "stderr",
     "output_type": "stream",
     "text": [
      "Training Epoch 20: 100%|██████████| 271619/271619 [07:40<00:00, 589.23it/s]\n",
      "Validating Epoch 20: 100%|██████████| 53625/53625 [00:33<00:00, 1592.44it/s]\n"
     ]
    },
    {
     "name": "stdout",
     "output_type": "stream",
     "text": [
      "Epoch 20: train_loss 3.9906, val_loss 3.5147\n"
     ]
    },
    {
     "name": "stderr",
     "output_type": "stream",
     "text": [
      "Training Epoch 21: 100%|██████████| 271619/271619 [07:41<00:00, 588.50it/s]\n",
      "Validating Epoch 21: 100%|██████████| 53625/53625 [00:33<00:00, 1580.24it/s]\n"
     ]
    },
    {
     "name": "stdout",
     "output_type": "stream",
     "text": [
      "Epoch 21: train_loss 3.9888, val_loss 3.5101\n"
     ]
    },
    {
     "name": "stderr",
     "output_type": "stream",
     "text": [
      "Training Epoch 22: 100%|██████████| 271619/271619 [07:42<00:00, 587.55it/s]\n",
      "Validating Epoch 22: 100%|██████████| 53625/53625 [00:33<00:00, 1594.61it/s]\n"
     ]
    },
    {
     "name": "stdout",
     "output_type": "stream",
     "text": [
      "Epoch 22: train_loss 3.9869, val_loss 3.5099\n"
     ]
    },
    {
     "name": "stderr",
     "output_type": "stream",
     "text": [
      "Training Epoch 23: 100%|██████████| 271619/271619 [07:40<00:00, 589.46it/s]\n",
      "Validating Epoch 23: 100%|██████████| 53625/53625 [00:33<00:00, 1597.68it/s]\n"
     ]
    },
    {
     "name": "stdout",
     "output_type": "stream",
     "text": [
      "Epoch 23: train_loss 3.9854, val_loss 3.5007\n"
     ]
    },
    {
     "name": "stderr",
     "output_type": "stream",
     "text": [
      "Training Epoch 24: 100%|██████████| 271619/271619 [07:41<00:00, 588.21it/s]\n",
      "Validating Epoch 24: 100%|██████████| 53625/53625 [00:33<00:00, 1600.05it/s]\n"
     ]
    },
    {
     "name": "stdout",
     "output_type": "stream",
     "text": [
      "Epoch 24: train_loss 3.9838, val_loss 3.5069\n"
     ]
    },
    {
     "name": "stderr",
     "output_type": "stream",
     "text": [
      "Training Epoch 25: 100%|██████████| 271619/271619 [07:42<00:00, 587.31it/s]\n",
      "Validating Epoch 25: 100%|██████████| 53625/53625 [00:33<00:00, 1601.10it/s]\n"
     ]
    },
    {
     "name": "stdout",
     "output_type": "stream",
     "text": [
      "Epoch 25: train_loss 3.9821, val_loss 3.5112\n"
     ]
    },
    {
     "name": "stderr",
     "output_type": "stream",
     "text": [
      "Training Epoch 26: 100%|██████████| 271619/271619 [07:51<00:00, 576.10it/s]\n",
      "Validating Epoch 26: 100%|██████████| 53625/53625 [00:33<00:00, 1592.56it/s]\n"
     ]
    },
    {
     "name": "stdout",
     "output_type": "stream",
     "text": [
      "Epoch 26: train_loss 3.9809, val_loss 3.5058\n"
     ]
    },
    {
     "name": "stderr",
     "output_type": "stream",
     "text": [
      "Training Epoch 27: 100%|██████████| 271619/271619 [07:41<00:00, 589.03it/s]\n",
      "Validating Epoch 27: 100%|██████████| 53625/53625 [00:33<00:00, 1595.17it/s]\n"
     ]
    },
    {
     "name": "stdout",
     "output_type": "stream",
     "text": [
      "Epoch 27: train_loss 3.9792, val_loss 3.5124\n"
     ]
    },
    {
     "name": "stderr",
     "output_type": "stream",
     "text": [
      "Training Epoch 28: 100%|██████████| 271619/271619 [07:48<00:00, 579.92it/s]\n",
      "Validating Epoch 28: 100%|██████████| 53625/53625 [00:33<00:00, 1604.07it/s]\n"
     ]
    },
    {
     "name": "stdout",
     "output_type": "stream",
     "text": [
      "Epoch 28: train_loss 3.9779, val_loss 3.4963\n"
     ]
    },
    {
     "name": "stderr",
     "output_type": "stream",
     "text": [
      "Training Epoch 29: 100%|██████████| 271619/271619 [07:41<00:00, 588.66it/s]\n",
      "Validating Epoch 29: 100%|██████████| 53625/53625 [00:33<00:00, 1605.47it/s]\n"
     ]
    },
    {
     "name": "stdout",
     "output_type": "stream",
     "text": [
      "Epoch 29: train_loss 3.9769, val_loss 3.5001\n"
     ]
    },
    {
     "name": "stderr",
     "output_type": "stream",
     "text": [
      "Training Epoch 30: 100%|██████████| 271619/271619 [07:42<00:00, 587.46it/s]\n",
      "Validating Epoch 30: 100%|██████████| 53625/53625 [00:33<00:00, 1587.83it/s]\n"
     ]
    },
    {
     "name": "stdout",
     "output_type": "stream",
     "text": [
      "Epoch 30: train_loss 3.9755, val_loss 3.5017\n"
     ]
    },
    {
     "name": "stderr",
     "output_type": "stream",
     "text": [
      "Training Epoch 31: 100%|██████████| 271619/271619 [07:42<00:00, 587.41it/s]\n",
      "Validating Epoch 31: 100%|██████████| 53625/53625 [00:33<00:00, 1593.77it/s]\n"
     ]
    },
    {
     "name": "stdout",
     "output_type": "stream",
     "text": [
      "Epoch 31: train_loss 3.9741, val_loss 3.5081\n"
     ]
    },
    {
     "name": "stderr",
     "output_type": "stream",
     "text": [
      "Training Epoch 32: 100%|██████████| 271619/271619 [07:43<00:00, 585.59it/s]\n",
      "Validating Epoch 32: 100%|██████████| 53625/53625 [00:33<00:00, 1597.09it/s]\n"
     ]
    },
    {
     "name": "stdout",
     "output_type": "stream",
     "text": [
      "Epoch 32: train_loss 3.9730, val_loss 3.4929\n"
     ]
    },
    {
     "name": "stderr",
     "output_type": "stream",
     "text": [
      "Training Epoch 33: 100%|██████████| 271619/271619 [07:48<00:00, 579.65it/s]\n",
      "Validating Epoch 33: 100%|██████████| 53625/53625 [00:33<00:00, 1589.80it/s]\n"
     ]
    },
    {
     "name": "stdout",
     "output_type": "stream",
     "text": [
      "Epoch 33: train_loss 3.9718, val_loss 3.4955\n"
     ]
    },
    {
     "name": "stderr",
     "output_type": "stream",
     "text": [
      "Training Epoch 34: 100%|██████████| 271619/271619 [07:44<00:00, 584.57it/s]\n",
      "Validating Epoch 34: 100%|██████████| 53625/53625 [00:33<00:00, 1597.93it/s]\n"
     ]
    },
    {
     "name": "stdout",
     "output_type": "stream",
     "text": [
      "Epoch 34: train_loss 3.9702, val_loss 3.5019\n"
     ]
    },
    {
     "name": "stderr",
     "output_type": "stream",
     "text": [
      "Training Epoch 35: 100%|██████████| 271619/271619 [07:47<00:00, 581.24it/s]\n",
      "Validating Epoch 35: 100%|██████████| 53625/53625 [00:33<00:00, 1587.44it/s]\n"
     ]
    },
    {
     "name": "stdout",
     "output_type": "stream",
     "text": [
      "Epoch 35: train_loss 3.9694, val_loss 3.4970\n"
     ]
    },
    {
     "name": "stderr",
     "output_type": "stream",
     "text": [
      "Training Epoch 36: 100%|██████████| 271619/271619 [07:43<00:00, 585.46it/s]\n",
      "Validating Epoch 36: 100%|██████████| 53625/53625 [00:33<00:00, 1606.15it/s]\n"
     ]
    },
    {
     "name": "stdout",
     "output_type": "stream",
     "text": [
      "Epoch 36: train_loss 3.9684, val_loss 3.5038\n"
     ]
    },
    {
     "name": "stderr",
     "output_type": "stream",
     "text": [
      "Training Epoch 37: 100%|██████████| 271619/271619 [07:44<00:00, 585.27it/s]\n",
      "Validating Epoch 37: 100%|██████████| 53625/53625 [00:33<00:00, 1591.54it/s]\n"
     ]
    },
    {
     "name": "stdout",
     "output_type": "stream",
     "text": [
      "Epoch 37: train_loss 3.9674, val_loss 3.5064\n"
     ]
    },
    {
     "name": "stderr",
     "output_type": "stream",
     "text": [
      "Training Epoch 38: 100%|██████████| 271619/271619 [07:46<00:00, 582.47it/s]\n",
      "Validating Epoch 38: 100%|██████████| 53625/53625 [00:33<00:00, 1610.95it/s]\n"
     ]
    },
    {
     "name": "stdout",
     "output_type": "stream",
     "text": [
      "Epoch 38: train_loss 3.9662, val_loss 3.4915\n"
     ]
    },
    {
     "name": "stderr",
     "output_type": "stream",
     "text": [
      "Training Epoch 39: 100%|██████████| 271619/271619 [07:40<00:00, 589.26it/s]\n",
      "Validating Epoch 39: 100%|██████████| 53625/53625 [00:33<00:00, 1607.00it/s]\n"
     ]
    },
    {
     "name": "stdout",
     "output_type": "stream",
     "text": [
      "Epoch 39: train_loss 3.9652, val_loss 3.4972\n"
     ]
    },
    {
     "name": "stderr",
     "output_type": "stream",
     "text": [
      "Training Epoch 41: 100%|██████████| 271619/271619 [07:41<00:00, 588.58it/s]\n",
      "Validating Epoch 41: 100%|██████████| 53625/53625 [00:33<00:00, 1601.31it/s]\n"
     ]
    },
    {
     "name": "stdout",
     "output_type": "stream",
     "text": [
      "Epoch 41: train_loss 3.9631, val_loss 3.4908\n"
     ]
    },
    {
     "name": "stderr",
     "output_type": "stream",
     "text": [
      "Training Epoch 46: 100%|██████████| 271619/271619 [07:39<00:00, 590.63it/s]\n",
      "Validating Epoch 46: 100%|██████████| 53625/53625 [00:33<00:00, 1594.27it/s]\n"
     ]
    },
    {
     "name": "stdout",
     "output_type": "stream",
     "text": [
      "Epoch 46: train_loss 3.9587, val_loss 3.4935\n"
     ]
    },
    {
     "name": "stderr",
     "output_type": "stream",
     "text": [
      "Training Epoch 49: 100%|██████████| 271619/271619 [07:43<00:00, 585.50it/s]\n",
      "Validating Epoch 49:  84%|████████▍ | 45115/53625 [00:28<00:05, 1592.96it/s]IOPub message rate exceeded.\n",
      "The Jupyter server will temporarily stop sending output\n",
      "to the client in order to avoid crashing it.\n",
      "To change this limit, set the config variable\n",
      "`--ServerApp.iopub_msg_rate_limit`.\n",
      "\n",
      "Current values:\n",
      "ServerApp.iopub_msg_rate_limit=1000.0 (msgs/sec)\n",
      "ServerApp.rate_limit_window=3.0 (secs)\n",
      "\n",
      "Training Epoch 50: 100%|██████████| 271619/271619 [07:42<00:00, 587.07it/s]\n",
      "Validating Epoch 50: 100%|██████████| 53625/53625 [00:33<00:00, 1592.90it/s]\n"
     ]
    },
    {
     "name": "stdout",
     "output_type": "stream",
     "text": [
      "Epoch 50: train_loss 3.9553, val_loss 3.4911\n"
     ]
    },
    {
     "name": "stderr",
     "output_type": "stream",
     "text": [
      "Training Epoch 51: 100%|██████████| 271619/271619 [07:43<00:00, 585.52it/s]\n",
      "Validating Epoch 51: 100%|██████████| 53625/53625 [00:33<00:00, 1587.75it/s]\n"
     ]
    },
    {
     "name": "stdout",
     "output_type": "stream",
     "text": [
      "Epoch 51: train_loss 3.9543, val_loss 3.4908\n"
     ]
    },
    {
     "name": "stderr",
     "output_type": "stream",
     "text": [
      "Training Epoch 52:  13%|█▎        | 34030/271619 [00:57<06:39, 594.42it/s]IOPub message rate exceeded.\n",
      "The Jupyter server will temporarily stop sending output\n",
      "to the client in order to avoid crashing it.\n",
      "To change this limit, set the config variable\n",
      "`--ServerApp.iopub_msg_rate_limit`.\n",
      "\n",
      "Current values:\n",
      "ServerApp.iopub_msg_rate_limit=1000.0 (msgs/sec)\n",
      "ServerApp.rate_limit_window=3.0 (secs)\n",
      "\n",
      "Training Epoch 52: 100%|██████████| 271619/271619 [07:43<00:00, 585.46it/s]\n",
      "Validating Epoch 52: 100%|██████████| 53625/53625 [00:33<00:00, 1602.30it/s]\n"
     ]
    },
    {
     "name": "stdout",
     "output_type": "stream",
     "text": [
      "Epoch 52: train_loss 3.9534, val_loss 3.4919\n"
     ]
    },
    {
     "name": "stderr",
     "output_type": "stream",
     "text": [
      "Training Epoch 53: 100%|██████████| 271619/271619 [07:44<00:00, 584.94it/s]\n",
      "Validating Epoch 53: 100%|██████████| 53625/53625 [00:33<00:00, 1588.48it/s]\n"
     ]
    },
    {
     "name": "stdout",
     "output_type": "stream",
     "text": [
      "Epoch 53: train_loss 3.9523, val_loss 3.5035\n"
     ]
    },
    {
     "name": "stderr",
     "output_type": "stream",
     "text": [
      "Training Epoch 54: 100%|██████████| 271619/271619 [07:42<00:00, 586.91it/s]\n",
      "Validating Epoch 54: 100%|██████████| 53625/53625 [00:33<00:00, 1592.40it/s]\n"
     ]
    },
    {
     "name": "stdout",
     "output_type": "stream",
     "text": [
      "Epoch 54: train_loss 3.9520, val_loss 3.4969\n"
     ]
    },
    {
     "name": "stderr",
     "output_type": "stream",
     "text": [
      "Training Epoch 55: 100%|██████████| 271619/271619 [07:46<00:00, 581.65it/s]\n",
      "Validating Epoch 55: 100%|██████████| 53625/53625 [00:33<00:00, 1594.90it/s]\n"
     ]
    },
    {
     "name": "stdout",
     "output_type": "stream",
     "text": [
      "Epoch 55: train_loss 3.9512, val_loss 3.4943\n"
     ]
    },
    {
     "name": "stderr",
     "output_type": "stream",
     "text": [
      "Training Epoch 56: 100%|██████████| 271619/271619 [07:44<00:00, 584.91it/s]\n",
      "Validating Epoch 56: 100%|██████████| 53625/53625 [00:33<00:00, 1582.96it/s]\n"
     ]
    },
    {
     "name": "stdout",
     "output_type": "stream",
     "text": [
      "Epoch 56: train_loss 3.9505, val_loss 3.4905\n"
     ]
    },
    {
     "name": "stderr",
     "output_type": "stream",
     "text": [
      "Training Epoch 57: 100%|██████████| 271619/271619 [07:42<00:00, 586.86it/s]\n",
      "Validating Epoch 57: 100%|██████████| 53625/53625 [00:33<00:00, 1600.76it/s]\n"
     ]
    },
    {
     "name": "stdout",
     "output_type": "stream",
     "text": [
      "Epoch 57: train_loss 3.9495, val_loss 3.5015\n"
     ]
    },
    {
     "name": "stderr",
     "output_type": "stream",
     "text": [
      "Training Epoch 58: 100%|██████████| 271619/271619 [07:41<00:00, 588.18it/s]\n",
      "Validating Epoch 58: 100%|██████████| 53625/53625 [00:33<00:00, 1597.03it/s]\n"
     ]
    },
    {
     "name": "stdout",
     "output_type": "stream",
     "text": [
      "Epoch 58: train_loss 3.9484, val_loss 3.4944\n"
     ]
    },
    {
     "name": "stderr",
     "output_type": "stream",
     "text": [
      "Training Epoch 59: 100%|██████████| 271619/271619 [07:42<00:00, 587.11it/s]\n",
      "Validating Epoch 59: 100%|██████████| 53625/53625 [00:33<00:00, 1597.36it/s]\n"
     ]
    },
    {
     "name": "stdout",
     "output_type": "stream",
     "text": [
      "Epoch 59: train_loss 3.9480, val_loss 3.5007\n"
     ]
    },
    {
     "name": "stderr",
     "output_type": "stream",
     "text": [
      "Training Epoch 60: 100%|██████████| 271619/271619 [07:43<00:00, 585.65it/s]\n",
      "Validating Epoch 60: 100%|██████████| 53625/53625 [00:33<00:00, 1601.38it/s]\n"
     ]
    },
    {
     "name": "stdout",
     "output_type": "stream",
     "text": [
      "Epoch 60: train_loss 3.9469, val_loss 3.4914\n"
     ]
    },
    {
     "name": "stderr",
     "output_type": "stream",
     "text": [
      "Training Epoch 61: 100%|██████████| 271619/271619 [07:42<00:00, 587.47it/s]\n",
      "Validating Epoch 61: 100%|██████████| 53625/53625 [00:33<00:00, 1588.80it/s]\n"
     ]
    },
    {
     "name": "stdout",
     "output_type": "stream",
     "text": [
      "Epoch 61: train_loss 3.9464, val_loss 3.4883\n"
     ]
    },
    {
     "name": "stderr",
     "output_type": "stream",
     "text": [
      "Training Epoch 62: 100%|██████████| 271619/271619 [07:41<00:00, 588.08it/s]\n",
      "Validating Epoch 62: 100%|██████████| 53625/53625 [00:33<00:00, 1590.78it/s]\n"
     ]
    },
    {
     "name": "stdout",
     "output_type": "stream",
     "text": [
      "Epoch 62: train_loss 3.9460, val_loss 3.4915\n"
     ]
    },
    {
     "name": "stderr",
     "output_type": "stream",
     "text": [
      "Training Epoch 63: 100%|██████████| 271619/271619 [07:41<00:00, 588.61it/s]\n",
      "Validating Epoch 63: 100%|██████████| 53625/53625 [00:33<00:00, 1603.69it/s]\n"
     ]
    },
    {
     "name": "stdout",
     "output_type": "stream",
     "text": [
      "Epoch 63: train_loss 3.9453, val_loss 3.4880\n"
     ]
    },
    {
     "name": "stderr",
     "output_type": "stream",
     "text": [
      "Training Epoch 64: 100%|██████████| 271619/271619 [07:43<00:00, 586.45it/s]\n",
      "Validating Epoch 64: 100%|██████████| 53625/53625 [00:33<00:00, 1597.06it/s]\n"
     ]
    },
    {
     "name": "stdout",
     "output_type": "stream",
     "text": [
      "Epoch 64: train_loss 3.9448, val_loss 3.4930\n"
     ]
    },
    {
     "name": "stderr",
     "output_type": "stream",
     "text": [
      "Training Epoch 65: 100%|██████████| 271619/271619 [07:44<00:00, 585.20it/s]\n",
      "Validating Epoch 65: 100%|██████████| 53625/53625 [00:33<00:00, 1601.30it/s]\n"
     ]
    },
    {
     "name": "stdout",
     "output_type": "stream",
     "text": [
      "Epoch 65: train_loss 3.9439, val_loss 3.5008\n"
     ]
    },
    {
     "name": "stderr",
     "output_type": "stream",
     "text": [
      "Training Epoch 66: 100%|██████████| 271619/271619 [07:43<00:00, 586.43it/s]\n",
      "Validating Epoch 66: 100%|██████████| 53625/53625 [00:33<00:00, 1578.44it/s]\n"
     ]
    },
    {
     "name": "stdout",
     "output_type": "stream",
     "text": [
      "Epoch 66: train_loss 3.9432, val_loss 3.5048\n"
     ]
    },
    {
     "name": "stderr",
     "output_type": "stream",
     "text": [
      "Training Epoch 67: 100%|██████████| 271619/271619 [07:44<00:00, 584.79it/s]\n",
      "Validating Epoch 67: 100%|██████████| 53625/53625 [00:33<00:00, 1579.37it/s]\n"
     ]
    },
    {
     "name": "stdout",
     "output_type": "stream",
     "text": [
      "Epoch 67: train_loss 3.9425, val_loss 3.4962\n"
     ]
    },
    {
     "name": "stderr",
     "output_type": "stream",
     "text": [
      "Training Epoch 68: 100%|██████████| 271619/271619 [07:41<00:00, 588.76it/s]\n",
      "Validating Epoch 68: 100%|██████████| 53625/53625 [00:33<00:00, 1598.91it/s]\n"
     ]
    },
    {
     "name": "stdout",
     "output_type": "stream",
     "text": [
      "Epoch 68: train_loss 3.9419, val_loss 3.4947\n"
     ]
    },
    {
     "name": "stderr",
     "output_type": "stream",
     "text": [
      "Training Epoch 69: 100%|██████████| 271619/271619 [07:47<00:00, 580.73it/s]\n",
      "Validating Epoch 69: 100%|██████████| 53625/53625 [00:33<00:00, 1596.02it/s]\n"
     ]
    },
    {
     "name": "stdout",
     "output_type": "stream",
     "text": [
      "Epoch 69: train_loss 3.9412, val_loss 3.4967\n"
     ]
    },
    {
     "name": "stderr",
     "output_type": "stream",
     "text": [
      "Training Epoch 70: 100%|██████████| 271619/271619 [07:41<00:00, 589.10it/s]\n",
      "Validating Epoch 70: 100%|██████████| 53625/53625 [00:34<00:00, 1572.83it/s]\n"
     ]
    },
    {
     "name": "stdout",
     "output_type": "stream",
     "text": [
      "Epoch 70: train_loss 3.9403, val_loss 3.4939\n"
     ]
    },
    {
     "name": "stderr",
     "output_type": "stream",
     "text": [
      "Training Epoch 71: 100%|██████████| 271619/271619 [07:42<00:00, 586.93it/s]\n",
      "Validating Epoch 71: 100%|██████████| 53625/53625 [00:33<00:00, 1588.80it/s]\n"
     ]
    },
    {
     "name": "stdout",
     "output_type": "stream",
     "text": [
      "Epoch 71: train_loss 3.9394, val_loss 3.4983\n"
     ]
    },
    {
     "name": "stderr",
     "output_type": "stream",
     "text": [
      "Training Epoch 72: 100%|██████████| 271619/271619 [07:41<00:00, 588.23it/s]\n",
      "Validating Epoch 72: 100%|██████████| 53625/53625 [00:33<00:00, 1598.94it/s]\n"
     ]
    },
    {
     "name": "stdout",
     "output_type": "stream",
     "text": [
      "Epoch 72: train_loss 3.9387, val_loss 3.4976\n"
     ]
    },
    {
     "name": "stderr",
     "output_type": "stream",
     "text": [
      "Training Epoch 73: 100%|██████████| 271619/271619 [07:42<00:00, 587.75it/s]\n",
      "Validating Epoch 73: 100%|██████████| 53625/53625 [00:33<00:00, 1605.86it/s]\n"
     ]
    },
    {
     "name": "stdout",
     "output_type": "stream",
     "text": [
      "Epoch 73: train_loss 3.9385, val_loss 3.5001\n"
     ]
    },
    {
     "name": "stderr",
     "output_type": "stream",
     "text": [
      "Training Epoch 74: 100%|██████████| 271619/271619 [07:42<00:00, 586.88it/s]\n",
      "Validating Epoch 74: 100%|██████████| 53625/53625 [00:34<00:00, 1570.16it/s]\n"
     ]
    },
    {
     "name": "stdout",
     "output_type": "stream",
     "text": [
      "Epoch 74: train_loss 3.9377, val_loss 3.4966\n"
     ]
    },
    {
     "name": "stderr",
     "output_type": "stream",
     "text": [
      "Training Epoch 75: 100%|██████████| 271619/271619 [07:42<00:00, 587.91it/s]\n",
      "Validating Epoch 75: 100%|██████████| 53625/53625 [00:33<00:00, 1594.58it/s]\n"
     ]
    },
    {
     "name": "stdout",
     "output_type": "stream",
     "text": [
      "Epoch 75: train_loss 3.9374, val_loss 3.4914\n"
     ]
    },
    {
     "name": "stderr",
     "output_type": "stream",
     "text": [
      "Training Epoch 76: 100%|██████████| 271619/271619 [07:41<00:00, 588.75it/s]\n",
      "Validating Epoch 76: 100%|██████████| 53625/53625 [00:33<00:00, 1587.00it/s]\n"
     ]
    },
    {
     "name": "stdout",
     "output_type": "stream",
     "text": [
      "Epoch 76: train_loss 3.9366, val_loss 3.4931\n"
     ]
    },
    {
     "name": "stderr",
     "output_type": "stream",
     "text": [
      "Training Epoch 77: 100%|██████████| 271619/271619 [07:42<00:00, 587.02it/s]\n",
      "Validating Epoch 77: 100%|██████████| 53625/53625 [00:33<00:00, 1589.87it/s]\n"
     ]
    },
    {
     "name": "stdout",
     "output_type": "stream",
     "text": [
      "Epoch 77: train_loss 3.9360, val_loss 3.4959\n"
     ]
    },
    {
     "name": "stderr",
     "output_type": "stream",
     "text": [
      "Training Epoch 78: 100%|██████████| 271619/271619 [07:42<00:00, 586.99it/s]\n",
      "Validating Epoch 78: 100%|██████████| 53625/53625 [00:33<00:00, 1593.47it/s]\n"
     ]
    },
    {
     "name": "stdout",
     "output_type": "stream",
     "text": [
      "Epoch 78: train_loss 3.9354, val_loss 3.5021\n"
     ]
    },
    {
     "name": "stderr",
     "output_type": "stream",
     "text": [
      "Training Epoch 79: 100%|██████████| 271619/271619 [07:42<00:00, 587.33it/s]\n",
      "Validating Epoch 79: 100%|██████████| 53625/53625 [00:33<00:00, 1610.33it/s]\n"
     ]
    },
    {
     "name": "stdout",
     "output_type": "stream",
     "text": [
      "Epoch 79: train_loss 3.9347, val_loss 3.4945\n"
     ]
    },
    {
     "name": "stderr",
     "output_type": "stream",
     "text": [
      "Training Epoch 80: 100%|██████████| 271619/271619 [07:42<00:00, 586.97it/s]\n",
      "Validating Epoch 80: 100%|██████████| 53625/53625 [00:33<00:00, 1593.56it/s]\n"
     ]
    },
    {
     "name": "stdout",
     "output_type": "stream",
     "text": [
      "Epoch 80: train_loss 3.9339, val_loss 3.4952\n"
     ]
    },
    {
     "name": "stderr",
     "output_type": "stream",
     "text": [
      "Training Epoch 81: 100%|██████████| 271619/271619 [07:44<00:00, 584.94it/s]\n",
      "Validating Epoch 81: 100%|██████████| 53625/53625 [00:33<00:00, 1591.98it/s]\n"
     ]
    },
    {
     "name": "stdout",
     "output_type": "stream",
     "text": [
      "Epoch 81: train_loss 3.9337, val_loss 3.5006\n"
     ]
    },
    {
     "name": "stderr",
     "output_type": "stream",
     "text": [
      "Training Epoch 82: 100%|██████████| 271619/271619 [07:42<00:00, 587.19it/s]\n",
      "Validating Epoch 82: 100%|██████████| 53625/53625 [00:33<00:00, 1597.66it/s]\n"
     ]
    },
    {
     "name": "stdout",
     "output_type": "stream",
     "text": [
      "Epoch 82: train_loss 3.9329, val_loss 3.5068\n"
     ]
    },
    {
     "name": "stderr",
     "output_type": "stream",
     "text": [
      "Training Epoch 83: 100%|██████████| 271619/271619 [07:42<00:00, 587.55it/s]\n",
      "Validating Epoch 83: 100%|██████████| 53625/53625 [00:33<00:00, 1608.66it/s]\n"
     ]
    },
    {
     "name": "stdout",
     "output_type": "stream",
     "text": [
      "Epoch 83: train_loss 3.9323, val_loss 3.4981\n"
     ]
    },
    {
     "name": "stderr",
     "output_type": "stream",
     "text": [
      "Training Epoch 84: 100%|██████████| 271619/271619 [07:41<00:00, 588.79it/s]\n",
      "Validating Epoch 84: 100%|██████████| 53625/53625 [00:33<00:00, 1597.96it/s]\n"
     ]
    },
    {
     "name": "stdout",
     "output_type": "stream",
     "text": [
      "Epoch 84: train_loss 3.9320, val_loss 3.5014\n"
     ]
    },
    {
     "name": "stderr",
     "output_type": "stream",
     "text": [
      "Training Epoch 85: 100%|██████████| 271619/271619 [07:42<00:00, 587.42it/s]\n",
      "Validating Epoch 85: 100%|██████████| 53625/53625 [00:33<00:00, 1590.96it/s]\n"
     ]
    },
    {
     "name": "stdout",
     "output_type": "stream",
     "text": [
      "Epoch 85: train_loss 3.9315, val_loss 3.4958\n"
     ]
    },
    {
     "name": "stderr",
     "output_type": "stream",
     "text": [
      "Training Epoch 86: 100%|██████████| 271619/271619 [07:43<00:00, 586.25it/s]\n",
      "Validating Epoch 86: 100%|██████████| 53625/53625 [00:33<00:00, 1604.62it/s]\n"
     ]
    },
    {
     "name": "stdout",
     "output_type": "stream",
     "text": [
      "Epoch 86: train_loss 3.9310, val_loss 3.5001\n"
     ]
    },
    {
     "name": "stderr",
     "output_type": "stream",
     "text": [
      "Training Epoch 87: 100%|██████████| 271619/271619 [07:41<00:00, 588.08it/s]\n",
      "Validating Epoch 87: 100%|██████████| 53625/53625 [00:33<00:00, 1606.49it/s]\n"
     ]
    },
    {
     "name": "stdout",
     "output_type": "stream",
     "text": [
      "Epoch 87: train_loss 3.9302, val_loss 3.4950\n"
     ]
    },
    {
     "name": "stderr",
     "output_type": "stream",
     "text": [
      "Training Epoch 88: 100%|██████████| 271619/271619 [07:42<00:00, 587.37it/s]\n",
      "Validating Epoch 88: 100%|██████████| 53625/53625 [00:33<00:00, 1585.10it/s]\n"
     ]
    },
    {
     "name": "stdout",
     "output_type": "stream",
     "text": [
      "Epoch 88: train_loss 3.9298, val_loss 3.4969\n"
     ]
    },
    {
     "name": "stderr",
     "output_type": "stream",
     "text": [
      "Training Epoch 89: 100%|██████████| 271619/271619 [07:41<00:00, 588.71it/s]\n",
      "Validating Epoch 89: 100%|██████████| 53625/53625 [00:33<00:00, 1587.79it/s]\n"
     ]
    },
    {
     "name": "stdout",
     "output_type": "stream",
     "text": [
      "Epoch 89: train_loss 3.9291, val_loss 3.5044\n"
     ]
    },
    {
     "name": "stderr",
     "output_type": "stream",
     "text": [
      "Training Epoch 90: 100%|██████████| 271619/271619 [07:42<00:00, 586.68it/s]\n",
      "Validating Epoch 90: 100%|██████████| 53625/53625 [00:33<00:00, 1598.98it/s]\n"
     ]
    },
    {
     "name": "stdout",
     "output_type": "stream",
     "text": [
      "Epoch 90: train_loss 3.9281, val_loss 3.4964\n"
     ]
    },
    {
     "name": "stderr",
     "output_type": "stream",
     "text": [
      "Training Epoch 91: 100%|██████████| 271619/271619 [07:42<00:00, 587.46it/s]\n",
      "Validating Epoch 91: 100%|██████████| 53625/53625 [00:33<00:00, 1598.73it/s]\n"
     ]
    },
    {
     "name": "stdout",
     "output_type": "stream",
     "text": [
      "Epoch 91: train_loss 3.9282, val_loss 3.5010\n"
     ]
    },
    {
     "name": "stderr",
     "output_type": "stream",
     "text": [
      "Training Epoch 92: 100%|██████████| 271619/271619 [07:42<00:00, 587.09it/s]\n",
      "Validating Epoch 92: 100%|██████████| 53625/53625 [00:33<00:00, 1602.18it/s]\n"
     ]
    },
    {
     "name": "stdout",
     "output_type": "stream",
     "text": [
      "Epoch 92: train_loss 3.9276, val_loss 3.4968\n"
     ]
    },
    {
     "name": "stderr",
     "output_type": "stream",
     "text": [
      "Training Epoch 93: 100%|██████████| 271619/271619 [07:43<00:00, 586.59it/s]\n",
      "Validating Epoch 93: 100%|██████████| 53625/53625 [00:33<00:00, 1594.72it/s]\n"
     ]
    },
    {
     "name": "stdout",
     "output_type": "stream",
     "text": [
      "Epoch 93: train_loss 3.9269, val_loss 3.4985\n"
     ]
    },
    {
     "name": "stderr",
     "output_type": "stream",
     "text": [
      "Training Epoch 94: 100%|██████████| 271619/271619 [07:41<00:00, 588.77it/s]\n",
      "Validating Epoch 94: 100%|██████████| 53625/53625 [00:33<00:00, 1583.52it/s]\n"
     ]
    },
    {
     "name": "stdout",
     "output_type": "stream",
     "text": [
      "Epoch 94: train_loss 3.9267, val_loss 3.4993\n"
     ]
    },
    {
     "name": "stderr",
     "output_type": "stream",
     "text": [
      "Training Epoch 95: 100%|██████████| 271619/271619 [07:42<00:00, 587.63it/s]\n",
      "Validating Epoch 95:  34%|███▍      | 18306/53625 [00:11<00:22, 1602.20it/s]\n"
     ]
    },
    {
     "ename": "KeyboardInterrupt",
     "evalue": "",
     "output_type": "error",
     "traceback": [
      "\u001b[0;31m---------------------------------------------------------------------------\u001b[0m",
      "\u001b[0;31mKeyboardInterrupt\u001b[0m                         Traceback (most recent call last)",
      "Input \u001b[0;32mIn [106]\u001b[0m, in \u001b[0;36m<cell line: 3>\u001b[0;34m()\u001b[0m\n\u001b[1;32m      1\u001b[0m train_loss_list: List[\u001b[38;5;28mfloat\u001b[39m] \u001b[38;5;241m=\u001b[39m []\n\u001b[1;32m      2\u001b[0m valid_loss_list: List[\u001b[38;5;28mfloat\u001b[39m] \u001b[38;5;241m=\u001b[39m []\n\u001b[0;32m----> 3\u001b[0m train_loss_list, valid_loss_list \u001b[38;5;241m=\u001b[39m \u001b[43mtrain\u001b[49m\u001b[43m(\u001b[49m\n\u001b[1;32m      4\u001b[0m \u001b[43m    \u001b[49m\u001b[43mmodel\u001b[49m\u001b[38;5;241;43m=\u001b[39;49m\u001b[43mmodel\u001b[49m\u001b[43m,\u001b[49m\u001b[43m \u001b[49m\n\u001b[1;32m      5\u001b[0m \u001b[43m    \u001b[49m\u001b[43mtrain_loader\u001b[49m\u001b[38;5;241;43m=\u001b[39;49m\u001b[43mtrain_loader\u001b[49m\u001b[43m,\u001b[49m\u001b[43m \u001b[49m\n\u001b[1;32m      6\u001b[0m \u001b[43m    \u001b[49m\u001b[43mvalid_loader\u001b[49m\u001b[38;5;241;43m=\u001b[39;49m\u001b[43mvalid_loader\u001b[49m\u001b[43m,\u001b[49m\u001b[43m \u001b[49m\n\u001b[1;32m      7\u001b[0m \u001b[43m    \u001b[49m\u001b[43moptimizer\u001b[49m\u001b[38;5;241;43m=\u001b[39;49m\u001b[43moptimizer\u001b[49m\u001b[43m,\u001b[49m\u001b[43m \u001b[49m\n\u001b[1;32m      8\u001b[0m \u001b[43m    \u001b[49m\u001b[43mloss_fn\u001b[49m\u001b[38;5;241;43m=\u001b[39;49m\u001b[43mloss_fn\u001b[49m\u001b[43m,\u001b[49m\u001b[43m \u001b[49m\n\u001b[1;32m      9\u001b[0m \u001b[43m    \u001b[49m\u001b[43mepoch_cnt\u001b[49m\u001b[38;5;241;43m=\u001b[39;49m\u001b[43mEPOCHS\u001b[49m\n\u001b[1;32m     10\u001b[0m \u001b[43m)\u001b[49m\n",
      "Input \u001b[0;32mIn [102]\u001b[0m, in \u001b[0;36mtrain\u001b[0;34m(model, train_loader, valid_loader, optimizer, loss_fn, epoch_cnt)\u001b[0m\n\u001b[1;32m     40\u001b[0m batch_x \u001b[38;5;241m=\u001b[39m batch_x\u001b[38;5;241m.\u001b[39mto(device)\n\u001b[1;32m     41\u001b[0m batch_y \u001b[38;5;241m=\u001b[39m batch_y\u001b[38;5;241m.\u001b[39mto(device)\n\u001b[0;32m---> 43\u001b[0m pred_y \u001b[38;5;241m=\u001b[39m \u001b[43mmodel\u001b[49m\u001b[43m(\u001b[49m\u001b[43mbatch_x\u001b[49m\u001b[43m)\u001b[49m\n\u001b[1;32m     44\u001b[0m loss \u001b[38;5;241m=\u001b[39m loss_fn(pred_y, batch_y)\n\u001b[1;32m     45\u001b[0m valid_batch_loss_list\u001b[38;5;241m.\u001b[39mappend(loss\u001b[38;5;241m.\u001b[39mcpu()\u001b[38;5;241m.\u001b[39mdetach()\u001b[38;5;241m.\u001b[39mnumpy())\n",
      "File \u001b[0;32m/opt/conda/lib/python3.10/site-packages/torch/nn/modules/module.py:1501\u001b[0m, in \u001b[0;36mModule._call_impl\u001b[0;34m(self, *args, **kwargs)\u001b[0m\n\u001b[1;32m   1496\u001b[0m \u001b[38;5;66;03m# If we don't have any hooks, we want to skip the rest of the logic in\u001b[39;00m\n\u001b[1;32m   1497\u001b[0m \u001b[38;5;66;03m# this function, and just call forward.\u001b[39;00m\n\u001b[1;32m   1498\u001b[0m \u001b[38;5;28;01mif\u001b[39;00m \u001b[38;5;129;01mnot\u001b[39;00m (\u001b[38;5;28mself\u001b[39m\u001b[38;5;241m.\u001b[39m_backward_hooks \u001b[38;5;129;01mor\u001b[39;00m \u001b[38;5;28mself\u001b[39m\u001b[38;5;241m.\u001b[39m_backward_pre_hooks \u001b[38;5;129;01mor\u001b[39;00m \u001b[38;5;28mself\u001b[39m\u001b[38;5;241m.\u001b[39m_forward_hooks \u001b[38;5;129;01mor\u001b[39;00m \u001b[38;5;28mself\u001b[39m\u001b[38;5;241m.\u001b[39m_forward_pre_hooks\n\u001b[1;32m   1499\u001b[0m         \u001b[38;5;129;01mor\u001b[39;00m _global_backward_pre_hooks \u001b[38;5;129;01mor\u001b[39;00m _global_backward_hooks\n\u001b[1;32m   1500\u001b[0m         \u001b[38;5;129;01mor\u001b[39;00m _global_forward_hooks \u001b[38;5;129;01mor\u001b[39;00m _global_forward_pre_hooks):\n\u001b[0;32m-> 1501\u001b[0m     \u001b[38;5;28;01mreturn\u001b[39;00m \u001b[43mforward_call\u001b[49m\u001b[43m(\u001b[49m\u001b[38;5;241;43m*\u001b[39;49m\u001b[43margs\u001b[49m\u001b[43m,\u001b[49m\u001b[43m \u001b[49m\u001b[38;5;241;43m*\u001b[39;49m\u001b[38;5;241;43m*\u001b[39;49m\u001b[43mkwargs\u001b[49m\u001b[43m)\u001b[49m\n\u001b[1;32m   1502\u001b[0m \u001b[38;5;66;03m# Do not call functions when jit is used\u001b[39;00m\n\u001b[1;32m   1503\u001b[0m full_backward_hooks, non_full_backward_hooks \u001b[38;5;241m=\u001b[39m [], []\n",
      "Input \u001b[0;32mIn [68]\u001b[0m, in \u001b[0;36mLSTM_Model.forward\u001b[0;34m(self, x)\u001b[0m\n\u001b[1;32m     29\u001b[0m \u001b[38;5;66;03m# lstm takes input of shape (batch_size, seq_len, input_size)\u001b[39;00m\n\u001b[1;32m     30\u001b[0m out \u001b[38;5;241m=\u001b[39m out\u001b[38;5;241m.\u001b[39mpermute(\u001b[38;5;241m0\u001b[39m, \u001b[38;5;241m2\u001b[39m, \u001b[38;5;241m1\u001b[39m)\n\u001b[0;32m---> 31\u001b[0m out, _ \u001b[38;5;241m=\u001b[39m \u001b[38;5;28;43mself\u001b[39;49m\u001b[38;5;241;43m.\u001b[39;49m\u001b[43mlstm_1\u001b[49m\u001b[43m(\u001b[49m\u001b[43mout\u001b[49m\u001b[43m)\u001b[49m\n\u001b[1;32m     32\u001b[0m out \u001b[38;5;241m=\u001b[39m \u001b[38;5;28mself\u001b[39m\u001b[38;5;241m.\u001b[39mlinear_3(out[:, \u001b[38;5;241m-\u001b[39m\u001b[38;5;241m1\u001b[39m, :])\n\u001b[1;32m     33\u001b[0m \u001b[38;5;28;01mreturn\u001b[39;00m out\n",
      "File \u001b[0;32m/opt/conda/lib/python3.10/site-packages/torch/nn/modules/module.py:1501\u001b[0m, in \u001b[0;36mModule._call_impl\u001b[0;34m(self, *args, **kwargs)\u001b[0m\n\u001b[1;32m   1496\u001b[0m \u001b[38;5;66;03m# If we don't have any hooks, we want to skip the rest of the logic in\u001b[39;00m\n\u001b[1;32m   1497\u001b[0m \u001b[38;5;66;03m# this function, and just call forward.\u001b[39;00m\n\u001b[1;32m   1498\u001b[0m \u001b[38;5;28;01mif\u001b[39;00m \u001b[38;5;129;01mnot\u001b[39;00m (\u001b[38;5;28mself\u001b[39m\u001b[38;5;241m.\u001b[39m_backward_hooks \u001b[38;5;129;01mor\u001b[39;00m \u001b[38;5;28mself\u001b[39m\u001b[38;5;241m.\u001b[39m_backward_pre_hooks \u001b[38;5;129;01mor\u001b[39;00m \u001b[38;5;28mself\u001b[39m\u001b[38;5;241m.\u001b[39m_forward_hooks \u001b[38;5;129;01mor\u001b[39;00m \u001b[38;5;28mself\u001b[39m\u001b[38;5;241m.\u001b[39m_forward_pre_hooks\n\u001b[1;32m   1499\u001b[0m         \u001b[38;5;129;01mor\u001b[39;00m _global_backward_pre_hooks \u001b[38;5;129;01mor\u001b[39;00m _global_backward_hooks\n\u001b[1;32m   1500\u001b[0m         \u001b[38;5;129;01mor\u001b[39;00m _global_forward_hooks \u001b[38;5;129;01mor\u001b[39;00m _global_forward_pre_hooks):\n\u001b[0;32m-> 1501\u001b[0m     \u001b[38;5;28;01mreturn\u001b[39;00m \u001b[43mforward_call\u001b[49m\u001b[43m(\u001b[49m\u001b[38;5;241;43m*\u001b[39;49m\u001b[43margs\u001b[49m\u001b[43m,\u001b[49m\u001b[43m \u001b[49m\u001b[38;5;241;43m*\u001b[39;49m\u001b[38;5;241;43m*\u001b[39;49m\u001b[43mkwargs\u001b[49m\u001b[43m)\u001b[49m\n\u001b[1;32m   1502\u001b[0m \u001b[38;5;66;03m# Do not call functions when jit is used\u001b[39;00m\n\u001b[1;32m   1503\u001b[0m full_backward_hooks, non_full_backward_hooks \u001b[38;5;241m=\u001b[39m [], []\n",
      "File \u001b[0;32m/opt/conda/lib/python3.10/site-packages/torch/nn/modules/rnn.py:761\u001b[0m, in \u001b[0;36mLSTM.forward\u001b[0;34m(self, input, hx)\u001b[0m\n\u001b[1;32m    759\u001b[0m \u001b[38;5;28;01mdef\u001b[39;00m \u001b[38;5;21mforward\u001b[39m(\u001b[38;5;28mself\u001b[39m, \u001b[38;5;28minput\u001b[39m, hx\u001b[38;5;241m=\u001b[39m\u001b[38;5;28;01mNone\u001b[39;00m):  \u001b[38;5;66;03m# noqa: F811\u001b[39;00m\n\u001b[1;32m    760\u001b[0m     \u001b[38;5;28;01mif\u001b[39;00m \u001b[38;5;129;01mnot\u001b[39;00m torch\u001b[38;5;241m.\u001b[39mjit\u001b[38;5;241m.\u001b[39mis_scripting():\n\u001b[0;32m--> 761\u001b[0m         \u001b[38;5;28;01mif\u001b[39;00m \u001b[38;5;28;43mself\u001b[39;49m\u001b[38;5;241;43m.\u001b[39;49m\u001b[43m_weights_have_changed\u001b[49m\u001b[43m(\u001b[49m\u001b[43m)\u001b[49m:\n\u001b[1;32m    762\u001b[0m             \u001b[38;5;28mself\u001b[39m\u001b[38;5;241m.\u001b[39m_init_flat_weights()\n\u001b[1;32m    764\u001b[0m     orig_input \u001b[38;5;241m=\u001b[39m \u001b[38;5;28minput\u001b[39m\n",
      "File \u001b[0;32m/opt/conda/lib/python3.10/site-packages/torch/nn/modules/rnn.py:246\u001b[0m, in \u001b[0;36mRNNBase._weights_have_changed\u001b[0;34m(self)\u001b[0m\n\u001b[1;32m    244\u001b[0m weights_changed \u001b[38;5;241m=\u001b[39m \u001b[38;5;28;01mFalse\u001b[39;00m\n\u001b[1;32m    245\u001b[0m \u001b[38;5;28;01mfor\u001b[39;00m ref, name \u001b[38;5;129;01min\u001b[39;00m \u001b[38;5;28mzip\u001b[39m(\u001b[38;5;28mself\u001b[39m\u001b[38;5;241m.\u001b[39m_flat_weight_refs, \u001b[38;5;28mself\u001b[39m\u001b[38;5;241m.\u001b[39m_flat_weights_names):\n\u001b[0;32m--> 246\u001b[0m     weight \u001b[38;5;241m=\u001b[39m \u001b[38;5;28mgetattr\u001b[39m(\u001b[38;5;28mself\u001b[39m, name) \u001b[38;5;28;01mif\u001b[39;00m \u001b[38;5;28;43mhasattr\u001b[39;49m\u001b[43m(\u001b[49m\u001b[38;5;28;43mself\u001b[39;49m\u001b[43m,\u001b[49m\u001b[43m \u001b[49m\u001b[43mname\u001b[49m\u001b[43m)\u001b[49m \u001b[38;5;28;01melse\u001b[39;00m \u001b[38;5;28;01mNone\u001b[39;00m\n\u001b[1;32m    247\u001b[0m     \u001b[38;5;28;01mif\u001b[39;00m weight \u001b[38;5;129;01mis\u001b[39;00m \u001b[38;5;129;01mnot\u001b[39;00m \u001b[38;5;28;01mNone\u001b[39;00m \u001b[38;5;129;01mand\u001b[39;00m ref \u001b[38;5;129;01mis\u001b[39;00m \u001b[38;5;129;01mnot\u001b[39;00m \u001b[38;5;28;01mNone\u001b[39;00m \u001b[38;5;129;01mand\u001b[39;00m ref() \u001b[38;5;129;01mis\u001b[39;00m \u001b[38;5;129;01mnot\u001b[39;00m weight:\n\u001b[1;32m    248\u001b[0m         weights_changed \u001b[38;5;241m=\u001b[39m \u001b[38;5;28;01mTrue\u001b[39;00m\n",
      "File \u001b[0;32m/opt/conda/lib/python3.10/site-packages/torch/nn/modules/module.py:1601\u001b[0m, in \u001b[0;36mModule.__getattr__\u001b[0;34m(self, name)\u001b[0m\n\u001b[1;32m   1598\u001b[0m     \u001b[38;5;28;01mif\u001b[39;00m \u001b[38;5;124m'\u001b[39m\u001b[38;5;124m_backward_pre_hooks\u001b[39m\u001b[38;5;124m'\u001b[39m \u001b[38;5;129;01mnot\u001b[39;00m \u001b[38;5;129;01min\u001b[39;00m \u001b[38;5;28mself\u001b[39m\u001b[38;5;241m.\u001b[39m\u001b[38;5;18m__dict__\u001b[39m:\n\u001b[1;32m   1599\u001b[0m         \u001b[38;5;28mself\u001b[39m\u001b[38;5;241m.\u001b[39m_backward_pre_hooks \u001b[38;5;241m=\u001b[39m OrderedDict()\n\u001b[0;32m-> 1601\u001b[0m \u001b[38;5;28;01mdef\u001b[39;00m \u001b[38;5;21m__getattr__\u001b[39m(\u001b[38;5;28mself\u001b[39m, name: \u001b[38;5;28mstr\u001b[39m) \u001b[38;5;241m-\u001b[39m\u001b[38;5;241m>\u001b[39m Union[Tensor, \u001b[38;5;124m'\u001b[39m\u001b[38;5;124mModule\u001b[39m\u001b[38;5;124m'\u001b[39m]:\n\u001b[1;32m   1602\u001b[0m     \u001b[38;5;28;01mif\u001b[39;00m \u001b[38;5;124m'\u001b[39m\u001b[38;5;124m_parameters\u001b[39m\u001b[38;5;124m'\u001b[39m \u001b[38;5;129;01min\u001b[39;00m \u001b[38;5;28mself\u001b[39m\u001b[38;5;241m.\u001b[39m\u001b[38;5;18m__dict__\u001b[39m:\n\u001b[1;32m   1603\u001b[0m         _parameters \u001b[38;5;241m=\u001b[39m \u001b[38;5;28mself\u001b[39m\u001b[38;5;241m.\u001b[39m\u001b[38;5;18m__dict__\u001b[39m[\u001b[38;5;124m'\u001b[39m\u001b[38;5;124m_parameters\u001b[39m\u001b[38;5;124m'\u001b[39m]\n",
      "\u001b[0;31mKeyboardInterrupt\u001b[0m: "
     ]
    }
   ],
   "source": [
    "train_loss_list: List[float] = []\n",
    "valid_loss_list: List[float] = []\n",
    "train_loss_list, valid_loss_list = train(\n",
    "    model=model, \n",
    "    train_loader=train_loader, \n",
    "    valid_loader=valid_loader, \n",
    "    optimizer=optimizer, \n",
    "    loss_fn=loss_fn, \n",
    "    epoch_cnt=EPOCHS\n",
    ")"
   ]
  },
  {
   "cell_type": "code",
   "execution_count": 73,
   "id": "cefcf831-caf9-450f-a7c3-1db22c0fb21b",
   "metadata": {},
   "outputs": [
    {
     "data": {
      "image/png": "[encoded data removed]",
      "text/plain": [
       "<Figure size 4500x500 with 1 Axes>"
      ]
     },
     "metadata": {},
     "output_type": "display_data"
    }
   ],
   "source": [
    "# loss graph\n",
    "fig = plt.figure(figsize=(45, 5))\n",
    "ax1 = fig.add_subplot(1, 2, 1)\n",
    "\n",
    "train_loss_x_axis: List[int] = np.arange(len(train_loss_list)).tolist()\n",
    "valid_loss_x_axis: List[int] = np.arange(start=len(train_loss_list)-1, stop=-1, step=(len(train_loss_list)/len(valid_loss_list))*-1, dtype=np.float32).astype(np.int32).tolist()[::-1]\n",
    "\n",
    "ax1.set_title('Loss')\n",
    "ax1.plot(train_loss_x_axis, train_loss_list, marker='.')\n",
    "ax1.plot(valid_loss_x_axis, valid_loss_list, marker='.')\n",
    "ax1.legend(['train_loss', 'valid_loss'], loc='upper left')\n",
    "ax1.set_xlabel('1000 Batch')\n",
    "plt.show()"
   ]
  },
  {
   "cell_type": "code",
   "execution_count": 101,
   "id": "4784e183-c84f-45ca-a97f-56dcb702f35f",
   "metadata": {},
   "outputs": [],
   "source": [
    "torch.save(model, f\"./models/cnn-lstm-currinfo-bs[{BATCH_SIZE}]-lr[{LEARNING_RATE}].pt\")"
   ]
  },
  {
   "cell_type": "markdown",
   "id": "10bf8890",
   "metadata": {},
   "source": [
    "## Testing"
   ]
  },
  {
   "cell_type": "code",
   "execution_count": 90,
   "id": "dae568b4",
   "metadata": {},
   "outputs": [],
   "source": [
    "class TimeSeriesDataset(Dataset):\n",
    "    def __init__(self, raw_df: pd.DataFrame, window_size: int) -> None:\n",
    "        super().__init__()\n",
    "        self.data: pd.DataFrame = raw_df.copy()\n",
    "        self.window_size: int = window_size\n",
    "        self.stock_dfs: Dict[int, pd.DataFrame]\n",
    "        self.idx_map: Dict[int, Dict[str, int]]\n",
    "        self.stock_dfs, self.idx_map = TimeSeriesDataset._SplitStockDataFrame(raw_df=self.data, window_size=self.window_size)\n",
    "    \n",
    "\n",
    "    def __getitem__(self, _index: int) -> Tuple[np.ndarray, np.ndarray, int, int, int]:\n",
    "        '''\n",
    "        return x, y, date_id, seconds_in_buckets, stock_id\n",
    "        '''\n",
    "        index: int = _index\n",
    "        stock: int = self.idx_map[index]['stock']\n",
    "        stock_idx: int = self.idx_map[index]['idx']\n",
    "\n",
    "        start_idx, end_idx = stock_idx - (self.window_size - 1), stock_idx + 1\n",
    "        return TimeSeriesDataset._GenTimeSeriesData(raw_df=self.stock_dfs[stock].iloc[start_idx:end_idx])\n",
    "\n",
    "\n",
    "    def __len__(self) -> int:\n",
    "        return len(self.idx_map)\n",
    "    \n",
    "    def FillTarget(self, stock: int, date: int, second: int, value: np.float32) -> None:\n",
    "        if stock not in self.stock_dfs:\n",
    "            return\n",
    "        self.stock_dfs[stock].loc[(self.stock_dfs[stock]['date_id'] == date) & (self.stock_dfs[stock]['seconds_in_bucket'] == second), 'pred_target'] = value\n",
    "    \n",
    "    @staticmethod\n",
    "    def _GenTimeSeriesData(raw_df: pd.DataFrame) -> Tuple[np.ndarray, np.ndarray, int, int, int]:\n",
    "        '''\n",
    "        raw_df: The rows of time t-n ~ t for predicting the target of t.\n",
    "        The generated features contains the data of time t-n ~ t-1.\n",
    "        return x, y, date_id, seconds_in_buckets, stock_id\n",
    "        '''\n",
    "        df = raw_df.copy()\n",
    "        df = df.sort_values(by=['date_id', 'seconds_in_bucket'], ascending=True)\n",
    "\n",
    "        date: int = df['date_id'].tolist()[-1]\n",
    "        second: int = df['seconds_in_bucket'].tolist()[-1]\n",
    "        stock: int = df['stock_id'].tolist()[-1]\n",
    "        y: np.float32 = df['target'].tolist()[-1]\n",
    "\n",
    "        pred_target_not_null_indices = df['pred_target'].notnull()\n",
    "        df.loc[pred_target_not_null_indices, 'target'] = df.loc[pred_target_not_null_indices, 'pred_target']\n",
    "        \n",
    "        df = df[MODEL_INPUT_FEATURES]\n",
    "        df_numpy: np.ndarray = df.to_numpy()\n",
    "        df_numpy[-1, MODEL_INPUT_FEATURES.index('target')] = 0\n",
    "        \n",
    "        x: np.ndarray = df_numpy\n",
    "        \n",
    "        return x.astype(np.float32), np.array(y).astype(np.float32), date, second, stock\n",
    "    \n",
    "    @staticmethod\n",
    "    def _SplitStockDataFrame(raw_df: pd.DataFrame, window_size: int) -> Tuple[Dict[int, pd.DataFrame], Dict[int, Dict[str, int]]]:\n",
    "        stock_dfs: Dict[int, pd.DataFrame] = {}\n",
    "        idx_map: Dict[int, Dict[str, int]] = {}\n",
    "\n",
    "        data: pd.DataFrame = raw_df.copy()\n",
    "        data = data.sort_values(by=['date_id', 'seconds_in_bucket', 'stock_id'], ascending=True)\n",
    "        data.reset_index(drop=True, inplace=True)\n",
    "        data_idx_offset: int = 5 * 200\n",
    "\n",
    "        for stock in data['stock_id'].unique().tolist():\n",
    "            stock_df: pd.DataFrame = data.copy().loc[data['stock_id'] == stock]\n",
    "            stock_df.insert(stock_df.shape[1], 'new_idx', range(stock_df.shape[0]))\n",
    "            stock_df.insert(stock_df.shape[1], 'pred_target', np.nan)\n",
    "            for idx, row in stock_df.iterrows():\n",
    "                if row['new_idx'] < window_size:\n",
    "                    continue\n",
    "                stock_idx_map: Dict[str, int] = {'stock': stock, 'idx': row['new_idx']}\n",
    "                idx_map[int(idx) - data_idx_offset] = stock_idx_map\n",
    "            stock_df.reset_index(drop=True, inplace=True)\n",
    "            stock_df.drop('new_idx', axis=1, inplace=True)\n",
    "            stock_dfs[stock] = stock_df\n",
    "\n",
    "        return stock_dfs, idx_map"
   ]
  },
  {
   "cell_type": "code",
   "execution_count": 107,
   "id": "2aa53399",
   "metadata": {},
   "outputs": [],
   "source": [
    "test_dataset: TimeSeriesDataset = TimeSeriesDataset(raw_df=test_pp_df, window_size=5)"
   ]
  },
  {
   "cell_type": "code",
   "execution_count": 108,
   "id": "f00be8b4",
   "metadata": {},
   "outputs": [
    {
     "name": "stdout",
     "output_type": "stream",
     "text": [
      "(array([[1.27902161e-02, 1.00000000e+00, 1.00025702e+00, 2.58485079e-02,\n",
      "        1.00061798e+00, 1.00046301e+00, 1.00000000e+00, 6.23286585e-04,\n",
      "        1.00036001e+00, 2.23703962e-02, 1.00000405e+00, 4.34994698e+00],\n",
      "       [1.22782132e-02, 1.00000000e+00, 1.00030899e+00, 2.58485079e-02,\n",
      "        1.00061798e+00, 1.00041199e+00, 1.00005102e+00, 6.18986692e-03,\n",
      "        1.00036001e+00, 2.99927648e-02, 1.00006902e+00, 3.99947166e+00],\n",
      "       [2.07656398e-02, 1.00000000e+00, 1.00000000e+00, 2.59973742e-02,\n",
      "        1.00061798e+00, 1.00020599e+00, 9.99639988e-01, 1.81533874e-03,\n",
      "        1.00010300e+00, 1.64251924e-02, 9.99655008e-01, 1.28901005e+01],\n",
      "       [0.00000000e+00, 0.00000000e+00, 1.00046301e+00, 2.61507817e-02,\n",
      "        1.00046301e+00, 1.00046301e+00, 1.00015402e+00, 1.25529366e-02,\n",
      "        1.00051498e+00, 2.33828556e-02, 1.00020194e+00, 4.58955765e+00],\n",
      "       [3.03656887e-02, 1.00000000e+00, 1.00058401e+00, 9.85518750e-03,\n",
      "        1.00000000e+00, 1.00000000e+00, 9.99917984e-01, 9.01361834e-03,\n",
      "        1.00063598e+00, 2.01134793e-02, 1.00000000e+00, 0.00000000e+00]],\n",
      "      dtype=float32), array(-0.09000301, dtype=float32), 478, 0, 2)\n"
     ]
    }
   ],
   "source": [
    "print(test_dataset[2])"
   ]
  },
  {
   "cell_type": "code",
   "execution_count": 97,
   "id": "d99bf7e3",
   "metadata": {},
   "outputs": [
    {
     "name": "stdout",
     "output_type": "stream",
     "text": [
      "(array([[ 1.0121399e-02, -1.0000000e+00,  9.9873298e-01,  1.4999378e-01,\n",
      "         9.9838299e-01,  9.9838299e-01,  9.9873298e-01,  9.5575508e-03,\n",
      "         9.9890798e-01,  6.2428858e-02,  9.9881601e-01, -1.9598007e+00],\n",
      "       [ 1.0121399e-02, -1.0000000e+00,  9.9873298e-01,  1.4999378e-01,\n",
      "         9.9838299e-01,  9.9838299e-01,  9.9873298e-01,  1.9949861e-02,\n",
      "         9.9890798e-01,  1.7002003e-01,  9.9880499e-01, -1.6599894e+00],\n",
      "       [ 9.9188332e-03, -1.0000000e+00,  9.9873298e-01,  1.5011580e-01,\n",
      "         9.9838299e-01,  9.9838299e-01,  9.9873298e-01,  1.8082341e-02,\n",
      "         9.9890798e-01,  1.8907678e-01,  9.9879599e-01, -2.3007393e-01],\n",
      "       [ 9.9188332e-03, -1.0000000e+00,  9.9873298e-01,  1.5011580e-01,\n",
      "         9.9838299e-01,  9.9838299e-01,  9.9873298e-01,  2.3210764e-02,\n",
      "         9.9890798e-01,  3.3625606e-01,  9.9878401e-01,  1.5103817e+00],\n",
      "       [ 2.9611750e-02, -1.0000000e+00,  9.9899602e-01,  1.3825254e-01,\n",
      "         9.9838299e-01,  9.9838299e-01,  9.9890798e-01,  1.9062987e-02,\n",
      "         9.9908298e-01,  1.0952274e-01,  9.9899697e-01,  1.2000000e+01]],\n",
      "      dtype=float32), array(-5.429983, dtype=float32), 478, 0, 0)\n"
     ]
    }
   ],
   "source": [
    "# test_dataset.FillTarget(stock=0, date=477, second=540, value=np.float32(12))\n",
    "# print(test_dataset[0])"
   ]
  },
  {
   "cell_type": "code",
   "execution_count": 95,
   "id": "40334048",
   "metadata": {},
   "outputs": [],
   "source": [
    "def test(\n",
    "    model, test_set: TimeSeriesDataset\n",
    ") -> pd.DataFrame:\n",
    "    \n",
    "    result: pd.DataFrame = pd.DataFrame(columns=['date_id', 'seconds_in_bucket', 'stock_id', 'time_id', 'row_id', 'target'])\n",
    "\n",
    "    model.eval()\n",
    "    with torch.no_grad():\n",
    "        with tqdm(total=len(test_set)) as pbar:\n",
    "            pbar.set_description(f\"Testing\")\n",
    "            for iter in range(len(test_set)):\n",
    "                batch_x, batch_y, date, second, stock = test_set[iter]\n",
    "\n",
    "                batch_x = torch.from_numpy(batch_x[np.newaxis, :]).to(device)\n",
    "                batch_y = torch.from_numpy(batch_y).to(device)\n",
    "                \n",
    "                pred_y = model(batch_x).cpu().detach().numpy()\n",
    "\n",
    "                for idx in range(len(pred_y)):\n",
    "                    test_set.FillTarget(stock=stock, date=date, second=second, value=pred_y[idx])\n",
    "                    curr_result: pd.DataFrame = pd.DataFrame.from_dict(data={\n",
    "                        'date_id': [date], \n",
    "                        'seconds_in_bucket': [second], \n",
    "                        'stock_id': [stock], \n",
    "                        'time_id': [int(26290 + (date - 478) * 55 + second)], \n",
    "                        'row_id': [f'{date}_{second}_{stock}'], \n",
    "                        'target': [pred_y[idx][0]]\n",
    "                    })\n",
    "                    if result.shape[0] > 0:\n",
    "                        result = pd.concat([result, curr_result], ignore_index=True)\n",
    "                    else:\n",
    "                        result = curr_result\n",
    "                pbar.update(1)\n",
    "        \n",
    "    return result"
   ]
  },
  {
   "cell_type": "code",
   "execution_count": 109,
   "id": "a35cd704",
   "metadata": {},
   "outputs": [
    {
     "name": "stderr",
     "output_type": "stream",
     "text": [
      "Testing: 100%|██████████| 33000/33000 [01:25<00:00, 387.07it/s]\n"
     ]
    }
   ],
   "source": [
    "test_result = test(model=model, test_set=test_dataset)"
   ]
  },
  {
   "cell_type": "code",
   "execution_count": 110,
   "id": "d65043b1",
   "metadata": {},
   "outputs": [
    {
     "data": {
      "text/html": [
       "<div>\n",
       "<style scoped>\n",
       "    .dataframe tbody tr th:only-of-type {\n",
       "        vertical-align: middle;\n",
       "    }\n",
       "\n",
       "    .dataframe tbody tr th {\n",
       "        vertical-align: top;\n",
       "    }\n",
       "\n",
       "    .dataframe thead th {\n",
       "        text-align: right;\n",
       "    }\n",
       "</style>\n",
       "<table border=\"1\" class=\"dataframe\">\n",
       "  <thead>\n",
       "    <tr style=\"text-align: right;\">\n",
       "      <th></th>\n",
       "      <th>date_id</th>\n",
       "      <th>seconds_in_bucket</th>\n",
       "      <th>stock_id</th>\n",
       "      <th>time_id</th>\n",
       "      <th>row_id</th>\n",
       "      <th>target</th>\n",
       "    </tr>\n",
       "  </thead>\n",
       "  <tbody>\n",
       "    <tr>\n",
       "      <th>0</th>\n",
       "      <td>478</td>\n",
       "      <td>0</td>\n",
       "      <td>0</td>\n",
       "      <td>26290</td>\n",
       "      <td>478_0_0</td>\n",
       "      <td>-0.169664</td>\n",
       "    </tr>\n",
       "    <tr>\n",
       "      <th>1</th>\n",
       "      <td>478</td>\n",
       "      <td>0</td>\n",
       "      <td>1</td>\n",
       "      <td>26290</td>\n",
       "      <td>478_0_1</td>\n",
       "      <td>-2.537034</td>\n",
       "    </tr>\n",
       "    <tr>\n",
       "      <th>2</th>\n",
       "      <td>478</td>\n",
       "      <td>0</td>\n",
       "      <td>2</td>\n",
       "      <td>26290</td>\n",
       "      <td>478_0_2</td>\n",
       "      <td>2.517469</td>\n",
       "    </tr>\n",
       "    <tr>\n",
       "      <th>3</th>\n",
       "      <td>478</td>\n",
       "      <td>0</td>\n",
       "      <td>3</td>\n",
       "      <td>26290</td>\n",
       "      <td>478_0_3</td>\n",
       "      <td>3.657625</td>\n",
       "    </tr>\n",
       "    <tr>\n",
       "      <th>4</th>\n",
       "      <td>478</td>\n",
       "      <td>0</td>\n",
       "      <td>4</td>\n",
       "      <td>26290</td>\n",
       "      <td>478_0_4</td>\n",
       "      <td>-0.749470</td>\n",
       "    </tr>\n",
       "    <tr>\n",
       "      <th>...</th>\n",
       "      <td>...</td>\n",
       "      <td>...</td>\n",
       "      <td>...</td>\n",
       "      <td>...</td>\n",
       "      <td>...</td>\n",
       "      <td>...</td>\n",
       "    </tr>\n",
       "    <tr>\n",
       "      <th>32995</th>\n",
       "      <td>480</td>\n",
       "      <td>540</td>\n",
       "      <td>195</td>\n",
       "      <td>26940</td>\n",
       "      <td>480_540_195</td>\n",
       "      <td>1.279591</td>\n",
       "    </tr>\n",
       "    <tr>\n",
       "      <th>32996</th>\n",
       "      <td>480</td>\n",
       "      <td>540</td>\n",
       "      <td>196</td>\n",
       "      <td>26940</td>\n",
       "      <td>480_540_196</td>\n",
       "      <td>0.200164</td>\n",
       "    </tr>\n",
       "    <tr>\n",
       "      <th>32997</th>\n",
       "      <td>480</td>\n",
       "      <td>540</td>\n",
       "      <td>197</td>\n",
       "      <td>26940</td>\n",
       "      <td>480_540_197</td>\n",
       "      <td>1.612261</td>\n",
       "    </tr>\n",
       "    <tr>\n",
       "      <th>32998</th>\n",
       "      <td>480</td>\n",
       "      <td>540</td>\n",
       "      <td>198</td>\n",
       "      <td>26940</td>\n",
       "      <td>480_540_198</td>\n",
       "      <td>1.571256</td>\n",
       "    </tr>\n",
       "    <tr>\n",
       "      <th>32999</th>\n",
       "      <td>480</td>\n",
       "      <td>540</td>\n",
       "      <td>199</td>\n",
       "      <td>26940</td>\n",
       "      <td>480_540_199</td>\n",
       "      <td>0.945384</td>\n",
       "    </tr>\n",
       "  </tbody>\n",
       "</table>\n",
       "<p>33000 rows × 6 columns</p>\n",
       "</div>"
      ],
      "text/plain": [
       "       date_id  seconds_in_bucket  stock_id  time_id       row_id    target\n",
       "0          478                  0         0    26290      478_0_0 -0.169664\n",
       "1          478                  0         1    26290      478_0_1 -2.537034\n",
       "2          478                  0         2    26290      478_0_2  2.517469\n",
       "3          478                  0         3    26290      478_0_3  3.657625\n",
       "4          478                  0         4    26290      478_0_4 -0.749470\n",
       "...        ...                ...       ...      ...          ...       ...\n",
       "32995      480                540       195    26940  480_540_195  1.279591\n",
       "32996      480                540       196    26940  480_540_196  0.200164\n",
       "32997      480                540       197    26940  480_540_197  1.612261\n",
       "32998      480                540       198    26940  480_540_198  1.571256\n",
       "32999      480                540       199    26940  480_540_199  0.945384\n",
       "\n",
       "[33000 rows x 6 columns]"
      ]
     },
     "execution_count": 110,
     "metadata": {},
     "output_type": "execute_result"
    }
   ],
   "source": [
    "test_result"
   ]
  },
  {
   "cell_type": "code",
   "execution_count": 111,
   "id": "890b13c1",
   "metadata": {},
   "outputs": [],
   "source": [
    "test_out_result = test_result.sort_values(by=['date_id', 'seconds_in_bucket', 'stock_id'], ascending=True)\n",
    "test_out_result.drop(['date_id', 'seconds_in_bucket', 'stock_id'], axis=1, inplace=True)\n",
    "test_out_result.to_csv('./submission.csv', index=False)"
   ]
  }
 ],
 "metadata": {
  "kaggle": {
   "accelerator": "nvidiaTeslaT4",
   "dataSources": [
    {
     "databundleVersionId": 7056235,
     "sourceId": 57891,
     "sourceType": "competition"
    }
   ],
   "dockerImageVersionId": 30627,
   "isGpuEnabled": true,
   "isInternetEnabled": true,
   "language": "python",
   "sourceType": "notebook"
  },
  "kernelspec": {
   "display_name": "Python 3 (ipykernel)",
   "language": "python",
   "name": "python3"
  },
  "language_info": {
   "codemirror_mode": {
    "name": "ipython",
    "version": 3
   },
   "file_extension": ".py",
   "mimetype": "text/x-python",
   "name": "python",
   "nbconvert_exporter": "python",
   "pygments_lexer": "ipython3",
   "version": "3.10.6"
  },
  "papermill": {
   "default_parameters": {},
   "duration": 8783.773029,
   "end_time": "2023-12-25T17:44:38.390752",
   "environment_variables": {},
   "exception": null,
   "input_path": "__notebook__.ipynb",
   "output_path": "__notebook__.ipynb",
   "parameters": {},
   "start_time": "2023-12-25T15:18:14.617723",
   "version": "2.4.0"
  }
 },
 "nbformat": 4,
 "nbformat_minor": 5
}
