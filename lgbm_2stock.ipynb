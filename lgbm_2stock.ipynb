{
 "cells": [
  {
   "cell_type": "code",
   "execution_count": 1,
   "metadata": {},
   "outputs": [],
   "source": [
    "import warnings\n",
    "from warnings import simplefilter\n",
    "import lightgbm as lgb\n",
    "import numpy as np\n",
    "import pandas as pd\n",
    "from sklearn.metrics import mean_absolute_error\n",
    "warnings.filterwarnings(\"ignore\")\n",
    "simplefilter(action=\"ignore\", category=pd.errors.PerformanceWarning)"
   ]
  },
  {
   "cell_type": "markdown",
   "metadata": {},
   "source": [
    "### Data Pre-processing"
   ]
  },
  {
   "cell_type": "code",
   "execution_count": 2,
   "metadata": {},
   "outputs": [],
   "source": [
    "from itertools import combinations\n",
    "import gc\n",
    "def data_preprocessing(df):\n",
    "    cols = [c for c in df.columns if c not in ['row_id', 'time_id']]\n",
    "    df = df[cols]\n",
    "\n",
    "    prices = ['reference_price','far_price', 'near_price', 'ask_price', 'bid_price', 'wap']\n",
    "\n",
    "    for c in combinations(prices, 2):\n",
    "        df[f'{c[0]}_minus_{c[1]}'] = (df[f'{c[0]}'] - df[f'{c[1]}']).astype(np.float32)\n",
    "        df[f'{c[0]}_times_{c[1]}'] = (df[f'{c[0]}'] * df[f'{c[1]}']).astype(np.float32)\n",
    "        df[f'{c[0]}_{c[1]}_imb'] = df.eval(f'({c[0]}-{c[1]})/({c[0]}+{c[1]})')\n",
    "\n",
    "    for c in combinations(prices, 3):\n",
    "        max_ = df[list(c)].max(axis=1)\n",
    "        min_ = df[list(c)].min(axis=1)\n",
    "        mid_ = df[list(c)].sum(axis=1)-min_-max_\n",
    "        df[f'{c[0]}_{c[1]}_{c[2]}_imb2'] = (max_-mid_)/(mid_-min_)\n",
    "\n",
    "    df.drop(columns=['date_id'], inplace=True)\n",
    "    gc.collect()\n",
    "    return df\n",
    "\n",
    "def data_split_day(df:pd.DataFrame, _min, _max):\n",
    "    df = df[df['date_id'] < _max]\n",
    "    df = df[df['date_id'] >= _min]\n",
    "    return df\n",
    "\n",
    "def data_split_xy_and_data_preprocess(df:pd.DataFrame):\n",
    "    x = df.drop(['target'],axis=1)\n",
    "    x = data_preprocessing(x)\n",
    "    y = df[['target']]\n",
    "    return x, y\n"
   ]
  },
  {
   "cell_type": "markdown",
   "metadata": {},
   "source": [
    "### LGBMRegressor"
   ]
  },
  {
   "cell_type": "code",
   "execution_count": 3,
   "metadata": {},
   "outputs": [],
   "source": [
    "from lightgbm import LGBMRegressor\n",
    "def trainLGBM(df_train_x, df_train_y, df_valid_x, df_valid_y):\n",
    "    lgb_params = {\n",
    "            \"objective\": \"mae\",\n",
    "            \"n_estimators\": 500,\n",
    "            \"num_leaves\": 256,\n",
    "            \"subsample\": 0.6,\n",
    "            \"colsample_bytree\": 0.8,\n",
    "            \"learning_rate\": 0.1,\n",
    "            'max_depth': 40,\n",
    "            \"n_jobs\": 8,\n",
    "            \"device\": \"cpu\",\n",
    "            \"verbosity\": -1,\n",
    "            \"importance_type\": \"gain\",\n",
    "            \"reg_alpha\": 0.2,\n",
    "            \"reg_lambda\": 3.25\n",
    "        }\n",
    "    LGBM=LGBMRegressor(**lgb_params)\n",
    "    LGBM.fit(\n",
    "                df_train_x, df_train_y,\n",
    "                eval_set=[(df_valid_x, df_valid_y)],\n",
    "                callbacks=[\n",
    "                    lgb.callback.early_stopping(stopping_rounds=100),\n",
    "                ],\n",
    "            )\n",
    "    return LGBM"
   ]
  },
  {
   "cell_type": "markdown",
   "metadata": {},
   "source": [
    "### Evaluation"
   ]
  },
  {
   "cell_type": "code",
   "execution_count": 4,
   "metadata": {},
   "outputs": [],
   "source": [
    "# Read the dataset from a CSV file using Pandas\n",
    "df = pd.read_csv(\"train.csv\")\n",
    "df = df.dropna(subset=['target'])\n",
    "\n",
    "\n",
    "def data_split(df_train, df_valid, df_tests):\n",
    "    df_train_x, df_train_y = data_split_xy_and_data_preprocess(df_train)\n",
    "    df_valid_x, df_valid_y = data_split_xy_and_data_preprocess(df_valid)\n",
    "    df_tests_x, df_tests_y = data_split_xy_and_data_preprocess(df_tests)\n",
    "    return df_train_x, df_train_y, df_valid_x, df_valid_y, df_tests_x, df_tests_y\n",
    "\n",
    "def evaluate(model, trainX, trainY, validX, validY, testX, testY, txt):\n",
    "    if isinstance(trainX, pd.DataFrame):\n",
    "        pred_LGB = model.predict(trainX)\n",
    "        print(f\"{txt} | Train Loss : \", mean_absolute_error(trainY, pred_LGB))\n",
    "    if isinstance(validX, pd.DataFrame):\n",
    "        pred_LGB = model.predict(validX)\n",
    "        print(f\"{txt} | Valid Loss : \", mean_absolute_error(validY, pred_LGB))\n",
    "    if isinstance(testX, pd.DataFrame):\n",
    "        pred_LGB = model.predict(testX)\n",
    "        print(f\"{txt} | Tests Loss : \", mean_absolute_error(testY, pred_LGB))\n"
   ]
  },
  {
   "cell_type": "code",
   "execution_count": 5,
   "metadata": {},
   "outputs": [
    {
     "name": "stdout",
     "output_type": "stream",
     "text": [
      "Training until validation scores don't improve for 100 rounds\n",
      "Early stopping, best iteration is:\n",
      "[62]\tvalid_0's l1: 5.91638\n",
      "Training until validation scores don't improve for 100 rounds\n",
      "Early stopping, best iteration is:\n",
      "[1]\tvalid_0's l1: 3.89163\n",
      "Training until validation scores don't improve for 100 rounds\n",
      "Early stopping, best iteration is:\n",
      "[3]\tvalid_0's l1: 3.99917\n",
      "Training until validation scores don't improve for 100 rounds\n",
      "Early stopping, best iteration is:\n",
      "[1]\tvalid_0's l1: 3.94599\n"
     ]
    }
   ],
   "source": [
    "# Get Two Stock\n",
    "df_084 = df[df['stock_id'] == 84]\n",
    "df_175 = df[df['stock_id'] == 175]\n",
    "df_cat = pd.concat([df_084, df_175], axis=0)\n",
    "df_all = df\n",
    "\n",
    "df_all_train, df_all_valid, df_all_tests = data_split_day(df_all, 0, 399), data_split_day(df_all, 400, 478), data_split_day(df_all, 478, 481)\n",
    "df_084_train, df_084_valid, df_084_tests = data_split_day(df_084, 0, 399), data_split_day(df_084, 400, 478), data_split_day(df_084, 478, 481)\n",
    "df_175_train, df_175_valid, df_175_tests = data_split_day(df_175, 0, 399), data_split_day(df_175, 400, 478), data_split_day(df_175, 478, 481)\n",
    "df_cat_train, df_cat_valid, df_cat_tests = data_split_day(df_cat, 0, 399), data_split_day(df_cat, 400, 478), data_split_day(df_cat, 478, 481)\n",
    "\n",
    "trainX_all, trainY_all, validX_all, validY_all, testX_all, testY_all = data_split(df_all_train, df_all_valid, df_all_tests)\n",
    "trainX_084, trainY_084, validX_084, validY_084, testX_084, testY_084 = data_split(df_084_train, df_084_valid, df_084_tests)\n",
    "trainX_175, trainY_175, validX_175, validY_175, testX_175, testY_175 = data_split(df_175_train, df_175_valid, df_175_tests)\n",
    "trainX_cat, trainY_cat, validX_cat, validY_cat, testX_cat, testY_cat = data_split(df_cat_train, df_cat_valid, df_cat_tests)\n",
    "\n",
    "\n",
    "model_all = trainLGBM(trainX_all, trainY_all, validX_all, validY_all)\n",
    "model_084 = trainLGBM(trainX_084, trainY_084, validX_084, validY_084)\n",
    "model_175 = trainLGBM(trainX_175, trainY_175, validX_175, validY_175)\n",
    "model_cat = trainLGBM(trainX_cat, trainY_cat, validX_cat, validY_cat)"
   ]
  },
  {
   "cell_type": "code",
   "execution_count": 6,
   "metadata": {},
   "outputs": [
    {
     "name": "stdout",
     "output_type": "stream",
     "text": [
      "Model DataSet : stock_All | Evaluate DataSet : stock_084 | Tests Loss :  2.3806589742908604\n",
      "Model DataSet : stock_All | Evaluate DataSet : stock_175 | Tests Loss :  2.461960490291107\n",
      "Model DataSet : stock_All | Evaluate DataSet : stock_cat | Tests Loss :  2.421309732290984\n",
      "Model DataSet : stock_084 | Evaluate DataSet : stock_084 | Tests Loss :  2.299803855928919\n",
      "Model DataSet : stock_084 | Evaluate DataSet : stock_175 | Tests Loss :  2.505028430657782\n",
      "Model DataSet : stock_084 | Evaluate DataSet : stock_cat | Tests Loss :  2.4024161432933506\n",
      "Model DataSet : stock_175 | Evaluate DataSet : stock_084 | Tests Loss :  2.3039008341112215\n",
      "Model DataSet : stock_175 | Evaluate DataSet : stock_175 | Tests Loss :  2.495192436561058\n",
      "Model DataSet : stock_175 | Evaluate DataSet : stock_cat | Tests Loss :  2.399546635336139\n",
      "Model DataSet : stock_cat | Evaluate DataSet : stock_084 | Tests Loss :  2.2806189269588897\n",
      "Model DataSet : stock_cat | Evaluate DataSet : stock_175 | Tests Loss :  2.498787101605945\n",
      "Model DataSet : stock_cat | Evaluate DataSet : stock_cat | Tests Loss :  2.3897030142824174\n"
     ]
    }
   ],
   "source": [
    "evaluate(model_all, None, None, None, None, testX_084, testY_084, \"Model DataSet : stock_All | Evaluate DataSet : stock_084\")\n",
    "evaluate(model_all, None, None, None, None, testX_175, testY_175, \"Model DataSet : stock_All | Evaluate DataSet : stock_175\")\n",
    "evaluate(model_all, None, None, None, None, testX_cat, testY_cat, \"Model DataSet : stock_All | Evaluate DataSet : stock_cat\")\n",
    "evaluate(model_084, None, None, None, None, testX_084, testY_084, \"Model DataSet : stock_084 | Evaluate DataSet : stock_084\")\n",
    "evaluate(model_084, None, None, None, None, testX_175, testY_175, \"Model DataSet : stock_084 | Evaluate DataSet : stock_175\")\n",
    "evaluate(model_084, None, None, None, None, testX_cat, testY_cat, \"Model DataSet : stock_084 | Evaluate DataSet : stock_cat\")\n",
    "evaluate(model_175, None, None, None, None, testX_084, testY_084, \"Model DataSet : stock_175 | Evaluate DataSet : stock_084\")\n",
    "evaluate(model_175, None, None, None, None, testX_175, testY_175, \"Model DataSet : stock_175 | Evaluate DataSet : stock_175\")\n",
    "evaluate(model_175, None, None, None, None, testX_cat, testY_cat, \"Model DataSet : stock_175 | Evaluate DataSet : stock_cat\")\n",
    "evaluate(model_cat, None, None, None, None, testX_084, testY_084, \"Model DataSet : stock_cat | Evaluate DataSet : stock_084\")\n",
    "evaluate(model_cat, None, None, None, None, testX_175, testY_175, \"Model DataSet : stock_cat | Evaluate DataSet : stock_175\")\n",
    "evaluate(model_cat, None, None, None, None, testX_cat, testY_cat, \"Model DataSet : stock_cat | Evaluate DataSet : stock_cat\")"
   ]
  },
  {
   "cell_type": "code",
   "execution_count": 7,
   "metadata": {},
   "outputs": [
    {
     "name": "stdout",
     "output_type": "stream",
     "text": [
      "Model DataSet : stock_All | Evaluate DataSet : stock_cat | Tests Loss :  2.421309732290984\n",
      "Model DataSet : stock_084 | Evaluate DataSet : stock_cat | Tests Loss :  2.4024161432933506\n",
      "Model DataSet : stock_175 | Evaluate DataSet : stock_cat | Tests Loss :  2.399546635336139\n",
      "Model DataSet : stock_cat | Evaluate DataSet : stock_cat | Tests Loss :  2.3897030142824174\n"
     ]
    }
   ],
   "source": [
    "evaluate(model_all, None, None, None, None, testX_cat, testY_cat, \"Model DataSet : stock_All | Evaluate DataSet : stock_cat\")\n",
    "evaluate(model_084, None, None, None, None, testX_cat, testY_cat, \"Model DataSet : stock_084 | Evaluate DataSet : stock_cat\")\n",
    "evaluate(model_175, None, None, None, None, testX_cat, testY_cat, \"Model DataSet : stock_175 | Evaluate DataSet : stock_cat\")\n",
    "evaluate(model_cat, None, None, None, None, testX_cat, testY_cat, \"Model DataSet : stock_cat | Evaluate DataSet : stock_cat\")"
   ]
  },
  {
   "cell_type": "code",
   "execution_count": 10,
   "metadata": {},
   "outputs": [
    {
     "data": {
      "text/html": [
       "<div>\n",
       "<style scoped>\n",
       "    .dataframe tbody tr th:only-of-type {\n",
       "        vertical-align: middle;\n",
       "    }\n",
       "\n",
       "    .dataframe tbody tr th {\n",
       "        vertical-align: top;\n",
       "    }\n",
       "\n",
       "    .dataframe thead th {\n",
       "        text-align: right;\n",
       "    }\n",
       "</style>\n",
       "<table border=\"1\" class=\"dataframe\">\n",
       "  <thead>\n",
       "    <tr style=\"text-align: right;\">\n",
       "      <th></th>\n",
       "      <th>84</th>\n",
       "      <th>175</th>\n",
       "      <th>Both</th>\n",
       "    </tr>\n",
       "  </thead>\n",
       "  <tbody>\n",
       "    <tr>\n",
       "      <th>84</th>\n",
       "      <td>1.00</td>\n",
       "      <td>0.91</td>\n",
       "      <td>-0.46</td>\n",
       "    </tr>\n",
       "    <tr>\n",
       "      <th>175</th>\n",
       "      <td>0.91</td>\n",
       "      <td>1.00</td>\n",
       "      <td>-0.40</td>\n",
       "    </tr>\n",
       "    <tr>\n",
       "      <th>Both</th>\n",
       "      <td>-0.46</td>\n",
       "      <td>-0.40</td>\n",
       "      <td>1.00</td>\n",
       "    </tr>\n",
       "    <tr>\n",
       "      <th>All</th>\n",
       "      <td>0.44</td>\n",
       "      <td>0.33</td>\n",
       "      <td>-0.14</td>\n",
       "    </tr>\n",
       "  </tbody>\n",
       "</table>\n",
       "</div>"
      ],
      "text/plain": [
       "        84   175  Both\n",
       "84    1.00  0.91 -0.46\n",
       "175   0.91  1.00 -0.40\n",
       "Both -0.46 -0.40  1.00\n",
       "All   0.44  0.33 -0.14"
      ]
     },
     "execution_count": 10,
     "metadata": {},
     "output_type": "execute_result"
    }
   ],
   "source": [
    "df"
   ]
  },
  {
   "cell_type": "code",
   "execution_count": 26,
   "metadata": {},
   "outputs": [
    {
     "data": {
      "image/png": "[encoded data removed]",
      "text/plain": [
       "<Figure size 640x480 with 1 Axes>"
      ]
     },
     "metadata": {},
     "output_type": "display_data"
    }
   ],
   "source": [
    "import numpy as np\n",
    "import pandas as pd\n",
    "import matplotlib.pyplot as plt\n",
    "columns = ['84', '175', 'Both', 'All']\n",
    "index = ['84', '175', 'Both']\n",
    "df = pd.DataFrame([\n",
    "    [2.2998, 2.3039, 2.2806, 2.3807],\n",
    "    [2.5050, 2.4952, 2.4988, 2.4620],\n",
    "    [2.4024, 2.4995, 2.3897, 2.4213],\n",
    "], columns=columns, index=index)\n",
    "\n",
    "fig, ax = plt.subplots()\n",
    "im = ax.imshow(df)\n",
    "ax.set_xticks(np.arange(len(df.columns)))\n",
    "ax.set_xticklabels(df.columns)\n",
    "ax.set_yticks(np.arange(len(df.index)))\n",
    "ax.set_yticklabels(df.index)\n",
    "\n",
    "\n",
    "plt.setp(ax.get_xticklabels(), rotation=0, ha=\"right\", rotation_mode=\"anchor\")\n",
    "\n",
    "\n",
    "\n",
    "for i in range(len(df.columns)):\n",
    "    for j in range(len(df.index)):\n",
    "        text = ax.text(i, j, df.iloc[j, i], ha=\"center\", va=\"center\", color=\"black\")\n",
    "plt.show()"
   ]
  },
  {
   "cell_type": "code",
   "execution_count": null,
   "metadata": {},
   "outputs": [],
   "source": []
  }
 ],
 "metadata": {
  "kernelspec": {
   "display_name": "final-MpiU_v5V-py3.12",
   "language": "python",
   "name": "python3"
  },
  "language_info": {
   "codemirror_mode": {
    "name": "ipython",
    "version": 3
   },
   "file_extension": ".py",
   "mimetype": "text/x-python",
   "name": "python",
   "nbconvert_exporter": "python",
   "pygments_lexer": "ipython3",
   "version": "3.10.13"
  }
 },
 "nbformat": 4,
 "nbformat_minor": 2
}
